{
 "cells": [
  {
   "cell_type": "code",
   "execution_count": 4,
   "metadata": {},
   "outputs": [
    {
     "data": {
      "text/plain": [
       "'3.7.4 (default, Oct 15 2019, 22:29:14) \\n[GCC 7.4.0]'"
      ]
     },
     "execution_count": 4,
     "metadata": {},
     "output_type": "execute_result"
    }
   ],
   "source": [
    "import sys\n",
    "sys.version"
   ]
  },
  {
   "cell_type": "code",
   "execution_count": 72,
   "metadata": {},
   "outputs": [
    {
     "name": "stdout",
     "output_type": "stream",
     "text": [
      "1.7.6\n",
      "4.3.0\n"
     ]
    }
   ],
   "source": [
    "import neo4j\n",
    "import py2neo\n",
    "print(neo4j.__version__)\n",
    "print(py2neo.__version__)"
   ]
  },
  {
   "cell_type": "code",
   "execution_count": 373,
   "metadata": {},
   "outputs": [],
   "source": [
    "from neo4j import GraphDatabase\n",
    "\n",
    "# instantiate driver\n",
    "NEO4J_URI=\"bolt://localhost:7687\"\n",
    "gdb = GraphDatabase.driver(uri=NEO4J_URI, auth=None)"
   ]
  },
  {
   "cell_type": "markdown",
   "metadata": {},
   "source": [
    "## Fake citations\n"
   ]
  },
  {
   "cell_type": "code",
   "execution_count": 313,
   "metadata": {},
   "outputs": [
    {
     "data": {
      "text/plain": [
       "[12, 13, 14, 15, 16]"
      ]
     },
     "execution_count": 313,
     "metadata": {},
     "output_type": "execute_result"
    }
   ],
   "source": [
    "q = \"MATCH (n:article) RETURN ID(n) LIMIT 10000\"\n",
    "\n",
    "with gdb.session() as session:\n",
    "    article_ids = [v[0] for v in session.run(q).values()]\n",
    "    \n",
    "article_ids[:5]"
   ]
  },
  {
   "cell_type": "code",
   "execution_count": 285,
   "metadata": {},
   "outputs": [
    {
     "data": {
      "text/plain": [
       "10000"
      ]
     },
     "execution_count": 285,
     "metadata": {},
     "output_type": "execute_result"
    }
   ],
   "source": [
    "len(article_ids)"
   ]
  },
  {
   "cell_type": "markdown",
   "metadata": {},
   "source": [
    "### Create cited_by relationships"
   ]
  },
  {
   "cell_type": "code",
   "execution_count": 329,
   "metadata": {},
   "outputs": [],
   "source": [
    "# https://neo4j.com/docs/driver-manual/1.7/sessions-transactions/#driver-transactions-transaction-functions\n",
    "\n",
    "q_add_citation_rel = \"\"\"MATCH (a:article),(b:article)\n",
    "WHERE a.article = $id_a AND b.article = $id_b\n",
    "CREATE (a)-[r:cited_by]->(b)\n",
    "RETURN a, b\"\"\"\n",
    "\n",
    "q_add_citation_rel_id = \"\"\"MATCH (a:article),(b:article)\n",
    "WHERE ID(a) = $id_a AND ID(b) = $id_b\n",
    "CREATE (a)-[r:cited_by]->(b)\n",
    "RETURN a, b\"\"\"\n",
    "\n",
    "\n",
    "\n",
    "def add_citation_rel(driver, id_a, id_b):\n",
    "    with driver.session() as session:\n",
    "        # Caller for transactional unit of work\n",
    "        return session.write_transaction(create_citation_rel, id_a, id_b)\n",
    "\n",
    "# Simple implementation of the unit of work\n",
    "def create_citation_rel(tx, id_a, id_b):\n",
    "    return tx.run(q_add_citation_rel_id, id_a=id_a, id_b = id_b)"
   ]
  },
  {
   "cell_type": "markdown",
   "metadata": {},
   "source": [
    "Add 500 relationships of type `cited_by`"
   ]
  },
  {
   "cell_type": "code",
   "execution_count": 325,
   "metadata": {},
   "outputs": [],
   "source": [
    "random.seed(42)\n",
    "article_id_sample_citing = random.sample(article_ids, 500)"
   ]
  },
  {
   "cell_type": "code",
   "execution_count": 330,
   "metadata": {},
   "outputs": [],
   "source": [
    "# we don't seed this cell\n",
    "# pick a sample of 500 papers, and make them be cited by other three papers at random\n",
    "\n",
    "for article in article_id_sample_citing:\n",
    "    for citation in random.sample(articles_ids, 3):\n",
    "        if article != citation: # they can't cite themselves\n",
    "            add_citation_rel(gdb, id_a=article, id_b=citation)\n",
    "        "
   ]
  },
  {
   "cell_type": "markdown",
   "metadata": {},
   "source": [
    "### Make articles `UNIQUE`"
   ]
  },
  {
   "cell_type": "code",
   "execution_count": 331,
   "metadata": {},
   "outputs": [],
   "source": [
    "# no repeated articles\n",
    "with gdb.session() as session:\n",
    "    session.run(\"CREATE CONSTRAINT ON (n:article) ASSERT n.article IS UNIQUE\")"
   ]
  },
  {
   "cell_type": "markdown",
   "metadata": {},
   "source": [
    "### Delete citations"
   ]
  },
  {
   "cell_type": "code",
   "execution_count": 288,
   "metadata": {},
   "outputs": [],
   "source": [
    "with gdb.session() as session:\n",
    "    session.run(\"MATCH p=(:article)-[r:cited_by]->(:article) DELETE r \")"
   ]
  },
  {
   "cell_type": "markdown",
   "metadata": {},
   "source": [
    "### Query citations"
   ]
  },
  {
   "cell_type": "code",
   "execution_count": 334,
   "metadata": {},
   "outputs": [
    {
     "name": "stdout",
     "output_type": "stream",
     "text": [
      "[<Relationship id=19920006 nodes=(<Node id=18 labels=set() properties={}>, <Node id=379 labels=set() properties={}>) type='cited_by' properties={}>]\n",
      "[<Relationship id=19920005 nodes=(<Node id=18 labels=set() properties={}>, <Node id=162 labels=set() properties={}>) type='cited_by' properties={}>]\n",
      "[<Relationship id=19920004 nodes=(<Node id=18 labels=set() properties={}>, <Node id=350 labels=set() properties={}>) type='cited_by' properties={}>]\n",
      "[<Relationship id=19919497 nodes=(<Node id=21 labels=set() properties={}>, <Node id=259 labels=set() properties={}>) type='cited_by' properties={}>]\n",
      "[<Relationship id=19919672 nodes=(<Node id=47 labels=set() properties={}>, <Node id=391 labels=set() properties={}>) type='cited_by' properties={}>]\n"
     ]
    }
   ],
   "source": [
    "with gdb.session() as session:\n",
    "    out = session.run(\"MATCH p=(:article)-[r:cited_by]->(:article) RETURN r LIMIT 5\").values()\n",
    "    \n",
    "for elem in out:\n",
    "    print(elem)"
   ]
  },
  {
   "cell_type": "markdown",
   "metadata": {},
   "source": [
    "## Fake topics and keywords"
   ]
  },
  {
   "cell_type": "code",
   "execution_count": 340,
   "metadata": {},
   "outputs": [
    {
     "data": {
      "text/plain": [
       "\u001b[0;31mSignature:\u001b[0m \u001b[0mfake\u001b[0m\u001b[0;34m.\u001b[0m\u001b[0msentence\u001b[0m\u001b[0;34m(\u001b[0m\u001b[0mnb_words\u001b[0m\u001b[0;34m=\u001b[0m\u001b[0;36m6\u001b[0m\u001b[0;34m,\u001b[0m \u001b[0mvariable_nb_words\u001b[0m\u001b[0;34m=\u001b[0m\u001b[0;32mTrue\u001b[0m\u001b[0;34m,\u001b[0m \u001b[0mext_word_list\u001b[0m\u001b[0;34m=\u001b[0m\u001b[0;32mNone\u001b[0m\u001b[0;34m)\u001b[0m\u001b[0;34m\u001b[0m\u001b[0;34m\u001b[0m\u001b[0m\n",
       "\u001b[0;31mDocstring:\u001b[0m\n",
       "Generate a random sentence\n",
       ":example 'Lorem ipsum dolor sit amet.'\n",
       "\n",
       ":param nb_words: around how many words the sentence should contain\n",
       ":param variable_nb_words: set to false if you want exactly ``nb``\n",
       "    words returned, otherwise the result may include a number of words\n",
       "    of ``nb`` +/-40% (with a minimum of 1)\n",
       ":param ext_word_list: a list of words you would like to have instead of\n",
       "    'Lorem ipsum'.\n",
       "\n",
       ":rtype: str\n",
       "\u001b[0;31mFile:\u001b[0m      ~/.pyenv/versions/3.7.4/envs/od/lib/python3.7/site-packages/faker/providers/lorem/__init__.py\n",
       "\u001b[0;31mType:\u001b[0m      method\n"
      ]
     },
     "metadata": {},
     "output_type": "display_data"
    }
   ],
   "source": [
    "fake.sentence?"
   ]
  },
  {
   "cell_type": "code",
   "execution_count": 341,
   "metadata": {},
   "outputs": [],
   "source": [
    "from faker import Faker\n",
    "from faker.providers import lorem\n",
    "\n",
    "fake = Faker()\n",
    "fake.seed_instance(42)\n",
    "fake.add_provider(lorem)\n",
    "\n",
    "# 50 fake topics\n",
    "fake_topics = [(ix, fake.sentence(nb_words=3, variable_nb_words=True, ext_word_list=None)) for ix, _ in enumerate(range(30), start=1)]"
   ]
  },
  {
   "cell_type": "code",
   "execution_count": 365,
   "metadata": {},
   "outputs": [
    {
     "data": {
      "text/plain": [
       "97"
      ]
     },
     "execution_count": 365,
     "metadata": {},
     "output_type": "execute_result"
    }
   ],
   "source": [
    "# +-100 fake, non repeated keywords\n",
    "fake_keywords = [(ix, word) for ix, word in enumerate(list({fake.word() for _ in range(100)}), start=1)]\n",
    "len(fake_keywords)"
   ]
  },
  {
   "cell_type": "markdown",
   "metadata": {},
   "source": [
    "http://www.jexp.de/blog/html/create_random_data.html"
   ]
  },
  {
   "cell_type": "code",
   "execution_count": 367,
   "metadata": {},
   "outputs": [],
   "source": [
    "q_create_keyword = \"CREATE (:keyword {id:$id, keyword:$keyword})\"\n",
    "\n",
    "with gdb.session() as session:\n",
    "    for ix, keyword in fake_keywords:\n",
    "        session.run(q_create_keyword, id=ix, keyword=keyword)"
   ]
  },
  {
   "cell_type": "code",
   "execution_count": 366,
   "metadata": {},
   "outputs": [],
   "source": [
    "with gdb.session() as session:\n",
    "    for ix, keyword in fake_keywords:\n",
    "        session.run(\"MATCH (n:keyword) DELETE n \")"
   ]
  },
  {
   "cell_type": "code",
   "execution_count": 368,
   "metadata": {},
   "outputs": [],
   "source": [
    "with gdb.session() as session:\n",
    "    session.run(\"CREATE CONSTRAINT ON (n:keyword) ASSERT n.keyword IS UNIQUE\")"
   ]
  },
  {
   "cell_type": "markdown",
   "metadata": {},
   "source": [
    "### Assign 5 keywords to 1000 articles, at random"
   ]
  },
  {
   "cell_type": "code",
   "execution_count": 372,
   "metadata": {},
   "outputs": [],
   "source": [
    "# assign 5 keywords randomly to 1000 articles\n",
    "random.seed(42)\n",
    "\n",
    "q_add_keywords = \"\"\"MATCH (a:article),(b:keyword)\n",
    "WHERE a.article = $article AND b.keyword = $keyword\n",
    "CREATE (a)-[r:has_keyword]->(b)\n",
    "RETURN a, b\"\"\"\n",
    "\n",
    "with gdb.session() as session:\n",
    "    for article in random.sample(article_ids, 1000):\n",
    "        for ix, keyword in random.sample(fake_keywords, 5):\n",
    "            session.run(q_add_keywords, article=article, keyword=keyword)"
   ]
  },
  {
   "cell_type": "code",
   "execution_count": 371,
   "metadata": {},
   "outputs": [],
   "source": [
    "with gdb.session() as session:\n",
    "    session.run(\"MATCH p=(:article)-[r:has_keyword]->(:keyword) delete r\")"
   ]
  }
 ],
 "metadata": {
  "kernelspec": {
   "display_name": "Python 3",
   "language": "python",
   "name": "python3"
  },
  "language_info": {
   "codemirror_mode": {
    "name": "ipython",
    "version": 3
   },
   "file_extension": ".py",
   "mimetype": "text/x-python",
   "name": "python",
   "nbconvert_exporter": "python",
   "pygments_lexer": "ipython3",
   "version": "3.7.4"
  }
 },
 "nbformat": 4,
 "nbformat_minor": 4
}
