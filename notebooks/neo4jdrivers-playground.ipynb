{
 "cells": [
  {
   "cell_type": "code",
   "execution_count": 5,
   "metadata": {
    "colab": {
     "base_uri": "https://localhost:8080/",
     "height": 34
    },
    "colab_type": "code",
    "executionInfo": {
     "elapsed": 578,
     "status": "ok",
     "timestamp": 1583250694659,
     "user": {
      "displayName": "Ferran Noguera",
      "photoUrl": "https://lh3.googleusercontent.com/a-/AOh14GgWzCWm4LgKVnL4rfCT1v0nQX_OdIqzVsHqFaCSEA=s64",
      "userId": "10395043326406827918"
     },
     "user_tz": -60
    },
    "id": "RxwPhiAz1jrB",
    "outputId": "373a4aa9-7473-442f-f053-3bdec369c555"
   },
   "outputs": [
    {
     "data": {
      "text/plain": [
       "'3.6.9 (default, Nov  7 2019, 10:44:02) \\n[GCC 8.3.0]'"
      ]
     },
     "execution_count": 5,
     "metadata": {
      "tags": []
     },
     "output_type": "execute_result"
    }
   ],
   "source": [
    "import sys\n",
    "sys.version"
   ]
  },
  {
   "cell_type": "code",
   "execution_count": 6,
   "metadata": {
    "colab": {
     "base_uri": "https://localhost:8080/",
     "height": 316
    },
    "colab_type": "code",
    "executionInfo": {
     "elapsed": 564,
     "status": "error",
     "timestamp": 1583250696340,
     "user": {
      "displayName": "Ferran Noguera",
      "photoUrl": "https://lh3.googleusercontent.com/a-/AOh14GgWzCWm4LgKVnL4rfCT1v0nQX_OdIqzVsHqFaCSEA=s64",
      "userId": "10395043326406827918"
     },
     "user_tz": -60
    },
    "id": "qu-o8kak1jrH",
    "outputId": "663fa1d6-4213-4e1f-8cd9-c4b446e46fc6"
   },
   "outputs": [
    {
     "ename": "ModuleNotFoundError",
     "evalue": "ignored",
     "output_type": "error",
     "traceback": [
      "\u001b[0;31m---------------------------------------------------------------------------\u001b[0m",
      "\u001b[0;31mModuleNotFoundError\u001b[0m                       Traceback (most recent call last)",
      "\u001b[0;32m<ipython-input-6-6e3369516970>\u001b[0m in \u001b[0;36m<module>\u001b[0;34m()\u001b[0m\n\u001b[0;32m----> 1\u001b[0;31m \u001b[0;32mimport\u001b[0m \u001b[0mneo4j\u001b[0m\u001b[0;34m\u001b[0m\u001b[0;34m\u001b[0m\u001b[0m\n\u001b[0m\u001b[1;32m      2\u001b[0m \u001b[0mneo4j\u001b[0m\u001b[0;34m.\u001b[0m\u001b[0m__version__\u001b[0m\u001b[0;34m\u001b[0m\u001b[0;34m\u001b[0m\u001b[0m\n",
      "\u001b[0;31mModuleNotFoundError\u001b[0m: No module named 'neo4j'",
      "",
      "\u001b[0;31m---------------------------------------------------------------------------\u001b[0;32m\nNOTE: If your import is failing due to a missing package, you can\nmanually install dependencies using either !pip or !apt.\n\nTo view examples of installing some common dependencies, click the\n\"Open Examples\" button below.\n\u001b[0;31m---------------------------------------------------------------------------\u001b[0m\n"
     ]
    }
   ],
   "source": [
    "import neo4j\n",
    "neo4j.__version__"
   ]
  },
  {
   "cell_type": "code",
   "execution_count": null,
   "metadata": {
    "colab": {},
    "colab_type": "code",
    "id": "Bd2FWwPi1jrK"
   },
   "outputs": [],
   "source": [
    "NEO4J_URI=\"bolt://localhost:7687\"\n",
    "NEO4J_USERNAME=\"neo4j\"\n",
    "NEO4J_PASSWORD=\"admin\""
   ]
  },
  {
   "cell_type": "code",
   "execution_count": 4,
   "metadata": {
    "colab": {
     "base_uri": "https://localhost:8080/",
     "height": 299
    },
    "colab_type": "code",
    "executionInfo": {
     "elapsed": 1170,
     "status": "error",
     "timestamp": 1583250616068,
     "user": {
      "displayName": "Ferran Noguera",
      "photoUrl": "https://lh3.googleusercontent.com/a-/AOh14GgWzCWm4LgKVnL4rfCT1v0nQX_OdIqzVsHqFaCSEA=s64",
      "userId": "10395043326406827918"
     },
     "user_tz": -60
    },
    "id": "Mu42c4Qt1jrN",
    "outputId": "e2d36c8b-7513-43be-c452-f5af3eae364b"
   },
   "outputs": [
    {
     "ename": "ModuleNotFoundError",
     "evalue": "ignored",
     "output_type": "error",
     "traceback": [
      "\u001b[0;31m---------------------------------------------------------------------------\u001b[0m",
      "\u001b[0;31mModuleNotFoundError\u001b[0m                       Traceback (most recent call last)",
      "\u001b[0;32m<ipython-input-4-454d4d47aa43>\u001b[0m in \u001b[0;36m<module>\u001b[0;34m()\u001b[0m\n\u001b[0;32m----> 1\u001b[0;31m \u001b[0;32mfrom\u001b[0m \u001b[0mneo4j\u001b[0m \u001b[0;32mimport\u001b[0m \u001b[0mGraphDatabase\u001b[0m\u001b[0;34m\u001b[0m\u001b[0;34m\u001b[0m\u001b[0m\n\u001b[0m",
      "\u001b[0;31mModuleNotFoundError\u001b[0m: No module named 'neo4j'",
      "",
      "\u001b[0;31m---------------------------------------------------------------------------\u001b[0;32m\nNOTE: If your import is failing due to a missing package, you can\nmanually install dependencies using either !pip or !apt.\n\nTo view examples of installing some common dependencies, click the\n\"Open Examples\" button below.\n\u001b[0;31m---------------------------------------------------------------------------\u001b[0m\n"
     ]
    }
   ],
   "source": [
    "from neo4j import GraphDatabase"
   ]
  },
  {
   "cell_type": "code",
   "execution_count": null,
   "metadata": {
    "colab": {},
    "colab_type": "code",
    "id": "AwZB1O1z1jrQ"
   },
   "outputs": [],
   "source": [
    "# instantiate driver\n",
    "gdb = GraphDatabase.driver(uri=NEO4J_URI, auth=(NEO4J_USERNAME, NEO4J_PASSWORD))"
   ]
  },
  {
   "cell_type": "code",
   "execution_count": null,
   "metadata": {
    "colab": {},
    "colab_type": "code",
    "id": "5PVQ0thT1jrS"
   },
   "outputs": [],
   "source": [
    "query = 'MATCH (ee:Person) WHERE ee.name = \"Emil\" RETURN ee;'\n",
    "\n",
    "with gdb.session() as session:\n",
    "    result = session.run(query)"
   ]
  },
  {
   "cell_type": "code",
   "execution_count": null,
   "metadata": {
    "colab": {},
    "colab_type": "code",
    "id": "jfCyZ45r1jrW"
   },
   "outputs": [],
   "source": [
    "out = result.values()"
   ]
  },
  {
   "cell_type": "code",
   "execution_count": null,
   "metadata": {
    "colab": {},
    "colab_type": "code",
    "id": "1r9pn34l1jrZ",
    "outputId": "b4a033db-2051-49a4-ddb7-08ea5faedcb8"
   },
   "outputs": [
    {
     "data": {
      "text/plain": [
       "list"
      ]
     },
     "execution_count": 61,
     "metadata": {
      "tags": []
     },
     "output_type": "execute_result"
    }
   ],
   "source": [
    "type(out)"
   ]
  },
  {
   "cell_type": "code",
   "execution_count": null,
   "metadata": {
    "colab": {},
    "colab_type": "code",
    "id": "CbIMYex81jrb",
    "outputId": "efed734c-7c44-4afc-c12c-4eee8e49e8f3"
   },
   "outputs": [
    {
     "data": {
      "text/plain": [
       "[[<Node id=3 labels={'Person'} properties={'name': 'Emil', 'from': 'Sweden', 'klout': 99}>],\n",
       " [<Node id=26 labels={'Person'} properties={'name': 'Emil', 'from': 'Sweden', 'klout': 99}>]]"
      ]
     },
     "execution_count": 62,
     "metadata": {
      "tags": []
     },
     "output_type": "execute_result"
    }
   ],
   "source": [
    "out"
   ]
  },
  {
   "cell_type": "code",
   "execution_count": null,
   "metadata": {
    "colab": {},
    "colab_type": "code",
    "id": "-zR67GVE1jrd",
    "outputId": "45a90cd9-0b32-4ccb-ed86-066882b02cd8"
   },
   "outputs": [
    {
     "data": {
      "text/plain": [
       "{'name': 'Emil', 'from': 'Sweden', 'klout': 99}"
      ]
     },
     "execution_count": 58,
     "metadata": {
      "tags": []
     },
     "output_type": "execute_result"
    }
   ],
   "source": [
    "out['ee']._properties"
   ]
  },
  {
   "cell_type": "code",
   "execution_count": null,
   "metadata": {
    "colab": {},
    "colab_type": "code",
    "id": "cmzg5mIR1jrh",
    "outputId": "d8337b5d-c5d5-4c59-96a8-089226a40a70"
   },
   "outputs": [
    {
     "name": "stdout",
     "output_type": "stream",
     "text": [
      "Help on BoltStatementResult in module neo4j object:\n",
      "\n",
      "class BoltStatementResult(StatementResult)\n",
      " |  BoltStatementResult(session, hydrant, metadata)\n",
      " |  \n",
      " |  A handler for the result of Cypher statement execution.\n",
      " |  \n",
      " |  Method resolution order:\n",
      " |      BoltStatementResult\n",
      " |      StatementResult\n",
      " |      builtins.object\n",
      " |  \n",
      " |  Methods defined here:\n",
      " |  \n",
      " |  __init__(self, session, hydrant, metadata)\n",
      " |      Initialize self.  See help(type(self)) for accurate signature.\n",
      " |  \n",
      " |  data(self, *items)\n",
      " |      Return the remainder of the result as a list of dictionaries.\n",
      " |      \n",
      " |      :param items: fields to return for each remaining record\n",
      " |      :returns: list of dictionaries\n",
      " |  \n",
      " |  value(self, item=0, default=None)\n",
      " |      Return the remainder of the result as a list of values.\n",
      " |      \n",
      " |      :param item: field to return for each remaining record\n",
      " |      :param default: default value, used if the index of key is unavailable\n",
      " |      :returns: list of individual values\n",
      " |  \n",
      " |  values(self, *items)\n",
      " |      Return the remainder of the result as a list of tuples.\n",
      " |      \n",
      " |      :param items: fields to return for each remaining record\n",
      " |      :returns: list of value tuples\n",
      " |  \n",
      " |  ----------------------------------------------------------------------\n",
      " |  Methods inherited from StatementResult:\n",
      " |  \n",
      " |  __iter__(self)\n",
      " |  \n",
      " |  attached(self)\n",
      " |      Indicator for whether or not this result is still attached to\n",
      " |      an open :class:`.Session`.\n",
      " |  \n",
      " |  consume(self)\n",
      " |      Consume the remainder of this result and return the summary.\n",
      " |      \n",
      " |      :returns: The :class:`.ResultSummary` for this result\n",
      " |  \n",
      " |  detach(self, sync=True)\n",
      " |      Detach this result from its parent session by fetching the\n",
      " |      remainder of this result from the network into the buffer.\n",
      " |      \n",
      " |      :returns: number of records fetched\n",
      " |  \n",
      " |  graph(self)\n",
      " |      Return a Graph instance containing all the graph objects\n",
      " |      in the result. After calling this method, the result becomes\n",
      " |      detached, buffering all remaining records.\n",
      " |      \n",
      " |      :returns: result graph\n",
      " |  \n",
      " |  keys(self)\n",
      " |      The keys for the records in this result.\n",
      " |      \n",
      " |      :returns: tuple of key names\n",
      " |  \n",
      " |  peek(self)\n",
      " |      Obtain the next record from this result without consuming it.\n",
      " |      This leaves the record in the buffer for further processing.\n",
      " |      \n",
      " |      :returns: the next :class:`.Record` or :const:`None` if none remain\n",
      " |  \n",
      " |  records(self)\n",
      " |      Generator for records obtained from this result.\n",
      " |      \n",
      " |      :yields: iterable of :class:`.Record` objects\n",
      " |  \n",
      " |  single(self)\n",
      " |      Obtain the next and only remaining record from this result.\n",
      " |      \n",
      " |      A warning is generated if more than one record is available but\n",
      " |      the first of these is still returned.\n",
      " |      \n",
      " |      :returns: the next :class:`.Record` or :const:`None` if none remain\n",
      " |      :warns: if more than one record is available\n",
      " |  \n",
      " |  summary(self)\n",
      " |      Obtain the summary of this result, buffering any remaining records.\n",
      " |      \n",
      " |      :returns: The :class:`.ResultSummary` for this result\n",
      " |  \n",
      " |  ----------------------------------------------------------------------\n",
      " |  Data descriptors inherited from StatementResult:\n",
      " |  \n",
      " |  __dict__\n",
      " |      dictionary for instance variables (if defined)\n",
      " |  \n",
      " |  __weakref__\n",
      " |      list of weak references to the object (if defined)\n",
      " |  \n",
      " |  session\n",
      " |      The :class:`.Session` to which this result is attached, if any.\n",
      "\n"
     ]
    }
   ],
   "source": [
    "help(result)"
   ]
  },
  {
   "cell_type": "code",
   "execution_count": null,
   "metadata": {
    "colab": {},
    "colab_type": "code",
    "id": "L1D7TUJW1jrk"
   },
   "outputs": [],
   "source": [
    "reallylongquery = \"\"\"\n",
    "CREATE (TheMatrix:Movie {title:'The Matrix', released:1999, tagline:'Welcome to the Real World'})\n",
    "CREATE (Keanu:Person {name:'Keanu Reeves', born:1964})\n",
    "CREATE (Carrie:Person {name:'Carrie-Anne Moss', born:1967})\n",
    "CREATE (Laurence:Person {name:'Laurence Fishburne', born:1961})\n",
    "CREATE (Hugo:Person {name:'Hugo Weaving', born:1960})\n",
    "CREATE (LillyW:Person {name:'Lilly Wachowski', born:1967})\n",
    "CREATE (LanaW:Person {name:'Lana Wachowski', born:1965})\n",
    "CREATE (JoelS:Person {name:'Joel Silver', born:1952})\n",
    "\n",
    "\n",
    "CREATE\n",
    "(Keanu)-[:ACTED_IN {roles:['Neo']}]->(TheMatrix),\n",
    "(Carrie)-[:ACTED_IN {roles:['Trinity']}]->(TheMatrix),\n",
    "(Laurence)-[:ACTED_IN {roles:['Morpheus']}]->(TheMatrix),\n",
    "(Hugo)-[:ACTED_IN {roles:['Agent Smith']}]->(TheMatrix),\n",
    "(LillyW)-[:DIRECTED]->(TheMatrix),\n",
    "(LanaW)-[:DIRECTED]->(TheMatrix),\n",
    "(JoelS)-[:PRODUCED]->(TheMatrix)\n",
    "\n",
    "CREATE (Emil:Person {name:\"Emil Eifrem\", born:1978})\n",
    "CREATE (Emil)-[:ACTED_IN {roles:[\"Emil\"]}]->(TheMatrix)\n",
    "\n",
    "CREATE (TheMatrixReloaded:Movie {title:'The Matrix Reloaded', released:2003, tagline:'Free your mind'})\n",
    "CREATE\n",
    "(Keanu)-[:ACTED_IN {roles:['Neo']}]->(TheMatrixReloaded),\n",
    "(Carrie)-[:ACTED_IN {roles:['Trinity']}]->(TheMatrixReloaded),\n",
    "(Laurence)-[:ACTED_IN {roles:['Morpheus']}]->(TheMatrixReloaded),\n",
    "(Hugo)-[:ACTED_IN {roles:['Agent Smith']}]->(TheMatrixReloaded),\n",
    "(LillyW)-[:DIRECTED]->(TheMatrixReloaded),\n",
    "(LanaW)-[:DIRECTED]->(TheMatrixReloaded),\n",
    "(JoelS)-[:PRODUCED]->(TheMatrixReloaded)\n",
    "\n",
    "CREATE (TheMatrixRevolutions:Movie {title:'The Matrix Revolutions', released:2003, tagline:'Everything that has a beginning has an end'})\n",
    "CREATE\n",
    "(Keanu)-[:ACTED_IN {roles:['Neo']}]->(TheMatrixRevolutions),\n",
    "(Carrie)-[:ACTED_IN {roles:['Trinity']}]->(TheMatrixRevolutions),\n",
    "(Laurence)-[:ACTED_IN {roles:['Morpheus']}]->(TheMatrixRevolutions),\n",
    "(Hugo)-[:ACTED_IN {roles:['Agent Smith']}]->(TheMatrixRevolutions),\n",
    "(LillyW)-[:DIRECTED]->(TheMatrixRevolutions),\n",
    "(LanaW)-[:DIRECTED]->(TheMatrixRevolutions),\n",
    "(JoelS)-[:PRODUCED]->(TheMatrixRevolutions)\n",
    "\n",
    "CREATE (TheDevilsAdvocate:Movie {title:\"The Devil's Advocate\", released:1997, tagline:'Evil has its winning ways'})\n",
    "CREATE (Charlize:Person {name:'Charlize Theron', born:1975})\n",
    "CREATE (Al:Person {name:'Al Pacino', born:1940})\n",
    "CREATE (Taylor:Person {name:'Taylor Hackford', born:1944})\n",
    "CREATE\n",
    "(Keanu)-[:ACTED_IN {roles:['Kevin Lomax']}]->(TheDevilsAdvocate),\n",
    "(Charlize)-[:ACTED_IN {roles:['Mary Ann Lomax']}]->(TheDevilsAdvocate),\n",
    "(Al)-[:ACTED_IN {roles:['John Milton']}]->(TheDevilsAdvocate),\n",
    "(Taylor)-[:DIRECTED]->(TheDevilsAdvocate)\n",
    "\n",
    "CREATE (AFewGoodMen:Movie {title:\"A Few Good Men\", released:1992, tagline:\"In the heart of the nation's capital, in a courthouse of the U.S. government, one man will stop at nothing to keep his honor, and one will stop at nothing to find the truth.\"})\n",
    "CREATE (TomC:Person {name:'Tom Cruise', born:1962})\n",
    "CREATE (JackN:Person {name:'Jack Nicholson', born:1937})\n",
    "CREATE (DemiM:Person {name:'Demi Moore', born:1962})\n",
    "CREATE (KevinB:Person {name:'Kevin Bacon', born:1958})\n",
    "CREATE (KieferS:Person {name:'Kiefer Sutherland', born:1966})\n",
    "CREATE (NoahW:Person {name:'Noah Wyle', born:1971})\n",
    "CREATE (CubaG:Person {name:'Cuba Gooding Jr.', born:1968})\n",
    "CREATE (KevinP:Person {name:'Kevin Pollak', born:1957})\n",
    "CREATE (JTW:Person {name:'J.T. Walsh', born:1943})\n",
    "CREATE (JamesM:Person {name:'James Marshall', born:1967})\n",
    "CREATE (ChristopherG:Person {name:'Christopher Guest', born:1948})\n",
    "CREATE (RobR:Person {name:'Rob Reiner', born:1947})\n",
    "CREATE (AaronS:Person {name:'Aaron Sorkin', born:1961})\n",
    "CREATE\n",
    "(TomC)-[:ACTED_IN {roles:['Lt. Daniel Kaffee']}]->(AFewGoodMen),\n",
    "(JackN)-[:ACTED_IN {roles:['Col. Nathan R. Jessup']}]->(AFewGoodMen),\n",
    "(DemiM)-[:ACTED_IN {roles:['Lt. Cdr. JoAnne Galloway']}]->(AFewGoodMen),\n",
    "(KevinB)-[:ACTED_IN {roles:['Capt. Jack Ross']}]->(AFewGoodMen),\n",
    "(KieferS)-[:ACTED_IN {roles:['Lt. Jonathan Kendrick']}]->(AFewGoodMen),\n",
    "(NoahW)-[:ACTED_IN {roles:['Cpl. Jeffrey Barnes']}]->(AFewGoodMen),\n",
    "(CubaG)-[:ACTED_IN {roles:['Cpl. Carl Hammaker']}]->(AFewGoodMen),\n",
    "(KevinP)-[:ACTED_IN {roles:['Lt. Sam Weinberg']}]->(AFewGoodMen),\n",
    "(JTW)-[:ACTED_IN {roles:['Lt. Col. Matthew Andrew Markinson']}]->(AFewGoodMen),\n",
    "(JamesM)-[:ACTED_IN {roles:['Pfc. Louden Downey']}]->(AFewGoodMen),\n",
    "(ChristopherG)-[:ACTED_IN {roles:['Dr. Stone']}]->(AFewGoodMen),\n",
    "(AaronS)-[:ACTED_IN {roles:['Man in Bar']}]->(AFewGoodMen),\n",
    "(RobR)-[:DIRECTED]->(AFewGoodMen),\n",
    "(AaronS)-[:WROTE]->(AFewGoodMen)\n",
    "\n",
    "CREATE (TopGun:Movie {title:\"Top Gun\", released:1986, tagline:'I feel the need, the need for speed.'})\n",
    "CREATE (KellyM:Person {name:'Kelly McGillis', born:1957})\n",
    "CREATE (ValK:Person {name:'Val Kilmer', born:1959})\n",
    "CREATE (AnthonyE:Person {name:'Anthony Edwards', born:1962})\n",
    "CREATE (TomS:Person {name:'Tom Skerritt', born:1933})\n",
    "CREATE (MegR:Person {name:'Meg Ryan', born:1961})\n",
    "CREATE (TonyS:Person {name:'Tony Scott', born:1944})\n",
    "CREATE (JimC:Person {name:'Jim Cash', born:1941})\n",
    "CREATE\n",
    "(TomC)-[:ACTED_IN {roles:['Maverick']}]->(TopGun),\n",
    "(KellyM)-[:ACTED_IN {roles:['Charlie']}]->(TopGun),\n",
    "(ValK)-[:ACTED_IN {roles:['Iceman']}]->(TopGun),\n",
    "(AnthonyE)-[:ACTED_IN {roles:['Goose']}]->(TopGun),\n",
    "(TomS)-[:ACTED_IN {roles:['Viper']}]->(TopGun),\n",
    "(MegR)-[:ACTED_IN {roles:['Carole']}]->(TopGun),\n",
    "(TonyS)-[:DIRECTED]->(TopGun),\n",
    "(JimC)-[:WROTE]->(TopGun)\n",
    "\n",
    "CREATE (JerryMaguire:Movie {title:'Jerry Maguire', released:2000, tagline:'The rest of his life begins now.'})\n",
    "CREATE (ReneeZ:Person {name:'Renee Zellweger', born:1969})\n",
    "CREATE (KellyP:Person {name:'Kelly Preston', born:1962})\n",
    "CREATE (JerryO:Person {name:\"Jerry O'Connell\", born:1974})\n",
    "CREATE (JayM:Person {name:'Jay Mohr', born:1970})\n",
    "CREATE (BonnieH:Person {name:'Bonnie Hunt', born:1961})\n",
    "CREATE (ReginaK:Person {name:'Regina King', born:1971})\n",
    "CREATE (JonathanL:Person {name:'Jonathan Lipnicki', born:1996})\n",
    "CREATE (CameronC:Person {name:'Cameron Crowe', born:1957})\n",
    "CREATE\n",
    "(TomC)-[:ACTED_IN {roles:['Jerry Maguire']}]->(JerryMaguire),\n",
    "(CubaG)-[:ACTED_IN {roles:['Rod Tidwell']}]->(JerryMaguire),\n",
    "(ReneeZ)-[:ACTED_IN {roles:['Dorothy Boyd']}]->(JerryMaguire),\n",
    "(KellyP)-[:ACTED_IN {roles:['Avery Bishop']}]->(JerryMaguire),\n",
    "(JerryO)-[:ACTED_IN {roles:['Frank Cushman']}]->(JerryMaguire),\n",
    "(JayM)-[:ACTED_IN {roles:['Bob Sugar']}]->(JerryMaguire),\n",
    "(BonnieH)-[:ACTED_IN {roles:['Laurel Boyd']}]->(JerryMaguire),\n",
    "(ReginaK)-[:ACTED_IN {roles:['Marcee Tidwell']}]->(JerryMaguire),\n",
    "(JonathanL)-[:ACTED_IN {roles:['Ray Boyd']}]->(JerryMaguire),\n",
    "(CameronC)-[:DIRECTED]->(JerryMaguire),\n",
    "(CameronC)-[:PRODUCED]->(JerryMaguire),\n",
    "(CameronC)-[:WROTE]->(JerryMaguire)\n",
    "\n",
    "CREATE (StandByMe:Movie {title:\"Stand By Me\", released:1986, tagline:\"For some, it's the last real taste of innocence, and the first real taste of life. But for everyone, it's the time that memories are made of.\"})\n",
    "CREATE (RiverP:Person {name:'River Phoenix', born:1970})\n",
    "CREATE (CoreyF:Person {name:'Corey Feldman', born:1971})\n",
    "CREATE (WilW:Person {name:'Wil Wheaton', born:1972})\n",
    "CREATE (JohnC:Person {name:'John Cusack', born:1966})\n",
    "CREATE (MarshallB:Person {name:'Marshall Bell', born:1942})\n",
    "CREATE\n",
    "(WilW)-[:ACTED_IN {roles:['Gordie Lachance']}]->(StandByMe),\n",
    "(RiverP)-[:ACTED_IN {roles:['Chris Chambers']}]->(StandByMe),\n",
    "(JerryO)-[:ACTED_IN {roles:['Vern Tessio']}]->(StandByMe),\n",
    "(CoreyF)-[:ACTED_IN {roles:['Teddy Duchamp']}]->(StandByMe),\n",
    "(JohnC)-[:ACTED_IN {roles:['Denny Lachance']}]->(StandByMe),\n",
    "(KieferS)-[:ACTED_IN {roles:['Ace Merrill']}]->(StandByMe),\n",
    "(MarshallB)-[:ACTED_IN {roles:['Mr. Lachance']}]->(StandByMe),\n",
    "(RobR)-[:DIRECTED]->(StandByMe)\n",
    "\n",
    "CREATE (AsGoodAsItGets:Movie {title:'As Good as It Gets', released:1997, tagline:'A comedy from the heart that goes for the throat.'})\n",
    "CREATE (HelenH:Person {name:'Helen Hunt', born:1963})\n",
    "CREATE (GregK:Person {name:'Greg Kinnear', born:1963})\n",
    "CREATE (JamesB:Person {name:'James L. Brooks', born:1940})\n",
    "CREATE\n",
    "(JackN)-[:ACTED_IN {roles:['Melvin Udall']}]->(AsGoodAsItGets),\n",
    "(HelenH)-[:ACTED_IN {roles:['Carol Connelly']}]->(AsGoodAsItGets),\n",
    "(GregK)-[:ACTED_IN {roles:['Simon Bishop']}]->(AsGoodAsItGets),\n",
    "(CubaG)-[:ACTED_IN {roles:['Frank Sachs']}]->(AsGoodAsItGets),\n",
    "(JamesB)-[:DIRECTED]->(AsGoodAsItGets)\n",
    "\n",
    "CREATE (WhatDreamsMayCome:Movie {title:'What Dreams May Come', released:1998, tagline:'After life there is more. The end is just the beginning.'})\n",
    "CREATE (AnnabellaS:Person {name:'Annabella Sciorra', born:1960})\n",
    "CREATE (MaxS:Person {name:'Max von Sydow', born:1929})\n",
    "CREATE (WernerH:Person {name:'Werner Herzog', born:1942})\n",
    "CREATE (Robin:Person {name:'Robin Williams', born:1951})\n",
    "CREATE (VincentW:Person {name:'Vincent Ward', born:1956})\n",
    "CREATE\n",
    "(Robin)-[:ACTED_IN {roles:['Chris Nielsen']}]->(WhatDreamsMayCome),\n",
    "(CubaG)-[:ACTED_IN {roles:['Albert Lewis']}]->(WhatDreamsMayCome),\n",
    "(AnnabellaS)-[:ACTED_IN {roles:['Annie Collins-Nielsen']}]->(WhatDreamsMayCome),\n",
    "(MaxS)-[:ACTED_IN {roles:['The Tracker']}]->(WhatDreamsMayCome),\n",
    "(WernerH)-[:ACTED_IN {roles:['The Face']}]->(WhatDreamsMayCome),\n",
    "(VincentW)-[:DIRECTED]->(WhatDreamsMayCome)\n",
    "\n",
    "CREATE (SnowFallingonCedars:Movie {title:'Snow Falling on Cedars', released:1999, tagline:'First loves last. Forever.'})\n",
    "CREATE (EthanH:Person {name:'Ethan Hawke', born:1970})\n",
    "CREATE (RickY:Person {name:'Rick Yune', born:1971})\n",
    "CREATE (JamesC:Person {name:'James Cromwell', born:1940})\n",
    "CREATE (ScottH:Person {name:'Scott Hicks', born:1953})\n",
    "CREATE\n",
    "(EthanH)-[:ACTED_IN {roles:['Ishmael Chambers']}]->(SnowFallingonCedars),\n",
    "(RickY)-[:ACTED_IN {roles:['Kazuo Miyamoto']}]->(SnowFallingonCedars),\n",
    "(MaxS)-[:ACTED_IN {roles:['Nels Gudmundsson']}]->(SnowFallingonCedars),\n",
    "(JamesC)-[:ACTED_IN {roles:['Judge Fielding']}]->(SnowFallingonCedars),\n",
    "(ScottH)-[:DIRECTED]->(SnowFallingonCedars)\n",
    "\n",
    "CREATE (YouveGotMail:Movie {title:\"You've Got Mail\", released:1998, tagline:'At odds in life... in love on-line.'})\n",
    "CREATE (ParkerP:Person {name:'Parker Posey', born:1968})\n",
    "CREATE (DaveC:Person {name:'Dave Chappelle', born:1973})\n",
    "CREATE (SteveZ:Person {name:'Steve Zahn', born:1967})\n",
    "CREATE (TomH:Person {name:'Tom Hanks', born:1956})\n",
    "CREATE (NoraE:Person {name:'Nora Ephron', born:1941})\n",
    "CREATE\n",
    "(TomH)-[:ACTED_IN {roles:['Joe Fox']}]->(YouveGotMail),\n",
    "(MegR)-[:ACTED_IN {roles:['Kathleen Kelly']}]->(YouveGotMail),\n",
    "(GregK)-[:ACTED_IN {roles:['Frank Navasky']}]->(YouveGotMail),\n",
    "(ParkerP)-[:ACTED_IN {roles:['Patricia Eden']}]->(YouveGotMail),\n",
    "(DaveC)-[:ACTED_IN {roles:['Kevin Jackson']}]->(YouveGotMail),\n",
    "(SteveZ)-[:ACTED_IN {roles:['George Pappas']}]->(YouveGotMail),\n",
    "(NoraE)-[:DIRECTED]->(YouveGotMail)\n",
    "\n",
    "CREATE (SleeplessInSeattle:Movie {title:'Sleepless in Seattle', released:1993, tagline:'What if someone you never met, someone you never saw, someone you never knew was the only someone for you?'})\n",
    "CREATE (RitaW:Person {name:'Rita Wilson', born:1956})\n",
    "CREATE (BillPull:Person {name:'Bill Pullman', born:1953})\n",
    "CREATE (VictorG:Person {name:'Victor Garber', born:1949})\n",
    "CREATE (RosieO:Person {name:\"Rosie O'Donnell\", born:1962})\n",
    "CREATE\n",
    "(TomH)-[:ACTED_IN {roles:['Sam Baldwin']}]->(SleeplessInSeattle),\n",
    "(MegR)-[:ACTED_IN {roles:['Annie Reed']}]->(SleeplessInSeattle),\n",
    "(RitaW)-[:ACTED_IN {roles:['Suzy']}]->(SleeplessInSeattle),\n",
    "(BillPull)-[:ACTED_IN {roles:['Walter']}]->(SleeplessInSeattle),\n",
    "(VictorG)-[:ACTED_IN {roles:['Greg']}]->(SleeplessInSeattle),\n",
    "(RosieO)-[:ACTED_IN {roles:['Becky']}]->(SleeplessInSeattle),\n",
    "(NoraE)-[:DIRECTED]->(SleeplessInSeattle)\n",
    "\n",
    "CREATE (JoeVersustheVolcano:Movie {title:'Joe Versus the Volcano', released:1990, tagline:'A story of love, lava and burning desire.'})\n",
    "CREATE (JohnS:Person {name:'John Patrick Stanley', born:1950})\n",
    "CREATE (Nathan:Person {name:'Nathan Lane', born:1956})\n",
    "CREATE\n",
    "(TomH)-[:ACTED_IN {roles:['Joe Banks']}]->(JoeVersustheVolcano),\n",
    "(MegR)-[:ACTED_IN {roles:['DeDe', 'Angelica Graynamore', 'Patricia Graynamore']}]->(JoeVersustheVolcano),\n",
    "(Nathan)-[:ACTED_IN {roles:['Baw']}]->(JoeVersustheVolcano),\n",
    "(JohnS)-[:DIRECTED]->(JoeVersustheVolcano)\n",
    "\n",
    "CREATE (WhenHarryMetSally:Movie {title:'When Harry Met Sally', released:1998, tagline:'Can two friends sleep together and still love each other in the morning?'})\n",
    "CREATE (BillyC:Person {name:'Billy Crystal', born:1948})\n",
    "CREATE (CarrieF:Person {name:'Carrie Fisher', born:1956})\n",
    "CREATE (BrunoK:Person {name:'Bruno Kirby', born:1949})\n",
    "CREATE\n",
    "(BillyC)-[:ACTED_IN {roles:['Harry Burns']}]->(WhenHarryMetSally),\n",
    "(MegR)-[:ACTED_IN {roles:['Sally Albright']}]->(WhenHarryMetSally),\n",
    "(CarrieF)-[:ACTED_IN {roles:['Marie']}]->(WhenHarryMetSally),\n",
    "(BrunoK)-[:ACTED_IN {roles:['Jess']}]->(WhenHarryMetSally),\n",
    "(RobR)-[:DIRECTED]->(WhenHarryMetSally),\n",
    "(RobR)-[:PRODUCED]->(WhenHarryMetSally),\n",
    "(NoraE)-[:PRODUCED]->(WhenHarryMetSally),\n",
    "(NoraE)-[:WROTE]->(WhenHarryMetSally)\n",
    "\n",
    "CREATE (ThatThingYouDo:Movie {title:'That Thing You Do', released:1996, tagline:'In every life there comes a time when that thing you dream becomes that thing you do'})\n",
    "CREATE (LivT:Person {name:'Liv Tyler', born:1977})\n",
    "CREATE\n",
    "(TomH)-[:ACTED_IN {roles:['Mr. White']}]->(ThatThingYouDo),\n",
    "(LivT)-[:ACTED_IN {roles:['Faye Dolan']}]->(ThatThingYouDo),\n",
    "(Charlize)-[:ACTED_IN {roles:['Tina']}]->(ThatThingYouDo),\n",
    "(TomH)-[:DIRECTED]->(ThatThingYouDo)\n",
    "\n",
    "CREATE (TheReplacements:Movie {title:'The Replacements', released:2000, tagline:'Pain heals, Chicks dig scars... Glory lasts forever'})\n",
    "CREATE (Brooke:Person {name:'Brooke Langton', born:1970})\n",
    "CREATE (Gene:Person {name:'Gene Hackman', born:1930})\n",
    "CREATE (Orlando:Person {name:'Orlando Jones', born:1968})\n",
    "CREATE (Howard:Person {name:'Howard Deutch', born:1950})\n",
    "CREATE\n",
    "(Keanu)-[:ACTED_IN {roles:['Shane Falco']}]->(TheReplacements),\n",
    "(Brooke)-[:ACTED_IN {roles:['Annabelle Farrell']}]->(TheReplacements),\n",
    "(Gene)-[:ACTED_IN {roles:['Jimmy McGinty']}]->(TheReplacements),\n",
    "(Orlando)-[:ACTED_IN {roles:['Clifford Franklin']}]->(TheReplacements),\n",
    "(Howard)-[:DIRECTED]->(TheReplacements)\n",
    "\n",
    "CREATE (RescueDawn:Movie {title:'RescueDawn', released:2006, tagline:\"Based on the extraordinary true story of one man's fight for freedom\"})\n",
    "CREATE (ChristianB:Person {name:'Christian Bale', born:1974})\n",
    "CREATE (ZachG:Person {name:'Zach Grenier', born:1954})\n",
    "CREATE\n",
    "(MarshallB)-[:ACTED_IN {roles:['Admiral']}]->(RescueDawn),\n",
    "(ChristianB)-[:ACTED_IN {roles:['Dieter Dengler']}]->(RescueDawn),\n",
    "(ZachG)-[:ACTED_IN {roles:['Squad Leader']}]->(RescueDawn),\n",
    "(SteveZ)-[:ACTED_IN {roles:['Duane']}]->(RescueDawn),\n",
    "(WernerH)-[:DIRECTED]->(RescueDawn)\n",
    "\n",
    "CREATE (TheBirdcage:Movie {title:'The Birdcage', released:1996, tagline:'Come as you are'})\n",
    "CREATE (MikeN:Person {name:'Mike Nichols', born:1931})\n",
    "CREATE\n",
    "(Robin)-[:ACTED_IN {roles:['Armand Goldman']}]->(TheBirdcage),\n",
    "(Nathan)-[:ACTED_IN {roles:['Albert Goldman']}]->(TheBirdcage),\n",
    "(Gene)-[:ACTED_IN {roles:['Sen. Kevin Keeley']}]->(TheBirdcage),\n",
    "(MikeN)-[:DIRECTED]->(TheBirdcage)\n",
    "\n",
    "CREATE (Unforgiven:Movie {title:'Unforgiven', released:1992, tagline:\"It's a hell of a thing, killing a man\"})\n",
    "CREATE (RichardH:Person {name:'Richard Harris', born:1930})\n",
    "CREATE (ClintE:Person {name:'Clint Eastwood', born:1930})\n",
    "CREATE\n",
    "(RichardH)-[:ACTED_IN {roles:['English Bob']}]->(Unforgiven),\n",
    "(ClintE)-[:ACTED_IN {roles:['Bill Munny']}]->(Unforgiven),\n",
    "(Gene)-[:ACTED_IN {roles:['Little Bill Daggett']}]->(Unforgiven),\n",
    "(ClintE)-[:DIRECTED]->(Unforgiven)\n",
    "\n",
    "CREATE (JohnnyMnemonic:Movie {title:'Johnny Mnemonic', released:1995, tagline:'The hottest data on earth. In the coolest head in town'})\n",
    "CREATE (Takeshi:Person {name:'Takeshi Kitano', born:1947})\n",
    "CREATE (Dina:Person {name:'Dina Meyer', born:1968})\n",
    "CREATE (IceT:Person {name:'Ice-T', born:1958})\n",
    "CREATE (RobertL:Person {name:'Robert Longo', born:1953})\n",
    "CREATE\n",
    "(Keanu)-[:ACTED_IN {roles:['Johnny Mnemonic']}]->(JohnnyMnemonic),\n",
    "(Takeshi)-[:ACTED_IN {roles:['Takahashi']}]->(JohnnyMnemonic),\n",
    "(Dina)-[:ACTED_IN {roles:['Jane']}]->(JohnnyMnemonic),\n",
    "(IceT)-[:ACTED_IN {roles:['J-Bone']}]->(JohnnyMnemonic),\n",
    "(RobertL)-[:DIRECTED]->(JohnnyMnemonic)\n",
    "\n",
    "CREATE (CloudAtlas:Movie {title:'Cloud Atlas', released:2012, tagline:'Everything is connected'})\n",
    "CREATE (HalleB:Person {name:'Halle Berry', born:1966})\n",
    "CREATE (JimB:Person {name:'Jim Broadbent', born:1949})\n",
    "CREATE (TomT:Person {name:'Tom Tykwer', born:1965})\n",
    "CREATE (DavidMitchell:Person {name:'David Mitchell', born:1969})\n",
    "CREATE (StefanArndt:Person {name:'Stefan Arndt', born:1961})\n",
    "CREATE\n",
    "(TomH)-[:ACTED_IN {roles:['Zachry', 'Dr. Henry Goose', 'Isaac Sachs', 'Dermot Hoggins']}]->(CloudAtlas),\n",
    "(Hugo)-[:ACTED_IN {roles:['Bill Smoke', 'Haskell Moore', 'Tadeusz Kesselring', 'Nurse Noakes', 'Boardman Mephi', 'Old Georgie']}]->(CloudAtlas),\n",
    "(HalleB)-[:ACTED_IN {roles:['Luisa Rey', 'Jocasta Ayrs', 'Ovid', 'Meronym']}]->(CloudAtlas),\n",
    "(JimB)-[:ACTED_IN {roles:['Vyvyan Ayrs', 'Captain Molyneux', 'Timothy Cavendish']}]->(CloudAtlas),\n",
    "(TomT)-[:DIRECTED]->(CloudAtlas),\n",
    "(LillyW)-[:DIRECTED]->(CloudAtlas),\n",
    "(LanaW)-[:DIRECTED]->(CloudAtlas),\n",
    "(DavidMitchell)-[:WROTE]->(CloudAtlas),\n",
    "(StefanArndt)-[:PRODUCED]->(CloudAtlas)\n",
    "\n",
    "CREATE (TheDaVinciCode:Movie {title:'The Da Vinci Code', released:2006, tagline:'Break The Codes'})\n",
    "CREATE (IanM:Person {name:'Ian McKellen', born:1939})\n",
    "CREATE (AudreyT:Person {name:'Audrey Tautou', born:1976})\n",
    "CREATE (PaulB:Person {name:'Paul Bettany', born:1971})\n",
    "CREATE (RonH:Person {name:'Ron Howard', born:1954})\n",
    "CREATE\n",
    "(TomH)-[:ACTED_IN {roles:['Dr. Robert Langdon']}]->(TheDaVinciCode),\n",
    "(IanM)-[:ACTED_IN {roles:['Sir Leight Teabing']}]->(TheDaVinciCode),\n",
    "(AudreyT)-[:ACTED_IN {roles:['Sophie Neveu']}]->(TheDaVinciCode),\n",
    "(PaulB)-[:ACTED_IN {roles:['Silas']}]->(TheDaVinciCode),\n",
    "(RonH)-[:DIRECTED]->(TheDaVinciCode)\n",
    "\n",
    "CREATE (VforVendetta:Movie {title:'V for Vendetta', released:2006, tagline:'Freedom! Forever!'})\n",
    "CREATE (NatalieP:Person {name:'Natalie Portman', born:1981})\n",
    "CREATE (StephenR:Person {name:'Stephen Rea', born:1946})\n",
    "CREATE (JohnH:Person {name:'John Hurt', born:1940})\n",
    "CREATE (BenM:Person {name: 'Ben Miles', born:1967})\n",
    "CREATE\n",
    "(Hugo)-[:ACTED_IN {roles:['V']}]->(VforVendetta),\n",
    "(NatalieP)-[:ACTED_IN {roles:['Evey Hammond']}]->(VforVendetta),\n",
    "(StephenR)-[:ACTED_IN {roles:['Eric Finch']}]->(VforVendetta),\n",
    "(JohnH)-[:ACTED_IN {roles:['High Chancellor Adam Sutler']}]->(VforVendetta),\n",
    "(BenM)-[:ACTED_IN {roles:['Dascomb']}]->(VforVendetta),\n",
    "(JamesM)-[:DIRECTED]->(VforVendetta),\n",
    "(LillyW)-[:PRODUCED]->(VforVendetta),\n",
    "(LanaW)-[:PRODUCED]->(VforVendetta),\n",
    "(JoelS)-[:PRODUCED]->(VforVendetta),\n",
    "(LillyW)-[:WROTE]->(VforVendetta),\n",
    "(LanaW)-[:WROTE]->(VforVendetta)\n",
    "\n",
    "CREATE (SpeedRacer:Movie {title:'Speed Racer', released:2008, tagline:'Speed has no limits'})\n",
    "CREATE (EmileH:Person {name:'Emile Hirsch', born:1985})\n",
    "CREATE (JohnG:Person {name:'John Goodman', born:1960})\n",
    "CREATE (SusanS:Person {name:'Susan Sarandon', born:1946})\n",
    "CREATE (MatthewF:Person {name:'Matthew Fox', born:1966})\n",
    "CREATE (ChristinaR:Person {name:'Christina Ricci', born:1980})\n",
    "CREATE (Rain:Person {name:'Rain', born:1982})\n",
    "CREATE\n",
    "(EmileH)-[:ACTED_IN {roles:['Speed Racer']}]->(SpeedRacer),\n",
    "(JohnG)-[:ACTED_IN {roles:['Pops']}]->(SpeedRacer),\n",
    "(SusanS)-[:ACTED_IN {roles:['Mom']}]->(SpeedRacer),\n",
    "(MatthewF)-[:ACTED_IN {roles:['Racer X']}]->(SpeedRacer),\n",
    "(ChristinaR)-[:ACTED_IN {roles:['Trixie']}]->(SpeedRacer),\n",
    "(Rain)-[:ACTED_IN {roles:['Taejo Togokahn']}]->(SpeedRacer),\n",
    "(BenM)-[:ACTED_IN {roles:['Cass Jones']}]->(SpeedRacer),\n",
    "(LillyW)-[:DIRECTED]->(SpeedRacer),\n",
    "(LanaW)-[:DIRECTED]->(SpeedRacer),\n",
    "(LillyW)-[:WROTE]->(SpeedRacer),\n",
    "(LanaW)-[:WROTE]->(SpeedRacer),\n",
    "(JoelS)-[:PRODUCED]->(SpeedRacer)\n",
    "\n",
    "CREATE (NinjaAssassin:Movie {title:'Ninja Assassin', released:2009, tagline:'Prepare to enter a secret world of assassins'})\n",
    "CREATE (NaomieH:Person {name:'Naomie Harris'})\n",
    "CREATE\n",
    "(Rain)-[:ACTED_IN {roles:['Raizo']}]->(NinjaAssassin),\n",
    "(NaomieH)-[:ACTED_IN {roles:['Mika Coretti']}]->(NinjaAssassin),\n",
    "(RickY)-[:ACTED_IN {roles:['Takeshi']}]->(NinjaAssassin),\n",
    "(BenM)-[:ACTED_IN {roles:['Ryan Maslow']}]->(NinjaAssassin),\n",
    "(JamesM)-[:DIRECTED]->(NinjaAssassin),\n",
    "(LillyW)-[:PRODUCED]->(NinjaAssassin),\n",
    "(LanaW)-[:PRODUCED]->(NinjaAssassin),\n",
    "(JoelS)-[:PRODUCED]->(NinjaAssassin)\n",
    "\n",
    "CREATE (TheGreenMile:Movie {title:'The Green Mile', released:1999, tagline:\"Walk a mile you'll never forget.\"})\n",
    "CREATE (MichaelD:Person {name:'Michael Clarke Duncan', born:1957})\n",
    "CREATE (DavidM:Person {name:'David Morse', born:1953})\n",
    "CREATE (SamR:Person {name:'Sam Rockwell', born:1968})\n",
    "CREATE (GaryS:Person {name:'Gary Sinise', born:1955})\n",
    "CREATE (PatriciaC:Person {name:'Patricia Clarkson', born:1959})\n",
    "CREATE (FrankD:Person {name:'Frank Darabont', born:1959})\n",
    "CREATE\n",
    "(TomH)-[:ACTED_IN {roles:['Paul Edgecomb']}]->(TheGreenMile),\n",
    "(MichaelD)-[:ACTED_IN {roles:['John Coffey']}]->(TheGreenMile),\n",
    "(DavidM)-[:ACTED_IN {roles:['Brutus \"Brutal\" Howell']}]->(TheGreenMile),\n",
    "(BonnieH)-[:ACTED_IN {roles:['Jan Edgecomb']}]->(TheGreenMile),\n",
    "(JamesC)-[:ACTED_IN {roles:['Warden Hal Moores']}]->(TheGreenMile),\n",
    "(SamR)-[:ACTED_IN {roles:['\"Wild Bill\" Wharton']}]->(TheGreenMile),\n",
    "(GaryS)-[:ACTED_IN {roles:['Burt Hammersmith']}]->(TheGreenMile),\n",
    "(PatriciaC)-[:ACTED_IN {roles:['Melinda Moores']}]->(TheGreenMile),\n",
    "(FrankD)-[:DIRECTED]->(TheGreenMile)\n",
    "\n",
    "CREATE (FrostNixon:Movie {title:'Frost/Nixon', released:2008, tagline:'400 million people were waiting for the truth.'})\n",
    "CREATE (FrankL:Person {name:'Frank Langella', born:1938})\n",
    "CREATE (MichaelS:Person {name:'Michael Sheen', born:1969})\n",
    "CREATE (OliverP:Person {name:'Oliver Platt', born:1960})\n",
    "CREATE\n",
    "(FrankL)-[:ACTED_IN {roles:['Richard Nixon']}]->(FrostNixon),\n",
    "(MichaelS)-[:ACTED_IN {roles:['David Frost']}]->(FrostNixon),\n",
    "(KevinB)-[:ACTED_IN {roles:['Jack Brennan']}]->(FrostNixon),\n",
    "(OliverP)-[:ACTED_IN {roles:['Bob Zelnick']}]->(FrostNixon),\n",
    "(SamR)-[:ACTED_IN {roles:['James Reston, Jr.']}]->(FrostNixon),\n",
    "(RonH)-[:DIRECTED]->(FrostNixon)\n",
    "\n",
    "CREATE (Hoffa:Movie {title:'Hoffa', released:1992, tagline:\"He didn't want law. He wanted justice.\"})\n",
    "CREATE (DannyD:Person {name:'Danny DeVito', born:1944})\n",
    "CREATE (JohnR:Person {name:'John C. Reilly', born:1965})\n",
    "CREATE\n",
    "(JackN)-[:ACTED_IN {roles:['Hoffa']}]->(Hoffa),\n",
    "(DannyD)-[:ACTED_IN {roles:['Robert \"Bobby\" Ciaro']}]->(Hoffa),\n",
    "(JTW)-[:ACTED_IN {roles:['Frank Fitzsimmons']}]->(Hoffa),\n",
    "(JohnR)-[:ACTED_IN {roles:['Peter \"Pete\" Connelly']}]->(Hoffa),\n",
    "(DannyD)-[:DIRECTED]->(Hoffa)\n",
    "\n",
    "CREATE (Apollo13:Movie {title:'Apollo 13', released:1995, tagline:'Houston, we have a problem.'})\n",
    "CREATE (EdH:Person {name:'Ed Harris', born:1950})\n",
    "CREATE (BillPax:Person {name:'Bill Paxton', born:1955})\n",
    "CREATE\n",
    "(TomH)-[:ACTED_IN {roles:['Jim Lovell']}]->(Apollo13),\n",
    "(KevinB)-[:ACTED_IN {roles:['Jack Swigert']}]->(Apollo13),\n",
    "(EdH)-[:ACTED_IN {roles:['Gene Kranz']}]->(Apollo13),\n",
    "(BillPax)-[:ACTED_IN {roles:['Fred Haise']}]->(Apollo13),\n",
    "(GaryS)-[:ACTED_IN {roles:['Ken Mattingly']}]->(Apollo13),\n",
    "(RonH)-[:DIRECTED]->(Apollo13)\n",
    "\n",
    "CREATE (Twister:Movie {title:'Twister', released:1996, tagline:\"Don't Breathe. Don't Look Back.\"})\n",
    "CREATE (PhilipH:Person {name:'Philip Seymour Hoffman', born:1967})\n",
    "CREATE (JanB:Person {name:'Jan de Bont', born:1943})\n",
    "CREATE\n",
    "(BillPax)-[:ACTED_IN {roles:['Bill Harding']}]->(Twister),\n",
    "(HelenH)-[:ACTED_IN {roles:['Dr. Jo Harding']}]->(Twister),\n",
    "(ZachG)-[:ACTED_IN {roles:['Eddie']}]->(Twister),\n",
    "(PhilipH)-[:ACTED_IN {roles:['Dustin \"Dusty\" Davis']}]->(Twister),\n",
    "(JanB)-[:DIRECTED]->(Twister)\n",
    "\n",
    "CREATE (CastAway:Movie {title:'Cast Away', released:2000, tagline:'At the edge of the world, his journey begins.'})\n",
    "CREATE (RobertZ:Person {name:'Robert Zemeckis', born:1951})\n",
    "CREATE\n",
    "(TomH)-[:ACTED_IN {roles:['Chuck Noland']}]->(CastAway),\n",
    "(HelenH)-[:ACTED_IN {roles:['Kelly Frears']}]->(CastAway),\n",
    "(RobertZ)-[:DIRECTED]->(CastAway)\n",
    "\n",
    "CREATE (OneFlewOvertheCuckoosNest:Movie {title:\"One Flew Over the Cuckoo's Nest\", released:1975, tagline:\"If he's crazy, what does that make you?\"})\n",
    "CREATE (MilosF:Person {name:'Milos Forman', born:1932})\n",
    "CREATE\n",
    "(JackN)-[:ACTED_IN {roles:['Randle McMurphy']}]->(OneFlewOvertheCuckoosNest),\n",
    "(DannyD)-[:ACTED_IN {roles:['Martini']}]->(OneFlewOvertheCuckoosNest),\n",
    "(MilosF)-[:DIRECTED]->(OneFlewOvertheCuckoosNest)\n",
    "\n",
    "CREATE (SomethingsGottaGive:Movie {title:\"Something's Gotta Give\", released:2003})\n",
    "CREATE (DianeK:Person {name:'Diane Keaton', born:1946})\n",
    "CREATE (NancyM:Person {name:'Nancy Meyers', born:1949})\n",
    "CREATE\n",
    "(JackN)-[:ACTED_IN {roles:['Harry Sanborn']}]->(SomethingsGottaGive),\n",
    "(DianeK)-[:ACTED_IN {roles:['Erica Barry']}]->(SomethingsGottaGive),\n",
    "(Keanu)-[:ACTED_IN {roles:['Julian Mercer']}]->(SomethingsGottaGive),\n",
    "(NancyM)-[:DIRECTED]->(SomethingsGottaGive),\n",
    "(NancyM)-[:PRODUCED]->(SomethingsGottaGive),\n",
    "(NancyM)-[:WROTE]->(SomethingsGottaGive)\n",
    "\n",
    "CREATE (BicentennialMan:Movie {title:'Bicentennial Man', released:1999, tagline:\"One robot's 200 year journey to become an ordinary man.\"})\n",
    "CREATE (ChrisC:Person {name:'Chris Columbus', born:1958})\n",
    "CREATE\n",
    "(Robin)-[:ACTED_IN {roles:['Andrew Marin']}]->(BicentennialMan),\n",
    "(OliverP)-[:ACTED_IN {roles:['Rupert Burns']}]->(BicentennialMan),\n",
    "(ChrisC)-[:DIRECTED]->(BicentennialMan)\n",
    "\n",
    "CREATE (CharlieWilsonsWar:Movie {title:\"Charlie Wilson's War\", released:2007, tagline:\"A stiff drink. A little mascara. A lot of nerve. Who said they couldn't bring down the Soviet empire.\"})\n",
    "CREATE (JuliaR:Person {name:'Julia Roberts', born:1967})\n",
    "CREATE\n",
    "(TomH)-[:ACTED_IN {roles:['Rep. Charlie Wilson']}]->(CharlieWilsonsWar),\n",
    "(JuliaR)-[:ACTED_IN {roles:['Joanne Herring']}]->(CharlieWilsonsWar),\n",
    "(PhilipH)-[:ACTED_IN {roles:['Gust Avrakotos']}]->(CharlieWilsonsWar),\n",
    "(MikeN)-[:DIRECTED]->(CharlieWilsonsWar)\n",
    "\n",
    "CREATE (ThePolarExpress:Movie {title:'The Polar Express', released:2004, tagline:'This Holiday Season… Believe'})\n",
    "CREATE\n",
    "(TomH)-[:ACTED_IN {roles:['Hero Boy', 'Father', 'Conductor', 'Hobo', 'Scrooge', 'Santa Claus']}]->(ThePolarExpress),\n",
    "(RobertZ)-[:DIRECTED]->(ThePolarExpress)\n",
    "\n",
    "CREATE (ALeagueofTheirOwn:Movie {title:'A League of Their Own', released:1992, tagline:'Once in a lifetime you get a chance to do something different.'})\n",
    "CREATE (Madonna:Person {name:'Madonna', born:1954})\n",
    "CREATE (GeenaD:Person {name:'Geena Davis', born:1956})\n",
    "CREATE (LoriP:Person {name:'Lori Petty', born:1963})\n",
    "CREATE (PennyM:Person {name:'Penny Marshall', born:1943})\n",
    "CREATE\n",
    "(TomH)-[:ACTED_IN {roles:['Jimmy Dugan']}]->(ALeagueofTheirOwn),\n",
    "(GeenaD)-[:ACTED_IN {roles:['Dottie Hinson']}]->(ALeagueofTheirOwn),\n",
    "(LoriP)-[:ACTED_IN {roles:['Kit Keller']}]->(ALeagueofTheirOwn),\n",
    "(RosieO)-[:ACTED_IN {roles:['Doris Murphy']}]->(ALeagueofTheirOwn),\n",
    "(Madonna)-[:ACTED_IN {roles:['\"All the Way\" Mae Mordabito']}]->(ALeagueofTheirOwn),\n",
    "(BillPax)-[:ACTED_IN {roles:['Bob Hinson']}]->(ALeagueofTheirOwn),\n",
    "(PennyM)-[:DIRECTED]->(ALeagueofTheirOwn)\n",
    "\n",
    "CREATE (PaulBlythe:Person {name:'Paul Blythe'})\n",
    "CREATE (AngelaScope:Person {name:'Angela Scope'})\n",
    "CREATE (JessicaThompson:Person {name:'Jessica Thompson'})\n",
    "CREATE (JamesThompson:Person {name:'James Thompson'})\n",
    "\n",
    "CREATE\n",
    "(JamesThompson)-[:FOLLOWS]->(JessicaThompson),\n",
    "(AngelaScope)-[:FOLLOWS]->(JessicaThompson),\n",
    "(PaulBlythe)-[:FOLLOWS]->(AngelaScope)\n",
    "\n",
    "CREATE\n",
    "(JessicaThompson)-[:REVIEWED {summary:'An amazing journey', rating:95}]->(CloudAtlas),\n",
    "(JessicaThompson)-[:REVIEWED {summary:'Silly, but fun', rating:65}]->(TheReplacements),\n",
    "(JamesThompson)-[:REVIEWED {summary:'The coolest football movie ever', rating:100}]->(TheReplacements),\n",
    "(AngelaScope)-[:REVIEWED {summary:'Pretty funny at times', rating:62}]->(TheReplacements),\n",
    "(JessicaThompson)-[:REVIEWED {summary:'Dark, but compelling', rating:85}]->(Unforgiven),\n",
    "(JessicaThompson)-[:REVIEWED {summary:\"Slapstick redeemed only by the Robin Williams and Gene Hackman's stellar performances\", rating:45}]->(TheBirdcage),\n",
    "(JessicaThompson)-[:REVIEWED {summary:'A solid romp', rating:68}]->(TheDaVinciCode),\n",
    "(JamesThompson)-[:REVIEWED {summary:'Fun, but a little far fetched', rating:65}]->(TheDaVinciCode),\n",
    "(JessicaThompson)-[:REVIEWED {summary:'You had me at Jerry', rating:92}]->(JerryMaguire)\n",
    "\n",
    "WITH TomH as a\n",
    "MATCH (a)-[:ACTED_IN]->(m)<-[:DIRECTED]-(d) RETURN a,m,d LIMIT 10;\"\"\""
   ]
  },
  {
   "cell_type": "markdown",
   "metadata": {
    "colab_type": "text",
    "id": "Yv7A7G4D1jrm"
   },
   "source": [
    "## Using py2neo "
   ]
  },
  {
   "cell_type": "code",
   "execution_count": null,
   "metadata": {
    "colab": {},
    "colab_type": "code",
    "id": "PKLY1n-S1jrn"
   },
   "outputs": [],
   "source": [
    "import py2neo"
   ]
  },
  {
   "cell_type": "code",
   "execution_count": null,
   "metadata": {
    "colab": {},
    "colab_type": "code",
    "id": "tAJaNyQb1jrp",
    "outputId": "d5c97697-471a-4716-bdbc-2e2c34fb3136"
   },
   "outputs": [
    {
     "data": {
      "text/plain": [
       "'4.3.0'"
      ]
     },
     "execution_count": 2,
     "metadata": {
      "tags": []
     },
     "output_type": "execute_result"
    }
   ],
   "source": [
    "py2neo.__version__"
   ]
  },
  {
   "cell_type": "markdown",
   "metadata": {
    "colab_type": "text",
    "id": "NF0r_dS_1jrr"
   },
   "source": [
    "Considering the `movies` dataset already persisted in the Neo4j (type `:play movies` for more), we want to replicate the following query using `py2neo`'s API"
   ]
  },
  {
   "cell_type": "markdown",
   "metadata": {
    "colab_type": "text",
    "id": "WorVCnLV1jrs"
   },
   "source": [
    "```cypher\n",
    "MATCH (tom {name: \"Tom Hanks\"}) RETURN tom\n",
    "```"
   ]
  },
  {
   "cell_type": "code",
   "execution_count": null,
   "metadata": {
    "colab": {},
    "colab_type": "code",
    "id": "hSO_GFpv1jrt"
   },
   "outputs": [],
   "source": [
    "from py2neo.data import Node, Relationship\n",
    "tom = Node(\"Person\", name=\"Tom Hanks\")"
   ]
  },
  {
   "cell_type": "code",
   "execution_count": null,
   "metadata": {
    "colab": {},
    "colab_type": "code",
    "id": "E6z8CUzl1jrw",
    "outputId": "6fa043b9-d879-4691-da15-5a538a3dab56"
   },
   "outputs": [
    {
     "data": {
      "text/plain": [
       "(:Person {name: 'Tom Hanks'})"
      ]
     },
     "execution_count": 5,
     "metadata": {
      "tags": []
     },
     "output_type": "execute_result"
    }
   ],
   "source": [
    "tom"
   ]
  },
  {
   "cell_type": "code",
   "execution_count": null,
   "metadata": {
    "colab": {},
    "colab_type": "code",
    "id": "20Y-kHiL1jrz",
    "outputId": "bc09fbc3-588c-4026-f34f-c62dc118602b"
   },
   "outputs": [
    {
     "data": {
      "text/plain": [
       "py2neo.data.Node"
      ]
     },
     "execution_count": 6,
     "metadata": {
      "tags": []
     },
     "output_type": "execute_result"
    }
   ],
   "source": [
    "type(tom)"
   ]
  },
  {
   "cell_type": "code",
   "execution_count": null,
   "metadata": {
    "colab": {},
    "colab_type": "code",
    "id": "4W9gWGOf1jr1",
    "outputId": "7347ba1b-3d69-4d88-c5d9-f352b99bf599"
   },
   "outputs": [
    {
     "data": {
      "text/plain": [
       "{'_remote_labels': frozenset(),\n",
       " '_labels': {'Person'},\n",
       " '_Walkable__sequence': ((:Person {name: 'Tom Hanks'}),),\n",
       " '_Subgraph__nodes': frozenset({(:Person {name: 'Tom Hanks'})}),\n",
       " '_Subgraph__relationships': frozenset(),\n",
       " '__uuid__': '32b51a6d-67eb-40a8-8f15-06542c412ec7',\n",
       " '_stale': set()}"
      ]
     },
     "execution_count": 10,
     "metadata": {
      "tags": []
     },
     "output_type": "execute_result"
    }
   ],
   "source": [
    "vars(tom)"
   ]
  },
  {
   "cell_type": "code",
   "execution_count": null,
   "metadata": {
    "colab": {},
    "colab_type": "code",
    "id": "fdVJnN-L1jr3",
    "outputId": "450f221b-998f-4c96-bb59-ae5714a26273"
   },
   "outputs": [
    {
     "data": {
      "text/plain": [
       "'Tom Hanks'"
      ]
     },
     "execution_count": 11,
     "metadata": {
      "tags": []
     },
     "output_type": "execute_result"
    }
   ],
   "source": [
    "tom[\"name\"]"
   ]
  },
  {
   "cell_type": "code",
   "execution_count": null,
   "metadata": {
    "colab": {},
    "colab_type": "code",
    "id": "F3lf_pOr1jr5",
    "outputId": "84c43db5-0795-41e8-f731-2beddbba182b"
   },
   "outputs": [
    {
     "data": {
      "text/plain": [
       ":Person"
      ]
     },
     "execution_count": 22,
     "metadata": {
      "tags": []
     },
     "output_type": "execute_result"
    }
   ],
   "source": [
    "tom.labels"
   ]
  },
  {
   "cell_type": "code",
   "execution_count": null,
   "metadata": {
    "colab": {},
    "colab_type": "code",
    "id": "xLm_KS-d1jr9",
    "outputId": "e5c8e908-19ef-446d-d995-5fb35b6829d3"
   },
   "outputs": [
    {
     "data": {
      "text/plain": [
       "frozenset()"
      ]
     },
     "execution_count": 24,
     "metadata": {
      "tags": []
     },
     "output_type": "execute_result"
    }
   ],
   "source": [
    "tom.types()"
   ]
  },
  {
   "cell_type": "code",
   "execution_count": null,
   "metadata": {
    "colab": {},
    "colab_type": "code",
    "id": "stW9UBi11jr_"
   },
   "outputs": [],
   "source": [
    "from py2neo import Graph"
   ]
  },
  {
   "cell_type": "code",
   "execution_count": null,
   "metadata": {
    "colab": {},
    "colab_type": "code",
    "id": "qaBh9fTJ1jsB",
    "outputId": "c50e7629-d009-4611-da86-1201396c8c80"
   },
   "outputs": [
    {
     "data": {
      "text/plain": [
       "\u001b[0;31mInit signature:\u001b[0m \u001b[0mGraph\u001b[0m\u001b[0;34m(\u001b[0m\u001b[0muri\u001b[0m\u001b[0;34m=\u001b[0m\u001b[0;32mNone\u001b[0m\u001b[0;34m,\u001b[0m \u001b[0;34m**\u001b[0m\u001b[0msettings\u001b[0m\u001b[0;34m)\u001b[0m\u001b[0;34m\u001b[0m\u001b[0;34m\u001b[0m\u001b[0m\n",
       "\u001b[0;31mDocstring:\u001b[0m     \n",
       "The `Graph` class represents the graph data storage space within\n",
       "a Neo4j graph database. Connection details are provided using URIs\n",
       "and/or individual settings.\n",
       "\n",
       "Supported URI schemes are:\n",
       "\n",
       "- ``http``\n",
       "- ``https``\n",
       "- ``bolt``\n",
       "\n",
       "The full set of supported `settings` are:\n",
       "\n",
       "===================  ========================================================  ==============  =========================\n",
       "Keyword              Description                                               Type            Default\n",
       "===================  ========================================================  ==============  =========================\n",
       "``auth``             A 2-tuple of (user, password)                             tuple           ``('neo4j', 'password')``\n",
       "``host``             Database server host name                                 str             ``'localhost'``\n",
       "``password``         Password to use for authentication                        str             ``'password'``\n",
       "``port``             Database server port                                      int             ``7687``\n",
       "``scheme``           Use a specific URI scheme                                 str             ``'bolt'``\n",
       "``secure``           Use a secure connection (TLS)                             bool            ``False``\n",
       "``user``             User to authenticate as                                   str             ``'neo4j'``\n",
       "``user_agent``       User agent to send for all connections                    str             `(depends on URI scheme)`\n",
       "``max_connections``  The maximum number of simultaneous connections permitted  int             40\n",
       "===================  ========================================================  ==============  =========================\n",
       "\n",
       "Each setting can be provided as a keyword argument or as part of\n",
       "an ``http:``, ``https:`` or ``bolt:`` URI. Therefore, the examples\n",
       "below are equivalent::\n",
       "\n",
       "    >>> from py2neo import Graph\n",
       "    >>> graph_1 = Graph()\n",
       "    >>> graph_2 = Graph(host=\"localhost\")\n",
       "    >>> graph_3 = Graph(\"bolt://localhost:7687\")\n",
       "\n",
       "Once obtained, the `Graph` instance provides direct or indirect\n",
       "access to most of the functionality available within py2neo.\n",
       "\n",
       "Note that py2neo does not support routing with a Neo4j causal cluster\n",
       "(bolt+routing). For this functionality, please use the official Neo4j\n",
       "Driver for Python.\n",
       "\u001b[0;31mFile:\u001b[0m           ~/.pyenv/versions/3.7.4/envs/od/lib/python3.7/site-packages/py2neo/database.py\n",
       "\u001b[0;31mType:\u001b[0m           type\n",
       "\u001b[0;31mSubclasses:\u001b[0m     \n"
      ]
     },
     "metadata": {
      "tags": []
     },
     "output_type": "display_data"
    }
   ],
   "source": [
    "Graph?"
   ]
  },
  {
   "cell_type": "code",
   "execution_count": null,
   "metadata": {
    "colab": {},
    "colab_type": "code",
    "id": "W4Ejuu8G1jsE"
   },
   "outputs": [],
   "source": [
    "graph = Graph(uri=NEO4J_URI, user=NEO4J_USERNAME, password=NEO4J_PASSWORD)"
   ]
  },
  {
   "cell_type": "code",
   "execution_count": null,
   "metadata": {
    "colab": {},
    "colab_type": "code",
    "id": "JpfmZQM21jsH",
    "outputId": "d9aa2cf1-c26d-4b20-df81-bb89088e824a"
   },
   "outputs": [
    {
     "data": {
      "text/html": [
       "<table><tr><th>n</th><th>n_sq</th></tr><tr><td style=\"text-align:right\">1</td><td style=\"text-align:right\">1</td></tr><tr><td style=\"text-align:right\">2</td><td style=\"text-align:right\">4</td></tr><tr><td style=\"text-align:right\">3</td><td style=\"text-align:right\">9</td></tr></table>"
      ],
      "text/plain": [
       " n | n_sq \n",
       "---|------\n",
       " 1 |    1 \n",
       " 2 |    4 \n",
       " 3 |    9 "
      ]
     },
     "execution_count": 31,
     "metadata": {
      "tags": []
     },
     "output_type": "execute_result"
    }
   ],
   "source": [
    "graph.run(\"UNWIND range(1, 3) AS n RETURN n, n * n as n_sq\").to_table()"
   ]
  },
  {
   "cell_type": "code",
   "execution_count": null,
   "metadata": {
    "colab": {},
    "colab_type": "code",
    "id": "ThVG_6Ir1jsM",
    "outputId": "cf0e67a4-be84-4512-9810-ed38c5096486"
   },
   "outputs": [
    {
     "data": {
      "text/plain": [
       "171"
      ]
     },
     "execution_count": 38,
     "metadata": {
      "tags": []
     },
     "output_type": "execute_result"
    }
   ],
   "source": [
    "len(graph.nodes)"
   ]
  },
  {
   "cell_type": "code",
   "execution_count": null,
   "metadata": {
    "colab": {},
    "colab_type": "code",
    "id": "Dfn-3Ln51jsO",
    "outputId": "36c424a8-4342-40e2-f885-442fce3ab235"
   },
   "outputs": [
    {
     "data": {
      "text/plain": [
       "[(Keanu Reeves)-[:ACTED_IN {roles: ['Julian Mercer']}]->(_185),\n",
       " (Keanu Reeves)-[:ACTED_IN {roles: ['Shane Falco']}]->(_118),\n",
       " (Keanu Reeves)-[:ACTED_IN {roles: ['Johnny Mnemonic']}]->(_131),\n",
       " (Keanu Reeves)-[:ACTED_IN {roles: ['Kevin Lomax']}]->(_11),\n",
       " (Keanu Reeves)-[:ACTED_IN {roles: ['Neo']}]->(_10)]"
      ]
     },
     "execution_count": 41,
     "metadata": {
      "tags": []
     },
     "output_type": "execute_result"
    }
   ],
   "source": [
    "list(graph.match())[:5]"
   ]
  },
  {
   "cell_type": "code",
   "execution_count": null,
   "metadata": {
    "colab": {},
    "colab_type": "code",
    "id": "S5foUML-1jsQ",
    "outputId": "f9d6193a-4525-4ac3-e88e-c000deb871fa"
   },
   "outputs": [
    {
     "data": {
      "text/plain": [
       "<Database uri='bolt://localhost:7687' secure=False user_agent='py2neo/4.3.0 neobolt/1.7.16 Python/3.7.4-final-0 (linux)'>"
      ]
     },
     "execution_count": 44,
     "metadata": {
      "tags": []
     },
     "output_type": "execute_result"
    }
   ],
   "source": [
    "graph.database"
   ]
  },
  {
   "cell_type": "code",
   "execution_count": null,
   "metadata": {
    "colab": {},
    "colab_type": "code",
    "id": "oK-oQ_721jsS",
    "outputId": "4f49d5e0-dd0e-41ee-f551-e93352d25b2e"
   },
   "outputs": [
    {
     "data": {
      "text/plain": [
       "(_102:Person {born: 1956, name: 'Tom Hanks'})"
      ]
     },
     "execution_count": 45,
     "metadata": {
      "tags": []
     },
     "output_type": "execute_result"
    }
   ],
   "source": [
    "graph.evaluate('MATCH (tom {name: \"Tom Hanks\"}) RETURN tom')"
   ]
  },
  {
   "cell_type": "code",
   "execution_count": null,
   "metadata": {
    "colab": {},
    "colab_type": "code",
    "id": "JfYcEQZh1jsW",
    "outputId": "f22de78a-0ca1-47fc-9923-624d179eec21"
   },
   "outputs": [
    {
     "data": {
      "text/plain": [
       "(_1:Person {born: 1964, name: 'Keanu Reeves'})"
      ]
     },
     "execution_count": 61,
     "metadata": {
      "tags": []
     },
     "output_type": "execute_result"
    }
   ],
   "source": [
    "graph.nodes.match(\"Person\", name=\"Keanu Reeves\").first()"
   ]
  },
  {
   "cell_type": "code",
   "execution_count": null,
   "metadata": {
    "colab": {},
    "colab_type": "code",
    "id": "tltf5opn1jsY",
    "outputId": "9ee652b6-c603-4e56-8d66-e6c6e0c4fe75"
   },
   "outputs": [
    {
     "data": {
      "text/plain": [
       "(_102:Person {born: 1956, name: 'Tom Hanks'})"
      ]
     },
     "execution_count": 63,
     "metadata": {
      "tags": []
     },
     "output_type": "execute_result"
    }
   ],
   "source": [
    "graph.nodes.match(\"Person\", name=\"Tom Hanks\").first()"
   ]
  },
  {
   "cell_type": "code",
   "execution_count": null,
   "metadata": {
    "colab": {},
    "colab_type": "code",
    "id": "Gb7Jvv301jsb"
   },
   "outputs": [],
   "source": [
    "from py2neo import Graph, NodeMatcher\n",
    "matcher = NodeMatcher(graph)"
   ]
  },
  {
   "cell_type": "code",
   "execution_count": null,
   "metadata": {
    "colab": {},
    "colab_type": "code",
    "id": "7X5f204P1jse",
    "outputId": "02c961c1-9785-478a-e3bd-88e52e00e926"
   },
   "outputs": [
    {
     "data": {
      "text/plain": [
       "(_102:Person {born: 1956, name: 'Tom Hanks'})"
      ]
     },
     "execution_count": 122,
     "metadata": {
      "tags": []
     },
     "output_type": "execute_result"
    }
   ],
   "source": [
    "matcher.match(name=\"Tom Hanks\").first()"
   ]
  },
  {
   "cell_type": "code",
   "execution_count": null,
   "metadata": {
    "colab": {},
    "colab_type": "code",
    "id": "NHmOzL-G1jsg",
    "outputId": "8f15a369-d445-4309-c819-1d21309798d0"
   },
   "outputs": [
    {
     "ename": "AttributeError",
     "evalue": "'Graph' object has no attribute 'find'",
     "output_type": "error",
     "traceback": [
      "\u001b[0;31m---------------------------------------------------------------------------\u001b[0m",
      "\u001b[0;31mAttributeError\u001b[0m                            Traceback (most recent call last)",
      "\u001b[0;32m<ipython-input-126-75d41cb52dfc>\u001b[0m in \u001b[0;36m<module>\u001b[0;34m\u001b[0m\n\u001b[0;32m----> 1\u001b[0;31m \u001b[0mlist\u001b[0m\u001b[0;34m(\u001b[0m\u001b[0mgraph\u001b[0m\u001b[0;34m.\u001b[0m\u001b[0mfind\u001b[0m\u001b[0;34m(\u001b[0m\u001b[0;34m(\u001b[0m\u001b[0mtom\u001b[0m\u001b[0;34m,\u001b[0m \u001b[0;34m)\u001b[0m\u001b[0;34m)\u001b[0m\u001b[0;34m)\u001b[0m\u001b[0;34m\u001b[0m\u001b[0;34m\u001b[0m\u001b[0m\n\u001b[0m",
      "\u001b[0;31mAttributeError\u001b[0m: 'Graph' object has no attribute 'find'"
     ]
    }
   ],
   "source": []
  },
  {
   "cell_type": "markdown",
   "metadata": {
    "colab_type": "text",
    "id": "zwXZtvI41jsj"
   },
   "source": [
    "### Using the OGM"
   ]
  },
  {
   "cell_type": "code",
   "execution_count": null,
   "metadata": {
    "colab": {},
    "colab_type": "code",
    "id": "suilcuMO1jsj",
    "outputId": "360c36e7-589b-43b9-9350-a1101f16f150"
   },
   "outputs": [
    {
     "data": {
      "text/plain": [
       "['Keanu Reeves',\n",
       " 'Carrie-Anne Moss',\n",
       " 'Laurence Fishburne',\n",
       " 'Hugo Weaving',\n",
       " 'Lilly Wachowski']"
      ]
     },
     "execution_count": 76,
     "metadata": {
      "tags": []
     },
     "output_type": "execute_result"
    }
   ],
   "source": [
    "from py2neo.ogm import GraphObject, Property\n",
    "\n",
    "class Person(GraphObject):\n",
    "    name = Property()\n",
    "\n",
    "[(a.name) for a in Person.match(graph).limit(5)]"
   ]
  },
  {
   "cell_type": "code",
   "execution_count": null,
   "metadata": {
    "colab": {},
    "colab_type": "code",
    "id": "ApS2djGn1jsn"
   },
   "outputs": [],
   "source": [
    "# for the movie dataset\n",
    "from py2neo.ogm import GraphObject, Property, RelatedFrom, RelatedTo\n",
    "\n",
    "class Movie(GraphObject):\n",
    "    __primarykey__ = \"title\"\n",
    "\n",
    "    title = Property()\n",
    "    tag_line = Property(\"tagline\")\n",
    "    released = Property()\n",
    "\n",
    "    actors = RelatedFrom(\"Person\", \"ACTED_IN\")\n",
    "    directors = RelatedFrom(\"Person\", \"DIRECTED\")\n",
    "    producers = RelatedFrom(\"Person\", \"PRODUCED\")\n",
    "\n",
    "    \n",
    "class Person(GraphObject):\n",
    "    __primarykey__ = \"name\"\n",
    "\n",
    "    name = Property()\n",
    "    born = Property()\n",
    "\n",
    "    acted_in = RelatedTo(Movie)\n",
    "    directed = RelatedTo(Movie)\n",
    "    produced = RelatedTo(Movie)"
   ]
  },
  {
   "cell_type": "code",
   "execution_count": null,
   "metadata": {
    "colab": {},
    "colab_type": "code",
    "id": "qTL25pq61jsp"
   },
   "outputs": [],
   "source": [
    "with graph.begin() as tx:\n",
    "    tx.create(tom)"
   ]
  },
  {
   "cell_type": "code",
   "execution_count": null,
   "metadata": {
    "colab": {},
    "colab_type": "code",
    "id": "9QcAkeFU1jss",
    "outputId": "5f37267d-bfd8-4908-901c-f5f0f38b4689"
   },
   "outputs": [
    {
     "data": {
      "text/plain": [
       "True"
      ]
     },
     "execution_count": 133,
     "metadata": {
      "tags": []
     },
     "output_type": "execute_result"
    }
   ],
   "source": [
    "# example about commits\n",
    "from py2neo import Graph, Node, Relationship\n",
    "g = graph\n",
    "tx = g.begin()\n",
    "a = Node(\"Person\", name=\"Alice\")\n",
    "tx.create(a)\n",
    "b = Node(\"Person\", name=\"Bob\")\n",
    "ab = Relationship(a, \"KNOWS\", b)\n",
    "tx.create(ab)\n",
    "tx.commit()\n",
    "g.exists(ab)"
   ]
  },
  {
   "cell_type": "code",
   "execution_count": null,
   "metadata": {
    "colab": {},
    "colab_type": "code",
    "id": "_1uP2oDS1jsu",
    "outputId": "526754bd-4a34-4458-f681-cfa90cda50a7"
   },
   "outputs": [
    {
     "data": {
      "text/plain": [
       "{'_remote_labels': frozenset({'Person'}),\n",
       " '_labels': {'Person'},\n",
       " '_Walkable__sequence': ((_241:Person {name: 'Alice'}),),\n",
       " '_Subgraph__nodes': frozenset({(_241:Person {name: 'Alice'})}),\n",
       " '_Subgraph__relationships': frozenset(),\n",
       " '__uuid__': '2b9443e3-b4a9-47a5-a04b-59441c590afe',\n",
       " '_stale': set(),\n",
       " 'graph': <Graph database=<Database uri='bolt://localhost:7687' secure=False user_agent='py2neo/4.3.0 neobolt/1.7.16 Python/3.7.4-final-0 (linux)'> name='data'>,\n",
       " 'identity': 241}"
      ]
     },
     "execution_count": 134,
     "metadata": {
      "tags": []
     },
     "output_type": "execute_result"
    }
   ],
   "source": [
    "vars(a)"
   ]
  },
  {
   "cell_type": "code",
   "execution_count": null,
   "metadata": {
    "colab": {},
    "colab_type": "code",
    "id": "IQAJZKL31jsx",
    "outputId": "65485440-c223-48c7-fbe3-9b458485c10d"
   },
   "outputs": [
    {
     "data": {
      "text/plain": [
       ":Person"
      ]
     },
     "execution_count": 135,
     "metadata": {
      "tags": []
     },
     "output_type": "execute_result"
    }
   ],
   "source": [
    "a.labels"
   ]
  }
 ],
 "metadata": {
  "colab": {
   "name": "neo4jdrivers-playground.ipynb",
   "provenance": [],
   "toc_visible": true
  },
  "kernelspec": {
   "display_name": "Python 3",
   "language": "python",
   "name": "python3"
  },
  "language_info": {
   "codemirror_mode": {
    "name": "ipython",
    "version": 3
   },
   "file_extension": ".py",
   "mimetype": "text/x-python",
   "name": "python",
   "nbconvert_exporter": "python",
   "pygments_lexer": "ipython3",
   "version": "3.7.4"
  }
 },
 "nbformat": 4,
 "nbformat_minor": 4
}
