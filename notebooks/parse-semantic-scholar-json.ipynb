{
 "cells": [
  {
   "cell_type": "code",
   "execution_count": 3,
   "metadata": {},
   "outputs": [
    {
     "data": {
      "text/plain": [
       "'3.7.4 (default, Oct 15 2019, 22:29:14) \\n[GCC 7.4.0]'"
      ]
     },
     "execution_count": 3,
     "metadata": {},
     "output_type": "execute_result"
    }
   ],
   "source": [
    "import sys\n",
    "import json\n",
    "import random\n",
    "sys.version"
   ]
  },
  {
   "cell_type": "code",
   "execution_count": 6,
   "metadata": {},
   "outputs": [],
   "source": [
    "from py2neo import Graph\n",
    "from neo4j import GraphDatabase\n",
    "NEO4J_URI=\"bolt://localhost:7687\"\n",
    "SC_JSON = \"semantic-scholar-raw/s2-corpus-slim.json\"\n",
    "SC_JSON_GITHUB = \"https://raw.githubusercontent.com/diegoquintanav/od-lab-1/master/notebooks/semantic-scholar-raw/s2-corpus-slim.json\"\n",
    "\n",
    "graph = Graph(NEO4J_URI)\n",
    "gdb = GraphDatabase.driver(uri=NEO4J_URI, auth=None)"
   ]
  },
  {
   "cell_type": "code",
   "execution_count": 7,
   "metadata": {},
   "outputs": [],
   "source": [
    "from faker import Faker\n",
    "from faker.providers import lorem\n",
    "fake = Faker()\n",
    "fake.seed_instance(42)\n",
    "fake.add_provider(lorem)"
   ]
  },
  {
   "cell_type": "markdown",
   "metadata": {},
   "source": [
    "http://s2-public-api-prod.us-west-2.elasticbeanstalk.com/corpus/"
   ]
  },
  {
   "cell_type": "markdown",
   "metadata": {},
   "source": [
    "Download a part of the corpus with the `aws` command line interface, like\n",
    "\n",
    "```aws s3 cp --no-sign-request s3://ai2-s2-research-public/open-corpus/2018-05-03/s2-corpus-00.gz .```\n",
    "\n",
    "or\n",
    "\n",
    "```wget https://s3-us-west-2.amazonaws.com/ai2-s2-research-public/open-corpus/2018-05-03/s2-corpus-00.gz```\n",
    "\n",
    "And then `gunzip` it."
   ]
  },
  {
   "cell_type": "code",
   "execution_count": 31,
   "metadata": {},
   "outputs": [
    {
     "name": "stdout",
     "output_type": "stream",
     "text": [
      "license.txt   s2-corpus-00\t    s2-corpus-clean.tmp\n",
      "manifest.txt  s2-corpus-clean.json  s2-corpus-slim.json\n"
     ]
    }
   ],
   "source": [
    "!ls semantic-scholar-raw/"
   ]
  },
  {
   "cell_type": "code",
   "execution_count": 32,
   "metadata": {},
   "outputs": [
    {
     "name": "stdout",
     "output_type": "stream",
     "text": [
      "1000000 semantic-scholar-raw/s2-corpus-00\n"
     ]
    }
   ],
   "source": [
    "!wc -l semantic-scholar-raw/s2-corpus-00"
   ]
  },
  {
   "cell_type": "markdown",
   "metadata": {},
   "source": [
    "Filter out those lines that have empty entities, empty inCitations, and empty outCitations"
   ]
  },
  {
   "cell_type": "code",
   "execution_count": 23,
   "metadata": {},
   "outputs": [
    {
     "name": "stdout",
     "output_type": "stream",
     "text": [
      "212901 semantic-scholar-raw/s2-corpus-clean.tmp\n"
     ]
    }
   ],
   "source": [
    "!grep -v -e '\"entities\":\\[\\]' -e '\"inCitations\":\\[\\]' -e '\"outCitations\":\\[\\]' semantic-scholar-raw/s2-corpus-00 > semantic-scholar-raw/s2-corpus-clean.tmp\n",
    "!wc -l semantic-scholar-raw/s2-corpus-clean.tmp"
   ]
  },
  {
   "cell_type": "markdown",
   "metadata": {},
   "source": [
    "Filter out those rows with empty attributes"
   ]
  },
  {
   "cell_type": "code",
   "execution_count": 28,
   "metadata": {},
   "outputs": [
    {
     "name": "stdout",
     "output_type": "stream",
     "text": [
      "86609 semantic-scholar-raw/s2-corpus-clean.json\n"
     ]
    }
   ],
   "source": [
    "!grep -v -e '\"journalName\":\"\"' -e '\"title\":\"\"' -e '\"journalVolume\":\"\"' -e '\"id\":\"\"' -e '\"ids\":\"\"' -e '\"doi\":\"\"' -e '\"doiUrl\":\"\"' semantic-scholar-raw/s2-corpus-clean.tmp > semantic-scholar-raw/s2-corpus-clean.json\n",
    "!wc -l semantic-scholar-raw/s2-corpus-clean.json"
   ]
  },
  {
   "cell_type": "markdown",
   "metadata": {},
   "source": [
    "Obtain a smaller sample from that data"
   ]
  },
  {
   "cell_type": "code",
   "execution_count": 29,
   "metadata": {},
   "outputs": [],
   "source": [
    "!head -100 semantic-scholar-raw/s2-corpus-clean.json > semantic-scholar-raw/s2-corpus-slim.json"
   ]
  },
  {
   "cell_type": "code",
   "execution_count": 27,
   "metadata": {},
   "outputs": [
    {
     "name": "stdout",
     "output_type": "stream",
     "text": [
      "\u001b[1;39m{\n",
      "  \u001b[0m\u001b[34;1m\"entities\"\u001b[0m\u001b[1;39m: \u001b[0m\u001b[1;39m[\n",
      "    \u001b[0;32m\"Eating\"\u001b[0m\u001b[1;39m,\n",
      "    \u001b[0;32m\"Ethanol\"\u001b[0m\u001b[1;39m,\n",
      "    \u001b[0;32m\"Isopropyl Alcohol 0.7 ML/ML Medicated Pad\"\u001b[0m\u001b[1;39m\n",
      "  \u001b[1;39m]\u001b[0m\u001b[1;39m,\n",
      "  \u001b[0m\u001b[34;1m\"journalVolume\"\u001b[0m\u001b[1;39m: \u001b[0m\u001b[0;32m\"31 4\"\u001b[0m\u001b[1;39m,\n",
      "  \u001b[0m\u001b[34;1m\"journalPages\"\u001b[0m\u001b[1;39m: \u001b[0m\u001b[0;32m\"385-8\"\u001b[0m\u001b[1;39m,\n",
      "  \u001b[0m\u001b[34;1m\"pmid\"\u001b[0m\u001b[1;39m: \u001b[0m\u001b[0;32m\"8879286v1\"\u001b[0m\u001b[1;39m,\n",
      "  \u001b[0m\u001b[34;1m\"year\"\u001b[0m\u001b[1;39m: \u001b[0m\u001b[0;39m1996\u001b[0m\u001b[1;39m,\n",
      "  \u001b[0m\u001b[34;1m\"outCitations\"\u001b[0m\u001b[1;39m: \u001b[0m\u001b[1;39m[\n",
      "    \u001b[0;32m\"40bb6636803d10626bfafa3dbf940fdac903d11c\"\u001b[0m\u001b[1;39m,\n",
      "    \u001b[0;32m\"18ffb4ae9e0d8f0c43342c4c6b993f3ce34bd579\"\u001b[0m\u001b[1;39m,\n",
      "    \u001b[0;32m\"827b793fbc923d3e068b2008dc02bb63e7069fb9\"\u001b[0m\u001b[1;39m,\n",
      "    \u001b[0;32m\"b96cb6dd0bba1e9928eb6315e18339f667c6799f\"\u001b[0m\u001b[1;39m,\n",
      "    \u001b[0;32m\"48431576480666445bdcb112533aa885d4ac1ad1\"\u001b[0m\u001b[1;39m,\n",
      "    \u001b[0;32m\"1380d901dbce2dca8eba90501179485d4fe1e5d4\"\u001b[0m\u001b[1;39m,\n",
      "    \u001b[0;32m\"4203ad4dc8530a92473e5576650eca84b51c9eee\"\u001b[0m\u001b[1;39m,\n",
      "    \u001b[0;32m\"96b85a405b002e11199f967280ec9a9736543c86\"\u001b[0m\u001b[1;39m,\n",
      "    \u001b[0;32m\"8d72d01b1b670c7bb65408e91d1705f0c95b1174\"\u001b[0m\u001b[1;39m,\n",
      "    \u001b[0;32m\"7842615744a118a2d4a239787e9450c26c98c9f9\"\u001b[0m\u001b[1;39m,\n",
      "    \u001b[0;32m\"6ed7439f9537fce3f82144843622b9c670a95d7e\"\u001b[0m\u001b[1;39m,\n",
      "    \u001b[0;32m\"55787878e91f6efdf14e16438e733d80581f3bec\"\u001b[0m\u001b[1;39m,\n",
      "    \u001b[0;32m\"e28468ccfa0ddce1d060d39d25305f6abab2eced\"\u001b[0m\u001b[1;39m,\n",
      "    \u001b[0;32m\"5f6ba13f126408d25849c518bddf4812281ae970\"\u001b[0m\u001b[1;39m\n",
      "  \u001b[1;39m]\u001b[0m\u001b[1;39m,\n",
      "  \u001b[0m\u001b[34;1m\"s2Url\"\u001b[0m\u001b[1;39m: \u001b[0m\u001b[0;32m\"https://semanticscholar.org/paper/30aaf92bde9bf6cdc3dff237691fd5db55d4cb4a\"\u001b[0m\u001b[1;39m,\n",
      "  \u001b[0m\u001b[34;1m\"s2PdfUrl\"\u001b[0m\u001b[1;39m: \u001b[0m\u001b[0;32m\"http://pdfs.semanticscholar.org/30aa/f92bde9bf6cdc3dff237691fd5db55d4cb4a.pdf\"\u001b[0m\u001b[1;39m,\n",
      "  \u001b[0m\u001b[34;1m\"id\"\u001b[0m\u001b[1;39m: \u001b[0m\u001b[0;32m\"30aaf92bde9bf6cdc3dff237691fd5db55d4cb4a\"\u001b[0m\u001b[1;39m,\n",
      "  \u001b[0m\u001b[34;1m\"authors\"\u001b[0m\u001b[1;39m: \u001b[0m\u001b[1;39m[\n",
      "    \u001b[1;39m{\n",
      "      \u001b[0m\u001b[34;1m\"name\"\u001b[0m\u001b[1;39m: \u001b[0m\u001b[0;32m\"R Agabio\"\u001b[0m\u001b[1;39m,\n",
      "      \u001b[0m\u001b[34;1m\"ids\"\u001b[0m\u001b[1;39m: \u001b[0m\u001b[1;39m[\n",
      "        \u001b[0;32m\"3776873\"\u001b[0m\u001b[1;39m\n",
      "      \u001b[1;39m]\u001b[0m\u001b[1;39m\n",
      "    \u001b[1;39m}\u001b[0m\u001b[1;39m,\n",
      "    \u001b[1;39m{\n",
      "      \u001b[0m\u001b[34;1m\"name\"\u001b[0m\u001b[1;39m: \u001b[0m\u001b[0;32m\"G Cortis\"\u001b[0m\u001b[1;39m,\n",
      "      \u001b[0m\u001b[34;1m\"ids\"\u001b[0m\u001b[1;39m: \u001b[0m\u001b[1;39m[\n",
      "        \u001b[0;32m\"5235644\"\u001b[0m\u001b[1;39m\n",
      "      \u001b[1;39m]\u001b[0m\u001b[1;39m\n",
      "    \u001b[1;39m}\u001b[0m\u001b[1;39m,\n",
      "    \u001b[1;39m{\n",
      "      \u001b[0m\u001b[34;1m\"name\"\u001b[0m\u001b[1;39m: \u001b[0m\u001b[0;32m\"F Fadda\"\u001b[0m\u001b[1;39m,\n",
      "      \u001b[0m\u001b[34;1m\"ids\"\u001b[0m\u001b[1;39m: \u001b[0m\u001b[1;39m[\n",
      "        \u001b[0;32m\"6725894\"\u001b[0m\u001b[1;39m\n",
      "      \u001b[1;39m]\u001b[0m\u001b[1;39m\n",
      "    \u001b[1;39m}\u001b[0m\u001b[1;39m,\n",
      "    \u001b[1;39m{\n",
      "      \u001b[0m\u001b[34;1m\"name\"\u001b[0m\u001b[1;39m: \u001b[0m\u001b[0;32m\"G L Gessa\"\u001b[0m\u001b[1;39m,\n",
      "      \u001b[0m\u001b[34;1m\"ids\"\u001b[0m\u001b[1;39m: \u001b[0m\u001b[1;39m[\n",
      "        \u001b[0;32m\"5758225\"\u001b[0m\u001b[1;39m\n",
      "      \u001b[1;39m]\u001b[0m\u001b[1;39m\n",
      "    \u001b[1;39m}\u001b[0m\u001b[1;39m,\n",
      "    \u001b[1;39m{\n",
      "      \u001b[0m\u001b[34;1m\"name\"\u001b[0m\u001b[1;39m: \u001b[0m\u001b[0;32m\"C Lobina\"\u001b[0m\u001b[1;39m,\n",
      "      \u001b[0m\u001b[34;1m\"ids\"\u001b[0m\u001b[1;39m: \u001b[0m\u001b[1;39m[\n",
      "        \u001b[0;32m\"5639930\"\u001b[0m\u001b[1;39m\n",
      "      \u001b[1;39m]\u001b[0m\u001b[1;39m\n",
      "    \u001b[1;39m}\u001b[0m\u001b[1;39m,\n",
      "    \u001b[1;39m{\n",
      "      \u001b[0m\u001b[34;1m\"name\"\u001b[0m\u001b[1;39m: \u001b[0m\u001b[0;32m\"R Reali\"\u001b[0m\u001b[1;39m,\n",
      "      \u001b[0m\u001b[34;1m\"ids\"\u001b[0m\u001b[1;39m: \u001b[0m\u001b[1;39m[\n",
      "        \u001b[0;32m\"6727309\"\u001b[0m\u001b[1;39m\n",
      "      \u001b[1;39m]\u001b[0m\u001b[1;39m\n",
      "    \u001b[1;39m}\u001b[0m\u001b[1;39m,\n",
      "    \u001b[1;39m{\n",
      "      \u001b[0m\u001b[34;1m\"name\"\u001b[0m\u001b[1;39m: \u001b[0m\u001b[0;32m\"G Colombo\"\u001b[0m\u001b[1;39m,\n",
      "      \u001b[0m\u001b[34;1m\"ids\"\u001b[0m\u001b[1;39m: \u001b[0m\u001b[1;39m[\n",
      "        \u001b[0;32m\"1781764\"\u001b[0m\u001b[1;39m\n",
      "      \u001b[1;39m]\u001b[0m\u001b[1;39m\n",
      "    \u001b[1;39m}\u001b[0m\u001b[1;39m\n",
      "  \u001b[1;39m]\u001b[0m\u001b[1;39m,\n",
      "  \u001b[0m\u001b[34;1m\"journalName\"\u001b[0m\u001b[1;39m: \u001b[0m\u001b[0;32m\"Alcohol and alcoholism\"\u001b[0m\u001b[1;39m,\n",
      "  \u001b[0m\u001b[34;1m\"paperAbstract\"\u001b[0m\u001b[1;39m: \u001b[0m\u001b[0;32m\"The present study was designed to assess the temporal pattern of ethanol intake over a 24 h period in selectively bred, Sardinian alcohol-preferring (sP) rats. Ethanol intake occurred under the two-bottle, free choice regimen. sP rats consumed ethanol in three distinct peaks, rather regularly distributed over the 12 h dark phase of the light-dark cycle and positively correlated with food intake episodes. The temporal distribution of ethanol intake and estimated blood alcohol levels are consistent with the hypothesis that sP rats voluntarily drink ethanol for its pharmacological effects.\"\u001b[0m\u001b[1;39m,\n",
      "  \u001b[0m\u001b[34;1m\"inCitations\"\u001b[0m\u001b[1;39m: \u001b[0m\u001b[1;39m[\n",
      "    \u001b[0;32m\"7f17780491b74f08b3b6fb603014835e74ecfdd3\"\u001b[0m\u001b[1;39m,\n",
      "    \u001b[0;32m\"9e2664ede0d21990f25b7682f023bc11e79e89b9\"\u001b[0m\u001b[1;39m,\n",
      "    \u001b[0;32m\"1dbf8f6f64447b6f311031a14a7b99e43fb51f44\"\u001b[0m\u001b[1;39m,\n",
      "    \u001b[0;32m\"842707e424ae0e2beda89c8847ce7c0fafa60b92\"\u001b[0m\u001b[1;39m,\n",
      "    \u001b[0;32m\"a0711d2594d6e72cab32493b7cdcd2ee130bb03c\"\u001b[0m\u001b[1;39m,\n",
      "    \u001b[0;32m\"4748549512f89669d054b00981176a3f48e292ae\"\u001b[0m\u001b[1;39m,\n",
      "    \u001b[0;32m\"3efe115783f39ec3f72355f98dda2b2a18cd3517\"\u001b[0m\u001b[1;39m,\n",
      "    \u001b[0;32m\"71a20f517662f6e194fab5bd1d99aa8defd7b541\"\u001b[0m\u001b[1;39m,\n",
      "    \u001b[0;32m\"23ad61bfcd6140650ac8241fc2ac6b1030521012\"\u001b[0m\u001b[1;39m,\n",
      "    \u001b[0;32m\"c607e9b564744620eb822294780aa7ea85b91052\"\u001b[0m\u001b[1;39m,\n",
      "    \u001b[0;32m\"e59f964b461d1f4e8cdab48aedb49f9abe3e9434\"\u001b[0m\u001b[1;39m,\n",
      "    \u001b[0;32m\"08c2bbd496dc7d640bbb2cce96e3921cc491f64f\"\u001b[0m\u001b[1;39m,\n",
      "    \u001b[0;32m\"785c43394f31d8094a574a5bcc272c0c0863202b\"\u001b[0m\u001b[1;39m,\n",
      "    \u001b[0;32m\"e13e2677f71454805f4c7776493fbbaeb771c1bb\"\u001b[0m\u001b[1;39m,\n",
      "    \u001b[0;32m\"81227dd79170471be2f4b92e96cf146ff1a43296\"\u001b[0m\u001b[1;39m,\n",
      "    \u001b[0;32m\"7f05bfd9b1d62a185b6640f8b25014c343f2ad4d\"\u001b[0m\u001b[1;39m,\n",
      "    \u001b[0;32m\"93b6026f46435f64d87beaef5d7a81228909d073\"\u001b[0m\u001b[1;39m\n",
      "  \u001b[1;39m]\u001b[0m\u001b[1;39m,\n",
      "  \u001b[0m\u001b[34;1m\"pdfUrls\"\u001b[0m\u001b[1;39m: \u001b[0m\u001b[1;39m[\n",
      "    \u001b[0;32m\"http://alcalc.oxfordjournals.org/content/31/4/385.full.pdf\"\u001b[0m\u001b[1;39m\n",
      "  \u001b[1;39m]\u001b[0m\u001b[1;39m,\n",
      "  \u001b[0m\u001b[34;1m\"title\"\u001b[0m\u001b[1;39m: \u001b[0m\u001b[0;32m\"Circadian drinking pattern of Sardinian alcohol-preferring rats.\"\u001b[0m\u001b[1;39m,\n",
      "  \u001b[0m\u001b[34;1m\"doi\"\u001b[0m\u001b[1;39m: \u001b[0m\u001b[0;32m\"\"\u001b[0m\u001b[1;39m,\n",
      "  \u001b[0m\u001b[34;1m\"sources\"\u001b[0m\u001b[1;39m: \u001b[0m\u001b[1;39m[\n",
      "    \u001b[0;32m\"Medline\"\u001b[0m\u001b[1;39m\n",
      "  \u001b[1;39m]\u001b[0m\u001b[1;39m,\n",
      "  \u001b[0m\u001b[34;1m\"doiUrl\"\u001b[0m\u001b[1;39m: \u001b[0m\u001b[0;32m\"\"\u001b[0m\u001b[1;39m,\n",
      "  \u001b[0m\u001b[34;1m\"venue\"\u001b[0m\u001b[1;39m: \u001b[0m\u001b[0;32m\"Alcohol and alcoholism\"\u001b[0m\u001b[1;39m\n",
      "\u001b[1;39m}\u001b[0m\n"
     ]
    }
   ],
   "source": [
    "!head -1 semantic-scholar-raw/s2-corpus-slim.json | jq"
   ]
  },
  {
   "cell_type": "markdown",
   "metadata": {},
   "source": [
    "The final modified JSON is accesible now from github"
   ]
  },
  {
   "cell_type": "code",
   "execution_count": 72,
   "metadata": {},
   "outputs": [],
   "source": [
    "myjson = \"https://raw.githubusercontent.com/diegoquintanav/od-lab-1/master/notebooks/semantic-scholar-raw/s2-corpus-slim.json\""
   ]
  },
  {
   "cell_type": "markdown",
   "metadata": {},
   "source": [
    "## A.2 Loading"
   ]
  },
  {
   "cell_type": "code",
   "execution_count": 191,
   "metadata": {},
   "outputs": [
    {
     "data": {
      "text/plain": [
       "constraints_added: 0\n",
       "constraints_removed: 0\n",
       "contained_updates: True\n",
       "indexes_added: 0\n",
       "indexes_removed: 0\n",
       "labels_added: 0\n",
       "labels_removed: 0\n",
       "nodes_created: 0\n",
       "nodes_deleted: 3150\n",
       "properties_set: 0\n",
       "relationships_created: 0\n",
       "relationships_deleted: 8766"
      ]
     },
     "execution_count": 191,
     "metadata": {},
     "output_type": "execute_result"
    }
   ],
   "source": [
    "graph.run(\"MATCH (n) DETACH DELETE n\").stats()"
   ]
  },
  {
   "cell_type": "markdown",
   "metadata": {},
   "source": [
    "We will be using apoc (https://github.com/neo4j-contrib/neo4j-apoc-procedures)"
   ]
  },
  {
   "cell_type": "code",
   "execution_count": 166,
   "metadata": {},
   "outputs": [
    {
     "data": {
      "text/plain": [
       "[{'apoc.version()': '3.5.0.9'}]"
      ]
     },
     "execution_count": 166,
     "metadata": {},
     "output_type": "execute_result"
    }
   ],
   "source": [
    "graph.run(\"RETURN apoc.version();\").data()"
   ]
  },
  {
   "cell_type": "code",
   "execution_count": 167,
   "metadata": {},
   "outputs": [
    {
     "data": {
      "text/plain": [
       "[{'name': 'Neo4j Kernel', 'version': '3.5.15', 'edition': 'enterprise'}]"
      ]
     },
     "execution_count": 167,
     "metadata": {},
     "output_type": "execute_result"
    }
   ],
   "source": [
    "graph.run(\"call dbms.components() yield name, versions, edition unwind versions as version return name, version, edition;\").data()"
   ]
  },
  {
   "cell_type": "code",
   "execution_count": 168,
   "metadata": {},
   "outputs": [
    {
     "data": {
      "text/plain": [
       "[{'value': {'doiUrl': 'https://doi.org/10.1007/BF02270828',\n",
       "   'venue': 'Evolutionary Ecology',\n",
       "   'journalName': 'Evolutionary Ecology',\n",
       "   'sources': [],\n",
       "   'year': 2005,\n",
       "   'paperAbstract': 'I compare the relationship between bill size (depth) and body size among different taxa of seed-eating finches to test the hypothesis (Schluter, 1988a) that in habitats where seed-eating finches are vulnerable to predators, finches have larger bodies relative to their bill size. In support of this hypothesis, ground-foraging finches on continents (Emberizidae, Passeridae, Fringillidae), where predators are more common, have larger bodies relative to their bill sizes than do ground-foraging finches on islands (Emberizidae, Fringillidae). Ground-feeding finches on continents may also be more vulnerable to predators than tree- and shrub-foraging finches. As predicted, in North America, ground-feeding finches (Emberizinae) have larger bodies relative to their bill size than do tree- and shrub-foraging finches (Carduelinae). As a consequence of increased body size relative to bill size, both the range of possible bill sizes and potential seed sizes that can be eaten are reduced. Moreover, increased metabolic demands caused by larger body size may lessen the ability to specialize on a few seed types. These two factors reduce the potential for seed size partitioning. Consequently, vulnerability to predators may limit, and is inversely correlated with, seed size partitioning in seed-eating finch communities. The extent to which predation has influenced other bird communities may be considerable, and the patterns found by Schluter (1988a) and in this study indicate that future ecomorphological studies, especially on species that spend much of the day foraging, might profit by considering predator vulnerability as well as foraging behaviour.',\n",
       "   'inCitations': ['b7b8b66f09d6f5d3336fa3533c58d9eb400918d8'],\n",
       "   'pmid': '',\n",
       "   'title': 'Predation, seed size partitioning and the evolution of body size in seed-eating finches',\n",
       "   'journalPages': '118-127',\n",
       "   's2PdfUrl': '',\n",
       "   'pdfUrls': ['http://www.uwyo.edu/benkman/pdfs%20of%20papers/benkman_1991.pdf'],\n",
       "   'entities': ['Body Dysmorphic Disorders',\n",
       "    'Body Size',\n",
       "    'Emberizinae',\n",
       "    'Fax',\n",
       "    'Finch',\n",
       "    'Finches',\n",
       "    'Habitat',\n",
       "    'Human body',\n",
       "    'Macaca fascicularis',\n",
       "    'Metabolic Process, Cellular',\n",
       "    'Passeridae',\n",
       "    'Seed'],\n",
       "   'journalVolume': '5',\n",
       "   'outCitations': ['12e268546ec7e708cc5168c5b7fa5be22db4b112',\n",
       "    '2263dcd0aa898d88da9a6b2abdd8483ed13771f1',\n",
       "    '3bcf91b36f43158e207cbc49b83f7708eca4180c',\n",
       "    '1608f296e8f062b7c5d4f4fa0791a40f7a95c8e9',\n",
       "    'f2a7a2475fa2daed316cd5036d0b4ecac65c09f7',\n",
       "    'd9031216a4c5558464acb4ce3e85acc15f915a91',\n",
       "    '3beb3aec7c237a2525e68471e7e9cd9f570b6be0',\n",
       "    '01cf174de93a53adeb242321ca48f104a14d925a',\n",
       "    '03b0277d3dc3516ce586b2c94cc29355f5687e33',\n",
       "    '1b8f6e0ae731d4ccfaeaf1619ca0bfc5ae5cfde8'],\n",
       "   'id': 'ed6f7f0d65f4c8bde43f13667c406ff3403f9814',\n",
       "   's2Url': 'https://semanticscholar.org/paper/ed6f7f0d65f4c8bde43f13667c406ff3403f9814',\n",
       "   'authors': [{'name': 'Craig W. Benkman', 'ids': ['3902390']}],\n",
       "   'doi': '10.1007/BF02270828'}}]"
      ]
     },
     "execution_count": 168,
     "metadata": {},
     "output_type": "execute_result"
    }
   ],
   "source": [
    "query = \"\"\"\n",
    "WITH $myjson AS url \n",
    "CALL apoc.load.json(url) \n",
    "YIELD value \n",
    "RETURN value \n",
    "LIMIT 1\"\"\"\n",
    "\n",
    "graph.run(query, myjson = myjson).data()"
   ]
  },
  {
   "cell_type": "markdown",
   "metadata": {},
   "source": [
    "Here, `\"myjson\"` is an alias for the path to the file, located in github"
   ]
  },
  {
   "cell_type": "markdown",
   "metadata": {},
   "source": [
    "### Create Article instances"
   ]
  },
  {
   "cell_type": "code",
   "execution_count": 197,
   "metadata": {},
   "outputs": [
    {
     "data": {
      "text/plain": [
       "constraints_added: 0\n",
       "constraints_removed: 0\n",
       "contained_updates: True\n",
       "indexes_added: 0\n",
       "indexes_removed: 0\n",
       "labels_added: 1998\n",
       "labels_removed: 0\n",
       "nodes_created: 1998\n",
       "nodes_deleted: 0\n",
       "properties_set: 3089\n",
       "relationships_created: 1898\n",
       "relationships_deleted: 0"
      ]
     },
     "execution_count": 197,
     "metadata": {},
     "output_type": "execute_result"
    }
   ],
   "source": [
    "query_apoc = \"\"\"WITH $myjson AS url \n",
    "CALL apoc.load.json(url) \n",
    "YIELD value as row\n",
    "MERGE (art:Article {\n",
    "        title: row.title,\n",
    "        id: row.id, doi: \n",
    "        row.doi, \n",
    "        doi_url:row.doiUrl,\n",
    "        year: row.year})\n",
    "MERGE (art)-[:PUBLISHED_IN {pages: row.journalPages}]->(vol:Volume {volume: row.journalVolume, year: row.year})-[:OF]->(jour:Journal {\n",
    "            name: row.journalName})\n",
    "FOREACH (author in row.authors |\n",
    "    MERGE (auth:Author {name: author.name, id: author.ids})-[:AUTHORS]->(art)\n",
    ")\n",
    "FOREACH (k in row.entities |\n",
    "    MERGE (art)-[:CONTAINS]->(kw: Keyword {name: k}))\"\"\"\n",
    "\n",
    "graph.run(query_apoc, myjson = myjson).stats()"
   ]
  },
  {
   "cell_type": "markdown",
   "metadata": {},
   "source": [
    "Some data is left to be simulated"
   ]
  },
  {
   "cell_type": "markdown",
   "metadata": {},
   "source": [
    "### Faking citations"
   ]
  },
  {
   "cell_type": "code",
   "execution_count": 198,
   "metadata": {},
   "outputs": [
    {
     "data": {
      "text/plain": [
       "['ed6f7f0d65f4c8bde43f13667c406ff3403f9814',\n",
       " 'bfea5a8c0ed0bc15ff8365e39c8035f7eb7f50d3',\n",
       " 'b8be59215c7f983bd1e3fbfc65e441c3ac2c618d',\n",
       " '36efcd42e8fbe18e0e1baf6c2696e2971aee78b2',\n",
       " '864ca4044d2ebf88ae4bf45df730f571039488b3']"
      ]
     },
     "execution_count": 198,
     "metadata": {},
     "output_type": "execute_result"
    }
   ],
   "source": [
    "q_article_ids = \"MATCH (n:Article) RETURN n.id\"\n",
    "article_ids = [v[\"n.id\"] for v in graph.run(q_article_ids).data()]\n",
    "n_articles = len(article_ids)\n",
    "article_ids[:5]"
   ]
  },
  {
   "cell_type": "code",
   "execution_count": 199,
   "metadata": {},
   "outputs": [],
   "source": [
    "# https://neo4j.com/docs/driver-manual/1.7/sessions-transactions/#driver-transactions-transaction-functions\n",
    "q_add_citation_rel_id = \"\"\"MATCH (a:Article),(b:Article)\n",
    "WHERE a.id = $id_a AND b.id = $id_b\n",
    "MERGE p=(a)-[r:CITED_BY]->(b)\n",
    "RETURN p\"\"\"\n",
    "\n",
    "def add_citation_rel(driver, id_a, id_b):\n",
    "    with driver.session() as session:\n",
    "        # Caller for transactional unit of work\n",
    "        return session.write_transaction(create_citation_rel, id_a, id_b)\n",
    "\n",
    "# Simple implementation of the unit of work\n",
    "def create_citation_rel(tx, id_a, id_b):\n",
    "    return tx.run(q_add_citation_rel_id, id_a=id_a, id_b = id_b)"
   ]
  },
  {
   "cell_type": "markdown",
   "metadata": {},
   "source": [
    "Add 500 relationships of type `cited_by`"
   ]
  },
  {
   "cell_type": "code",
   "execution_count": 200,
   "metadata": {},
   "outputs": [
    {
     "name": "stdout",
     "output_type": "stream",
     "text": [
      "Skipping:  ed6f7f0d65f4c8bde43f13667c406ff3403f9814 ed6f7f0d65f4c8bde43f13667c406ff3403f9814\n",
      "Skipping:  ed26a77ce2ffaa0ea2edd17afdd52f5642574b6f ed26a77ce2ffaa0ea2edd17afdd52f5642574b6f\n",
      "Skipping:  f0888ca406fc5ea91e8d0212052b781b8a930cf3 f0888ca406fc5ea91e8d0212052b781b8a930cf3\n",
      "Skipping:  0d890bec1cf9adedbe8683e0f7b7ec208cb35ed3 0d890bec1cf9adedbe8683e0f7b7ec208cb35ed3\n",
      "Skipping:  acaa12d900e5a682f399162091845f8ad47a03f4 acaa12d900e5a682f399162091845f8ad47a03f4\n",
      "Skipping:  b67f04742496fb29ebc02de237b6fa039efcae4b b67f04742496fb29ebc02de237b6fa039efcae4b\n",
      "Skipping:  b4253ff9f61743fab39342cb4e47b6f9b88e004c b4253ff9f61743fab39342cb4e47b6f9b88e004c\n",
      "Skipping:  a17699a73ac3c6dc8bcec10ecc420857d88eb632 a17699a73ac3c6dc8bcec10ecc420857d88eb632\n",
      "Skipping:  a09c196f66e8b5f44a7b734862a2a00e66d079a5 a09c196f66e8b5f44a7b734862a2a00e66d079a5\n",
      "Skipping:  9df19587849ca5cd98e43b6072aaa122efb5a29f 9df19587849ca5cd98e43b6072aaa122efb5a29f\n",
      "Skipping:  11781ea072a749847253639a9903e8b796d51e54 11781ea072a749847253639a9903e8b796d51e54\n",
      "Skipping:  c5530c42f7783edbf44854de2b5f1c82b6c28bf7 c5530c42f7783edbf44854de2b5f1c82b6c28bf7\n",
      "Skipping:  40ee9c895397af6326cbcf97f6448c8419940074 40ee9c895397af6326cbcf97f6448c8419940074\n",
      "Skipping:  ea4d7b1168128acbd3c4f2a990fae09a7526a6d2 ea4d7b1168128acbd3c4f2a990fae09a7526a6d2\n",
      "Skipping:  ba41fce57a3f01724d255b489759d2332943c865 ba41fce57a3f01724d255b489759d2332943c865\n",
      "Skipping:  ba530799050f96c5ceb76eff2ba6a241df0cdf0b ba530799050f96c5ceb76eff2ba6a241df0cdf0b\n",
      "Skipping:  a15e904d4c44b9d2e7fc733307664a5faa5f7a93 a15e904d4c44b9d2e7fc733307664a5faa5f7a93\n",
      "Skipping:  665c0f7c26ba4c5b99fea43ac85509200a76dfe8 665c0f7c26ba4c5b99fea43ac85509200a76dfe8\n",
      "Skipping:  f6e0ef66d2a61f595a9481c964a7b6d8b8c9954b f6e0ef66d2a61f595a9481c964a7b6d8b8c9954b\n",
      "Skipping:  6d246d9ffb02ada8a3e3b4dc11cd14bd36468290 6d246d9ffb02ada8a3e3b4dc11cd14bd36468290\n",
      "Skipping:  7f332daa1c7f6556c2094af68c512fa532349ec1 7f332daa1c7f6556c2094af68c512fa532349ec1\n",
      "Skipping:  f832cb5a2e43832edc0ab395c757a133e0994fae f832cb5a2e43832edc0ab395c757a133e0994fae\n",
      "Skipping:  1f208e6cba1570030c11bedc0fa0465b613ec0f7 1f208e6cba1570030c11bedc0fa0465b613ec0f7\n",
      "Skipping:  0640d73669a32710123c539876393677872c7918 0640d73669a32710123c539876393677872c7918\n",
      "Skipping:  ad2927cbb1245540b8bb2c55d08e29c25cc11e76 ad2927cbb1245540b8bb2c55d08e29c25cc11e76\n",
      "Skipping:  a227eb8781e527afd5cb795ecf1de214fc7351fd a227eb8781e527afd5cb795ecf1de214fc7351fd\n",
      "Skipping:  d5535a9cf734f134dda26619a3ac09025463f90f d5535a9cf734f134dda26619a3ac09025463f90f\n"
     ]
    },
    {
     "data": {
      "text/plain": [
       "[[{'p': <Path start=<Node id=26133 labels={'Article'} properties={'doi_url': 'https://doi.org/10.1007/BF02270828', 'id': 'ed6f7f0d65f4c8bde43f13667c406ff3403f9814', 'title': 'Predation, seed size partitioning and the evolution of body size in seed-eating finches', 'year': 2005, 'doi': '10.1007/BF02270828'}> end=<Node id=26336 labels={'Article'} properties={'doi_url': 'https://doi.org/10.1109/TSMCC.2005.848191', 'id': '02fc5fada3a31fc2b128b4784fd2e8c8a75b8b08', 'title': 'An adaptive multimodal biometric management algorithm', 'year': 2005, 'doi': '10.1109/TSMCC.2005.848191'}> size=1>}],\n",
       " [{'p': <Path start=<Node id=26133 labels={'Article'} properties={'doi_url': 'https://doi.org/10.1007/BF02270828', 'id': 'ed6f7f0d65f4c8bde43f13667c406ff3403f9814', 'title': 'Predation, seed size partitioning and the evolution of body size in seed-eating finches', 'year': 2005, 'doi': '10.1007/BF02270828'}> end=<Node id=26204 labels={'Article'} properties={'doi_url': 'https://doi.org/10.1007/s00439-003-1056-8', 'id': '36efcd42e8fbe18e0e1baf6c2696e2971aee78b2', 'title': 'Apolipoprotein B-100 XbaI gene polymorphism in gallbladder cancer', 'year': 2003, 'doi': '10.1007/s00439-003-1056-8'}> size=1>}],\n",
       " [{'p': <Path start=<Node id=26133 labels={'Article'} properties={'doi_url': 'https://doi.org/10.1007/BF02270828', 'id': 'ed6f7f0d65f4c8bde43f13667c406ff3403f9814', 'title': 'Predation, seed size partitioning and the evolution of body size in seed-eating finches', 'year': 2005, 'doi': '10.1007/BF02270828'}> end=<Node id=27618 labels={'Article'} properties={'doi_url': 'https://doi.org/10.1016/j.acvd.2008.09.009', 'id': '0640d73669a32710123c539876393677872c7918', 'title': 'Quantification of mitral-valve regurgitation in a paediatric population by real-time three-dimensional echocardiography.', 'year': 2008, 'doi': '10.1016/j.acvd.2008.09.009'}> size=1>}],\n",
       " [{'p': <Path start=<Node id=26133 labels={'Article'} properties={'doi_url': 'https://doi.org/10.1007/BF02270828', 'id': 'ed6f7f0d65f4c8bde43f13667c406ff3403f9814', 'title': 'Predation, seed size partitioning and the evolution of body size in seed-eating finches', 'year': 2005, 'doi': '10.1007/BF02270828'}> end=<Node id=26736 labels={'Article'} properties={'doi_url': 'https://doi.org/10.1016/j.ajem.2015.04.003', 'id': 'eded0a1a0ff476c57fc3058ac893489c8e08415e', 'title': 'Cardiac arrest due to airway obstruction in hereditary angioedema.', 'year': 2015, 'doi': '10.1016/j.ajem.2015.04.003'}> size=1>}],\n",
       " [{'p': <Path start=<Node id=26133 labels={'Article'} properties={'doi_url': 'https://doi.org/10.1007/BF02270828', 'id': 'ed6f7f0d65f4c8bde43f13667c406ff3403f9814', 'title': 'Predation, seed size partitioning and the evolution of body size in seed-eating finches', 'year': 2005, 'doi': '10.1007/BF02270828'}> end=<Node id=26625 labels={'Article'} properties={'doi_url': 'https://doi.org/10.1093/toxsci/kfr250', 'id': '421da3edd7d840ce58b811d2ad62dac3dafc7663', 'title': 'Evaluation of novel high-throughput embryonic stem cell tests with new molecular markers for screening embryotoxic chemicals in vitro.', 'year': 2011, 'doi': '10.1093/toxsci/kfr250'}> size=1>}]]"
      ]
     },
     "execution_count": 200,
     "metadata": {},
     "output_type": "execute_result"
    }
   ],
   "source": [
    "random.seed(42)\n",
    "# pick a sample of 500 papers, and make them be cited by other three papers at random\n",
    "created_citations = []\n",
    "\n",
    "for article in article_ids:\n",
    "    for citation in random.sample(article_ids, random.randint(5, 50)):\n",
    "        if article != citation: # they can't cite themselves\n",
    "            _out = add_citation_rel(gdb, id_a=article, id_b=citation)\n",
    "            created_citations.append(_out.data())\n",
    "        else:\n",
    "            print(\"Skipping: \", article, citation)\n",
    "\n",
    "created_citations[:5]"
   ]
  },
  {
   "cell_type": "markdown",
   "metadata": {},
   "source": [
    "### Faking reviewers "
   ]
  },
  {
   "cell_type": "markdown",
   "metadata": {},
   "source": [
    "We will create a `REVIEWS` relationship between authors and articles"
   ]
  },
  {
   "cell_type": "code",
   "execution_count": 201,
   "metadata": {},
   "outputs": [
    {
     "data": {
      "text/plain": [
       "constraints_added: 0\n",
       "constraints_removed: 0\n",
       "contained_updates: False\n",
       "indexes_added: 0\n",
       "indexes_removed: 0\n",
       "labels_added: 0\n",
       "labels_removed: 0\n",
       "nodes_created: 0\n",
       "nodes_deleted: 0\n",
       "properties_set: 0\n",
       "relationships_created: 0\n",
       "relationships_deleted: 0"
      ]
     },
     "execution_count": 201,
     "metadata": {},
     "output_type": "execute_result"
    }
   ],
   "source": [
    "# delete relationships\n",
    "graph.run(\"MATCH p=(:Author)-[r:REVIEWS]->(:Article) DELETE r RETURN COUNT(r)\").stats()"
   ]
  },
  {
   "cell_type": "code",
   "execution_count": 202,
   "metadata": {},
   "outputs": [
    {
     "data": {
      "text/plain": [
       "[['21471045'], ['21685210'], ['21131969'], ['6569619'], ['5194599']]"
      ]
     },
     "execution_count": 202,
     "metadata": {},
     "output_type": "execute_result"
    }
   ],
   "source": [
    "q_author_ids = \"MATCH (n:Author) RETURN n.id\"\n",
    "author_ids = [v[\"n.id\"] for v in graph.run(q_author_ids).data()]    \n",
    "author_ids[:5]"
   ]
  },
  {
   "cell_type": "markdown",
   "metadata": {},
   "source": [
    "#### Assign reviewers randomly to 1000 articles\n"
   ]
  },
  {
   "cell_type": "code",
   "execution_count": 203,
   "metadata": {},
   "outputs": [
    {
     "data": {
      "text/plain": [
       "[[{'p': (Christoph Vauth)-[:REVIEWS {}]->(_26133)}],\n",
       " [{'p': (Serhan Karvar)-[:REVIEWS {}]->(_26133)}],\n",
       " [{'p': (Heinz Künzle)-[:REVIEWS {}]->(_26186)}],\n",
       " [{'p': (Angel Gomez-Sacristan)-[:REVIEWS {}]->(_26186)}],\n",
       " [{'p': (Yi Liu)-[:REVIEWS {}]->(_26186)}]]"
      ]
     },
     "execution_count": 203,
     "metadata": {},
     "output_type": "execute_result"
    }
   ],
   "source": [
    "# assign reviewers randomly to 1000 articles\n",
    "random.seed(42)\n",
    "\n",
    "q_add_reviewers = \"\"\"MATCH (a:Article),(b:Author)\n",
    "WHERE a.id = $article_id AND b.id = $author_id\n",
    "AND NOT (b)-[:AUTHORS]->(a)\n",
    "MERGE p=(b)-[:REVIEWS]->(a)\n",
    "RETURN p\"\"\"\n",
    "\n",
    "created_review_rel = []\n",
    "\n",
    "with gdb.session() as session:\n",
    "    for article_id in article_ids:\n",
    "        for author_id in random.sample(author_ids, random.choice([2, 6])):\n",
    "            _out = graph.run(q_add_reviewers, article_id=article_id, author_id=author_id)\n",
    "            created_review_rel.append(_out.data())\n",
    "            \n",
    "created_review_rel[:5]"
   ]
  },
  {
   "cell_type": "markdown",
   "metadata": {},
   "source": [
    "### Fake conferences and editions"
   ]
  },
  {
   "cell_type": "code",
   "execution_count": 204,
   "metadata": {},
   "outputs": [
    {
     "data": {
      "text/plain": [
       "[{'deleted_conferences': 0}]"
      ]
     },
     "execution_count": 204,
     "metadata": {},
     "output_type": "execute_result"
    }
   ],
   "source": [
    "# delete conference and editions\n",
    "graph.run(\"MATCH (n:Conference) DETACH DELETE n RETURN COUNT(n) as deleted_conferences\").data()"
   ]
  },
  {
   "cell_type": "code",
   "execution_count": 205,
   "metadata": {},
   "outputs": [
    {
     "data": {
      "text/plain": [
       "[{'deleted_editions': 0}]"
      ]
     },
     "execution_count": 205,
     "metadata": {},
     "output_type": "execute_result"
    }
   ],
   "source": [
    "graph.run(\"MATCH (n:Edition) DETACH DELETE n RETURN COUNT(n) as deleted_editions\").data()\n"
   ]
  },
  {
   "cell_type": "markdown",
   "metadata": {},
   "source": [
    "We will fake 600 editions, distributed between 100 conferences"
   ]
  },
  {
   "cell_type": "code",
   "execution_count": 206,
   "metadata": {},
   "outputs": [
    {
     "data": {
      "text/plain": [
       "[{'id': 1,\n",
       "  'name': 'Donna Salazar',\n",
       "  'editions': [{'id': 26,\n",
       "    'venue': 'Samantha Edwards',\n",
       "    'city': 'North Sandra',\n",
       "    'year': '1986'},\n",
       "   {'id': 282,\n",
       "    'venue': 'Douglas Berry',\n",
       "    'city': 'New Williamfort',\n",
       "    'year': '1984'},\n",
       "   {'id': 251,\n",
       "    'venue': 'Richard Brown',\n",
       "    'city': 'Michelleside',\n",
       "    'year': '1987'},\n",
       "   {'id': 229,\n",
       "    'venue': 'Nicholas Griffith',\n",
       "    'city': 'Cantrellburgh',\n",
       "    'year': '2004'},\n",
       "   {'id': 143,\n",
       "    'venue': 'Elizabeth Howell',\n",
       "    'city': 'Smithbury',\n",
       "    'year': '2005'},\n",
       "   {'id': 105,\n",
       "    'venue': 'Andrea Cline',\n",
       "    'city': 'South Thomas',\n",
       "    'year': '1984'},\n",
       "   {'id': 559,\n",
       "    'venue': 'Kristina Chavez',\n",
       "    'city': 'Ryanbury',\n",
       "    'year': '2003'}]},\n",
       " {'id': 2,\n",
       "  'name': 'Richard Conley',\n",
       "  'editions': [{'id': 433,\n",
       "    'venue': 'Amber Rivera',\n",
       "    'city': 'Jenniferfurt',\n",
       "    'year': '2013'},\n",
       "   {'id': 33,\n",
       "    'venue': 'Bradley Moon',\n",
       "    'city': 'North Amandaview',\n",
       "    'year': '1984'},\n",
       "   {'id': 31,\n",
       "    'venue': 'Denise Reyes',\n",
       "    'city': 'New Nataliehaven',\n",
       "    'year': '2012'},\n",
       "   {'id': 96,\n",
       "    'venue': 'Elizabeth Hull',\n",
       "    'city': 'Lake Jasonhaven',\n",
       "    'year': '2018'},\n",
       "   {'id': 224, 'venue': 'Jeremy Jones', 'city': 'Jamesfort', 'year': '1980'},\n",
       "   {'id': 239,\n",
       "    'venue': 'Lisa Berger',\n",
       "    'city': 'South Timothyville',\n",
       "    'year': '1972'}]}]"
      ]
     },
     "execution_count": 206,
     "metadata": {},
     "output_type": "execute_result"
    }
   ],
   "source": [
    "random.seed(42)\n",
    "N_CONFERENCES = 100\n",
    "\n",
    "fake_conferences = [{\n",
    "    \"id\": idx, \n",
    "    \"name\": fake.name()}\n",
    "    for idx, _ in enumerate(range(100), start=1)]\n",
    "\n",
    "fake_editions = [\n",
    "    {\n",
    "        \"id\": idx, \n",
    "        \"venue\": fake.name(),\n",
    "        \"city\": fake.city(),\n",
    "        \"year\": fake.year()}\n",
    "    for idx, _ in enumerate(range(600), start=1)]\n",
    "\n",
    "# assign 4 to 20 editions to each conference\n",
    "for conference in fake_conferences:\n",
    "    conference[\"editions\"] = []\n",
    "    for edition in random.sample(fake_editions, random.randint(4, 20)):\n",
    "        conference[\"editions\"].append(edition)\n",
    "\n",
    "fake_conferences[:2]"
   ]
  },
  {
   "cell_type": "code",
   "execution_count": 207,
   "metadata": {},
   "outputs": [],
   "source": [
    "q_create_conference = \"MERGE (c:Conference {id: $cid, name: $name}) RETURN c\"\n",
    "q_create_edition = \"MERGE (e:Edition {id: $eid, conference_id: $cid, venue: $venue, city: $city, year: $year}) RETURN e\"\n",
    "\n",
    "\n",
    "q_merge_conference_and_edition = \"\"\"MATCH (c:Conference), (e:Edition)\n",
    "WHERE c.id = $cid AND e.id = $eid\n",
    "MERGE p=(c)-[:IN]->(e)\n",
    "RETURN p\"\"\"\n",
    "\n",
    "created_conferences = []\n",
    "\n",
    "with gdb.session() as session:\n",
    "    for conference in fake_conferences:\n",
    "        # create conference\n",
    "        session.run(q_create_conference, cid = conference[\"id\"], name = conference[\"name\"])\n",
    "        for edition in conference[\"editions\"]:\n",
    "            # create edition\n",
    "            session.run(q_create_edition,\n",
    "                        eid = edition[\"id\"],\n",
    "                        cid = conference[\"id\"], \n",
    "                        venue = edition[\"venue\"], \n",
    "                        city = edition[\"city\"], \n",
    "                        year = edition[\"year\"])\n",
    "            # assign it to conference\n",
    "            _out = session.run(q_merge_conference_and_edition, eid = edition[\"id\"], cid = conference[\"id\"])\n",
    "            created_conferences.append(_out.data())"
   ]
  },
  {
   "cell_type": "code",
   "execution_count": 208,
   "metadata": {},
   "outputs": [
    {
     "data": {
      "text/plain": [
       "[[{'p': <Path start=<Node id=8225 labels={'Conference'} properties={'name': 'Donna Salazar', 'id': 1}> end=<Node id=8228 labels={'Edition'} properties={'venue': 'Samantha Edwards', 'conference_id': 1, 'id': 26, 'city': 'North Sandra', 'year': '1986'}> size=1>}],\n",
       " [{'p': <Path start=<Node id=8225 labels={'Conference'} properties={'name': 'Donna Salazar', 'id': 1}> end=<Node id=7635 labels={'Edition'} properties={'venue': 'Douglas Berry', 'conference_id': 1, 'id': 282, 'city': 'New Williamfort', 'year': '1984'}> size=1>}],\n",
       " [{'p': <Path start=<Node id=8225 labels={'Conference'} properties={'name': 'Donna Salazar', 'id': 1}> end=<Node id=7637 labels={'Edition'} properties={'venue': 'Richard Brown', 'conference_id': 1, 'id': 251, 'city': 'Michelleside', 'year': '1987'}> size=1>}],\n",
       " [{'p': <Path start=<Node id=8225 labels={'Conference'} properties={'name': 'Donna Salazar', 'id': 1}> end=<Node id=7638 labels={'Edition'} properties={'venue': 'Nicholas Griffith', 'conference_id': 1, 'id': 229, 'city': 'Cantrellburgh', 'year': '2004'}> size=1>}],\n",
       " [{'p': <Path start=<Node id=8225 labels={'Conference'} properties={'name': 'Donna Salazar', 'id': 1}> end=<Node id=7639 labels={'Edition'} properties={'venue': 'Elizabeth Howell', 'conference_id': 1, 'id': 143, 'city': 'Smithbury', 'year': '2005'}> size=1>}]]"
      ]
     },
     "execution_count": 208,
     "metadata": {},
     "output_type": "execute_result"
    }
   ],
   "source": [
    "created_conferences[:5]"
   ]
  },
  {
   "cell_type": "markdown",
   "metadata": {},
   "source": [
    "### Assigning articles to editions"
   ]
  },
  {
   "cell_type": "markdown",
   "metadata": {},
   "source": [
    "And we will assign articles randomly to 2 to 10 editions"
   ]
  },
  {
   "cell_type": "code",
   "execution_count": 209,
   "metadata": {},
   "outputs": [
    {
     "data": {
      "text/plain": [
       "[{'id': 1,\n",
       "  'venue': 'Angela Stephens',\n",
       "  'city': 'Lake Danielfurt',\n",
       "  'year': '2013'}]"
      ]
     },
     "execution_count": 209,
     "metadata": {},
     "output_type": "execute_result"
    }
   ],
   "source": [
    "fake_editions[:1]"
   ]
  },
  {
   "cell_type": "code",
   "execution_count": 210,
   "metadata": {},
   "outputs": [
    {
     "data": {
      "text/plain": [
       "[[{'p': <Path start=<Node id=26133 labels={'Article'} properties={'doi_url': 'https://doi.org/10.1007/BF02270828', 'id': 'ed6f7f0d65f4c8bde43f13667c406ff3403f9814', 'title': 'Predation, seed size partitioning and the evolution of body size in seed-eating finches', 'year': 2005, 'doi': '10.1007/BF02270828'}> end=<Node id=8228 labels={'Edition'} properties={'venue': 'Samantha Edwards', 'conference_id': 1, 'id': 26, 'city': 'North Sandra', 'year': '1986'}> size=1>},\n",
       "  {'p': <Path start=<Node id=26133 labels={'Article'} properties={'doi_url': 'https://doi.org/10.1007/BF02270828', 'id': 'ed6f7f0d65f4c8bde43f13667c406ff3403f9814', 'title': 'Predation, seed size partitioning and the evolution of body size in seed-eating finches', 'year': 2005, 'doi': '10.1007/BF02270828'}> end=<Node id=8294 labels={'Edition'} properties={'venue': 'Samantha Edwards', 'conference_id': 33, 'id': 26, 'city': 'North Sandra', 'year': '1986'}> size=1>},\n",
       "  {'p': <Path start=<Node id=26133 labels={'Article'} properties={'doi_url': 'https://doi.org/10.1007/BF02270828', 'id': 'ed6f7f0d65f4c8bde43f13667c406ff3403f9814', 'title': 'Predation, seed size partitioning and the evolution of body size in seed-eating finches', 'year': 2005, 'doi': '10.1007/BF02270828'}> end=<Node id=8452 labels={'Edition'} properties={'venue': 'Samantha Edwards', 'conference_id': 41, 'id': 26, 'city': 'North Sandra', 'year': '1986'}> size=1>}]]"
      ]
     },
     "execution_count": 210,
     "metadata": {},
     "output_type": "execute_result"
    }
   ],
   "source": [
    "# assign each paper to 2-10 editions\n",
    "random.seed(42)\n",
    "\n",
    "q_link_to_conf = \"\"\"MATCH (a:Article), (b:Edition)\n",
    "WHERE a.id = $aid AND b.id = $eid\n",
    "MERGE p=(a)-[r:PUBLISHED_IN]->(b)\n",
    "RETURN p\"\"\"\n",
    "\n",
    "created_art_ed_rel = []\n",
    "\n",
    "with gdb.session() as session:\n",
    "    for aid in article_ids:\n",
    "        for edition in random.sample(fake_editions, random.randint(2, 10)):\n",
    "            _out = session.run(q_link_to_conf, aid = aid, eid = edition[\"id\"])\n",
    "            created_art_ed_rel.append(_out.data())\n",
    "            \n",
    "created_art_ed_rel[:1]"
   ]
  },
  {
   "cell_type": "markdown",
   "metadata": {},
   "source": [
    "## A.3 Evolving the graph "
   ]
  },
  {
   "cell_type": "markdown",
   "metadata": {},
   "source": [
    "\n",
    "\n",
    "### Store the review and the approval sent by each reviewer\n",
    "\n",
    "Since the queries in part B don't need this information, we can store the `review_decision` and the `review_text` as _edge_ attributes of the relation `REVIEWED_BY`.\n",
    "\n",
    "\n",
    "Alternatively, and in the case these reviews were a requirement in part B, they can be implemented by creating a `Review` node, and linking it to articles, in a four step process.\n",
    "\n",
    "1. Create a `Review` article for each `Article` that has reviewers (i.e. is connected to authors by `reviewed_by` edges). Each `Review` node will have an attribute named `review_contents´.\n",
    "2. Attach review to the article\n",
    "3. Attach reviewers to the review instance\n",
    "4. Optional, delete the `reviewed_by` edges from the step 1."
   ]
  },
  {
   "cell_type": "code",
   "execution_count": 211,
   "metadata": {},
   "outputs": [
    {
     "data": {
      "text/plain": [
       "[1104267, 1104266, 1104268, 1104269, 1104270]"
      ]
     },
     "execution_count": 211,
     "metadata": {},
     "output_type": "execute_result"
    }
   ],
   "source": [
    "with gdb.session() as session:\n",
    "    out = session.run(\"MATCH p=(:Author)-[r:REVIEWS]->(:Article) return ID(r)\")\n",
    "    rel_ids = [r[0] for r in out.values()]\n",
    "    \n",
    "rel_ids[:5]"
   ]
  },
  {
   "cell_type": "code",
   "execution_count": 212,
   "metadata": {},
   "outputs": [],
   "source": [
    "q_merge_review_attributes = \"\"\"MATCH p=(:Author)-[r:REVIEWS]->(:Article)\n",
    "WHERE ID(r) = $rel_id\n",
    "SET r.review_accepted = $review_accepted, r.review_text = $review_text\n",
    "RETURN r\n",
    "\"\"\"\n",
    "\n",
    "created_review_rel_attr = []\n",
    "\n",
    "random.seed(42)\n",
    "\n",
    "with gdb.session() as session:\n",
    "    for rel_id in rel_ids:\n",
    "        _out = session.run(q_merge_review_attributes, \n",
    "                    rel_id=rel_id,\n",
    "                    review_accepted=fake.pybool(), \n",
    "                    review_text=fake.texts(nb_texts=1, max_nb_chars=500)[0])\n",
    "        created_review_rel_attr.append(_out.data())"
   ]
  },
  {
   "cell_type": "code",
   "execution_count": 213,
   "metadata": {},
   "outputs": [
    {
     "data": {
      "text/plain": [
       "[{'r': <Relationship id=1104267 nodes=(<Node id=5541 labels=set() properties={}>, <Node id=26133 labels=set() properties={}>) type='REVIEWS' properties={'review_text': 'About budget international knowledge product. Expert issue wonder. Help party marriage attorney its.\\nNetwork successful quite. Body behavior figure reveal break. Mention hospital subject couple.\\nAll success we lose affect art. Style fall prevent affect system.\\nFeeling hit item order away every recently thousand. Your break visit open. These since speech.\\nNetwork process over almost. Could be as allow before work hit.', 'review_accepted': True}>}]"
      ]
     },
     "execution_count": 213,
     "metadata": {},
     "output_type": "execute_result"
    }
   ],
   "source": [
    "created_review_rel_attr[0]"
   ]
  },
  {
   "cell_type": "markdown",
   "metadata": {},
   "source": [
    "### Store a reviewing policy for each Journal or Conference\n",
    "\n",
    "This can also be implemented as an `review_policy_min_count` to the `Journal` and `Proceedings` labels. We will set all of them to 3."
   ]
  },
  {
   "cell_type": "code",
   "execution_count": 214,
   "metadata": {},
   "outputs": [],
   "source": [
    "with gdb.session() as session:\n",
    "    journal_ids = session.run(\"MERGE (n:Journal) SET n.review_policy_min_count = 3 return n\").values()\n",
    "    proceeding_ids = session.run(\"MERGE (n:Conference) SET n.review_policy_min_count = 3 return n\").values()"
   ]
  },
  {
   "cell_type": "code",
   "execution_count": 215,
   "metadata": {},
   "outputs": [
    {
     "data": {
      "text/plain": [
       "[[<Node id=27683 labels={'Journal'} properties={'review_policy_min_count': 3, 'name': 'Evolutionary Ecology'}>],\n",
       " [<Node id=27787 labels={'Journal'} properties={'review_policy_min_count': 3, 'name': 'Emergency medicine Australasia : EMA'}>],\n",
       " [<Node id=27816 labels={'Journal'} properties={'review_policy_min_count': 3, 'name': 'The American journal of surgical pathology'}>],\n",
       " [<Node id=27840 labels={'Journal'} properties={'review_policy_min_count': 3, 'name': 'Human Genetics'}>],\n",
       " [<Node id=27924 labels={'Journal'} properties={'review_policy_min_count': 3, 'name': 'International journal of cardiology'}>]]"
      ]
     },
     "execution_count": 215,
     "metadata": {},
     "output_type": "execute_result"
    }
   ],
   "source": [
    "journal_ids[:5]"
   ]
  },
  {
   "cell_type": "code",
   "execution_count": 216,
   "metadata": {},
   "outputs": [
    {
     "data": {
      "text/plain": [
       "[[<Node id=7642 labels={'Conference'} properties={'review_policy_min_count': 3, 'name': 'Richard Conley', 'id': 2}>],\n",
       " [<Node id=7652 labels={'Conference'} properties={'review_policy_min_count': 3, 'name': 'Timothy Taylor', 'id': 3}>]]"
      ]
     },
     "execution_count": 216,
     "metadata": {},
     "output_type": "execute_result"
    }
   ],
   "source": [
    "proceeding_ids[:2]"
   ]
  },
  {
   "cell_type": "markdown",
   "metadata": {},
   "source": [
    "### Display the affiliation of the author to an organization or a company \n",
    "\n",
    "This can be solved by creating an `affiliation_institution_type` attribute, and also an `affiliation_institution_name`. Note that we could have created these as nodes, but the queries from part B do not refer to this information.\n"
   ]
  },
  {
   "cell_type": "code",
   "execution_count": 217,
   "metadata": {},
   "outputs": [],
   "source": [
    "q_set_affiliations = \"\"\"MATCH (n:Author)\n",
    "WHERE n.id = $author_id\n",
    "SET n.affiliation_institution_type = $affiliation_institution_type, n.affiliation_institution_name = $affiliation_institution_name\n",
    "RETURN n\n",
    "\"\"\"\n",
    "\n",
    "institution_types = ['University', 'Company', 'NGO']\n",
    "created_affiliations = []\n",
    "\n",
    "random.seed(42)\n",
    "\n",
    "with gdb.session() as session:\n",
    "    for author_id in author_ids:\n",
    "        _out = session.run(q_set_affiliations, \n",
    "                    author_id=author_id,\n",
    "                    affiliation_institution_name=fake.company(), \n",
    "                    affiliation_institution_type=random.choice(institution_types))        \n",
    "        created_affiliations.append(_out.values())"
   ]
  }
 ],
 "metadata": {
  "kernelspec": {
   "display_name": "Python 3.7.4 64-bit ('od': venv)",
   "language": "python",
   "name": "python37464bitodvenv509b99c2ab9d45c0933875aa4d9677e6"
  },
  "language_info": {
   "codemirror_mode": {
    "name": "ipython",
    "version": 3
   },
   "file_extension": ".py",
   "mimetype": "text/x-python",
   "name": "python",
   "nbconvert_exporter": "python",
   "pygments_lexer": "ipython3",
   "version": "3.7.4"
  }
 },
 "nbformat": 4,
 "nbformat_minor": 4
}
