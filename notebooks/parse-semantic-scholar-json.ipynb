{
 "cells": [
  {
   "cell_type": "code",
   "execution_count": 122,
   "metadata": {},
   "outputs": [
    {
     "data": {
      "text/plain": [
       "'3.7.4 (default, Oct 15 2019, 22:29:14) \\n[GCC 7.4.0]'"
      ]
     },
     "execution_count": 122,
     "metadata": {},
     "output_type": "execute_result"
    }
   ],
   "source": [
    "import sys\n",
    "import json\n",
    "import random\n",
    "sys.version"
   ]
  },
  {
   "cell_type": "code",
   "execution_count": 126,
   "metadata": {},
   "outputs": [],
   "source": [
    "from py2neo import Graph\n",
    "from neo4j import GraphDatabase\n",
    "NEO4J_URI=\"bolt://localhost:7687\"\n",
    "SC_JSON = \"semantic-scholar-raw/s2-corpus-slim.json\"\n",
    "\n",
    "graph = Graph(\"localhost:7474\")\n",
    "gdb = GraphDatabase.driver(uri=NEO4J_URI, auth=None)"
   ]
  },
  {
   "cell_type": "code",
   "execution_count": 227,
   "metadata": {},
   "outputs": [],
   "source": [
    "from faker import Faker\n",
    "from faker.providers import lorem\n",
    "fake = Faker()\n",
    "fake.seed_instance(42)\n",
    "fake.add_provider(lorem)"
   ]
  },
  {
   "cell_type": "markdown",
   "metadata": {},
   "source": [
    "http://s2-public-api-prod.us-west-2.elasticbeanstalk.com/corpus/"
   ]
  },
  {
   "cell_type": "markdown",
   "metadata": {},
   "source": [
    "Download a part of the corpus with the `aws` command line interface, like\n",
    "\n",
    "```aws s3 cp --no-sign-request s3://ai2-s2-research-public/open-corpus/2018-05-03/s2-corpus-00.gz .```\n",
    "\n",
    "And then `gunzip` it."
   ]
  },
  {
   "cell_type": "code",
   "execution_count": 31,
   "metadata": {},
   "outputs": [
    {
     "name": "stdout",
     "output_type": "stream",
     "text": [
      "license.txt   s2-corpus-00\t    s2-corpus-clean.tmp\n",
      "manifest.txt  s2-corpus-clean.json  s2-corpus-slim.json\n"
     ]
    }
   ],
   "source": [
    "!ls semantic-scholar-raw/"
   ]
  },
  {
   "cell_type": "code",
   "execution_count": 32,
   "metadata": {},
   "outputs": [
    {
     "name": "stdout",
     "output_type": "stream",
     "text": [
      "1000000 semantic-scholar-raw/s2-corpus-00\n"
     ]
    }
   ],
   "source": [
    "!wc -l semantic-scholar-raw/s2-corpus-00"
   ]
  },
  {
   "cell_type": "markdown",
   "metadata": {},
   "source": [
    "Filter out those lines that have empty entities, empty inCitations, and empty outCitations"
   ]
  },
  {
   "cell_type": "code",
   "execution_count": 23,
   "metadata": {},
   "outputs": [
    {
     "name": "stdout",
     "output_type": "stream",
     "text": [
      "212901 semantic-scholar-raw/s2-corpus-clean.tmp\n"
     ]
    }
   ],
   "source": [
    "!grep -v -e '\"entities\":\\[\\]' -e '\"inCitations\":\\[\\]' -e '\"outCitations\":\\[\\]' semantic-scholar-raw/s2-corpus-00 > semantic-scholar-raw/s2-corpus-clean.tmp\n",
    "!wc -l semantic-scholar-raw/s2-corpus-clean.tmp"
   ]
  },
  {
   "cell_type": "markdown",
   "metadata": {},
   "source": [
    "Filter out those rows with empty attributes"
   ]
  },
  {
   "cell_type": "code",
   "execution_count": 28,
   "metadata": {},
   "outputs": [
    {
     "name": "stdout",
     "output_type": "stream",
     "text": [
      "86609 semantic-scholar-raw/s2-corpus-clean.json\n"
     ]
    }
   ],
   "source": [
    "!grep -v -e '\"journalName\":\"\"' -e '\"title\":\"\"' -e '\"journalVolume\":\"\"' -e '\"id\":\"\"' -e '\"ids\":\"\"' -e '\"doi\":\"\"' -e '\"doiUrl\":\"\"' semantic-scholar-raw/s2-corpus-clean.tmp > semantic-scholar-raw/s2-corpus-clean.json\n",
    "!wc -l semantic-scholar-raw/s2-corpus-clean.json"
   ]
  },
  {
   "cell_type": "markdown",
   "metadata": {},
   "source": [
    "Obtain a smaller sample from that data"
   ]
  },
  {
   "cell_type": "code",
   "execution_count": 29,
   "metadata": {},
   "outputs": [],
   "source": [
    "!head -100 semantic-scholar-raw/s2-corpus-clean.json > semantic-scholar-raw/s2-corpus-slim.json"
   ]
  },
  {
   "cell_type": "code",
   "execution_count": 27,
   "metadata": {},
   "outputs": [
    {
     "name": "stdout",
     "output_type": "stream",
     "text": [
      "\u001b[1;39m{\n",
      "  \u001b[0m\u001b[34;1m\"entities\"\u001b[0m\u001b[1;39m: \u001b[0m\u001b[1;39m[\n",
      "    \u001b[0;32m\"Eating\"\u001b[0m\u001b[1;39m,\n",
      "    \u001b[0;32m\"Ethanol\"\u001b[0m\u001b[1;39m,\n",
      "    \u001b[0;32m\"Isopropyl Alcohol 0.7 ML/ML Medicated Pad\"\u001b[0m\u001b[1;39m\n",
      "  \u001b[1;39m]\u001b[0m\u001b[1;39m,\n",
      "  \u001b[0m\u001b[34;1m\"journalVolume\"\u001b[0m\u001b[1;39m: \u001b[0m\u001b[0;32m\"31 4\"\u001b[0m\u001b[1;39m,\n",
      "  \u001b[0m\u001b[34;1m\"journalPages\"\u001b[0m\u001b[1;39m: \u001b[0m\u001b[0;32m\"385-8\"\u001b[0m\u001b[1;39m,\n",
      "  \u001b[0m\u001b[34;1m\"pmid\"\u001b[0m\u001b[1;39m: \u001b[0m\u001b[0;32m\"8879286v1\"\u001b[0m\u001b[1;39m,\n",
      "  \u001b[0m\u001b[34;1m\"year\"\u001b[0m\u001b[1;39m: \u001b[0m\u001b[0;39m1996\u001b[0m\u001b[1;39m,\n",
      "  \u001b[0m\u001b[34;1m\"outCitations\"\u001b[0m\u001b[1;39m: \u001b[0m\u001b[1;39m[\n",
      "    \u001b[0;32m\"40bb6636803d10626bfafa3dbf940fdac903d11c\"\u001b[0m\u001b[1;39m,\n",
      "    \u001b[0;32m\"18ffb4ae9e0d8f0c43342c4c6b993f3ce34bd579\"\u001b[0m\u001b[1;39m,\n",
      "    \u001b[0;32m\"827b793fbc923d3e068b2008dc02bb63e7069fb9\"\u001b[0m\u001b[1;39m,\n",
      "    \u001b[0;32m\"b96cb6dd0bba1e9928eb6315e18339f667c6799f\"\u001b[0m\u001b[1;39m,\n",
      "    \u001b[0;32m\"48431576480666445bdcb112533aa885d4ac1ad1\"\u001b[0m\u001b[1;39m,\n",
      "    \u001b[0;32m\"1380d901dbce2dca8eba90501179485d4fe1e5d4\"\u001b[0m\u001b[1;39m,\n",
      "    \u001b[0;32m\"4203ad4dc8530a92473e5576650eca84b51c9eee\"\u001b[0m\u001b[1;39m,\n",
      "    \u001b[0;32m\"96b85a405b002e11199f967280ec9a9736543c86\"\u001b[0m\u001b[1;39m,\n",
      "    \u001b[0;32m\"8d72d01b1b670c7bb65408e91d1705f0c95b1174\"\u001b[0m\u001b[1;39m,\n",
      "    \u001b[0;32m\"7842615744a118a2d4a239787e9450c26c98c9f9\"\u001b[0m\u001b[1;39m,\n",
      "    \u001b[0;32m\"6ed7439f9537fce3f82144843622b9c670a95d7e\"\u001b[0m\u001b[1;39m,\n",
      "    \u001b[0;32m\"55787878e91f6efdf14e16438e733d80581f3bec\"\u001b[0m\u001b[1;39m,\n",
      "    \u001b[0;32m\"e28468ccfa0ddce1d060d39d25305f6abab2eced\"\u001b[0m\u001b[1;39m,\n",
      "    \u001b[0;32m\"5f6ba13f126408d25849c518bddf4812281ae970\"\u001b[0m\u001b[1;39m\n",
      "  \u001b[1;39m]\u001b[0m\u001b[1;39m,\n",
      "  \u001b[0m\u001b[34;1m\"s2Url\"\u001b[0m\u001b[1;39m: \u001b[0m\u001b[0;32m\"https://semanticscholar.org/paper/30aaf92bde9bf6cdc3dff237691fd5db55d4cb4a\"\u001b[0m\u001b[1;39m,\n",
      "  \u001b[0m\u001b[34;1m\"s2PdfUrl\"\u001b[0m\u001b[1;39m: \u001b[0m\u001b[0;32m\"http://pdfs.semanticscholar.org/30aa/f92bde9bf6cdc3dff237691fd5db55d4cb4a.pdf\"\u001b[0m\u001b[1;39m,\n",
      "  \u001b[0m\u001b[34;1m\"id\"\u001b[0m\u001b[1;39m: \u001b[0m\u001b[0;32m\"30aaf92bde9bf6cdc3dff237691fd5db55d4cb4a\"\u001b[0m\u001b[1;39m,\n",
      "  \u001b[0m\u001b[34;1m\"authors\"\u001b[0m\u001b[1;39m: \u001b[0m\u001b[1;39m[\n",
      "    \u001b[1;39m{\n",
      "      \u001b[0m\u001b[34;1m\"name\"\u001b[0m\u001b[1;39m: \u001b[0m\u001b[0;32m\"R Agabio\"\u001b[0m\u001b[1;39m,\n",
      "      \u001b[0m\u001b[34;1m\"ids\"\u001b[0m\u001b[1;39m: \u001b[0m\u001b[1;39m[\n",
      "        \u001b[0;32m\"3776873\"\u001b[0m\u001b[1;39m\n",
      "      \u001b[1;39m]\u001b[0m\u001b[1;39m\n",
      "    \u001b[1;39m}\u001b[0m\u001b[1;39m,\n",
      "    \u001b[1;39m{\n",
      "      \u001b[0m\u001b[34;1m\"name\"\u001b[0m\u001b[1;39m: \u001b[0m\u001b[0;32m\"G Cortis\"\u001b[0m\u001b[1;39m,\n",
      "      \u001b[0m\u001b[34;1m\"ids\"\u001b[0m\u001b[1;39m: \u001b[0m\u001b[1;39m[\n",
      "        \u001b[0;32m\"5235644\"\u001b[0m\u001b[1;39m\n",
      "      \u001b[1;39m]\u001b[0m\u001b[1;39m\n",
      "    \u001b[1;39m}\u001b[0m\u001b[1;39m,\n",
      "    \u001b[1;39m{\n",
      "      \u001b[0m\u001b[34;1m\"name\"\u001b[0m\u001b[1;39m: \u001b[0m\u001b[0;32m\"F Fadda\"\u001b[0m\u001b[1;39m,\n",
      "      \u001b[0m\u001b[34;1m\"ids\"\u001b[0m\u001b[1;39m: \u001b[0m\u001b[1;39m[\n",
      "        \u001b[0;32m\"6725894\"\u001b[0m\u001b[1;39m\n",
      "      \u001b[1;39m]\u001b[0m\u001b[1;39m\n",
      "    \u001b[1;39m}\u001b[0m\u001b[1;39m,\n",
      "    \u001b[1;39m{\n",
      "      \u001b[0m\u001b[34;1m\"name\"\u001b[0m\u001b[1;39m: \u001b[0m\u001b[0;32m\"G L Gessa\"\u001b[0m\u001b[1;39m,\n",
      "      \u001b[0m\u001b[34;1m\"ids\"\u001b[0m\u001b[1;39m: \u001b[0m\u001b[1;39m[\n",
      "        \u001b[0;32m\"5758225\"\u001b[0m\u001b[1;39m\n",
      "      \u001b[1;39m]\u001b[0m\u001b[1;39m\n",
      "    \u001b[1;39m}\u001b[0m\u001b[1;39m,\n",
      "    \u001b[1;39m{\n",
      "      \u001b[0m\u001b[34;1m\"name\"\u001b[0m\u001b[1;39m: \u001b[0m\u001b[0;32m\"C Lobina\"\u001b[0m\u001b[1;39m,\n",
      "      \u001b[0m\u001b[34;1m\"ids\"\u001b[0m\u001b[1;39m: \u001b[0m\u001b[1;39m[\n",
      "        \u001b[0;32m\"5639930\"\u001b[0m\u001b[1;39m\n",
      "      \u001b[1;39m]\u001b[0m\u001b[1;39m\n",
      "    \u001b[1;39m}\u001b[0m\u001b[1;39m,\n",
      "    \u001b[1;39m{\n",
      "      \u001b[0m\u001b[34;1m\"name\"\u001b[0m\u001b[1;39m: \u001b[0m\u001b[0;32m\"R Reali\"\u001b[0m\u001b[1;39m,\n",
      "      \u001b[0m\u001b[34;1m\"ids\"\u001b[0m\u001b[1;39m: \u001b[0m\u001b[1;39m[\n",
      "        \u001b[0;32m\"6727309\"\u001b[0m\u001b[1;39m\n",
      "      \u001b[1;39m]\u001b[0m\u001b[1;39m\n",
      "    \u001b[1;39m}\u001b[0m\u001b[1;39m,\n",
      "    \u001b[1;39m{\n",
      "      \u001b[0m\u001b[34;1m\"name\"\u001b[0m\u001b[1;39m: \u001b[0m\u001b[0;32m\"G Colombo\"\u001b[0m\u001b[1;39m,\n",
      "      \u001b[0m\u001b[34;1m\"ids\"\u001b[0m\u001b[1;39m: \u001b[0m\u001b[1;39m[\n",
      "        \u001b[0;32m\"1781764\"\u001b[0m\u001b[1;39m\n",
      "      \u001b[1;39m]\u001b[0m\u001b[1;39m\n",
      "    \u001b[1;39m}\u001b[0m\u001b[1;39m\n",
      "  \u001b[1;39m]\u001b[0m\u001b[1;39m,\n",
      "  \u001b[0m\u001b[34;1m\"journalName\"\u001b[0m\u001b[1;39m: \u001b[0m\u001b[0;32m\"Alcohol and alcoholism\"\u001b[0m\u001b[1;39m,\n",
      "  \u001b[0m\u001b[34;1m\"paperAbstract\"\u001b[0m\u001b[1;39m: \u001b[0m\u001b[0;32m\"The present study was designed to assess the temporal pattern of ethanol intake over a 24 h period in selectively bred, Sardinian alcohol-preferring (sP) rats. Ethanol intake occurred under the two-bottle, free choice regimen. sP rats consumed ethanol in three distinct peaks, rather regularly distributed over the 12 h dark phase of the light-dark cycle and positively correlated with food intake episodes. The temporal distribution of ethanol intake and estimated blood alcohol levels are consistent with the hypothesis that sP rats voluntarily drink ethanol for its pharmacological effects.\"\u001b[0m\u001b[1;39m,\n",
      "  \u001b[0m\u001b[34;1m\"inCitations\"\u001b[0m\u001b[1;39m: \u001b[0m\u001b[1;39m[\n",
      "    \u001b[0;32m\"7f17780491b74f08b3b6fb603014835e74ecfdd3\"\u001b[0m\u001b[1;39m,\n",
      "    \u001b[0;32m\"9e2664ede0d21990f25b7682f023bc11e79e89b9\"\u001b[0m\u001b[1;39m,\n",
      "    \u001b[0;32m\"1dbf8f6f64447b6f311031a14a7b99e43fb51f44\"\u001b[0m\u001b[1;39m,\n",
      "    \u001b[0;32m\"842707e424ae0e2beda89c8847ce7c0fafa60b92\"\u001b[0m\u001b[1;39m,\n",
      "    \u001b[0;32m\"a0711d2594d6e72cab32493b7cdcd2ee130bb03c\"\u001b[0m\u001b[1;39m,\n",
      "    \u001b[0;32m\"4748549512f89669d054b00981176a3f48e292ae\"\u001b[0m\u001b[1;39m,\n",
      "    \u001b[0;32m\"3efe115783f39ec3f72355f98dda2b2a18cd3517\"\u001b[0m\u001b[1;39m,\n",
      "    \u001b[0;32m\"71a20f517662f6e194fab5bd1d99aa8defd7b541\"\u001b[0m\u001b[1;39m,\n",
      "    \u001b[0;32m\"23ad61bfcd6140650ac8241fc2ac6b1030521012\"\u001b[0m\u001b[1;39m,\n",
      "    \u001b[0;32m\"c607e9b564744620eb822294780aa7ea85b91052\"\u001b[0m\u001b[1;39m,\n",
      "    \u001b[0;32m\"e59f964b461d1f4e8cdab48aedb49f9abe3e9434\"\u001b[0m\u001b[1;39m,\n",
      "    \u001b[0;32m\"08c2bbd496dc7d640bbb2cce96e3921cc491f64f\"\u001b[0m\u001b[1;39m,\n",
      "    \u001b[0;32m\"785c43394f31d8094a574a5bcc272c0c0863202b\"\u001b[0m\u001b[1;39m,\n",
      "    \u001b[0;32m\"e13e2677f71454805f4c7776493fbbaeb771c1bb\"\u001b[0m\u001b[1;39m,\n",
      "    \u001b[0;32m\"81227dd79170471be2f4b92e96cf146ff1a43296\"\u001b[0m\u001b[1;39m,\n",
      "    \u001b[0;32m\"7f05bfd9b1d62a185b6640f8b25014c343f2ad4d\"\u001b[0m\u001b[1;39m,\n",
      "    \u001b[0;32m\"93b6026f46435f64d87beaef5d7a81228909d073\"\u001b[0m\u001b[1;39m\n",
      "  \u001b[1;39m]\u001b[0m\u001b[1;39m,\n",
      "  \u001b[0m\u001b[34;1m\"pdfUrls\"\u001b[0m\u001b[1;39m: \u001b[0m\u001b[1;39m[\n",
      "    \u001b[0;32m\"http://alcalc.oxfordjournals.org/content/31/4/385.full.pdf\"\u001b[0m\u001b[1;39m\n",
      "  \u001b[1;39m]\u001b[0m\u001b[1;39m,\n",
      "  \u001b[0m\u001b[34;1m\"title\"\u001b[0m\u001b[1;39m: \u001b[0m\u001b[0;32m\"Circadian drinking pattern of Sardinian alcohol-preferring rats.\"\u001b[0m\u001b[1;39m,\n",
      "  \u001b[0m\u001b[34;1m\"doi\"\u001b[0m\u001b[1;39m: \u001b[0m\u001b[0;32m\"\"\u001b[0m\u001b[1;39m,\n",
      "  \u001b[0m\u001b[34;1m\"sources\"\u001b[0m\u001b[1;39m: \u001b[0m\u001b[1;39m[\n",
      "    \u001b[0;32m\"Medline\"\u001b[0m\u001b[1;39m\n",
      "  \u001b[1;39m]\u001b[0m\u001b[1;39m,\n",
      "  \u001b[0m\u001b[34;1m\"doiUrl\"\u001b[0m\u001b[1;39m: \u001b[0m\u001b[0;32m\"\"\u001b[0m\u001b[1;39m,\n",
      "  \u001b[0m\u001b[34;1m\"venue\"\u001b[0m\u001b[1;39m: \u001b[0m\u001b[0;32m\"Alcohol and alcoholism\"\u001b[0m\u001b[1;39m\n",
      "\u001b[1;39m}\u001b[0m\n"
     ]
    }
   ],
   "source": [
    "!head -1 semantic-scholar-raw/s2-corpus-slim.json | jq"
   ]
  },
  {
   "cell_type": "markdown",
   "metadata": {},
   "source": [
    "## Parse JSON\n",
    "https://markhneedham.com/blog/2015/07/23/neo4j-loading-json-documents-with-cypher/"
   ]
  },
  {
   "cell_type": "code",
   "execution_count": 29,
   "metadata": {},
   "outputs": [
    {
     "data": {
      "text/plain": [
       "[{'apoc.version()': '3.5.0.9'}]"
      ]
     },
     "execution_count": 29,
     "metadata": {},
     "output_type": "execute_result"
    }
   ],
   "source": [
    "# Send Cypher query.\n",
    "graph.run(\"RETURN apoc.version();\").data()"
   ]
  },
  {
   "cell_type": "code",
   "execution_count": 28,
   "metadata": {},
   "outputs": [
    {
     "data": {
      "text/plain": [
       "[{'name': 'Neo4j Kernel', 'version': '3.5.15', 'edition': 'enterprise'}]"
      ]
     },
     "execution_count": 28,
     "metadata": {},
     "output_type": "execute_result"
    }
   ],
   "source": [
    "graph.run(\"call dbms.components() yield name, versions, edition unwind versions as version return name, version, edition;\").data()"
   ]
  },
  {
   "cell_type": "code",
   "execution_count": 9,
   "metadata": {},
   "outputs": [
    {
     "data": {
      "text/plain": [
       "[{'value': {'doiUrl': '',\n",
       "   'venue': 'Alcohol and alcoholism',\n",
       "   'journalName': 'Alcohol and alcoholism',\n",
       "   'sources': ['Medline'],\n",
       "   'year': 1996,\n",
       "   'paperAbstract': 'The present study was designed to assess the temporal pattern of ethanol intake over a 24 h period in selectively bred, Sardinian alcohol-preferring (sP) rats. Ethanol intake occurred under the two-bottle, free choice regimen. sP rats consumed ethanol in three distinct peaks, rather regularly distributed over the 12 h dark phase of the light-dark cycle and positively correlated with food intake episodes. The temporal distribution of ethanol intake and estimated blood alcohol levels are consistent with the hypothesis that sP rats voluntarily drink ethanol for its pharmacological effects.',\n",
       "   'inCitations': ['7f17780491b74f08b3b6fb603014835e74ecfdd3',\n",
       "    '9e2664ede0d21990f25b7682f023bc11e79e89b9',\n",
       "    '1dbf8f6f64447b6f311031a14a7b99e43fb51f44',\n",
       "    '842707e424ae0e2beda89c8847ce7c0fafa60b92',\n",
       "    'a0711d2594d6e72cab32493b7cdcd2ee130bb03c',\n",
       "    '4748549512f89669d054b00981176a3f48e292ae',\n",
       "    '3efe115783f39ec3f72355f98dda2b2a18cd3517',\n",
       "    '71a20f517662f6e194fab5bd1d99aa8defd7b541',\n",
       "    '23ad61bfcd6140650ac8241fc2ac6b1030521012',\n",
       "    'c607e9b564744620eb822294780aa7ea85b91052',\n",
       "    'e59f964b461d1f4e8cdab48aedb49f9abe3e9434',\n",
       "    '08c2bbd496dc7d640bbb2cce96e3921cc491f64f',\n",
       "    '785c43394f31d8094a574a5bcc272c0c0863202b',\n",
       "    'e13e2677f71454805f4c7776493fbbaeb771c1bb',\n",
       "    '81227dd79170471be2f4b92e96cf146ff1a43296',\n",
       "    '7f05bfd9b1d62a185b6640f8b25014c343f2ad4d',\n",
       "    '93b6026f46435f64d87beaef5d7a81228909d073'],\n",
       "   'pmid': '8879286v1',\n",
       "   'title': 'Circadian drinking pattern of Sardinian alcohol-preferring rats.',\n",
       "   'journalPages': '385-8',\n",
       "   's2PdfUrl': 'http://pdfs.semanticscholar.org/30aa/f92bde9bf6cdc3dff237691fd5db55d4cb4a.pdf',\n",
       "   'pdfUrls': ['http://alcalc.oxfordjournals.org/content/31/4/385.full.pdf'],\n",
       "   'entities': ['Eating',\n",
       "    'Ethanol',\n",
       "    'Isopropyl Alcohol 0.7 ML/ML Medicated Pad'],\n",
       "   'journalVolume': '31 4',\n",
       "   'outCitations': ['40bb6636803d10626bfafa3dbf940fdac903d11c',\n",
       "    '18ffb4ae9e0d8f0c43342c4c6b993f3ce34bd579',\n",
       "    '827b793fbc923d3e068b2008dc02bb63e7069fb9',\n",
       "    'b96cb6dd0bba1e9928eb6315e18339f667c6799f',\n",
       "    '48431576480666445bdcb112533aa885d4ac1ad1',\n",
       "    '1380d901dbce2dca8eba90501179485d4fe1e5d4',\n",
       "    '4203ad4dc8530a92473e5576650eca84b51c9eee',\n",
       "    '96b85a405b002e11199f967280ec9a9736543c86',\n",
       "    '8d72d01b1b670c7bb65408e91d1705f0c95b1174',\n",
       "    '7842615744a118a2d4a239787e9450c26c98c9f9',\n",
       "    '6ed7439f9537fce3f82144843622b9c670a95d7e',\n",
       "    '55787878e91f6efdf14e16438e733d80581f3bec',\n",
       "    'e28468ccfa0ddce1d060d39d25305f6abab2eced',\n",
       "    '5f6ba13f126408d25849c518bddf4812281ae970'],\n",
       "   'id': '30aaf92bde9bf6cdc3dff237691fd5db55d4cb4a',\n",
       "   's2Url': 'https://semanticscholar.org/paper/30aaf92bde9bf6cdc3dff237691fd5db55d4cb4a',\n",
       "   'authors': [{'name': 'R Agabio', 'ids': ['3776873']},\n",
       "    {'name': 'G Cortis', 'ids': ['5235644']},\n",
       "    {'name': 'F Fadda', 'ids': ['6725894']},\n",
       "    {'name': 'G L Gessa', 'ids': ['5758225']},\n",
       "    {'name': 'C Lobina', 'ids': ['5639930']},\n",
       "    {'name': 'R Reali', 'ids': ['6727309']},\n",
       "    {'name': 'G Colombo', 'ids': ['1781764']}],\n",
       "   'doi': ''}}]"
      ]
     },
     "execution_count": 9,
     "metadata": {},
     "output_type": "execute_result"
    }
   ],
   "source": [
    "query = \"\"\"\n",
    "WITH \"myjson\" AS url \n",
    "CALL apoc.load.json(url) \n",
    "YIELD value \n",
    "RETURN value \n",
    "LIMIT 1\"\"\"\n",
    "\n",
    "graph.run(query).data()"
   ]
  },
  {
   "cell_type": "markdown",
   "metadata": {},
   "source": [
    "Here, `\"myjson\"` is an alias for the path to the file, as defined in https://neo4j.com/docs/labs/apoc/current/import/load-json/"
   ]
  },
  {
   "cell_type": "markdown",
   "metadata": {},
   "source": [
    "### create Article instances"
   ]
  },
  {
   "cell_type": "code",
   "execution_count": 168,
   "metadata": {},
   "outputs": [],
   "source": [
    "query_apoc = \"\"\"WITH \"myjson\" AS url \n",
    "CALL apoc.load.json(url) \n",
    "YIELD value as row\n",
    "MERGE (art:Article {title: row.title, id: row.id, doi: row.doi, doi_url:row.doiUrl, year: row.year})\n",
    "MERGE (jour:Journal {\n",
    "    name: row.journalName,\n",
    "    volume: row.journalVolume,\n",
    "    pages: row.journalPages})-[:PUBLISHED_IN]->(art)\n",
    "FOREACH (author in row.authors |\n",
    "    MERGE (art)-[:AUTHORED_BY]->(auth:Author {name: author.name, id: author.ids})\n",
    ")\n",
    "FOREACH (k in row.entities |\n",
    "    MERGE (art)-[:IS_ABOUT]->(kw: Keyword {name: k}))\"\"\"\n",
    "\n",
    "with gdb.session() as session:\n",
    "    session.run(query_apoc)"
   ]
  },
  {
   "cell_type": "markdown",
   "metadata": {},
   "source": [
    "Some data is left to be simulated"
   ]
  },
  {
   "cell_type": "markdown",
   "metadata": {},
   "source": [
    "### Faking citations"
   ]
  },
  {
   "cell_type": "code",
   "execution_count": 169,
   "metadata": {},
   "outputs": [],
   "source": [
    "q_article_ids = \"MATCH (n:Article) RETURN n.id\"\n",
    "\n",
    "with gdb.session() as session:\n",
    "    article_ids = [v[0] for v in session.run(q_article_ids).values()]\n",
    "    \n",
    "article_ids[:5]\n",
    "n_articles = len(article_ids)"
   ]
  },
  {
   "cell_type": "code",
   "execution_count": 170,
   "metadata": {},
   "outputs": [],
   "source": [
    "# https://neo4j.com/docs/driver-manual/1.7/sessions-transactions/#driver-transactions-transaction-functions\n",
    "\n",
    "q_add_citation_rel_id = \"\"\"MATCH (a:Article),(b:Article)\n",
    "WHERE a.id = $id_a AND b.id = $id_b\n",
    "MERGE p=(a)-[r:CITED_BY]->(b)\n",
    "RETURN p\"\"\"\n",
    "\n",
    "\n",
    "def add_citation_rel(driver, id_a, id_b):\n",
    "    with driver.session() as session:\n",
    "        # Caller for transactional unit of work\n",
    "        return session.write_transaction(create_citation_rel, id_a, id_b)\n",
    "\n",
    "# Simple implementation of the unit of work\n",
    "def create_citation_rel(tx, id_a, id_b):\n",
    "    return tx.run(q_add_citation_rel_id, id_a=id_a, id_b = id_b)"
   ]
  },
  {
   "cell_type": "markdown",
   "metadata": {},
   "source": [
    "Add 500 relationships of type `cited_by`"
   ]
  },
  {
   "cell_type": "code",
   "execution_count": 171,
   "metadata": {},
   "outputs": [
    {
     "name": "stdout",
     "output_type": "stream",
     "text": [
      "Skipping:  e06da9b34d6d1a7b57b27b5880c608c241adc5a2 e06da9b34d6d1a7b57b27b5880c608c241adc5a2\n",
      "Skipping:  6f06076133abe3cd3bfed4d2f20c3fd97eef3702 6f06076133abe3cd3bfed4d2f20c3fd97eef3702\n",
      "Skipping:  c104539460e4e4eac8b630ac81ef04d45a683286 c104539460e4e4eac8b630ac81ef04d45a683286\n",
      "Skipping:  a57bf47fb69fc00e943ecf85e47444dbc5bee07a a57bf47fb69fc00e943ecf85e47444dbc5bee07a\n",
      "Skipping:  2e277347fdc70287c56a4276d9d2e69055e3ecc8 2e277347fdc70287c56a4276d9d2e69055e3ecc8\n"
     ]
    }
   ],
   "source": [
    "random.seed(42)\n",
    "# pick a sample of 500 papers, and make them be cited by other three papers at random\n",
    "created_citations = []\n",
    "\n",
    "for article in random.sample(article_ids, round(n_articles*0.6)):\n",
    "    for citation in random.sample(article_ids, 3):\n",
    "        if article != citation: # they can't cite themselves\n",
    "            _out = add_citation_rel(gdb, id_a=article, id_b=citation)\n",
    "            created_citations.append(_out.data())\n",
    "        else:\n",
    "            print(\"Skipping: \",article, citation)"
   ]
  },
  {
   "cell_type": "markdown",
   "metadata": {},
   "source": [
    "### Faking reviewers "
   ]
  },
  {
   "cell_type": "markdown",
   "metadata": {},
   "source": [
    "We will create a `REVIEWED_BY` relationship between authors and articles"
   ]
  },
  {
   "cell_type": "code",
   "execution_count": 172,
   "metadata": {},
   "outputs": [
    {
     "name": "stdout",
     "output_type": "stream",
     "text": [
      "[{'COUNT(r)': 0}]\n"
     ]
    }
   ],
   "source": [
    "# delete relationships\n",
    "with gdb.session() as session:\n",
    "    _out = session.run(\"MATCH p=(:Article)-[r:REVIEWED_BY]->(:Author) DELETE r RETURN COUNT(r)\")\n",
    "    print(_out.data())"
   ]
  },
  {
   "cell_type": "code",
   "execution_count": 175,
   "metadata": {},
   "outputs": [
    {
     "data": {
      "text/plain": [
       "[['10399879'], ['1681558'], ['15577464'], ['11059246'], ['15538280']]"
      ]
     },
     "execution_count": 175,
     "metadata": {},
     "output_type": "execute_result"
    }
   ],
   "source": [
    "q_author_ids = \"MATCH (n:Author) RETURN n.id\"\n",
    "\n",
    "with gdb.session() as session:\n",
    "    author_ids = [v[0] for v in session.run(q_author_ids).values()]\n",
    "    \n",
    "author_ids[:5]"
   ]
  },
  {
   "cell_type": "code",
   "execution_count": 224,
   "metadata": {},
   "outputs": [],
   "source": [
    "# assign between 3 and 4 reviewers randomly to 1000 articles\n",
    "random.seed(42)\n",
    "\n",
    "q_add_reviewers = \"\"\"MATCH (a:Article),(b:Author)\n",
    "WHERE a.id = $article_id AND b.id = $author_id\n",
    "AND NOT (a)-[:AUTHORED_BY]->(b)\n",
    "MERGE p=(a)-[:REVIEWED_BY]->(b)\n",
    "RETURN p\"\"\"\n",
    "\n",
    "created_review_rel = []\n",
    "\n",
    "\n",
    "with gdb.session() as session:\n",
    "    for article_id in random.sample(article_ids, 80):\n",
    "        for author_id in random.sample(author_ids, random.choice([2, 4])):\n",
    "            _out = session.run(q_add_reviewers, article_id=article_id, author_id=author_id)\n",
    "            created_review_rel.append(_out.data())"
   ]
  },
  {
   "cell_type": "code",
   "execution_count": 208,
   "metadata": {},
   "outputs": [
    {
     "data": {
      "text/plain": [
       "[[{'p': <Path start=<Node id=24791 labels={'Article'} properties={'doi_url': 'https://doi.org/10.3233/IKS-2012-0197', 'id': '0728b111bd17fda94b4861e79689edc01e492226', 'title': 'Causal inference and heterogeneity bias in social science', 'year': 2011, 'doi': '10.3233/IKS-2012-0197'}> end=<Node id=21528 labels={'Author'} properties={'name': 'Laura L Namy', 'id': ['2516786']}> size=1>}],\n",
       " [{'p': <Path start=<Node id=24791 labels={'Article'} properties={'doi_url': 'https://doi.org/10.3233/IKS-2012-0197', 'id': '0728b111bd17fda94b4861e79689edc01e492226', 'title': 'Causal inference and heterogeneity bias in social science', 'year': 2011, 'doi': '10.3233/IKS-2012-0197'}> end=<Node id=22052 labels={'Author'} properties={'name': 'Xizheng Zhang', 'id': ['39694885']}> size=1>}]]"
      ]
     },
     "execution_count": 208,
     "metadata": {},
     "output_type": "execute_result"
    }
   ],
   "source": [
    "created_review_rel[:2]"
   ]
  },
  {
   "cell_type": "markdown",
   "metadata": {},
   "source": [
    "### Fake conferences"
   ]
  },
  {
   "cell_type": "code",
   "execution_count": 297,
   "metadata": {},
   "outputs": [],
   "source": [
    "# +-100 fake, non repeated keywords\n",
    "fake_venues = (fake.company() for _ in range(100))\n",
    "fake_conf_names = (fake.sentence(nb_words=3).rstrip('.') for _ in range(100))\n",
    "fake_conf_edition = (random.randint(1,5) for _ in range(100))\n",
    "\n",
    "fake_conferences = [\n",
    "    (ix, name, venue, edition) for ix, (name, venue, edition) in enumerate(zip(fake_conf_names, fake_venues, fake_conf_edition), start=1)\n",
    "]"
   ]
  },
  {
   "cell_type": "code",
   "execution_count": 298,
   "metadata": {},
   "outputs": [
    {
     "name": "stdout",
     "output_type": "stream",
     "text": [
      "100\n"
     ]
    },
    {
     "data": {
      "text/plain": [
       "[(1, 'Action cut', 'Tyler and Sons', 4),\n",
       " (2, 'Nearly short box', 'Foster Group', 1),\n",
       " (3, 'Story', 'Bass Ltd', 3),\n",
       " (4, 'Trouble something population', 'Burton-Mcclain', 3),\n",
       " (5, 'Time leg sport', 'Brown, Meyer and Cunningham', 4),\n",
       " (6, 'New affect officer', 'Hendricks PLC', 4),\n",
       " (7, 'Wide exactly', 'Terrell Group', 5),\n",
       " (8, 'Number hope', 'Hancock-Walton', 5),\n",
       " (9, 'Report even beautiful', 'Watson, Gallegos and Turner', 5),\n",
       " (10, 'Few born size', 'Gentry, Wallace and Johnson', 2)]"
      ]
     },
     "execution_count": 298,
     "metadata": {},
     "output_type": "execute_result"
    }
   ],
   "source": [
    "print(len(fake_conferences))\n",
    "fake_conferences[:10]"
   ]
  },
  {
   "cell_type": "code",
   "execution_count": 289,
   "metadata": {},
   "outputs": [
    {
     "name": "stdout",
     "output_type": "stream",
     "text": [
      "[{'COUNT(n)': 0}]\n"
     ]
    }
   ],
   "source": [
    "# delete keywords\n",
    "with gdb.session() as session:\n",
    "    _out = session.run(\"MATCH (n:ConferenceProceedings) DELETE n RETURN COUNT(n)\")\n",
    "    print(_out.data())"
   ]
  },
  {
   "cell_type": "code",
   "execution_count": 304,
   "metadata": {},
   "outputs": [],
   "source": [
    "q_create_conference = \"\"\"MERGE (n:ConferenceProceedings {id:$id, name:$name, edition:$edition, venue:$venue})\n",
    "RETURN n\"\"\"\n",
    "\n",
    "created_conferences = []\n",
    "\n",
    "with gdb.session() as session:\n",
    "    for ix, name, venue, edition in fake_conferences:\n",
    "        _out = session.run(q_create_conference, id=ix, name=name, edition=edition, venue=venue)\n",
    "        created_conferences.append(_out.data())"
   ]
  },
  {
   "cell_type": "code",
   "execution_count": 326,
   "metadata": {},
   "outputs": [],
   "source": [
    "# assign each paper to 3 conferences\n",
    "\n",
    "q_link_to_conf = \"\"\"MATCH (a:Article), (b:ConferenceProceedings)\n",
    "WHERE a.id = $a_id AND b.id = $cp_id\n",
    "MERGE p=(a)-[r:PUBLISHED_IN]->(b)\n",
    "RETURN p\"\"\"\n",
    "random.seed(42)\n",
    "with gdb.session() as session:\n",
    "    for article_id in random.sample(article_ids, round(n_articles*0.6)):\n",
    "        for conf in random.sample(created_conferences, 3):\n",
    "            _out = session.run(q_link_to_conf, a_id = article_id, cp_id = conf[0][\"n\"][\"id\"])"
   ]
  },
  {
   "cell_type": "code",
   "execution_count": 327,
   "metadata": {},
   "outputs": [
    {
     "data": {
      "text/plain": [
       "[[{'n': <Node id=10797 labels={'ConferenceProceedings'} properties={'name': 'Action cut', 'venue': 'Tyler and Sons', 'edition': 4, 'id': 1}>}],\n",
       " [{'n': <Node id=3276 labels={'ConferenceProceedings'} properties={'name': 'Nearly short box', 'venue': 'Foster Group', 'edition': 1, 'id': 2}>}],\n",
       " [{'n': <Node id=4867 labels={'ConferenceProceedings'} properties={'name': 'Story', 'venue': 'Bass Ltd', 'edition': 3, 'id': 3}>}],\n",
       " [{'n': <Node id=8202 labels={'ConferenceProceedings'} properties={'name': 'Trouble something population', 'venue': 'Burton-Mcclain', 'edition': 3, 'id': 4}>}],\n",
       " [{'n': <Node id=23456 labels={'ConferenceProceedings'} properties={'name': 'Time leg sport', 'venue': 'Brown, Meyer and Cunningham', 'edition': 4, 'id': 5}>}]]"
      ]
     },
     "execution_count": 327,
     "metadata": {},
     "output_type": "execute_result"
    }
   ],
   "source": [
    "created_conferences[:5]"
   ]
  },
  {
   "cell_type": "code",
   "execution_count": null,
   "metadata": {},
   "outputs": [],
   "source": []
  },
  {
   "cell_type": "code",
   "execution_count": null,
   "metadata": {},
   "outputs": [],
   "source": []
  }
 ],
 "metadata": {
  "kernelspec": {
   "display_name": "Python 3.7.4 64-bit ('od': venv)",
   "language": "python",
   "name": "python37464bitodvenv509b99c2ab9d45c0933875aa4d9677e6"
  },
  "language_info": {
   "codemirror_mode": {
    "name": "ipython",
    "version": 3
   },
   "file_extension": ".py",
   "mimetype": "text/x-python",
   "name": "python",
   "nbconvert_exporter": "python",
   "pygments_lexer": "ipython3",
   "version": "3.7.4"
  }
 },
 "nbformat": 4,
 "nbformat_minor": 4
}
