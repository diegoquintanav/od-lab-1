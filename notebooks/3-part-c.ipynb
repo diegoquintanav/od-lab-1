{
 "cells": [
  {
   "cell_type": "markdown",
   "metadata": {},
   "source": [
    "# Part C "
   ]
  },
  {
   "cell_type": "code",
   "execution_count": 1,
   "metadata": {},
   "outputs": [
    {
     "data": {
      "text/plain": [
       "'3.7.4 (default, Oct 15 2019, 22:29:14) \\n[GCC 7.4.0]'"
      ]
     },
     "execution_count": 1,
     "metadata": {},
     "output_type": "execute_result"
    }
   ],
   "source": [
    "import sys\n",
    "import random\n",
    "from pprint import pprint as pp\n",
    "random.seed(42)\n",
    "sys.version"
   ]
  },
  {
   "cell_type": "code",
   "execution_count": 2,
   "metadata": {},
   "outputs": [
    {
     "name": "stdout",
     "output_type": "stream",
     "text": [
      "1.7.6\n",
      "4.3.0\n"
     ]
    }
   ],
   "source": [
    "import neo4j\n",
    "import py2neo\n",
    "print(neo4j.__version__)\n",
    "print(py2neo.__version__)"
   ]
  },
  {
   "cell_type": "code",
   "execution_count": 3,
   "metadata": {},
   "outputs": [],
   "source": [
    "from neo4j import GraphDatabase\n",
    "from py2neo import Graph\n",
    "\n",
    "# instantiate drivers\n",
    "NEO4J_URI=\"bolt://localhost:7687\"\n",
    "gdb = GraphDatabase.driver(uri=NEO4J_URI, auth=None)\n",
    "graph = Graph(NEO4J_URI)"
   ]
  },
  {
   "cell_type": "markdown",
   "metadata": {},
   "source": [
    "The graph has the following structure"
   ]
  },
  {
   "cell_type": "markdown",
   "metadata": {},
   "source": [
    "![graph](./schemas/dblp_slim_after/graph.png)"
   ]
  },
  {
   "cell_type": "code",
   "execution_count": 4,
   "metadata": {},
   "outputs": [
    {
     "data": {
      "text/plain": [
       "[{'name': 'algo.allShortestPaths.stream',\n",
       "  'description': \"CALL algo.allShortestPaths.stream(weightProperty:String{nodeQuery:'labelName', relationshipQuery:'relationshipName', defaultValue:1.0, concurrency:4}) YIELD sourceNodeId, targetNodeId, distance - yields a stream of {sourceNodeId, targetNodeId, distance}\",\n",
       "  'signature': 'algo.allShortestPaths.stream(propertyName :: STRING?, config = {} :: MAP?) :: (sourceNodeId :: INTEGER?, targetNodeId :: INTEGER?, distance :: FLOAT?)',\n",
       "  'type': 'procedure'}]"
      ]
     },
     "execution_count": 4,
     "metadata": {},
     "output_type": "execute_result"
    }
   ],
   "source": [
    "graph.run(\"CALL algo.list();\").data()[:1]"
   ]
  },
  {
   "cell_type": "markdown",
   "metadata": {},
   "source": [
    "## PageRank"
   ]
  },
  {
   "cell_type": "code",
   "execution_count": 5,
   "metadata": {},
   "outputs": [
    {
     "data": {
      "text/plain": [
       "[{'title': '\"Bump\":  using a mobile app to enhance learning in simulation scenarios.',\n",
       "  'score': 1.3380366005469115},\n",
       " {'title': 'Linear Hypopigmentation After Triamcinolone Injection: A Rare Complication of a Common Procedure',\n",
       "  'score': 1.2711560409981755},\n",
       " {'title': 'Oleanolic acid suppresses the proliferation of lung carcinoma cells by miR-122/Cyclin G1/MEF2D axis',\n",
       "  'score': 1.2702508100308478},\n",
       " {'title': 'Acetic acid as a sclerosing agent for renal cysts: Comparison with ethanol in follow-up results',\n",
       "  'score': 1.2594134361017493},\n",
       " {'title': 'Restoration of blue scratches in digital image sequences',\n",
       "  'score': 1.2585701291449365}]"
      ]
     },
     "execution_count": 5,
     "metadata": {},
     "output_type": "execute_result"
    }
   ],
   "source": [
    "q_page_rank =\"\"\"\n",
    "CALL algo.pageRank.stream(\n",
    "    'MATCH (a:Article) \n",
    "     WHERE exists ((a)−[:CITED_BY]−>()) \n",
    "     RETURN ID(a) AS id',\n",
    "    'MATCH (a1:Article)−[:CITED_BY]−>(a2:Article)\n",
    "     RETURN id (a1) AS source, ID(a2) AS target',\n",
    "    {graph : 'cypher', iterations:20, dampingFactor:0.85}) \n",
    "YIELD nodeId, score \n",
    "MATCH (a:Article) WHERE ID(a) = nodeId\n",
    "RETURN a.title AS title, score \n",
    "ORDER BY score DESC;\"\"\"\n",
    "\n",
    "graph.run(q_page_rank).data()[:5]"
   ]
  },
  {
   "cell_type": "markdown",
   "metadata": {},
   "source": [
    "## Triangle counting\n",
    "\n",
    "https://neo4j.com/docs/graph-algorithms/current/labs-algorithms/triangle-counting-clustering-coefficient/"
   ]
  },
  {
   "cell_type": "code",
   "execution_count": 6,
   "metadata": {},
   "outputs": [],
   "source": [
    "q_triangle_counting = \"\"\"CALL algo.triangleCount.stream('Article', 'CITED_BY')\n",
    "YIELD nodeId, triangles, coefficient\n",
    "RETURN algo.asNode(nodeId).title AS title, algo.asNode(nodeId).id as id, triangles, coefficient\n",
    "ORDER BY coefficient DESC\"\"\"\n",
    "\n",
    "triangle_count = graph.run(q_triangle_counting).data()"
   ]
  },
  {
   "cell_type": "code",
   "execution_count": 7,
   "metadata": {},
   "outputs": [
    {
     "data": {
      "text/plain": [
       "[{'title': 'DICER1/Alu RNA dysmetabolism induces Caspase-8-mediated cell death in age-related macular degeneration.',\n",
       "  'id': 'f9b4d45b0b6135dfecab5aa950b11f7b17267e91',\n",
       "  'triangles': 212,\n",
       "  'coefficient': 0.603988603988604},\n",
       " {'title': 'Evaluation of novel high-throughput embryonic stem cell tests with new molecular markers for screening embryotoxic chemicals in vitro.',\n",
       "  'id': '421da3edd7d840ce58b811d2ad62dac3dafc7663',\n",
       "  'triangles': 329,\n",
       "  'coefficient': 0.5864527629233511},\n",
       " {'title': \"A fuzzy nonlinear model for quality function deployment considering Kano's concept\",\n",
       "  'id': '6f06076133abe3cd3bfed4d2f20c3fd97eef3702',\n",
       "  'triangles': 287,\n",
       "  'coefficient': 0.5786290322580645},\n",
       " {'title': 'Predictors of clinical outcome in acute pulmonary embolism: Correlation of CT pulmonary angiography with clinical, echocardiography and laboratory findings.',\n",
       "  'id': '7bbffaf73092220bfc3cb2a0a6d34ded8d680c7d',\n",
       "  'triangles': 427,\n",
       "  'coefficient': 0.5762483130904184}]"
      ]
     },
     "execution_count": 7,
     "metadata": {},
     "output_type": "execute_result"
    }
   ],
   "source": [
    "triangle_count[:4]"
   ]
  },
  {
   "cell_type": "markdown",
   "metadata": {},
   "source": [
    "https://en.wikipedia.org/wiki/Clustering_coefficient"
   ]
  },
  {
   "cell_type": "markdown",
   "metadata": {},
   "source": [
    "$${\\displaystyle C={\\frac {3\\times {\\mbox{number of triangles}}}{\\mbox{number of all triplets}}}}$$"
   ]
  },
  {
   "cell_type": "markdown",
   "metadata": {},
   "source": [
    "### Finding triangles "
   ]
  },
  {
   "cell_type": "code",
   "execution_count": 8,
   "metadata": {},
   "outputs": [],
   "source": [
    "q_triangle_descr = \"\"\"CALL algo.triangle.stream('Article','CITED_BY')\n",
    "YIELD nodeA, nodeB, nodeC\n",
    "RETURN algo.asNode(nodeA) AS nodeA, algo.asNode(nodeB) AS nodeB, algo.asNode(nodeC) AS nodeC\"\"\"\n",
    "\n",
    "triangle_count_nodes = graph.run(q_triangle_descr).data()"
   ]
  },
  {
   "cell_type": "code",
   "execution_count": 9,
   "metadata": {},
   "outputs": [
    {
     "data": {
      "text/plain": [
       "[{'nodeA': (_46:Article {doi: '10.1007/s10926-005-9006-z', doi_url: 'https://doi.org/10.1007/s10926-005-9006-z', id: '8fb9c95bf34a0f28dc05819cb4aada0cb94fe555', title: 'Development of Work Stress Scale for Correctional Officers', year: 2005}),\n",
       "  'nodeB': (_72:Article {doi: '10.1046/j.1525-1497.1999.00018.x', doi_url: 'https://doi.org/10.1046/j.1525-1497.1999.00018.x', id: 'c4062742b4e0d13cfa0e992fdf2cebf2eb71c415', title: 'Patient preferences for colon cancer screening', year: 1999}),\n",
       "  'nodeC': (_100:Article {doi: '10.1038/bjc.1990.274', doi_url: 'https://doi.org/10.1038/bjc.1990.274', id: 'f218ce53248d756db61726985f73e6e8c109b3e2', title: 'Coffee consumption and the risk of breast cancer. A prospective study of 14,593 Norwegian women.', year: 1990})}]"
      ]
     },
     "execution_count": 9,
     "metadata": {},
     "output_type": "execute_result"
    }
   ],
   "source": [
    "triangle_count_nodes[:1]"
   ]
  },
  {
   "cell_type": "markdown",
   "metadata": {},
   "source": [
    "Printing only one triangle"
   ]
  },
  {
   "cell_type": "markdown",
   "metadata": {},
   "source": [
    "![triangle_count](schemas/c_triangles_limit_1.png)"
   ]
  },
  {
   "cell_type": "markdown",
   "metadata": {},
   "source": [
    "Printing how the first five triangles are connected"
   ]
  },
  {
   "cell_type": "markdown",
   "metadata": {},
   "source": [
    "![triangle_count](schemas/c_triangles_limit_5.png)"
   ]
  }
 ],
 "metadata": {
  "kernelspec": {
   "display_name": "Python 3.7.4 64-bit ('od': venv)",
   "language": "python",
   "name": "python37464bitodvenv509b99c2ab9d45c0933875aa4d9677e6"
  },
  "language_info": {
   "codemirror_mode": {
    "name": "ipython",
    "version": 3
   },
   "file_extension": ".py",
   "mimetype": "text/x-python",
   "name": "python",
   "nbconvert_exporter": "python",
   "pygments_lexer": "ipython3",
   "version": "3.7.4"
  }
 },
 "nbformat": 4,
 "nbformat_minor": 4
}
