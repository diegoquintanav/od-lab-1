{
 "cells": [
  {
   "cell_type": "markdown",
   "metadata": {},
   "source": [
    "# Part C "
   ]
  },
  {
   "cell_type": "code",
   "execution_count": 1,
   "metadata": {},
   "outputs": [
    {
     "data": {
      "text/plain": [
       "'3.7.4 (default, Oct 15 2019, 22:29:14) \\n[GCC 7.4.0]'"
      ]
     },
     "execution_count": 1,
     "metadata": {},
     "output_type": "execute_result"
    }
   ],
   "source": [
    "import sys\n",
    "import random\n",
    "from pprint import pprint as pp\n",
    "random.seed(42)\n",
    "sys.version"
   ]
  },
  {
   "cell_type": "code",
   "execution_count": 2,
   "metadata": {},
   "outputs": [
    {
     "name": "stdout",
     "output_type": "stream",
     "text": [
      "1.7.6\n",
      "4.3.0\n"
     ]
    }
   ],
   "source": [
    "import neo4j\n",
    "import py2neo\n",
    "print(neo4j.__version__)\n",
    "print(py2neo.__version__)"
   ]
  },
  {
   "cell_type": "code",
   "execution_count": 3,
   "metadata": {},
   "outputs": [],
   "source": [
    "from neo4j import GraphDatabase\n",
    "from py2neo import Graph\n",
    "\n",
    "# instantiate drivers\n",
    "NEO4J_URI=\"bolt://localhost:7687\"\n",
    "gdb = GraphDatabase.driver(uri=NEO4J_URI, auth=None)\n",
    "graph = Graph(NEO4J_URI)"
   ]
  },
  {
   "cell_type": "markdown",
   "metadata": {},
   "source": [
    "The graph has the following structure"
   ]
  },
  {
   "cell_type": "markdown",
   "metadata": {},
   "source": [
    "![graph](./schemas/dblp_slim_after/graph.png)"
   ]
  },
  {
   "cell_type": "code",
   "execution_count": 16,
   "metadata": {},
   "outputs": [
    {
     "data": {
      "text/plain": [
       "[{'name': 'algo.allShortestPaths.stream',\n",
       "  'description': \"CALL algo.allShortestPaths.stream(weightProperty:String{nodeQuery:'labelName', relationshipQuery:'relationshipName', defaultValue:1.0, concurrency:4}) YIELD sourceNodeId, targetNodeId, distance - yields a stream of {sourceNodeId, targetNodeId, distance}\",\n",
       "  'signature': 'algo.allShortestPaths.stream(propertyName :: STRING?, config = {} :: MAP?) :: (sourceNodeId :: INTEGER?, targetNodeId :: INTEGER?, distance :: FLOAT?)',\n",
       "  'type': 'procedure'}]"
      ]
     },
     "execution_count": 16,
     "metadata": {},
     "output_type": "execute_result"
    }
   ],
   "source": [
    "graph.run(\"CALL algo.list();\").data()[:1]"
   ]
  },
  {
   "cell_type": "markdown",
   "metadata": {},
   "source": [
    "## PageRank"
   ]
  },
  {
   "cell_type": "code",
   "execution_count": 11,
   "metadata": {},
   "outputs": [
    {
     "data": {
      "text/plain": [
       "[{'title': 'Template-directed molecular assembly on silicon carbide nanomesh: comparison between CuPc and pentacene.',\n",
       "  'score': 1.3380366005469115},\n",
       " {'title': 'Influence of investment, disinfection, and storage on the microhardness of ocular resins.',\n",
       "  'score': 1.2711560409981755},\n",
       " {'title': 'Fast Runtime Block Cyclic Data Redistribution on Multiprocessors',\n",
       "  'score': 1.2702508100308478},\n",
       " {'title': 'Replication of the range of native anterior cruciate ligament fiber length change behavior achieved by different grafts: measurement using computer-assisted navigation.',\n",
       "  'score': 1.2594134361017493},\n",
       " {'title': 'Evidence for maize (Zea mays) in the Late Archaic (3000-1800 B.C.) in the Norte Chico region of Peru.',\n",
       "  'score': 1.2585701291449365}]"
      ]
     },
     "execution_count": 11,
     "metadata": {},
     "output_type": "execute_result"
    }
   ],
   "source": [
    "q_page_rank =\"\"\"\n",
    "CALL algo.pageRank.stream(\n",
    "    'MATCH (a:Article) \n",
    "     WHERE exists ((a)−[:CITED_BY]−>()) \n",
    "     RETURN ID(a) AS id',\n",
    "    'MATCH (a1:Article)−[:CITED_BY]−>(a2:Article)\n",
    "     RETURN id (a1) AS source, ID(a2) AS target',\n",
    "    {graph : 'cypher', iterations:20, dampingFactor:0.85}) \n",
    "YIELD nodeId, score \n",
    "MATCH (a:Article) WHERE ID(a) = nodeId\n",
    "RETURN a.title AS title, score \n",
    "ORDER BY score DESC;\"\"\"\n",
    "\n",
    "graph.run(q_page_rank).data()[:5]"
   ]
  },
  {
   "cell_type": "markdown",
   "metadata": {},
   "source": [
    "## Triangle counting\n",
    "\n",
    "https://neo4j.com/docs/graph-algorithms/current/labs-algorithms/triangle-counting-clustering-coefficient/"
   ]
  },
  {
   "cell_type": "code",
   "execution_count": 31,
   "metadata": {},
   "outputs": [],
   "source": [
    "q_triangle_counting = \"\"\"CALL algo.triangleCount.stream('Article', 'CITED_BY')\n",
    "YIELD nodeId, triangles, coefficient\n",
    "RETURN algo.asNode(nodeId).title AS title, algo.asNode(nodeId).id as id, triangles, coefficient\n",
    "ORDER BY coefficient DESC\"\"\"\n",
    "\n",
    "triangle_count = graph.run(q_triangle_counting).data()"
   ]
  },
  {
   "cell_type": "code",
   "execution_count": 32,
   "metadata": {},
   "outputs": [
    {
     "data": {
      "text/plain": [
       "[{'title': 'Quantum entanglement between an optical photon and a solid-state spin qubit',\n",
       "  'id': '35e72f5eafce5d0a8853add98956d5ec2f58d9f4',\n",
       "  'triangles': 212,\n",
       "  'coefficient': 0.603988603988604},\n",
       " {'title': 'A joint detection of CEA and CA-50 levels in saliva and serum of patients with tumors in oral region and salivary gland',\n",
       "  'id': '5cfdb256b6ae968374469bd36702ed341cfe9485',\n",
       "  'triangles': 329,\n",
       "  'coefficient': 0.5864527629233511},\n",
       " {'title': 'Patient preferences for colon cancer screening',\n",
       "  'id': 'c4062742b4e0d13cfa0e992fdf2cebf2eb71c415',\n",
       "  'triangles': 287,\n",
       "  'coefficient': 0.5786290322580645},\n",
       " {'title': 'Evolution of Cooperation in the Snowdrift Game with Heterogeneous Population',\n",
       "  'id': '82e8de5c4be2aa76e670e17e21db73edbb3d5a56',\n",
       "  'triangles': 427,\n",
       "  'coefficient': 0.5762483130904184}]"
      ]
     },
     "execution_count": 32,
     "metadata": {},
     "output_type": "execute_result"
    }
   ],
   "source": [
    "triangle_count[:4]"
   ]
  },
  {
   "cell_type": "markdown",
   "metadata": {},
   "source": [
    "https://en.wikipedia.org/wiki/Clustering_coefficient"
   ]
  },
  {
   "cell_type": "markdown",
   "metadata": {},
   "source": [
    "$${\\displaystyle C={\\frac {3\\times {\\mbox{number of triangles}}}{\\mbox{number of all triplets}}}}$$"
   ]
  },
  {
   "cell_type": "markdown",
   "metadata": {},
   "source": [
    "### Finding triangles "
   ]
  },
  {
   "cell_type": "code",
   "execution_count": 27,
   "metadata": {},
   "outputs": [],
   "source": [
    "q_triangle_descr = \"\"\"CALL algo.triangle.stream('Article','CITED_BY')\n",
    "YIELD nodeA, nodeB, nodeC\n",
    "RETURN algo.asNode(nodeA) AS nodeA, algo.asNode(nodeB) AS nodeB, algo.asNode(nodeC) AS nodeC\"\"\"\n",
    "\n",
    "triangle_count_nodes = graph.run(q_triangle_descr).data()"
   ]
  },
  {
   "cell_type": "code",
   "execution_count": 29,
   "metadata": {},
   "outputs": [
    {
     "data": {
      "text/plain": [
       "[{'nodeA': (_26133:Article {doi: '10.1007/BF02270828', doi_url: 'https://doi.org/10.1007/BF02270828', id: 'ed6f7f0d65f4c8bde43f13667c406ff3403f9814', title: 'Predation, seed size partitioning and the evolution of body size in seed-eating finches', year: 2005}),\n",
       "  'nodeB': (_26204:Article {doi: '10.1007/s00439-003-1056-8', doi_url: 'https://doi.org/10.1007/s00439-003-1056-8', id: '36efcd42e8fbe18e0e1baf6c2696e2971aee78b2', title: 'Apolipoprotein B-100 XbaI gene polymorphism in gallbladder cancer', year: 2003}),\n",
       "  'nodeC': (_26205:Article {doi: '10.1016/j.ijcard.2009.06.058', doi_url: 'https://doi.org/10.1016/j.ijcard.2009.06.058', id: '864ca4044d2ebf88ae4bf45df730f571039488b3', title: 'Heart rate dynamics in different levels of Zen meditation.', year: 2010})}]"
      ]
     },
     "execution_count": 29,
     "metadata": {},
     "output_type": "execute_result"
    }
   ],
   "source": [
    "triangle_count_nodes[:1]"
   ]
  },
  {
   "cell_type": "markdown",
   "metadata": {},
   "source": [
    "Printing only one triangle"
   ]
  },
  {
   "cell_type": "markdown",
   "metadata": {},
   "source": [
    "![triangle_count](schemas/c_triangles_limit_1.png)"
   ]
  },
  {
   "cell_type": "markdown",
   "metadata": {},
   "source": [
    "Printing how the first five triangles are connected"
   ]
  },
  {
   "cell_type": "markdown",
   "metadata": {},
   "source": [
    "![triangle_count](schemas/c_triangles_limit_5.png)"
   ]
  },
  {
   "cell_type": "code",
   "execution_count": null,
   "metadata": {},
   "outputs": [],
   "source": []
  }
 ],
 "metadata": {
  "kernelspec": {
   "display_name": "Python 3.7.4 64-bit ('od': venv)",
   "language": "python",
   "name": "python37464bitodvenv509b99c2ab9d45c0933875aa4d9677e6"
  },
  "language_info": {
   "codemirror_mode": {
    "name": "ipython",
    "version": 3
   },
   "file_extension": ".py",
   "mimetype": "text/x-python",
   "name": "python",
   "nbconvert_exporter": "python",
   "pygments_lexer": "ipython3",
   "version": "3.7.4"
  }
 },
 "nbformat": 4,
 "nbformat_minor": 4
}
