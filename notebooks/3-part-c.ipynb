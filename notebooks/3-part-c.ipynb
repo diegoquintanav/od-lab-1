{
 "cells": [
  {
   "cell_type": "markdown",
   "metadata": {},
   "source": [
    "# Part C "
   ]
  },
  {
   "cell_type": "code",
   "execution_count": 1,
   "metadata": {},
   "outputs": [
    {
     "data": {
      "text/plain": [
       "'3.7.4 (default, Oct 15 2019, 22:29:14) \\n[GCC 7.4.0]'"
      ]
     },
     "execution_count": 1,
     "metadata": {},
     "output_type": "execute_result"
    }
   ],
   "source": [
    "import sys\n",
    "import random\n",
    "from pprint import pprint as pp\n",
    "random.seed(42)\n",
    "sys.version"
   ]
  },
  {
   "cell_type": "code",
   "execution_count": 2,
   "metadata": {},
   "outputs": [
    {
     "name": "stdout",
     "output_type": "stream",
     "text": [
      "1.7.6\n",
      "4.3.0\n"
     ]
    }
   ],
   "source": [
    "import neo4j\n",
    "import py2neo\n",
    "print(neo4j.__version__)\n",
    "print(py2neo.__version__)"
   ]
  },
  {
   "cell_type": "code",
   "execution_count": 3,
   "metadata": {},
   "outputs": [],
   "source": [
    "from neo4j import GraphDatabase\n",
    "from py2neo import Graph\n",
    "\n",
    "# instantiate drivers\n",
    "NEO4J_URI=\"bolt://localhost:7687\"\n",
    "gdb = GraphDatabase.driver(uri=NEO4J_URI, auth=None)\n",
    "graph = Graph(NEO4J_URI)"
   ]
  },
  {
   "cell_type": "markdown",
   "metadata": {},
   "source": [
    "The graph has the following structure"
   ]
  },
  {
   "cell_type": "markdown",
   "metadata": {},
   "source": [
    "![graph](./schemas/dblp_slim_after/graph.png)"
   ]
  },
  {
   "cell_type": "code",
   "execution_count": 16,
   "metadata": {},
   "outputs": [
    {
     "data": {
      "text/plain": [
       "[{'name': 'algo.allShortestPaths.stream',\n",
       "  'description': \"CALL algo.allShortestPaths.stream(weightProperty:String{nodeQuery:'labelName', relationshipQuery:'relationshipName', defaultValue:1.0, concurrency:4}) YIELD sourceNodeId, targetNodeId, distance - yields a stream of {sourceNodeId, targetNodeId, distance}\",\n",
       "  'signature': 'algo.allShortestPaths.stream(propertyName :: STRING?, config = {} :: MAP?) :: (sourceNodeId :: INTEGER?, targetNodeId :: INTEGER?, distance :: FLOAT?)',\n",
       "  'type': 'procedure'}]"
      ]
     },
     "execution_count": 16,
     "metadata": {},
     "output_type": "execute_result"
    }
   ],
   "source": [
    "graph.run(\"CALL algo.list();\").data()[:1]"
   ]
  },
  {
   "cell_type": "markdown",
   "metadata": {},
   "source": [
    "## PageRank"
   ]
  },
  {
   "cell_type": "code",
   "execution_count": 11,
   "metadata": {},
   "outputs": [
    {
     "data": {
      "text/plain": [
       "[{'title': 'Template-directed molecular assembly on silicon carbide nanomesh: comparison between CuPc and pentacene.',\n",
       "  'score': 1.3380366005469115},\n",
       " {'title': 'Influence of investment, disinfection, and storage on the microhardness of ocular resins.',\n",
       "  'score': 1.2711560409981755},\n",
       " {'title': 'Fast Runtime Block Cyclic Data Redistribution on Multiprocessors',\n",
       "  'score': 1.2702508100308478},\n",
       " {'title': 'Replication of the range of native anterior cruciate ligament fiber length change behavior achieved by different grafts: measurement using computer-assisted navigation.',\n",
       "  'score': 1.2594134361017493},\n",
       " {'title': 'Evidence for maize (Zea mays) in the Late Archaic (3000-1800 B.C.) in the Norte Chico region of Peru.',\n",
       "  'score': 1.2585701291449365}]"
      ]
     },
     "execution_count": 11,
     "metadata": {},
     "output_type": "execute_result"
    }
   ],
   "source": [
    "q_page_rank =\"\"\"\n",
    "CALL algo.pageRank.stream(\n",
    "    'MATCH (a:Article) \n",
    "     WHERE exists ((a)−[:CITED_BY]−>()) \n",
    "     RETURN ID(a) AS id',\n",
    "    'MATCH (a1:Article)−[:CITED_BY]−>(a2:Article)\n",
    "     RETURN id (a1) AS source, ID(a2) AS target',\n",
    "    {graph : 'cypher', iterations:20, dampingFactor:0.85}) \n",
    "YIELD nodeId, score \n",
    "MATCH (a:Article) WHERE ID(a) = nodeId\n",
    "RETURN a.title AS title, score \n",
    "ORDER BY score DESC;\"\"\"\n",
    "\n",
    "graph.run(q_page_rank).data()[:5]"
   ]
  },
  {
   "cell_type": "code",
   "execution_count": null,
   "metadata": {},
   "outputs": [],
   "source": [
    "## "
   ]
  }
 ],
 "metadata": {
  "kernelspec": {
   "display_name": "Python 3.7.4 64-bit ('od': venv)",
   "language": "python",
   "name": "python37464bitodvenv509b99c2ab9d45c0933875aa4d9677e6"
  },
  "language_info": {
   "codemirror_mode": {
    "name": "ipython",
    "version": 3
   },
   "file_extension": ".py",
   "mimetype": "text/x-python",
   "name": "python",
   "nbconvert_exporter": "python",
   "pygments_lexer": "ipython3",
   "version": "3.7.4"
  }
 },
 "nbformat": 4,
 "nbformat_minor": 4
}
