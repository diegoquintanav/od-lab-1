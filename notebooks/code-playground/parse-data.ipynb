{
 "cells": [
  {
   "cell_type": "code",
   "execution_count": 3,
   "metadata": {},
   "outputs": [
    {
     "name": "stdout",
     "output_type": "stream",
     "text": [
      "dblp-csv  dblp-dump-raw  neo4jdrivers-playground.ipynb\tparse-data.ipynb\n"
     ]
    }
   ],
   "source": [
    "!ls"
   ]
  },
  {
   "cell_type": "code",
   "execution_count": 2,
   "metadata": {},
   "outputs": [
    {
     "data": {
      "text/plain": [
       "'3.7.4 (default, Oct 15 2019, 22:29:14) \\n[GCC 7.4.0]'"
      ]
     },
     "execution_count": 2,
     "metadata": {},
     "output_type": "execute_result"
    }
   ],
   "source": [
    "import sys\n",
    "sys.version"
   ]
  },
  {
   "cell_type": "code",
   "execution_count": 3,
   "metadata": {},
   "outputs": [
    {
     "data": {
      "text/plain": [
       "'1.0.1'"
      ]
     },
     "execution_count": 3,
     "metadata": {},
     "output_type": "execute_result"
    }
   ],
   "source": [
    "import pandas as pd\n",
    "pd.__version__"
   ]
  },
  {
   "cell_type": "code",
   "execution_count": 4,
   "metadata": {},
   "outputs": [
    {
     "name": "stdout",
     "output_type": "stream",
     "text": [
      "articles.csv  authors.csv  journals.csv  README.txt\n"
     ]
    }
   ],
   "source": [
    "!ls dblp-csv/"
   ]
  },
  {
   "cell_type": "code",
   "execution_count": 5,
   "metadata": {},
   "outputs": [
    {
     "name": "stdout",
     "output_type": "stream",
     "text": [
      "\"1\";\"Acta Inf.-33\";\"journals/acta/Saxena96\";\"Parallel Integer Sorting and Simulation Amongst CRCW Models.\";\"33\";\"607-619\";\"https://doi.org/10.1007/BF03036466\";\"1996\";\"Acta Inf.\";\"0\";\"1\";\"db/journals/acta/acta33.html#Saxena96\";\"1995-06-30 00:00:00\";\"N;\"N;\"N;\"N;\"0\";\"0\"\n",
      "\"2\";\"Acta Inf.-20\";\"journals/acta/Simon83\";\"Pattern Matching in Trees and Nets.\";\"20\";\"227-248\";\"https://doi.org/10.1007/BF01257084\";\"1983\";\"Acta Inf.\";\"0\";\"1\";\"db/journals/acta/acta20.html#Simon83\";\"1983-04-11 00:00:00\";\"N;\"N;\"N;\"N;\"0\";\"0\"\n",
      "\"3\";\"Acta Inf.-20\";\"journals/acta/GoodmanS83\";\"NP-complete Problems Simplified on Tree Schemas.\";\"20\";\"171-178\";\"https://doi.org/10.1007/BF00289414\";\"1983\";\"Acta Inf.\";\"0\";\"2\";\"db/journals/acta/acta20.html#GoodmanS83\";\"1983-05-02 00:00:00\";\"N;\"N;\"N;\"N;\"0\";\"0\"\n",
      "\"4\";\"Acta Inf.-17\";\"journals/acta/Blum82\";\"On the Power of Chain Rules in Context Free Grammars.\";\"17\";\"425-433\";\"https://doi.org/10.1007/BF00264161\";\"1982\";\"Acta Inf.\";\"0\";\"1\";\"db/journals/acta/acta17.html#Blum82\";\"1982-02-18 00:00:00\";\"N;\"N;\"N;\"N;\"0\";\"0\"\n",
      "\"5\";\"Acta Inf.-7\";\"journals/acta/Schonhage77\";\"Schnelle Multiplikation von Polynomen�ber K�rpern der Charakteristik 2.\";\"7\";\"395-398\";\"https://doi.org/10.1007/BF00289470\";\"1977\";\"Acta Inf.\";\"0\";\"1\";\"db/journals/acta/acta7.html#Schonhage77\";\"1976-02-09 00:00:00\";\"N;\"N;\"N;\"N;\"0\";\"0\"\n",
      "\"6\";\"Acta Inf.-48\";\"journals/acta/Honkala11\";\"A characterization of rational D0L power series.\";\"48\";\"19-24\";\"https://doi.org/10.1007/s00236-010-0128-1\";\"2011\";\"Acta Inf.\";\"0\";\"1\";\"db/journals/acta/acta48.html#Honkala11\";\"2010-07-05 00:00:00\";\"N;\"2010-11-01 00:00:00\";\"2010-11-20 00:00:00\";\"N;\"119\";\"19\"\n",
      "\"7\";\"Acta Inf.-24\";\"journals/acta/HuangL87\";\"The Derivation of Systolic Implementations of Programs.\";\"24\";\"595-632\";\"https://doi.org/10.1007/BF00282618\";\"1987\";\"Acta Inf.\";\"0\";\"2\";\"db/journals/acta/acta24.html#HuangL87\";\"N;\"N;\"N;\"N;\"N;\"N;\"N\n",
      "\"8\";\"Acta Inf.-25\";\"journals/acta/FinkelC87\";\"Fifo Nets Without Order Deadlock.\";\"25\";\"15-36\";\"https://doi.org/10.1007/BF00268843\";\"1988\";\"Acta Inf.\";\"0\";\"2\";\"db/journals/acta/acta25.html#FinkelC87\";\"1987-08-12 00:00:00\";\"N;\"N;\"N;\"N;\"0\";\"0\"\n",
      "\"9\";\"Acta Inf.-10\";\"journals/acta/Biskup78\";\"On the Complementation Rule for Multivalued Dependencies in Database Relations.\";\"10\";\"297-305\";\"https://doi.org/10.1007/BF00264322\";\"1978\";\"Acta Inf.\";\"0\";\"1\";\"db/journals/acta/acta10.html#Biskup78\";\"1978-03-07 00:00:00\";\"N;\"N;\"N;\"N;\"0\";\"0\"\n",
      "\"10\";\"Acta Inf.-49\";\"journals/acta/BozapalidisFR12\";\"Equational weighted tree transformations.\";\"49\";\"29-52\";\"https://doi.org/10.1007/s00236-011-0148-5\";\"2012\";\"Acta Inf.\";\"0\";\"3\";\"db/journals/acta/acta49.html#BozapalidisFR12\";\"2011-03-31 00:00:00\";\"N;\"2011-11-22 00:00:00\";\"2011-12-06 00:00:00\";\"N;\"236\";\"14\"\n"
     ]
    }
   ],
   "source": [
    "!head dblp-csv/articles.csv"
   ]
  },
  {
   "cell_type": "code",
   "execution_count": 11,
   "metadata": {},
   "outputs": [
    {
     "name": "stdout",
     "output_type": "stream",
     "text": [
      "1\tActa Inf.-33\tjournals/acta/Saxena96\tParallel Integer Sorting and Simulation Amongst CRCW Models.\t33\n",
      "2\tActa Inf.-20\tjournals/acta/Simon83\tPattern Matching in Trees and Nets.\t20\n",
      "3\tActa Inf.-20\tjournals/acta/GoodmanS83\tNP-complete Problems Simplified on Tree Schemas.\t20\n",
      "4\tActa Inf.-17\tjournals/acta/Blum82\tOn the Power of Chain Rules in Context Free Grammars.\t17\n",
      "5\tActa Inf.-7\tjournals/acta/Schonhage77\tSchnelle Multiplikation von Polynomenüber Körpern der Charakteristik 2.\t7\n",
      "6\tActa Inf.-48\tjournals/acta/Honkala11\tA characterization of rational D0L power series.\t48\n",
      "7\tActa Inf.-24\tjournals/acta/HuangL87\tThe Derivation of Systolic Implementations of Programs.\t24\n",
      "9\tActa Inf.-10\tjournals/acta/Biskup78\tOn the Complementation Rule for Multivalued Dependencies in Database Relations.\t10\n",
      "10\tActa Inf.-49\tjournals/acta/BozapalidisFR12\tEquational weighted tree transformations.\t49\n",
      "11\tActa Inf.-43\tjournals/acta/KhomenkoKKV06\tMerged processes: a new condensed representation of Petri net behaviour.\t43\n",
      "12\tActa Inf.-50\tjournals/acta/Hesselink13\tVerifying a simplification of mutual exclusion by Lycklama-Hadzilacos.\t50\n"
     ]
    }
   ],
   "source": [
    "import csv\n",
    "\n",
    "with open(\"dblp-csv/articles.csv\", \"rt\", encoding=\"ISO-8859-1\") as fp:\n",
    "    spamreader = csv.reader(fp, delimiter=';', quotechar='\"')\n",
    "    for idx, row in enumerate(spamreader):\n",
    "        print('\\t'.join(row[:5]))\n",
    "        if idx == 10:\n",
    "            break\n",
    "        "
   ]
  },
  {
   "cell_type": "markdown",
   "metadata": {},
   "source": [
    "Find out more about lazy generators in https://stackoverflow.com/questions/519633/lazy-method-for-reading-big-file-in-python"
   ]
  },
  {
   "cell_type": "markdown",
   "metadata": {},
   "source": [
    "## Reading XML"
   ]
  },
  {
   "cell_type": "code",
   "execution_count": 12,
   "metadata": {},
   "outputs": [],
   "source": [
    "DBLP_XML_PATH = \"dblp-dump-raw/dblp.xml\""
   ]
  },
  {
   "cell_type": "code",
   "execution_count": 13,
   "metadata": {},
   "outputs": [
    {
     "name": "stdout",
     "output_type": "stream",
     "text": [
      "<?xml version=\"1.0\" encoding=\"ISO-8859-1\"?>\n",
      "<!DOCTYPE dblp SYSTEM \"dblp.dtd\">\n",
      "<dblp>\n",
      "<article mdate=\"2018-01-07\" key=\"tr/meltdown/s18\" publtype=\"informal\">\n",
      "<author>Paul Kocher</author>\n",
      "<author>Daniel Genkin</author>\n",
      "<author>Daniel Gruss</author>\n",
      "<author>Werner Haas</author>\n",
      "<author>Mike Hamburg</author>\n",
      "<author>Moritz Lipp</author>\n"
     ]
    }
   ],
   "source": [
    "!head \"dblp-dump-raw/dblp.xml\""
   ]
  },
  {
   "cell_type": "code",
   "execution_count": 16,
   "metadata": {},
   "outputs": [
    {
     "name": "stdout",
     "output_type": "stream",
     "text": [
      "2,7G\tdblp-dump-raw/dblp.xml\n"
     ]
    }
   ],
   "source": [
    "!du -h \"dblp-dump-raw/dblp.xml\""
   ]
  },
  {
   "cell_type": "markdown",
   "metadata": {},
   "source": [
    "### Exploring the XML Schema"
   ]
  },
  {
   "cell_type": "code",
   "execution_count": 35,
   "metadata": {},
   "outputs": [
    {
     "name": "stdout",
     "output_type": "stream",
     "text": [
      "start <Element 'dblp' at 0x7f255e996050>\n",
      "start <Element 'article' at 0x7f255e996110>\n",
      "start <Element 'author' at 0x7f255e9961d0>\n",
      "end <Element 'author' at 0x7f255e9961d0>\n",
      "start <Element 'author' at 0x7f255e996230>\n",
      "end <Element 'author' at 0x7f255e996230>\n",
      "start <Element 'author' at 0x7f255e996290>\n",
      "end <Element 'author' at 0x7f255e996290>\n",
      "start <Element 'author' at 0x7f255e9962f0>\n",
      "end <Element 'author' at 0x7f255e9962f0>\n",
      "start <Element 'author' at 0x7f255e996350>\n",
      "end <Element 'author' at 0x7f255e996350>\n",
      "start <Element 'author' at 0x7f255e9963b0>\n",
      "end <Element 'author' at 0x7f255e9963b0>\n",
      "start <Element 'author' at 0x7f255e996410>\n",
      "end <Element 'author' at 0x7f255e996410>\n",
      "start <Element 'author' at 0x7f255e996470>\n",
      "end <Element 'author' at 0x7f255e996470>\n",
      "start <Element 'author' at 0x7f255e9964d0>\n",
      "end <Element 'author' at 0x7f255e9964d0>\n",
      "start <Element 'author' at 0x7f255e996530>\n",
      "end <Element 'author' at 0x7f255e996530>\n",
      "start <Element 'title' at 0x7f255e996590>\n",
      "end <Element 'title' at 0x7f255e996590>\n",
      "start <Element 'journal' at 0x7f255e9965f0>\n",
      "end <Element 'journal' at 0x7f255e9965f0>\n",
      "start <Element 'year' at 0x7f255e996650>\n",
      "end <Element 'year' at 0x7f255e996650>\n",
      "start <Element 'ee' at 0x7f255e9966b0>\n",
      "end <Element 'ee' at 0x7f255e9966b0>\n",
      "end <Element 'article' at 0x7f255e996110>\n",
      "start <Element 'article' at 0x7f255e996770>\n",
      "start <Element 'author' at 0x7f255e9967d0>\n",
      "end <Element 'author' at 0x7f255e9967d0>\n",
      "start <Element 'author' at 0x7f255e996830>\n",
      "end <Element 'author' at 0x7f255e996830>\n",
      "start <Element 'author' at 0x7f255e996890>\n",
      "end <Element 'author' at 0x7f255e996890>\n",
      "start <Element 'author' at 0x7f255e9968f0>\n",
      "end <Element 'author' at 0x7f255e9968f0>\n",
      "start <Element 'author' at 0x7f255e996950>\n",
      "end <Element 'author' at 0x7f255e996950>\n",
      "start <Element 'author' at 0x7f255e9969b0>\n",
      "end <Element 'author' at 0x7f255e9969b0>\n",
      "start <Element 'author' at 0x7f255e996a10>\n",
      "end <Element 'author' at 0x7f255e996a10>\n",
      "start <Element 'author' at 0x7f255e996a70>\n",
      "end <Element 'author' at 0x7f255e996a70>\n",
      "start <Element 'author' at 0x7f255e996ad0>\n",
      "end <Element 'author' at 0x7f255e996ad0>\n",
      "start <Element 'author' at 0x7f255e996b30>\n",
      "end <Element 'author' at 0x7f255e996b30>\n",
      "start <Element 'title' at 0x7f255e996b90>\n",
      "end <Element 'title' at 0x7f255e996b90>\n",
      "start <Element 'journal' at 0x7f255e996bf0>\n",
      "end <Element 'journal' at 0x7f255e996bf0>\n",
      "start <Element 'ee' at 0x7f255e996c50>\n",
      "end <Element 'ee' at 0x7f255e996c50>\n",
      "start <Element 'year' at 0x7f255e996d10>\n",
      "end <Element 'year' at 0x7f255e996d10>\n",
      "end <Element 'article' at 0x7f255e996770>\n",
      "start <Element 'book' at 0x7f255e996d70>\n",
      "start <Element 'title' at 0x7f255e996dd0>\n",
      "end <Element 'title' at 0x7f255e996dd0>\n",
      "start <Element 'publisher' at 0x7f255e996e30>\n",
      "end <Element 'publisher' at 0x7f255e996e30>\n",
      "start <Element 'year' at 0x7f255e996ef0>\n",
      "end <Element 'year' at 0x7f255e996ef0>\n",
      "start <Element 'ee' at 0x7f255e996f50>\n",
      "end <Element 'ee' at 0x7f255e996f50>\n",
      "start <Element 'isbn' at 0x7f255e996fb0>\n",
      "end <Element 'isbn' at 0x7f255e996fb0>\n",
      "end <Element 'book' at 0x7f255e996d70>\n",
      "start <Element 'article' at 0x7f255e985050>\n",
      "start <Element 'author' at 0x7f255e9850b0>\n",
      "end <Element 'author' at 0x7f255e9850b0>\n",
      "start <Element 'title' at 0x7f255e985110>\n",
      "end <Element 'title' at 0x7f255e985110>\n",
      "start <Element 'journal' at 0x7f255e985170>\n",
      "end <Element 'journal' at 0x7f255e985170>\n",
      "start <Element 'volume' at 0x7f255e9851d0>\n",
      "end <Element 'volume' at 0x7f255e9851d0>\n",
      "start <Element 'month' at 0x7f255e985230>\n",
      "end <Element 'month' at 0x7f255e985230>\n",
      "start <Element 'year' at 0x7f255e985290>\n",
      "end <Element 'year' at 0x7f255e985290>\n",
      "start <Element 'url' at 0x7f255e9852f0>\n",
      "end <Element 'url' at 0x7f255e9852f0>\n",
      "end <Element 'article' at 0x7f255e985050>\n",
      "start <Element 'article' at 0x7f255e9853b0>\n",
      "start <Element 'author' at 0x7f255e985410>\n",
      "end <Element 'author' at 0x7f255e985410>\n",
      "start <Element 'author' at 0x7f255e985470>\n",
      "end <Element 'author' at 0x7f255e985470>\n",
      "start <Element 'title' at 0x7f255e9854d0>\n",
      "end <Element 'title' at 0x7f255e9854d0>\n",
      "start <Element 'journal' at 0x7f255e985530>\n",
      "end <Element 'journal' at 0x7f255e985530>\n",
      "start <Element 'volume' at 0x7f255e985590>\n",
      "end <Element 'volume' at 0x7f255e985590>\n",
      "start <Element 'month' at 0x7f255e9855f0>\n",
      "end <Element 'month' at 0x7f255e9855f0>\n",
      "start <Element 'year' at 0x7f255e985650>\n",
      "end <Element 'year' at 0x7f255e985650>\n",
      "start <Element 'url' at 0x7f255e9856b0>\n",
      "end <Element 'url' at 0x7f255e9856b0>\n",
      "start <Element 'note' at 0x7f255e985770>\n",
      "end <Element 'note' at 0x7f255e985770>\n",
      "end <Element 'article' at 0x7f255e9853b0>\n",
      "start <Element 'article' at 0x7f255e9857d0>\n",
      "start <Element 'author' at 0x7f255e985830>\n",
      "end <Element 'author' at 0x7f255e985830>\n",
      "start <Element 'author' at 0x7f255e985890>\n",
      "end <Element 'author' at 0x7f255e985890>\n",
      "start <Element 'author' at 0x7f255e9858f0>\n",
      "end <Element 'author' at 0x7f255e9858f0>\n",
      "start <Element 'title' at 0x7f255e985950>\n",
      "end <Element 'title' at 0x7f255e985950>\n",
      "start <Element 'journal' at 0x7f255e9859b0>\n",
      "end <Element 'journal' at 0x7f255e9859b0>\n",
      "start <Element 'volume' at 0x7f255e985a10>\n",
      "end <Element 'volume' at 0x7f255e985a10>\n",
      "start <Element 'month' at 0x7f255e985a70>\n",
      "end <Element 'month' at 0x7f255e985a70>\n",
      "start <Element 'year' at 0x7f255e985ad0>\n",
      "end <Element 'year' at 0x7f255e985ad0>\n",
      "start <Element 'url' at 0x7f255e985b30>\n",
      "end <Element 'url' at 0x7f255e985b30>\n",
      "end <Element 'article' at 0x7f255e9857d0>\n",
      "start <Element 'article' at 0x7f255e985bf0>\n",
      "start <Element 'author' at 0x7f255e985c50>\n",
      "end <Element 'author' at 0x7f255e985c50>\n",
      "start <Element 'title' at 0x7f255e985cb0>\n",
      "end <Element 'title' at 0x7f255e985cb0>\n",
      "start <Element 'journal' at 0x7f255e985d10>\n",
      "end <Element 'journal' at 0x7f255e985d10>\n",
      "start <Element 'volume' at 0x7f255e985d70>\n",
      "end <Element 'volume' at 0x7f255e985d70>\n",
      "start <Element 'month' at 0x7f255e985dd0>\n",
      "end <Element 'month' at 0x7f255e985dd0>\n",
      "start <Element 'year' at 0x7f255e985e30>\n",
      "end <Element 'year' at 0x7f255e985e30>\n",
      "start <Element 'url' at 0x7f255e985e90>\n",
      "end <Element 'url' at 0x7f255e985e90>\n",
      "end <Element 'article' at 0x7f255e985bf0>\n",
      "start <Element 'article' at 0x7f255e985f50>\n",
      "start <Element 'author' at 0x7f255e985fb0>\n",
      "end <Element 'author' at 0x7f255e985fb0>\n",
      "start <Element 'title' at 0x7f255e9ac050>\n",
      "end <Element 'title' at 0x7f255e9ac050>\n",
      "start <Element 'journal' at 0x7f255e9ac0b0>\n",
      "end <Element 'journal' at 0x7f255e9ac0b0>\n",
      "start <Element 'volume' at 0x7f255e9ac110>\n",
      "end <Element 'volume' at 0x7f255e9ac110>\n",
      "start <Element 'month' at 0x7f255e9ac170>\n",
      "end <Element 'month' at 0x7f255e9ac170>\n",
      "start <Element 'year' at 0x7f255e9ac1d0>\n",
      "end <Element 'year' at 0x7f255e9ac1d0>\n",
      "start <Element 'url' at 0x7f255e9ac230>\n",
      "end <Element 'url' at 0x7f255e9ac230>\n",
      "end <Element 'article' at 0x7f255e985f50>\n",
      "start <Element 'article' at 0x7f255e9ac2f0>\n",
      "start <Element 'author' at 0x7f255e9ac350>\n",
      "end <Element 'author' at 0x7f255e9ac350>\n",
      "start <Element 'author' at 0x7f255e9ac3b0>\n"
     ]
    },
    {
     "ename": "ParseError",
     "evalue": "undefined entity &Ouml;: line 90, column 17 (<string>)",
     "output_type": "error",
     "traceback": [
      "Traceback \u001b[0;36m(most recent call last)\u001b[0m:\n",
      "  File \u001b[1;32m\"/home/diego/.pyenv/versions/3.7.4/envs/od/lib/python3.7/site-packages/IPython/core/interactiveshell.py\"\u001b[0m, line \u001b[1;32m3331\u001b[0m, in \u001b[1;35mrun_code\u001b[0m\n    exec(code_obj, self.user_global_ns, self.user_ns)\n",
      "  File \u001b[1;32m\"<ipython-input-35-1e2a6c1d3868>\"\u001b[0m, line \u001b[1;32m3\u001b[0m, in \u001b[1;35m<module>\u001b[0m\n    for event, elem in ET.iterparse(DBLP_XML_PATH, events=[\"start\", \"end\"]):\n",
      "  File \u001b[1;32m\"/home/diego/.pyenv/versions/3.7.4/lib/python3.7/xml/etree/ElementTree.py\"\u001b[0m, line \u001b[1;32m1222\u001b[0m, in \u001b[1;35miterator\u001b[0m\n    yield from pullparser.read_events()\n",
      "  File \u001b[1;32m\"/home/diego/.pyenv/versions/3.7.4/lib/python3.7/xml/etree/ElementTree.py\"\u001b[0m, line \u001b[1;32m1297\u001b[0m, in \u001b[1;35mread_events\u001b[0m\n    raise event\n",
      "\u001b[0;36m  File \u001b[0;32m\"/home/diego/.pyenv/versions/3.7.4/lib/python3.7/xml/etree/ElementTree.py\"\u001b[0;36m, line \u001b[0;32m1269\u001b[0;36m, in \u001b[0;35mfeed\u001b[0;36m\u001b[0m\n\u001b[0;31m    self._parser.feed(data)\u001b[0m\n",
      "\u001b[0;36m  File \u001b[0;32m\"<string>\"\u001b[0;36m, line \u001b[0;32munknown\u001b[0m\n\u001b[0;31mParseError\u001b[0m\u001b[0;31m:\u001b[0m undefined entity &Ouml;: line 90, column 17\n"
     ]
    }
   ],
   "source": [
    "previous = None\n",
    "level = 0\n",
    "for event, elem in ET.iterparse(DBLP_XML_PATH, events=[\"start\", \"end\"]):\n",
    "    print(event, elem)"
   ]
  },
  {
   "cell_type": "code",
   "execution_count": null,
   "metadata": {},
   "outputs": [],
   "source": []
  },
  {
   "cell_type": "code",
   "execution_count": 17,
   "metadata": {},
   "outputs": [
    {
     "ename": "ParseError",
     "evalue": "undefined entity &Ouml;: line 90, column 17 (<string>)",
     "output_type": "error",
     "traceback": [
      "Traceback \u001b[0;36m(most recent call last)\u001b[0m:\n",
      "  File \u001b[1;32m\"/home/diego/.pyenv/versions/3.7.4/envs/od/lib/python3.7/site-packages/IPython/core/interactiveshell.py\"\u001b[0m, line \u001b[1;32m3331\u001b[0m, in \u001b[1;35mrun_code\u001b[0m\n    exec(code_obj, self.user_global_ns, self.user_ns)\n",
      "  File \u001b[1;32m\"<ipython-input-17-dda82b917606>\"\u001b[0m, line \u001b[1;32m2\u001b[0m, in \u001b[1;35m<module>\u001b[0m\n    tree = ET.parse(DBLP_XML_PATH)\n",
      "  File \u001b[1;32m\"/home/diego/.pyenv/versions/3.7.4/lib/python3.7/xml/etree/ElementTree.py\"\u001b[0m, line \u001b[1;32m1197\u001b[0m, in \u001b[1;35mparse\u001b[0m\n    tree.parse(source, parser)\n",
      "\u001b[0;36m  File \u001b[0;32m\"/home/diego/.pyenv/versions/3.7.4/lib/python3.7/xml/etree/ElementTree.py\"\u001b[0;36m, line \u001b[0;32m598\u001b[0;36m, in \u001b[0;35mparse\u001b[0;36m\u001b[0m\n\u001b[0;31m    self._root = parser._parse_whole(source)\u001b[0m\n",
      "\u001b[0;36m  File \u001b[0;32m\"<string>\"\u001b[0;36m, line \u001b[0;32munknown\u001b[0m\n\u001b[0;31mParseError\u001b[0m\u001b[0;31m:\u001b[0m undefined entity &Ouml;: line 90, column 17\n"
     ]
    }
   ],
   "source": [
    "import xml.etree.ElementTree as ET\n",
    "tree = ET.parse(DBLP_XML_PATH)"
   ]
  },
  {
   "cell_type": "code",
   "execution_count": null,
   "metadata": {},
   "outputs": [],
   "source": [
    "root = tree.getroot()\n",
    "\n",
    "# total amount of items\n",
    "print(len(root[0]))"
   ]
  },
  {
   "cell_type": "markdown",
   "metadata": {},
   "source": [
    "### Converting XML to CSV"
   ]
  },
  {
   "cell_type": "markdown",
   "metadata": {},
   "source": [
    "There is a script here https://github.com/ThomHurks/dblp-to-csv/blob/master/XMLToCSV.py that helps converting XML to CSV files"
   ]
  },
  {
   "cell_type": "markdown",
   "metadata": {},
   "source": [
    "```bash\n",
    "$ ./XMLToCSV.py --annotate --neo4j dblp-raw/dblp.xml dblp-raw/dblp.dtd output.csv --relations author:a\n",
    "uthored_by journal:published_i\n",
    "n publisher:published_by school:submitted_at editor:edited_by cite:has_citation\n",
    "\n",
    "Will create relations for attribute(s): author, cite, editor, journal, publisher, school\n",
    "Start!\n",
    "Reading elements from DTD file...\n",
    "Finding unique attributes for all elements...\n",
    "Opening output files...\n",
    "Parsing XML and writing to CSV files...\n",
    "hWriting relation files...\n",
    "Writing annotated headers...\n",
    "Generating neo4j-import command...\n",
    "Writing neo4j-import command to shell script file...\n",
    "Done after 834.380208 seconds\n",
    "```"
   ]
  },
  {
   "cell_type": "code",
   "execution_count": 1,
   "metadata": {},
   "outputs": [
    {
     "name": "stdout",
     "output_type": "stream",
     "text": [
      "neo4j_import.sh\t\t\t output_journal.csv\n",
      "output_article.csv\t\t output_journal_published_in.csv\n",
      "output_article_header.csv\t output_mastersthesis.csv\n",
      "output_author_authored_by.csv\t output_mastersthesis_header.csv\n",
      "output_author.csv\t\t output_phdthesis.csv\n",
      "output_book.csv\t\t\t output_phdthesis_header.csv\n",
      "output_book_header.csv\t\t output_proceedings.csv\n",
      "output_cite.csv\t\t\t output_proceedings_header.csv\n",
      "output_cite_has_citation.csv\t output_publisher.csv\n",
      "output_editor.csv\t\t output_publisher_published_by.csv\n",
      "output_editor_edited_by.csv\t output_school.csv\n",
      "output_incollection.csv\t\t output_school_submitted_at.csv\n",
      "output_incollection_header.csv\t output_www.csv\n",
      "output_inproceedings.csv\t output_www_header.csv\n",
      "output_inproceedings_header.csv\n"
     ]
    }
   ],
   "source": [
    "!ls output/"
   ]
  },
  {
   "cell_type": "code",
   "execution_count": null,
   "metadata": {},
   "outputs": [],
   "source": [
    "!car output/ne"
   ]
  }
 ],
 "metadata": {
  "kernelspec": {
   "display_name": "Python 3",
   "language": "python",
   "name": "python3"
  },
  "language_info": {
   "codemirror_mode": {
    "name": "ipython",
    "version": 3
   },
   "file_extension": ".py",
   "mimetype": "text/x-python",
   "name": "python",
   "nbconvert_exporter": "python",
   "pygments_lexer": "ipython3",
   "version": "3.7.4"
  }
 },
 "nbformat": 4,
 "nbformat_minor": 4
}
