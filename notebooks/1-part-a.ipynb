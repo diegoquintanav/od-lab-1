{
 "cells": [
  {
   "cell_type": "markdown",
   "metadata": {},
   "source": [
    "# Part A"
   ]
  },
  {
   "cell_type": "code",
   "execution_count": 7,
   "metadata": {},
   "outputs": [
    {
     "data": {
      "text/plain": [
       "'3.7.4 (default, Oct 15 2019, 22:29:14) \\n[GCC 7.4.0]'"
      ]
     },
     "execution_count": 7,
     "metadata": {},
     "output_type": "execute_result"
    }
   ],
   "source": [
    "import sys\n",
    "import json\n",
    "import random\n",
    "sys.version"
   ]
  },
  {
   "cell_type": "code",
   "execution_count": 5,
   "metadata": {},
   "outputs": [],
   "source": [
    "from py2neo import Graph\n",
    "from neo4j import GraphDatabase\n",
    "NEO4J_URI=\"bolt://localhost:7687\"\n",
    "SC_JSON = \"semantic-scholar-raw/s2-corpus-slim.json\"\n",
    "SC_JSON_GITHUB = \"https://raw.githubusercontent.com/diegoquintanav/od-lab-1/master/notebooks/semantic-scholar-raw/s2-corpus-slim.json\"\n",
    "\n",
    "graph = Graph(NEO4J_URI)\n",
    "gdb = GraphDatabase.driver(uri=NEO4J_URI, auth=None)"
   ]
  },
  {
   "cell_type": "code",
   "execution_count": 4,
   "metadata": {},
   "outputs": [],
   "source": [
    "from faker import Faker\n",
    "from faker.providers import lorem\n",
    "fake = Faker()\n",
    "fake.seed_instance(42)\n",
    "fake.add_provider(lorem)"
   ]
  },
  {
   "cell_type": "markdown",
   "metadata": {},
   "source": [
    "http://s2-public-api-prod.us-west-2.elasticbeanstalk.com/corpus/"
   ]
  },
  {
   "cell_type": "markdown",
   "metadata": {},
   "source": [
    "Download a part of the corpus with the `aws` command line interface, like\n",
    "\n",
    "```aws s3 cp --no-sign-request s3://ai2-s2-research-public/open-corpus/2018-05-03/s2-corpus-00.gz .```\n",
    "\n",
    "or\n",
    "\n",
    "```wget https://s3-us-west-2.amazonaws.com/ai2-s2-research-public/open-corpus/2018-05-03/s2-corpus-00.gz```\n",
    "\n",
    "And then `gunzip` it."
   ]
  },
  {
   "cell_type": "code",
   "execution_count": 31,
   "metadata": {},
   "outputs": [
    {
     "name": "stdout",
     "output_type": "stream",
     "text": [
      "license.txt   s2-corpus-00\t    s2-corpus-clean.tmp\n",
      "manifest.txt  s2-corpus-clean.json  s2-corpus-slim.json\n"
     ]
    }
   ],
   "source": [
    "!ls semantic-scholar-raw/"
   ]
  },
  {
   "cell_type": "code",
   "execution_count": 32,
   "metadata": {},
   "outputs": [
    {
     "name": "stdout",
     "output_type": "stream",
     "text": [
      "1000000 semantic-scholar-raw/s2-corpus-00\n"
     ]
    }
   ],
   "source": [
    "!wc -l semantic-scholar-raw/s2-corpus-00"
   ]
  },
  {
   "cell_type": "markdown",
   "metadata": {},
   "source": [
    "Filter out those lines that have empty entities, empty inCitations, and empty outCitations"
   ]
  },
  {
   "cell_type": "code",
   "execution_count": 23,
   "metadata": {},
   "outputs": [
    {
     "name": "stdout",
     "output_type": "stream",
     "text": [
      "212901 semantic-scholar-raw/s2-corpus-clean.tmp\n"
     ]
    }
   ],
   "source": [
    "!grep -v -e '\"entities\":\\[\\]' -e '\"inCitations\":\\[\\]' -e '\"outCitations\":\\[\\]' semantic-scholar-raw/s2-corpus-00 > semantic-scholar-raw/s2-corpus-clean.tmp\n",
    "!wc -l semantic-scholar-raw/s2-corpus-clean.tmp"
   ]
  },
  {
   "cell_type": "markdown",
   "metadata": {},
   "source": [
    "Filter out those rows with empty attributes"
   ]
  },
  {
   "cell_type": "code",
   "execution_count": 28,
   "metadata": {},
   "outputs": [
    {
     "name": "stdout",
     "output_type": "stream",
     "text": [
      "86609 semantic-scholar-raw/s2-corpus-clean.json\n"
     ]
    }
   ],
   "source": [
    "!grep -v -e '\"journalName\":\"\"' -e '\"title\":\"\"' -e '\"journalVolume\":\"\"' -e '\"id\":\"\"' -e '\"ids\":\"\"' -e '\"doi\":\"\"' -e '\"doiUrl\":\"\"' semantic-scholar-raw/s2-corpus-clean.tmp > semantic-scholar-raw/s2-corpus-clean.json\n",
    "!wc -l semantic-scholar-raw/s2-corpus-clean.json"
   ]
  },
  {
   "cell_type": "markdown",
   "metadata": {},
   "source": [
    "Obtain a smaller sample from that data"
   ]
  },
  {
   "cell_type": "code",
   "execution_count": 29,
   "metadata": {},
   "outputs": [],
   "source": [
    "!head -100 semantic-scholar-raw/s2-corpus-clean.json > semantic-scholar-raw/s2-corpus-slim.json"
   ]
  },
  {
   "cell_type": "code",
   "execution_count": 27,
   "metadata": {},
   "outputs": [
    {
     "name": "stdout",
     "output_type": "stream",
     "text": [
      "\u001b[1;39m{\n",
      "  \u001b[0m\u001b[34;1m\"entities\"\u001b[0m\u001b[1;39m: \u001b[0m\u001b[1;39m[\n",
      "    \u001b[0;32m\"Eating\"\u001b[0m\u001b[1;39m,\n",
      "    \u001b[0;32m\"Ethanol\"\u001b[0m\u001b[1;39m,\n",
      "    \u001b[0;32m\"Isopropyl Alcohol 0.7 ML/ML Medicated Pad\"\u001b[0m\u001b[1;39m\n",
      "  \u001b[1;39m]\u001b[0m\u001b[1;39m,\n",
      "  \u001b[0m\u001b[34;1m\"journalVolume\"\u001b[0m\u001b[1;39m: \u001b[0m\u001b[0;32m\"31 4\"\u001b[0m\u001b[1;39m,\n",
      "  \u001b[0m\u001b[34;1m\"journalPages\"\u001b[0m\u001b[1;39m: \u001b[0m\u001b[0;32m\"385-8\"\u001b[0m\u001b[1;39m,\n",
      "  \u001b[0m\u001b[34;1m\"pmid\"\u001b[0m\u001b[1;39m: \u001b[0m\u001b[0;32m\"8879286v1\"\u001b[0m\u001b[1;39m,\n",
      "  \u001b[0m\u001b[34;1m\"year\"\u001b[0m\u001b[1;39m: \u001b[0m\u001b[0;39m1996\u001b[0m\u001b[1;39m,\n",
      "  \u001b[0m\u001b[34;1m\"outCitations\"\u001b[0m\u001b[1;39m: \u001b[0m\u001b[1;39m[\n",
      "    \u001b[0;32m\"40bb6636803d10626bfafa3dbf940fdac903d11c\"\u001b[0m\u001b[1;39m,\n",
      "    \u001b[0;32m\"18ffb4ae9e0d8f0c43342c4c6b993f3ce34bd579\"\u001b[0m\u001b[1;39m,\n",
      "    \u001b[0;32m\"827b793fbc923d3e068b2008dc02bb63e7069fb9\"\u001b[0m\u001b[1;39m,\n",
      "    \u001b[0;32m\"b96cb6dd0bba1e9928eb6315e18339f667c6799f\"\u001b[0m\u001b[1;39m,\n",
      "    \u001b[0;32m\"48431576480666445bdcb112533aa885d4ac1ad1\"\u001b[0m\u001b[1;39m,\n",
      "    \u001b[0;32m\"1380d901dbce2dca8eba90501179485d4fe1e5d4\"\u001b[0m\u001b[1;39m,\n",
      "    \u001b[0;32m\"4203ad4dc8530a92473e5576650eca84b51c9eee\"\u001b[0m\u001b[1;39m,\n",
      "    \u001b[0;32m\"96b85a405b002e11199f967280ec9a9736543c86\"\u001b[0m\u001b[1;39m,\n",
      "    \u001b[0;32m\"8d72d01b1b670c7bb65408e91d1705f0c95b1174\"\u001b[0m\u001b[1;39m,\n",
      "    \u001b[0;32m\"7842615744a118a2d4a239787e9450c26c98c9f9\"\u001b[0m\u001b[1;39m,\n",
      "    \u001b[0;32m\"6ed7439f9537fce3f82144843622b9c670a95d7e\"\u001b[0m\u001b[1;39m,\n",
      "    \u001b[0;32m\"55787878e91f6efdf14e16438e733d80581f3bec\"\u001b[0m\u001b[1;39m,\n",
      "    \u001b[0;32m\"e28468ccfa0ddce1d060d39d25305f6abab2eced\"\u001b[0m\u001b[1;39m,\n",
      "    \u001b[0;32m\"5f6ba13f126408d25849c518bddf4812281ae970\"\u001b[0m\u001b[1;39m\n",
      "  \u001b[1;39m]\u001b[0m\u001b[1;39m,\n",
      "  \u001b[0m\u001b[34;1m\"s2Url\"\u001b[0m\u001b[1;39m: \u001b[0m\u001b[0;32m\"https://semanticscholar.org/paper/30aaf92bde9bf6cdc3dff237691fd5db55d4cb4a\"\u001b[0m\u001b[1;39m,\n",
      "  \u001b[0m\u001b[34;1m\"s2PdfUrl\"\u001b[0m\u001b[1;39m: \u001b[0m\u001b[0;32m\"http://pdfs.semanticscholar.org/30aa/f92bde9bf6cdc3dff237691fd5db55d4cb4a.pdf\"\u001b[0m\u001b[1;39m,\n",
      "  \u001b[0m\u001b[34;1m\"id\"\u001b[0m\u001b[1;39m: \u001b[0m\u001b[0;32m\"30aaf92bde9bf6cdc3dff237691fd5db55d4cb4a\"\u001b[0m\u001b[1;39m,\n",
      "  \u001b[0m\u001b[34;1m\"authors\"\u001b[0m\u001b[1;39m: \u001b[0m\u001b[1;39m[\n",
      "    \u001b[1;39m{\n",
      "      \u001b[0m\u001b[34;1m\"name\"\u001b[0m\u001b[1;39m: \u001b[0m\u001b[0;32m\"R Agabio\"\u001b[0m\u001b[1;39m,\n",
      "      \u001b[0m\u001b[34;1m\"ids\"\u001b[0m\u001b[1;39m: \u001b[0m\u001b[1;39m[\n",
      "        \u001b[0;32m\"3776873\"\u001b[0m\u001b[1;39m\n",
      "      \u001b[1;39m]\u001b[0m\u001b[1;39m\n",
      "    \u001b[1;39m}\u001b[0m\u001b[1;39m,\n",
      "    \u001b[1;39m{\n",
      "      \u001b[0m\u001b[34;1m\"name\"\u001b[0m\u001b[1;39m: \u001b[0m\u001b[0;32m\"G Cortis\"\u001b[0m\u001b[1;39m,\n",
      "      \u001b[0m\u001b[34;1m\"ids\"\u001b[0m\u001b[1;39m: \u001b[0m\u001b[1;39m[\n",
      "        \u001b[0;32m\"5235644\"\u001b[0m\u001b[1;39m\n",
      "      \u001b[1;39m]\u001b[0m\u001b[1;39m\n",
      "    \u001b[1;39m}\u001b[0m\u001b[1;39m,\n",
      "    \u001b[1;39m{\n",
      "      \u001b[0m\u001b[34;1m\"name\"\u001b[0m\u001b[1;39m: \u001b[0m\u001b[0;32m\"F Fadda\"\u001b[0m\u001b[1;39m,\n",
      "      \u001b[0m\u001b[34;1m\"ids\"\u001b[0m\u001b[1;39m: \u001b[0m\u001b[1;39m[\n",
      "        \u001b[0;32m\"6725894\"\u001b[0m\u001b[1;39m\n",
      "      \u001b[1;39m]\u001b[0m\u001b[1;39m\n",
      "    \u001b[1;39m}\u001b[0m\u001b[1;39m,\n",
      "    \u001b[1;39m{\n",
      "      \u001b[0m\u001b[34;1m\"name\"\u001b[0m\u001b[1;39m: \u001b[0m\u001b[0;32m\"G L Gessa\"\u001b[0m\u001b[1;39m,\n",
      "      \u001b[0m\u001b[34;1m\"ids\"\u001b[0m\u001b[1;39m: \u001b[0m\u001b[1;39m[\n",
      "        \u001b[0;32m\"5758225\"\u001b[0m\u001b[1;39m\n",
      "      \u001b[1;39m]\u001b[0m\u001b[1;39m\n",
      "    \u001b[1;39m}\u001b[0m\u001b[1;39m,\n",
      "    \u001b[1;39m{\n",
      "      \u001b[0m\u001b[34;1m\"name\"\u001b[0m\u001b[1;39m: \u001b[0m\u001b[0;32m\"C Lobina\"\u001b[0m\u001b[1;39m,\n",
      "      \u001b[0m\u001b[34;1m\"ids\"\u001b[0m\u001b[1;39m: \u001b[0m\u001b[1;39m[\n",
      "        \u001b[0;32m\"5639930\"\u001b[0m\u001b[1;39m\n",
      "      \u001b[1;39m]\u001b[0m\u001b[1;39m\n",
      "    \u001b[1;39m}\u001b[0m\u001b[1;39m,\n",
      "    \u001b[1;39m{\n",
      "      \u001b[0m\u001b[34;1m\"name\"\u001b[0m\u001b[1;39m: \u001b[0m\u001b[0;32m\"R Reali\"\u001b[0m\u001b[1;39m,\n",
      "      \u001b[0m\u001b[34;1m\"ids\"\u001b[0m\u001b[1;39m: \u001b[0m\u001b[1;39m[\n",
      "        \u001b[0;32m\"6727309\"\u001b[0m\u001b[1;39m\n",
      "      \u001b[1;39m]\u001b[0m\u001b[1;39m\n",
      "    \u001b[1;39m}\u001b[0m\u001b[1;39m,\n",
      "    \u001b[1;39m{\n",
      "      \u001b[0m\u001b[34;1m\"name\"\u001b[0m\u001b[1;39m: \u001b[0m\u001b[0;32m\"G Colombo\"\u001b[0m\u001b[1;39m,\n",
      "      \u001b[0m\u001b[34;1m\"ids\"\u001b[0m\u001b[1;39m: \u001b[0m\u001b[1;39m[\n",
      "        \u001b[0;32m\"1781764\"\u001b[0m\u001b[1;39m\n",
      "      \u001b[1;39m]\u001b[0m\u001b[1;39m\n",
      "    \u001b[1;39m}\u001b[0m\u001b[1;39m\n",
      "  \u001b[1;39m]\u001b[0m\u001b[1;39m,\n",
      "  \u001b[0m\u001b[34;1m\"journalName\"\u001b[0m\u001b[1;39m: \u001b[0m\u001b[0;32m\"Alcohol and alcoholism\"\u001b[0m\u001b[1;39m,\n",
      "  \u001b[0m\u001b[34;1m\"paperAbstract\"\u001b[0m\u001b[1;39m: \u001b[0m\u001b[0;32m\"The present study was designed to assess the temporal pattern of ethanol intake over a 24 h period in selectively bred, Sardinian alcohol-preferring (sP) rats. Ethanol intake occurred under the two-bottle, free choice regimen. sP rats consumed ethanol in three distinct peaks, rather regularly distributed over the 12 h dark phase of the light-dark cycle and positively correlated with food intake episodes. The temporal distribution of ethanol intake and estimated blood alcohol levels are consistent with the hypothesis that sP rats voluntarily drink ethanol for its pharmacological effects.\"\u001b[0m\u001b[1;39m,\n",
      "  \u001b[0m\u001b[34;1m\"inCitations\"\u001b[0m\u001b[1;39m: \u001b[0m\u001b[1;39m[\n",
      "    \u001b[0;32m\"7f17780491b74f08b3b6fb603014835e74ecfdd3\"\u001b[0m\u001b[1;39m,\n",
      "    \u001b[0;32m\"9e2664ede0d21990f25b7682f023bc11e79e89b9\"\u001b[0m\u001b[1;39m,\n",
      "    \u001b[0;32m\"1dbf8f6f64447b6f311031a14a7b99e43fb51f44\"\u001b[0m\u001b[1;39m,\n",
      "    \u001b[0;32m\"842707e424ae0e2beda89c8847ce7c0fafa60b92\"\u001b[0m\u001b[1;39m,\n",
      "    \u001b[0;32m\"a0711d2594d6e72cab32493b7cdcd2ee130bb03c\"\u001b[0m\u001b[1;39m,\n",
      "    \u001b[0;32m\"4748549512f89669d054b00981176a3f48e292ae\"\u001b[0m\u001b[1;39m,\n",
      "    \u001b[0;32m\"3efe115783f39ec3f72355f98dda2b2a18cd3517\"\u001b[0m\u001b[1;39m,\n",
      "    \u001b[0;32m\"71a20f517662f6e194fab5bd1d99aa8defd7b541\"\u001b[0m\u001b[1;39m,\n",
      "    \u001b[0;32m\"23ad61bfcd6140650ac8241fc2ac6b1030521012\"\u001b[0m\u001b[1;39m,\n",
      "    \u001b[0;32m\"c607e9b564744620eb822294780aa7ea85b91052\"\u001b[0m\u001b[1;39m,\n",
      "    \u001b[0;32m\"e59f964b461d1f4e8cdab48aedb49f9abe3e9434\"\u001b[0m\u001b[1;39m,\n",
      "    \u001b[0;32m\"08c2bbd496dc7d640bbb2cce96e3921cc491f64f\"\u001b[0m\u001b[1;39m,\n",
      "    \u001b[0;32m\"785c43394f31d8094a574a5bcc272c0c0863202b\"\u001b[0m\u001b[1;39m,\n",
      "    \u001b[0;32m\"e13e2677f71454805f4c7776493fbbaeb771c1bb\"\u001b[0m\u001b[1;39m,\n",
      "    \u001b[0;32m\"81227dd79170471be2f4b92e96cf146ff1a43296\"\u001b[0m\u001b[1;39m,\n",
      "    \u001b[0;32m\"7f05bfd9b1d62a185b6640f8b25014c343f2ad4d\"\u001b[0m\u001b[1;39m,\n",
      "    \u001b[0;32m\"93b6026f46435f64d87beaef5d7a81228909d073\"\u001b[0m\u001b[1;39m\n",
      "  \u001b[1;39m]\u001b[0m\u001b[1;39m,\n",
      "  \u001b[0m\u001b[34;1m\"pdfUrls\"\u001b[0m\u001b[1;39m: \u001b[0m\u001b[1;39m[\n",
      "    \u001b[0;32m\"http://alcalc.oxfordjournals.org/content/31/4/385.full.pdf\"\u001b[0m\u001b[1;39m\n",
      "  \u001b[1;39m]\u001b[0m\u001b[1;39m,\n",
      "  \u001b[0m\u001b[34;1m\"title\"\u001b[0m\u001b[1;39m: \u001b[0m\u001b[0;32m\"Circadian drinking pattern of Sardinian alcohol-preferring rats.\"\u001b[0m\u001b[1;39m,\n",
      "  \u001b[0m\u001b[34;1m\"doi\"\u001b[0m\u001b[1;39m: \u001b[0m\u001b[0;32m\"\"\u001b[0m\u001b[1;39m,\n",
      "  \u001b[0m\u001b[34;1m\"sources\"\u001b[0m\u001b[1;39m: \u001b[0m\u001b[1;39m[\n",
      "    \u001b[0;32m\"Medline\"\u001b[0m\u001b[1;39m\n",
      "  \u001b[1;39m]\u001b[0m\u001b[1;39m,\n",
      "  \u001b[0m\u001b[34;1m\"doiUrl\"\u001b[0m\u001b[1;39m: \u001b[0m\u001b[0;32m\"\"\u001b[0m\u001b[1;39m,\n",
      "  \u001b[0m\u001b[34;1m\"venue\"\u001b[0m\u001b[1;39m: \u001b[0m\u001b[0;32m\"Alcohol and alcoholism\"\u001b[0m\u001b[1;39m\n",
      "\u001b[1;39m}\u001b[0m\n"
     ]
    }
   ],
   "source": [
    "!head -1 semantic-scholar-raw/s2-corpus-slim.json | jq"
   ]
  },
  {
   "cell_type": "markdown",
   "metadata": {},
   "source": [
    "The final modified JSON is accesible now from github"
   ]
  },
  {
   "cell_type": "markdown",
   "metadata": {},
   "source": [
    "## A.2 Loading"
   ]
  },
  {
   "cell_type": "markdown",
   "metadata": {},
   "source": [
    "First we will ensure that we start with a clean database"
   ]
  },
  {
   "cell_type": "code",
   "execution_count": 23,
   "metadata": {},
   "outputs": [
    {
     "data": {
      "text/plain": [
       "constraints_added: 0\n",
       "constraints_removed: 0\n",
       "contained_updates: False\n",
       "indexes_added: 0\n",
       "indexes_removed: 0\n",
       "labels_added: 0\n",
       "labels_removed: 0\n",
       "nodes_created: 0\n",
       "nodes_deleted: 0\n",
       "properties_set: 0\n",
       "relationships_created: 0\n",
       "relationships_deleted: 0"
      ]
     },
     "execution_count": 23,
     "metadata": {},
     "output_type": "execute_result"
    }
   ],
   "source": [
    "graph.run(\"MATCH (n) DETACH DELETE n\").stats()"
   ]
  },
  {
   "cell_type": "markdown",
   "metadata": {},
   "source": [
    "We will be using apoc (https://github.com/neo4j-contrib/neo4j-apoc-procedures)"
   ]
  },
  {
   "cell_type": "code",
   "execution_count": 24,
   "metadata": {},
   "outputs": [
    {
     "data": {
      "text/plain": [
       "[{'apoc.version()': '3.5.0.9'}]"
      ]
     },
     "execution_count": 24,
     "metadata": {},
     "output_type": "execute_result"
    }
   ],
   "source": [
    "graph.run(\"RETURN apoc.version();\").data()"
   ]
  },
  {
   "cell_type": "code",
   "execution_count": 25,
   "metadata": {},
   "outputs": [
    {
     "data": {
      "text/plain": [
       "[{'name': 'Neo4j Kernel', 'version': '3.5.15', 'edition': 'enterprise'}]"
      ]
     },
     "execution_count": 25,
     "metadata": {},
     "output_type": "execute_result"
    }
   ],
   "source": [
    "graph.run(\"call dbms.components() yield name, versions, edition unwind versions as version return name, version, edition;\").data()"
   ]
  },
  {
   "cell_type": "code",
   "execution_count": 26,
   "metadata": {},
   "outputs": [
    {
     "data": {
      "text/plain": [
       "[{'value': {'doiUrl': 'https://doi.org/10.1007/BF02270828',\n",
       "   'venue': 'Evolutionary Ecology',\n",
       "   'journalName': 'Evolutionary Ecology',\n",
       "   'sources': [],\n",
       "   'year': 2005,\n",
       "   'paperAbstract': 'I compare the relationship between bill size (depth) and body size among different taxa of seed-eating finches to test the hypothesis (Schluter, 1988a) that in habitats where seed-eating finches are vulnerable to predators, finches have larger bodies relative to their bill size. In support of this hypothesis, ground-foraging finches on continents (Emberizidae, Passeridae, Fringillidae), where predators are more common, have larger bodies relative to their bill sizes than do ground-foraging finches on islands (Emberizidae, Fringillidae). Ground-feeding finches on continents may also be more vulnerable to predators than tree- and shrub-foraging finches. As predicted, in North America, ground-feeding finches (Emberizinae) have larger bodies relative to their bill size than do tree- and shrub-foraging finches (Carduelinae). As a consequence of increased body size relative to bill size, both the range of possible bill sizes and potential seed sizes that can be eaten are reduced. Moreover, increased metabolic demands caused by larger body size may lessen the ability to specialize on a few seed types. These two factors reduce the potential for seed size partitioning. Consequently, vulnerability to predators may limit, and is inversely correlated with, seed size partitioning in seed-eating finch communities. The extent to which predation has influenced other bird communities may be considerable, and the patterns found by Schluter (1988a) and in this study indicate that future ecomorphological studies, especially on species that spend much of the day foraging, might profit by considering predator vulnerability as well as foraging behaviour.',\n",
       "   'inCitations': ['b7b8b66f09d6f5d3336fa3533c58d9eb400918d8'],\n",
       "   'pmid': '',\n",
       "   'title': 'Predation, seed size partitioning and the evolution of body size in seed-eating finches',\n",
       "   'journalPages': '118-127',\n",
       "   's2PdfUrl': '',\n",
       "   'pdfUrls': ['http://www.uwyo.edu/benkman/pdfs%20of%20papers/benkman_1991.pdf'],\n",
       "   'entities': ['Body Dysmorphic Disorders',\n",
       "    'Body Size',\n",
       "    'Emberizinae',\n",
       "    'Fax',\n",
       "    'Finch',\n",
       "    'Finches',\n",
       "    'Habitat',\n",
       "    'Human body',\n",
       "    'Macaca fascicularis',\n",
       "    'Metabolic Process, Cellular',\n",
       "    'Passeridae',\n",
       "    'Seed'],\n",
       "   'journalVolume': '5',\n",
       "   'outCitations': ['12e268546ec7e708cc5168c5b7fa5be22db4b112',\n",
       "    '2263dcd0aa898d88da9a6b2abdd8483ed13771f1',\n",
       "    '3bcf91b36f43158e207cbc49b83f7708eca4180c',\n",
       "    '1608f296e8f062b7c5d4f4fa0791a40f7a95c8e9',\n",
       "    'f2a7a2475fa2daed316cd5036d0b4ecac65c09f7',\n",
       "    'd9031216a4c5558464acb4ce3e85acc15f915a91',\n",
       "    '3beb3aec7c237a2525e68471e7e9cd9f570b6be0',\n",
       "    '01cf174de93a53adeb242321ca48f104a14d925a',\n",
       "    '03b0277d3dc3516ce586b2c94cc29355f5687e33',\n",
       "    '1b8f6e0ae731d4ccfaeaf1619ca0bfc5ae5cfde8'],\n",
       "   'id': 'ed6f7f0d65f4c8bde43f13667c406ff3403f9814',\n",
       "   's2Url': 'https://semanticscholar.org/paper/ed6f7f0d65f4c8bde43f13667c406ff3403f9814',\n",
       "   'authors': [{'name': 'Craig W. Benkman', 'ids': ['3902390']}],\n",
       "   'doi': '10.1007/BF02270828'}}]"
      ]
     },
     "execution_count": 26,
     "metadata": {},
     "output_type": "execute_result"
    }
   ],
   "source": [
    "query = \"\"\"\n",
    "WITH $myjson AS url \n",
    "CALL apoc.load.json(url) \n",
    "YIELD value \n",
    "RETURN value \n",
    "LIMIT 1\"\"\"\n",
    "\n",
    "graph.run(query, myjson = SC_JSON_GITHUB).data()"
   ]
  },
  {
   "cell_type": "markdown",
   "metadata": {},
   "source": [
    "Here, `\"myjson\"` is an alias for the path to the file, located in github"
   ]
  },
  {
   "cell_type": "markdown",
   "metadata": {},
   "source": [
    "### Create Article instances"
   ]
  },
  {
   "cell_type": "code",
   "execution_count": 27,
   "metadata": {},
   "outputs": [
    {
     "data": {
      "text/plain": [
       "constraints_added: 0\n",
       "constraints_removed: 0\n",
       "contained_updates: True\n",
       "indexes_added: 0\n",
       "indexes_removed: 0\n",
       "labels_added: 1998\n",
       "labels_removed: 0\n",
       "nodes_created: 1998\n",
       "nodes_deleted: 0\n",
       "properties_set: 3089\n",
       "relationships_created: 1898\n",
       "relationships_deleted: 0"
      ]
     },
     "execution_count": 27,
     "metadata": {},
     "output_type": "execute_result"
    }
   ],
   "source": [
    "query_apoc = \"\"\"\n",
    "WITH $myjson AS url \n",
    "CALL apoc.load.json(url) \n",
    "YIELD value as row\n",
    "MERGE (art:Article {\n",
    "        title: row.title,\n",
    "        id: row.id, doi: \n",
    "        row.doi, \n",
    "        doi_url:row.doiUrl,\n",
    "        year: row.year})\n",
    "MERGE (art)-[:PUBLISHED_IN {\n",
    "        pages: row.journalPages}]->(vol:Volume {\n",
    "            volume: row.journalVolume,\n",
    "            year: row.year})-[:OF]->(jour:Journal {\n",
    "            name: row.journalName})\n",
    "FOREACH (author in row.authors |\n",
    "    MERGE (auth:Author {name: author.name, id: author.ids})-[:AUTHORS]->(art)\n",
    ")\n",
    "FOREACH (k in row.entities |\n",
    "    MERGE (art)-[:CONTAINS]->(kw: Keyword {name: k}))\"\"\"\n",
    "\n",
    "graph.run(query_apoc, myjson = SC_JSON_GITHUB).stats()"
   ]
  },
  {
   "cell_type": "markdown",
   "metadata": {},
   "source": [
    "Some data is left to be simulated"
   ]
  },
  {
   "cell_type": "markdown",
   "metadata": {},
   "source": [
    "### Faking citations"
   ]
  },
  {
   "cell_type": "code",
   "execution_count": 28,
   "metadata": {},
   "outputs": [
    {
     "data": {
      "text/plain": [
       "['8fb9c95bf34a0f28dc05819cb4aada0cb94fe555',\n",
       " '5cfdb256b6ae968374469bd36702ed341cfe9485',\n",
       " '0fbe46932967ec0db80b18e70fa199fb652313ea',\n",
       " 'c4062742b4e0d13cfa0e992fdf2cebf2eb71c415',\n",
       " 'f218ce53248d756db61726985f73e6e8c109b3e2']"
      ]
     },
     "execution_count": 28,
     "metadata": {},
     "output_type": "execute_result"
    }
   ],
   "source": [
    "q_article_ids = \"MATCH (n:Article) RETURN n.id\"\n",
    "article_ids = [v[\"n.id\"] for v in graph.run(q_article_ids).data()]\n",
    "n_articles = len(article_ids)\n",
    "article_ids[:5]"
   ]
  },
  {
   "cell_type": "code",
   "execution_count": 29,
   "metadata": {},
   "outputs": [],
   "source": [
    "# https://neo4j.com/docs/driver-manual/1.7/sessions-transactions/#driver-transactions-transaction-functions\n",
    "q_add_citation_rel_id = \"\"\"MATCH (a:Article),(b:Article)\n",
    "WHERE a.id = $id_a AND b.id = $id_b\n",
    "MERGE p=(a)-[r:CITED_BY]->(b)\n",
    "RETURN p\"\"\"\n",
    "\n",
    "def add_citation_rel(driver, id_a, id_b):\n",
    "    with driver.session() as session:\n",
    "        # Caller for transactional unit of work\n",
    "        return session.write_transaction(create_citation_rel, id_a, id_b)\n",
    "\n",
    "# Simple implementation of the unit of work\n",
    "def create_citation_rel(tx, id_a, id_b):\n",
    "    return tx.run(q_add_citation_rel_id, id_a=id_a, id_b = id_b)"
   ]
  },
  {
   "cell_type": "markdown",
   "metadata": {},
   "source": [
    "Add 500 relationships of type `cited_by`"
   ]
  },
  {
   "cell_type": "code",
   "execution_count": 30,
   "metadata": {},
   "outputs": [
    {
     "name": "stdout",
     "output_type": "stream",
     "text": [
      "Skipping:  8fb9c95bf34a0f28dc05819cb4aada0cb94fe555 8fb9c95bf34a0f28dc05819cb4aada0cb94fe555\n",
      "Skipping:  8c5b2a75e5dfe1fc8c03c410ecfd2f44a05fa4a0 8c5b2a75e5dfe1fc8c03c410ecfd2f44a05fa4a0\n",
      "Skipping:  2c86deb0e77a7fb9853472ec39749d209adb9440 2c86deb0e77a7fb9853472ec39749d209adb9440\n",
      "Skipping:  eded0a1a0ff476c57fc3058ac893489c8e08415e eded0a1a0ff476c57fc3058ac893489c8e08415e\n",
      "Skipping:  a09c196f66e8b5f44a7b734862a2a00e66d079a5 a09c196f66e8b5f44a7b734862a2a00e66d079a5\n",
      "Skipping:  11781ea072a749847253639a9903e8b796d51e54 11781ea072a749847253639a9903e8b796d51e54\n",
      "Skipping:  e3a9cc9bc08fa447463d46629aa24e2c78cdd87e e3a9cc9bc08fa447463d46629aa24e2c78cdd87e\n",
      "Skipping:  04547565eae033cbd9826ca4e31b8cf00e2b2400 04547565eae033cbd9826ca4e31b8cf00e2b2400\n",
      "Skipping:  a37913935bb44f54d54327927fc9dec2c4f68444 a37913935bb44f54d54327927fc9dec2c4f68444\n",
      "Skipping:  d72eeacd4b5c694059ca575335e161c5beada79b d72eeacd4b5c694059ca575335e161c5beada79b\n",
      "Skipping:  3bfb9955d7fb268294ec392aa6465a0ef95dce7e 3bfb9955d7fb268294ec392aa6465a0ef95dce7e\n",
      "Skipping:  cb05521fc110b9845b8bb42afdec6c23d7f679be cb05521fc110b9845b8bb42afdec6c23d7f679be\n",
      "Skipping:  2cc15e5ffd6a3cc904be7d2f5edc11f9304582dc 2cc15e5ffd6a3cc904be7d2f5edc11f9304582dc\n",
      "Skipping:  ba530799050f96c5ceb76eff2ba6a241df0cdf0b ba530799050f96c5ceb76eff2ba6a241df0cdf0b\n",
      "Skipping:  0eedfc361dbb624e345b5976e76da7b57d79ac1b 0eedfc361dbb624e345b5976e76da7b57d79ac1b\n",
      "Skipping:  7f332daa1c7f6556c2094af68c512fa532349ec1 7f332daa1c7f6556c2094af68c512fa532349ec1\n",
      "Skipping:  2d98fecfa562e802a3aed0b4c395c8ce80fb6e5c 2d98fecfa562e802a3aed0b4c395c8ce80fb6e5c\n",
      "Skipping:  65d67e1d3f74b749dfdaa8debf902e337c92dbd0 65d67e1d3f74b749dfdaa8debf902e337c92dbd0\n",
      "Skipping:  fdc8c466a8863b3533dfd0ae26e242f1e7f25c42 fdc8c466a8863b3533dfd0ae26e242f1e7f25c42\n",
      "Skipping:  a227eb8781e527afd5cb795ecf1de214fc7351fd a227eb8781e527afd5cb795ecf1de214fc7351fd\n",
      "Skipping:  ed6f7f0d65f4c8bde43f13667c406ff3403f9814 ed6f7f0d65f4c8bde43f13667c406ff3403f9814\n",
      "Skipping:  bfea5a8c0ed0bc15ff8365e39c8035f7eb7f50d3 bfea5a8c0ed0bc15ff8365e39c8035f7eb7f50d3\n",
      "Skipping:  ed26a77ce2ffaa0ea2edd17afdd52f5642574b6f ed26a77ce2ffaa0ea2edd17afdd52f5642574b6f\n",
      "Skipping:  193ae042e6c11bd5f19b3f24c99cfda1e7fd658b 193ae042e6c11bd5f19b3f24c99cfda1e7fd658b\n",
      "Skipping:  b87d1a177d07a8e7d66be4c9fb70ea0a03154772 b87d1a177d07a8e7d66be4c9fb70ea0a03154772\n",
      "Skipping:  31ecf94c75026cf168d6db275fcecad83fbbe2f4 31ecf94c75026cf168d6db275fcecad83fbbe2f4\n",
      "Skipping:  02fc5fada3a31fc2b128b4784fd2e8c8a75b8b08 02fc5fada3a31fc2b128b4784fd2e8c8a75b8b08\n"
     ]
    },
    {
     "data": {
      "text/plain": [
       "[[{'p': <Path start=<Node id=46 labels={'Article'} properties={'doi_url': 'https://doi.org/10.1007/s10926-005-9006-z', 'id': '8fb9c95bf34a0f28dc05819cb4aada0cb94fe555', 'title': 'Development of Work Stress Scale for Correctional Officers', 'year': 2005, 'doi': '10.1007/s10926-005-9006-z'}> end=<Node id=243 labels={'Article'} properties={'doi_url': 'https://doi.org/10.1089/sur.2016.107', 'id': 'acaa12d900e5a682f399162091845f8ad47a03f4', 'title': 'Topical Antimicrobials and the Open Surgical Wound.', 'year': 2016, 'doi': '10.1089/sur.2016.107'}> size=1>}],\n",
       " [{'p': <Path start=<Node id=46 labels={'Article'} properties={'doi_url': 'https://doi.org/10.1007/s10926-005-9006-z', 'id': '8fb9c95bf34a0f28dc05819cb4aada0cb94fe555', 'title': 'Development of Work Stress Scale for Correctional Officers', 'year': 2005, 'doi': '10.1007/s10926-005-9006-z'}> end=<Node id=72 labels={'Article'} properties={'doi_url': 'https://doi.org/10.1046/j.1525-1497.1999.00018.x', 'id': 'c4062742b4e0d13cfa0e992fdf2cebf2eb71c415', 'title': 'Patient preferences for colon cancer screening', 'year': 1999, 'doi': '10.1046/j.1525-1497.1999.00018.x'}> size=1>}],\n",
       " [{'p': <Path start=<Node id=46 labels={'Article'} properties={'doi_url': 'https://doi.org/10.1007/s10926-005-9006-z', 'id': '8fb9c95bf34a0f28dc05819cb4aada0cb94fe555', 'title': 'Development of Work Stress Scale for Correctional Officers', 'year': 2005, 'doi': '10.1007/s10926-005-9006-z'}> end=<Node id=17570 labels={'Article'} properties={'doi_url': 'https://doi.org/10.1177/0306624X08323158', 'id': '193ae042e6c11bd5f19b3f24c99cfda1e7fd658b', 'title': 'The role of violence in street crime: a qualitative study of violent offenders.', 'year': 2009, 'doi': '10.1177/0306624X08323158'}> size=1>}],\n",
       " [{'p': <Path start=<Node id=46 labels={'Article'} properties={'doi_url': 'https://doi.org/10.1007/s10926-005-9006-z', 'id': '8fb9c95bf34a0f28dc05819cb4aada0cb94fe555', 'title': 'Development of Work Stress Scale for Correctional Officers', 'year': 2005, 'doi': '10.1007/s10926-005-9006-z'}> end=<Node id=637 labels={'Article'} properties={'doi_url': 'https://doi.org/10.1007/s11738-009-0330-3', 'id': 'e06da9b34d6d1a7b57b27b5880c608c241adc5a2', 'title': 'In vitro propagation of Psoralea corylifolia L. by somatic embryogenesis in cell suspension culture', 'year': 2009, 'doi': '10.1007/s11738-009-0330-3'}> size=1>}],\n",
       " [{'p': <Path start=<Node id=46 labels={'Article'} properties={'doi_url': 'https://doi.org/10.1007/s10926-005-9006-z', 'id': '8fb9c95bf34a0f28dc05819cb4aada0cb94fe555', 'title': 'Development of Work Stress Scale for Correctional Officers', 'year': 2005, 'doi': '10.1007/s10926-005-9006-z'}> end=<Node id=595 labels={'Article'} properties={'doi_url': 'https://doi.org/10.1016/j.neucom.2006.08.003', 'id': 'a57bf47fb69fc00e943ecf85e47444dbc5bee07a', 'title': 'Exponential stability of impulsive neural networks with time-varying delays and reaction-diffusion terms', 'year': 2007, 'doi': '10.1016/j.neucom.2006.08.003'}> size=1>}]]"
      ]
     },
     "execution_count": 30,
     "metadata": {},
     "output_type": "execute_result"
    }
   ],
   "source": [
    "random.seed(42)\n",
    "# pick a sample of 500 papers, and make them be cited by other three papers at random\n",
    "created_citations = []\n",
    "\n",
    "for article in article_ids:\n",
    "    for citation in random.sample(article_ids, random.randint(5, 50)):\n",
    "        if article != citation: # they can't cite themselves\n",
    "            _out = add_citation_rel(gdb, id_a=article, id_b=citation)\n",
    "            created_citations.append(_out.data())\n",
    "        else:\n",
    "            print(\"Skipping: \", article, citation)\n",
    "\n",
    "created_citations[:5]"
   ]
  },
  {
   "cell_type": "markdown",
   "metadata": {},
   "source": [
    "### Faking reviewers "
   ]
  },
  {
   "cell_type": "markdown",
   "metadata": {},
   "source": [
    "We will create a `REVIEWS` relationship between authors and articles"
   ]
  },
  {
   "cell_type": "code",
   "execution_count": 31,
   "metadata": {},
   "outputs": [
    {
     "data": {
      "text/plain": [
       "constraints_added: 0\n",
       "constraints_removed: 0\n",
       "contained_updates: False\n",
       "indexes_added: 0\n",
       "indexes_removed: 0\n",
       "labels_added: 0\n",
       "labels_removed: 0\n",
       "nodes_created: 0\n",
       "nodes_deleted: 0\n",
       "properties_set: 0\n",
       "relationships_created: 0\n",
       "relationships_deleted: 0"
      ]
     },
     "execution_count": 31,
     "metadata": {},
     "output_type": "execute_result"
    }
   ],
   "source": [
    "# delete relationships\n",
    "graph.run(\"MATCH p=(:Author)-[r:REVIEWS]->(:Article) DELETE r RETURN COUNT(r)\").stats()"
   ]
  },
  {
   "cell_type": "code",
   "execution_count": 32,
   "metadata": {},
   "outputs": [
    {
     "data": {
      "text/plain": [
       "[['3902390'], ['13413837'], ['24148377'], ['1792216'], ['2181642']]"
      ]
     },
     "execution_count": 32,
     "metadata": {},
     "output_type": "execute_result"
    }
   ],
   "source": [
    "q_author_ids = \"MATCH (n:Author) RETURN n.id\"\n",
    "author_ids = [v[\"n.id\"] for v in graph.run(q_author_ids).data()]    \n",
    "author_ids[:5]"
   ]
  },
  {
   "cell_type": "markdown",
   "metadata": {},
   "source": [
    "#### Assign reviewers randomly to 1000 articles\n"
   ]
  },
  {
   "cell_type": "code",
   "execution_count": 33,
   "metadata": {},
   "outputs": [
    {
     "data": {
      "text/plain": [
       "[[{'p': (Samuel C Mok)-[:REVIEWS {}]->(_46)}],\n",
       " [{'p': (Shaowei Ding)-[:REVIEWS {}]->(_46)}],\n",
       " [{'p': (Donald E Fry)-[:REVIEWS {}]->(_65)}],\n",
       " [{'p': (Beatriz Brignani)-[:REVIEWS {}]->(_65)}],\n",
       " [{'p': (Martin Kanning)-[:REVIEWS {}]->(_65)}]]"
      ]
     },
     "execution_count": 33,
     "metadata": {},
     "output_type": "execute_result"
    }
   ],
   "source": [
    "# assign reviewers randomly to 1000 articles\n",
    "random.seed(42)\n",
    "\n",
    "q_add_reviewers = \"\"\"MATCH (a:Article),(b:Author)\n",
    "WHERE a.id = $article_id AND b.id = $author_id\n",
    "AND NOT (b)-[:AUTHORS]->(a)\n",
    "MERGE p=(b)-[:REVIEWS]->(a)\n",
    "RETURN p\"\"\"\n",
    "\n",
    "created_review_rel = []\n",
    "\n",
    "with gdb.session() as session:\n",
    "    for article_id in article_ids:\n",
    "        for author_id in random.sample(author_ids, random.choice([2, 6])):\n",
    "            _out = graph.run(q_add_reviewers, article_id=article_id, author_id=author_id)\n",
    "            created_review_rel.append(_out.data())\n",
    "            \n",
    "created_review_rel[:5]"
   ]
  },
  {
   "cell_type": "markdown",
   "metadata": {},
   "source": [
    "### Fake conferences and editions"
   ]
  },
  {
   "cell_type": "code",
   "execution_count": 34,
   "metadata": {},
   "outputs": [
    {
     "data": {
      "text/plain": [
       "[{'deleted_conferences': 0}]"
      ]
     },
     "execution_count": 34,
     "metadata": {},
     "output_type": "execute_result"
    }
   ],
   "source": [
    "# delete conference and editions\n",
    "graph.run(\"MATCH (n:Conference) DETACH DELETE n RETURN COUNT(n) as deleted_conferences\").data()"
   ]
  },
  {
   "cell_type": "code",
   "execution_count": 35,
   "metadata": {},
   "outputs": [
    {
     "data": {
      "text/plain": [
       "[{'deleted_editions': 0}]"
      ]
     },
     "execution_count": 35,
     "metadata": {},
     "output_type": "execute_result"
    }
   ],
   "source": [
    "graph.run(\"MATCH (n:Edition) DETACH DELETE n RETURN COUNT(n) as deleted_editions\").data()\n"
   ]
  },
  {
   "cell_type": "markdown",
   "metadata": {},
   "source": [
    "We will fake 600 editions, distributed between 100 conferences"
   ]
  },
  {
   "cell_type": "code",
   "execution_count": 6,
   "metadata": {},
   "outputs": [
    {
     "data": {
      "text/plain": [
       "[{'id': 1,\n",
       "  'name': 'Agent every development say.',\n",
       "  'editions': [{'id': 26,\n",
       "    'venue': 'Allen, Reyes and Chase',\n",
       "    'city': 'West Thomas',\n",
       "    'year': '1995'},\n",
       "   {'id': 282, 'venue': 'Salazar Inc', 'city': 'Dianeville', 'year': '1970'},\n",
       "   {'id': 251,\n",
       "    'venue': 'Cannon, Dunn and Wilson',\n",
       "    'city': 'Lake Madelineborough',\n",
       "    'year': '1972'},\n",
       "   {'id': 229,\n",
       "    'venue': 'Gonzalez, Osborn and White',\n",
       "    'city': 'Johnsonchester',\n",
       "    'year': '2018'},\n",
       "   {'id': 143, 'venue': 'Harper Ltd', 'city': 'Justintown', 'year': '1977'},\n",
       "   {'id': 105,\n",
       "    'venue': 'Harrison, Gilbert and Bullock',\n",
       "    'city': 'East Edwardside',\n",
       "    'year': '2011'},\n",
       "   {'id': 559,\n",
       "    'venue': 'Walker-Williams',\n",
       "    'city': 'Philipview',\n",
       "    'year': '2010'}]},\n",
       " {'id': 2,\n",
       "  'name': 'Beautiful instead ahead despite measure ago current.',\n",
       "  'editions': [{'id': 433,\n",
       "    'venue': 'Poole Ltd',\n",
       "    'city': 'Ryanfort',\n",
       "    'year': '1974'},\n",
       "   {'id': 33, 'venue': 'Brooks Inc', 'city': 'Ashleefort', 'year': '1981'},\n",
       "   {'id': 31,\n",
       "    'venue': 'Young-Cohen',\n",
       "    'city': 'East Christopher',\n",
       "    'year': '1976'},\n",
       "   {'id': 96,\n",
       "    'venue': 'Rogers PLC',\n",
       "    'city': 'West Francisfort',\n",
       "    'year': '2012'},\n",
       "   {'id': 224,\n",
       "    'venue': 'Jackson and Sons',\n",
       "    'city': 'Lake Michael',\n",
       "    'year': '1986'},\n",
       "   {'id': 239,\n",
       "    'venue': 'Williams PLC',\n",
       "    'city': 'West Danielfort',\n",
       "    'year': '1986'}]}]"
      ]
     },
     "execution_count": 6,
     "metadata": {},
     "output_type": "execute_result"
    }
   ],
   "source": [
    "random.seed(42)\n",
    "N_CONFERENCES = 100\n",
    "\n",
    "fake_conferences = [{\n",
    "    \"id\": idx, \n",
    "    \"name\": fake.sentence(nb_words=6, variable_nb_words=True, ext_word_list=None)}\n",
    "    for idx, _ in enumerate(range(100), start=1)]\n",
    "\n",
    "fake_editions = [\n",
    "    {\n",
    "        \"id\": idx, \n",
    "        \"venue\": fake.company(),\n",
    "        \"city\": fake.city(),\n",
    "        \"year\": fake.year()}\n",
    "    for idx, _ in enumerate(range(600), start=1)]\n",
    "\n",
    "# assign 4 to 20 editions to each conference\n",
    "for conference in fake_conferences:\n",
    "    conference[\"editions\"] = []\n",
    "    for edition in random.sample(fake_editions, random.randint(4, 20)):\n",
    "        conference[\"editions\"].append(edition)\n",
    "\n",
    "fake_conferences[:2]"
   ]
  },
  {
   "cell_type": "code",
   "execution_count": 37,
   "metadata": {},
   "outputs": [],
   "source": [
    "q_create_conference = \"MERGE (c:Conference {id: $cid, name: $name}) RETURN c\"\n",
    "q_create_edition = \"MERGE (e:Edition {id: $eid, conference_id: $cid, venue: $venue, city: $city, year: $year}) RETURN e\"\n",
    "q_merge_conference_and_edition = \"\"\"MATCH (c:Conference), (e:Edition)\n",
    "WHERE c.id = $cid AND e.id = $eid\n",
    "MERGE p=(e)-[:OF]->(c)\n",
    "RETURN p\"\"\"\n",
    "\n",
    "created_conferences = []\n",
    "\n",
    "with gdb.session() as session:\n",
    "    for conference in fake_conferences:\n",
    "        # create conference\n",
    "        session.run(q_create_conference, cid = conference[\"id\"], name = conference[\"name\"])\n",
    "        for edition in conference[\"editions\"]:\n",
    "            # create edition\n",
    "            session.run(q_create_edition,\n",
    "                        eid = edition[\"id\"],\n",
    "                        cid = conference[\"id\"], \n",
    "                        venue = edition[\"venue\"], \n",
    "                        city = edition[\"city\"], \n",
    "                        year = edition[\"year\"])\n",
    "            # assign it to conference\n",
    "            _out = session.run(q_merge_conference_and_edition, eid = edition[\"id\"], cid = conference[\"id\"])\n",
    "            created_conferences.append(_out.data())"
   ]
  },
  {
   "cell_type": "code",
   "execution_count": 38,
   "metadata": {},
   "outputs": [
    {
     "data": {
      "text/plain": [
       "[[{'p': <Path start=<Node id=8266 labels={'Edition'} properties={'venue': 'Gordon PLC', 'conference_id': 1, 'id': 26, 'city': 'West Rebecca', 'year': '1986'}> end=<Node id=8264 labels={'Conference'} properties={'name': 'Benjamin Sullivan', 'id': 1}> size=1>}],\n",
       " [{'p': <Path start=<Node id=8267 labels={'Edition'} properties={'venue': 'Wright, Hill and Hoffman', 'conference_id': 1, 'id': 282, 'city': 'South Tiffany', 'year': '1982'}> end=<Node id=8264 labels={'Conference'} properties={'name': 'Benjamin Sullivan', 'id': 1}> size=1>}],\n",
       " [{'p': <Path start=<Node id=8268 labels={'Edition'} properties={'venue': 'Delgado-Mccann', 'conference_id': 1, 'id': 251, 'city': 'New Christine', 'year': '1979'}> end=<Node id=8264 labels={'Conference'} properties={'name': 'Benjamin Sullivan', 'id': 1}> size=1>}],\n",
       " [{'p': <Path start=<Node id=8272 labels={'Edition'} properties={'venue': 'White-Kelly', 'conference_id': 1, 'id': 229, 'city': 'West Cynthiastad', 'year': '1994'}> end=<Node id=8264 labels={'Conference'} properties={'name': 'Benjamin Sullivan', 'id': 1}> size=1>}],\n",
       " [{'p': <Path start=<Node id=8274 labels={'Edition'} properties={'venue': 'Henry-Carr', 'conference_id': 1, 'id': 143, 'city': 'Benjaminchester', 'year': '2011'}> end=<Node id=8264 labels={'Conference'} properties={'name': 'Benjamin Sullivan', 'id': 1}> size=1>}]]"
      ]
     },
     "execution_count": 38,
     "metadata": {},
     "output_type": "execute_result"
    }
   ],
   "source": [
    "created_conferences[:5]"
   ]
  },
  {
   "cell_type": "markdown",
   "metadata": {},
   "source": [
    "### Assigning articles to editions"
   ]
  },
  {
   "cell_type": "markdown",
   "metadata": {},
   "source": [
    "And we will assign articles randomly to 2 to 10 editions"
   ]
  },
  {
   "cell_type": "code",
   "execution_count": 39,
   "metadata": {},
   "outputs": [
    {
     "data": {
      "text/plain": [
       "[{'id': 1,\n",
       "  'venue': 'Heath, Jones and Stafford',\n",
       "  'city': 'Lake Louis',\n",
       "  'year': '1991'}]"
      ]
     },
     "execution_count": 39,
     "metadata": {},
     "output_type": "execute_result"
    }
   ],
   "source": [
    "fake_editions[:1]"
   ]
  },
  {
   "cell_type": "code",
   "execution_count": 40,
   "metadata": {},
   "outputs": [
    {
     "data": {
      "text/plain": [
       "[[{'p': <Path start=<Node id=46 labels={'Article'} properties={'doi_url': 'https://doi.org/10.1007/s10926-005-9006-z', 'id': '8fb9c95bf34a0f28dc05819cb4aada0cb94fe555', 'title': 'Development of Work Stress Scale for Correctional Officers', 'year': 2005, 'doi': '10.1007/s10926-005-9006-z'}> end=<Node id=8266 labels={'Edition'} properties={'venue': 'Gordon PLC', 'conference_id': 1, 'id': 26, 'city': 'West Rebecca', 'year': '1986'}> size=1>},\n",
       "  {'p': <Path start=<Node id=46 labels={'Article'} properties={'doi_url': 'https://doi.org/10.1007/s10926-005-9006-z', 'id': '8fb9c95bf34a0f28dc05819cb4aada0cb94fe555', 'title': 'Development of Work Stress Scale for Correctional Officers', 'year': 2005, 'doi': '10.1007/s10926-005-9006-z'}> end=<Node id=9157 labels={'Edition'} properties={'venue': 'Gordon PLC', 'conference_id': 33, 'id': 26, 'city': 'West Rebecca', 'year': '1986'}> size=1>},\n",
       "  {'p': <Path start=<Node id=46 labels={'Article'} properties={'doi_url': 'https://doi.org/10.1007/s10926-005-9006-z', 'id': '8fb9c95bf34a0f28dc05819cb4aada0cb94fe555', 'title': 'Development of Work Stress Scale for Correctional Officers', 'year': 2005, 'doi': '10.1007/s10926-005-9006-z'}> end=<Node id=10804 labels={'Edition'} properties={'venue': 'Gordon PLC', 'conference_id': 41, 'id': 26, 'city': 'West Rebecca', 'year': '1986'}> size=1>}]]"
      ]
     },
     "execution_count": 40,
     "metadata": {},
     "output_type": "execute_result"
    }
   ],
   "source": [
    "# assign each paper to 2-10 editions\n",
    "random.seed(42)\n",
    "\n",
    "q_link_to_conf = \"\"\"MATCH (a:Article), (b:Edition)\n",
    "WHERE a.id = $aid AND b.id = $eid\n",
    "MERGE p=(a)-[r:PUBLISHED_IN]->(b)\n",
    "RETURN p\"\"\"\n",
    "\n",
    "created_art_ed_rel = []\n",
    "\n",
    "with gdb.session() as session:\n",
    "    for aid in article_ids:\n",
    "        for edition in random.sample(fake_editions, random.randint(2, 10)):\n",
    "            _out = session.run(q_link_to_conf, aid = aid, eid = edition[\"id\"])\n",
    "            created_art_ed_rel.append(_out.data())\n",
    "            \n",
    "created_art_ed_rel[:1]"
   ]
  },
  {
   "cell_type": "markdown",
   "metadata": {},
   "source": [
    "## A.3 Evolving the graph "
   ]
  },
  {
   "cell_type": "markdown",
   "metadata": {},
   "source": [
    "\n",
    "\n",
    "### Store the review and the approval sent by each reviewer\n",
    "\n",
    "Since the queries in part B don't need this information, we can store the `review_decision` and the `review_text` as _edge_ attributes of the relation `REVIEWED_BY`.\n",
    "\n",
    "\n",
    "Alternatively, and in the case these reviews were a requirement in part B, they can be implemented by creating a `Review` node, and linking it to articles, in a four step process.\n",
    "\n",
    "1. Create a `Review` article for each `Article` that has reviewers (i.e. is connected to authors by `reviewed_by` edges). Each `Review` node will have an attribute named `review_contents´.\n",
    "2. Attach review to the article\n",
    "3. Attach reviewers to the review instance\n",
    "4. Optional, delete the `reviewed_by` edges from the step 1."
   ]
  },
  {
   "cell_type": "code",
   "execution_count": 41,
   "metadata": {},
   "outputs": [
    {
     "data": {
      "text/plain": [
       "[1101993, 1101992, 1101994, 1101995, 1101996]"
      ]
     },
     "execution_count": 41,
     "metadata": {},
     "output_type": "execute_result"
    }
   ],
   "source": [
    "with gdb.session() as session:\n",
    "    out = session.run(\"MATCH p=(:Author)-[r:REVIEWS]->(:Article) return ID(r)\")\n",
    "    rel_ids = [r[0] for r in out.values()]\n",
    "    \n",
    "rel_ids[:5]"
   ]
  },
  {
   "cell_type": "code",
   "execution_count": 42,
   "metadata": {},
   "outputs": [],
   "source": [
    "q_merge_review_attributes = \"\"\"MATCH p=(:Author)-[r:REVIEWS]->(:Article)\n",
    "WHERE ID(r) = $rel_id\n",
    "SET r.review_accepted = $review_accepted, r.review_text = $review_text\n",
    "RETURN r\n",
    "\"\"\"\n",
    "\n",
    "created_review_rel_attr = []\n",
    "\n",
    "random.seed(42)\n",
    "\n",
    "with gdb.session() as session:\n",
    "    for rel_id in rel_ids:\n",
    "        _out = session.run(q_merge_review_attributes, \n",
    "                    rel_id=rel_id,\n",
    "                    review_accepted=fake.pybool(), \n",
    "                    review_text=fake.texts(nb_texts=1, max_nb_chars=500)[0])\n",
    "        created_review_rel_attr.append(_out.data())"
   ]
  },
  {
   "cell_type": "code",
   "execution_count": 43,
   "metadata": {},
   "outputs": [
    {
     "data": {
      "text/plain": [
       "[{'r': <Relationship id=1101993 nodes=(<Node id=6002 labels=set() properties={}>, <Node id=46 labels=set() properties={}>) type='REVIEWS' properties={'review_text': 'Despite minute agency idea sometimes least perform.\\nAnything military but just maintain shake. Program nature see.\\nYour check station form. Rule play century several cultural pattern. Hour among field well create.\\nIndividual stay charge natural effort. A at teach enter lot. Despite trip close pull.\\nProve speech garden road. Sure western election next threat sport.', 'review_accepted': False}>}]"
      ]
     },
     "execution_count": 43,
     "metadata": {},
     "output_type": "execute_result"
    }
   ],
   "source": [
    "created_review_rel_attr[0]"
   ]
  },
  {
   "cell_type": "markdown",
   "metadata": {},
   "source": [
    "### Store a reviewing policy for each Journal or Conference\n",
    "\n",
    "This can also be implemented as an `review_policy_min_count` to the `Journal` and `Proceedings` labels. We will set all of them to 3."
   ]
  },
  {
   "cell_type": "code",
   "execution_count": 44,
   "metadata": {},
   "outputs": [],
   "source": [
    "with gdb.session() as session:\n",
    "    journal_ids = session.run(\"MERGE (n:Journal) SET n.review_policy_min_count = 3 return n\").values()\n",
    "    proceeding_ids = session.run(\"MERGE (n:Conference) SET n.review_policy_min_count = 3 return n\").values()"
   ]
  },
  {
   "cell_type": "code",
   "execution_count": 45,
   "metadata": {},
   "outputs": [
    {
     "data": {
      "text/plain": [
       "[[<Node id=1427 labels={'Journal'} properties={'review_policy_min_count': 3, 'name': 'Evolutionary Ecology'}>],\n",
       " [<Node id=1479 labels={'Journal'} properties={'review_policy_min_count': 3, 'name': 'Emergency medicine Australasia : EMA'}>],\n",
       " [<Node id=1499 labels={'Journal'} properties={'review_policy_min_count': 3, 'name': 'The American journal of surgical pathology'}>],\n",
       " [<Node id=1529 labels={'Journal'} properties={'review_policy_min_count': 3, 'name': 'Human Genetics'}>],\n",
       " [<Node id=1546 labels={'Journal'} properties={'review_policy_min_count': 3, 'name': 'International journal of cardiology'}>]]"
      ]
     },
     "execution_count": 45,
     "metadata": {},
     "output_type": "execute_result"
    }
   ],
   "source": [
    "journal_ids[:5]"
   ]
  },
  {
   "cell_type": "code",
   "execution_count": 46,
   "metadata": {},
   "outputs": [
    {
     "data": {
      "text/plain": [
       "[[<Node id=8264 labels={'Conference'} properties={'review_policy_min_count': 3, 'name': 'Benjamin Sullivan', 'id': 1}>],\n",
       " [<Node id=8278 labels={'Conference'} properties={'review_policy_min_count': 3, 'name': 'Michael Savage', 'id': 2}>]]"
      ]
     },
     "execution_count": 46,
     "metadata": {},
     "output_type": "execute_result"
    }
   ],
   "source": [
    "proceeding_ids[:2]"
   ]
  },
  {
   "cell_type": "markdown",
   "metadata": {},
   "source": [
    "### Display the affiliation of the author to an organization or a company \n",
    "\n",
    "This can be solved by creating an `affiliation_institution_type` attribute, and also an `affiliation_institution_name`. Note that we could have created these as nodes, but the queries from part B do not refer to this information.\n"
   ]
  },
  {
   "cell_type": "code",
   "execution_count": 47,
   "metadata": {},
   "outputs": [],
   "source": [
    "q_set_affiliations = \"\"\"MATCH (n:Author)\n",
    "WHERE n.id = $author_id\n",
    "SET n.affiliation_institution_type = $affiliation_institution_type, n.affiliation_institution_name = $affiliation_institution_name\n",
    "RETURN n\n",
    "\"\"\"\n",
    "\n",
    "institution_types = ['University', 'Company', 'NGO']\n",
    "created_affiliations = []\n",
    "\n",
    "random.seed(42)\n",
    "\n",
    "with gdb.session() as session:\n",
    "    for author_id in author_ids:\n",
    "        _out = session.run(q_set_affiliations, \n",
    "                    author_id=author_id,\n",
    "                    affiliation_institution_name=fake.company(), \n",
    "                    affiliation_institution_type=random.choice(institution_types))        \n",
    "        created_affiliations.append(_out.values())"
   ]
  },
  {
   "cell_type": "code",
   "execution_count": 48,
   "metadata": {},
   "outputs": [
    {
     "data": {
      "text/plain": [
       "[[[<Node id=4695 labels={'Author'} properties={'name': 'Craig W. Benkman', 'affiliation_institution_name': 'Sanders, Sherman and Brown', 'id': ['3902390'], 'affiliation_institution_type': 'NGO'}>]],\n",
       " [[<Node id=4712 labels={'Author'} properties={'name': 'Liz Crowe', 'affiliation_institution_name': 'Lewis-Olsen', 'id': ['13413837'], 'affiliation_institution_type': 'University'}>]],\n",
       " [[<Node id=4749 labels={'Author'} properties={'name': 'Erin R King', 'affiliation_institution_name': 'George Group', 'id': ['24148377'], 'affiliation_institution_type': 'University'}>]],\n",
       " [[<Node id=4752 labels={'Author'} properties={'name': 'Celestine S Tung', 'affiliation_institution_name': 'Neal Group', 'id': ['1792216'], 'affiliation_institution_type': 'NGO'}>]],\n",
       " [[<Node id=4758 labels={'Author'} properties={'name': 'Yvonne T M Tsang', 'affiliation_institution_name': 'Butler, Lopez and Bates', 'id': ['2181642'], 'affiliation_institution_type': 'Company'}>]],\n",
       " [[<Node id=4764 labels={'Author'} properties={'name': 'Zhifei Zu', 'affiliation_institution_name': 'Yang and Sons', 'id': ['4999727'], 'affiliation_institution_type': 'University'}>]],\n",
       " [[<Node id=4813 labels={'Author'} properties={'name': 'Gabriel T M Lok', 'affiliation_institution_name': 'Weber Group', 'id': ['4002710'], 'affiliation_institution_type': 'University'}>]],\n",
       " [[<Node id=4840 labels={'Author'} properties={'name': 'Michael T Deavers', 'affiliation_institution_name': 'Orozco-Gibson', 'id': ['4042560'], 'affiliation_institution_type': 'University'}>]],\n",
       " [[<Node id=4894 labels={'Author'} properties={'name': 'Anais Malpica', 'affiliation_institution_name': 'Bonilla-Mitchell', 'id': ['3198673'], 'affiliation_institution_type': 'NGO'}>]],\n",
       " [[<Node id=4965 labels={'Author'} properties={'name': 'Judith K Wolf', 'affiliation_institution_name': 'Freeman, Rodriguez and Gonzales', 'id': ['39080363'], 'affiliation_institution_type': 'University'}>]],\n",
       " [[<Node id=4986 labels={'Author'} properties={'name': 'Karen H Lu', 'affiliation_institution_name': 'Carter, Rice and Stewart', 'id': ['8500699'], 'affiliation_institution_type': 'NGO'}>]],\n",
       " [[<Node id=4992 labels={'Author'} properties={'name': 'Michael J Birrer', 'affiliation_institution_name': 'Allen-Harris', 'id': ['2167106'], 'affiliation_institution_type': 'NGO'}>]],\n",
       " [[<Node id=5003 labels={'Author'} properties={'name': 'Samuel C Mok', 'affiliation_institution_name': 'Cobb-Ramsey', 'id': ['1779215'], 'affiliation_institution_type': 'NGO'}>]],\n",
       " [[<Node id=5013 labels={'Author'} properties={'name': 'David M Gershenson', 'affiliation_institution_name': 'Jensen Inc', 'id': ['5980427'], 'affiliation_institution_type': 'University'}>]],\n",
       " [[<Node id=5014 labels={'Author'} properties={'name': 'Kwong-Kwok Wong', 'affiliation_institution_name': 'Welch, Chan and Barton', 'id': ['40553901'], 'affiliation_institution_type': 'NGO'}>]],\n",
       " [[<Node id=5037 labels={'Author'} properties={'name': 'Mahendra Kumar Singh', 'affiliation_institution_name': 'White, Smith and Lawson', 'id': ['29033075'], 'affiliation_institution_type': 'Company'}>]],\n",
       " [[<Node id=5042 labels={'Author'} properties={'name': 'Udai Bhan Pandey', 'affiliation_institution_name': 'Ortega Inc', 'id': ['39869455'], 'affiliation_institution_type': 'University'}>]],\n",
       " [[<Node id=5050 labels={'Author'} properties={'name': 'Uday Chand Ghoshal', 'affiliation_institution_name': 'Wright, Boone and Watson', 'id': ['3264793'], 'affiliation_institution_type': 'University'}>]],\n",
       " [[<Node id=5055 labels={'Author'} properties={'name': 'Itha Srivenu', 'affiliation_institution_name': 'Coleman, Brown and Rhodes', 'id': ['16156281'], 'affiliation_institution_type': 'University'}>]],\n",
       " [[<Node id=5081 labels={'Author'} properties={'name': 'Vinay Kumar Kapoor', 'affiliation_institution_name': 'Dixon-Wilson', 'id': ['1903220'], 'affiliation_institution_type': 'University'}>]],\n",
       " [[<Node id=5116 labels={'Author'} properties={'name': 'Gourdas Choudhuri', 'affiliation_institution_name': 'Adams LLC', 'id': ['6554076'], 'affiliation_institution_type': 'University'}>]],\n",
       " [[<Node id=5124 labels={'Author'} properties={'name': 'Balraj Mittal', 'affiliation_institution_name': 'Pham-Moore', 'id': ['6666559'], 'affiliation_institution_type': 'NGO'}>]],\n",
       " [[<Node id=5162 labels={'Author'} properties={'name': 'Caroline Peressutti', 'affiliation_institution_name': 'Alvarez, Miller and Black', 'id': ['5816827'], 'affiliation_institution_type': 'NGO'}>]],\n",
       " [[<Node id=5176 labels={'Author'} properties={'name': 'Juan M Martín-González', 'affiliation_institution_name': 'Peck-Madden', 'id': ['39638258'], 'affiliation_institution_type': 'University'}>]],\n",
       " [[<Node id=5235 labels={'Author'} properties={'name': 'Juan M García-Manso', 'affiliation_institution_name': 'Miller Inc', 'id': ['22621971'], 'affiliation_institution_type': 'NGO'}>]],\n",
       " [[<Node id=5260 labels={'Author'} properties={'name': 'Denkô Mesa', 'affiliation_institution_name': 'Holland-Johnson', 'id': ['11292248'], 'affiliation_institution_type': 'University'}>]],\n",
       " [[<Node id=5269 labels={'Author'} properties={'name': 'Sandra L Kane-Gill', 'affiliation_institution_name': 'Ellison LLC', 'id': ['2339921'], 'affiliation_institution_type': 'NGO'}>]],\n",
       " [[<Node id=5283 labels={'Author'} properties={'name': 'Jeremy P Post', 'affiliation_institution_name': 'Walters, Wells and Phillips', 'id': ['33831574'], 'affiliation_institution_type': 'NGO'}>]],\n",
       " [[<Node id=5286 labels={'Author'} properties={'name': 'Pamela L Smithburger', 'affiliation_institution_name': 'Olson, Mann and Pruitt', 'id': ['4051471'], 'affiliation_institution_type': 'NGO'}>]],\n",
       " [[<Node id=5288 labels={'Author'} properties={'name': 'Amy L Seybert', 'affiliation_institution_name': 'Houston LLC', 'id': ['3883817'], 'affiliation_institution_type': 'NGO'}>]],\n",
       " [[<Node id=5304 labels={'Author'} properties={'name': 'Nicolas Paul', 'affiliation_institution_name': 'Miller Ltd', 'id': ['2960880'], 'affiliation_institution_type': 'Company'}>]],\n",
       " [[<Node id=5307 labels={'Author'} properties={'name': 'Michel Terré', 'affiliation_institution_name': 'Villarreal, Mahoney and Peterson', 'id': ['2989241'], 'affiliation_institution_type': 'University'}>]],\n",
       " [[<Node id=5318 labels={'Author'} properties={'name': 'Luc Fety', 'affiliation_institution_name': 'Perry-Huerta', 'id': ['2450658'], 'affiliation_institution_type': 'Company'}>]],\n",
       " [[<Node id=5346 labels={'Author'} properties={'name': 'Fawaz Al-Mufti', 'affiliation_institution_name': 'Harvey LLC', 'id': ['4103736'], 'affiliation_institution_type': 'NGO'}>]],\n",
       " [[<Node id=5363 labels={'Author'} properties={'name': 'Krishna Amuluru', 'affiliation_institution_name': 'Lee-Vaughn', 'id': ['4128281'], 'affiliation_institution_type': 'Company'}>]],\n",
       " [[<Node id=5393 labels={'Author'} properties={'name': 'Inder Paul Singh', 'affiliation_institution_name': 'Hall-Jenkins', 'id': ['25966475'], 'affiliation_institution_type': 'University'}>]],\n",
       " [[<Node id=5416 labels={'Author'} properties={'name': 'Chirag Gandhi', 'affiliation_institution_name': 'Ross Inc', 'id': ['4650716'], 'affiliation_institution_type': 'University'}>]],\n",
       " [[<Node id=5419 labels={'Author'} properties={'name': 'Charles J Prestigiacomo', 'affiliation_institution_name': 'Phillips-Clark', 'id': ['6833511'], 'affiliation_institution_type': 'NGO'}>]],\n",
       " [[<Node id=5424 labels={'Author'} properties={'name': 'João Guilherme Bezerra Alves', 'affiliation_institution_name': 'Lara Ltd', 'id': ['2203613'], 'affiliation_institution_type': 'Company'}>]],\n",
       " [[<Node id=5426 labels={'Author'} properties={'name': 'Pedro Cerqueira Russo', 'affiliation_institution_name': 'Mcgrath Inc', 'id': ['32379028'], 'affiliation_institution_type': 'Company'}>]],\n",
       " [[<Node id=5450 labels={'Author'} properties={'name': 'Guilherme Victor Alves', 'affiliation_institution_name': 'Sanders-Murray', 'id': ['31165921'], 'affiliation_institution_type': 'Company'}>]],\n",
       " [[<Node id=5454 labels={'Author'} properties={'name': 'Trevor Bennett', 'affiliation_institution_name': 'Curtis, Austin and Richard', 'id': ['3648236'], 'affiliation_institution_type': 'University'}>]],\n",
       " [[<Node id=5455 labels={'Author'} properties={'name': 'Fiona Brookman', 'affiliation_institution_name': 'Gregory-Washington', 'id': ['4808423'], 'affiliation_institution_type': 'University'}>]],\n",
       " [[<Node id=5458 labels={'Author'} properties={'name': 'Kohji Murakami', 'affiliation_institution_name': 'Short-Clark', 'id': ['11059246'], 'affiliation_institution_type': 'Company'}>]],\n",
       " [[<Node id=5463 labels={'Author'} properties={'name': 'Jun-ichi Aikawa', 'affiliation_institution_name': 'Robles Inc', 'id': ['5857080'], 'affiliation_institution_type': 'University'}>]],\n",
       " [[<Node id=5465 labels={'Author'} properties={'name': 'Sueharu Horinouchi', 'affiliation_institution_name': 'Hill, Zuniga and Hill', 'id': ['34601952'], 'affiliation_institution_type': 'University'}>]],\n",
       " [[<Node id=5467 labels={'Author'} properties={'name': 'Teruhiko Beppu', 'affiliation_institution_name': 'Cohen-Stewart', 'id': ['13443985'], 'affiliation_institution_type': 'Company'}>]],\n",
       " [[<Node id=5468 labels={'Author'} properties={'name': 'Emna Braham', 'affiliation_institution_name': 'Johnson-Smith', 'id': ['6603342'], 'affiliation_institution_type': 'University'}>]],\n",
       " [[<Node id=5471 labels={'Author'} properties={'name': 'Houda Ben Rejeb', 'affiliation_institution_name': 'Richmond PLC', 'id': ['9920087'], 'affiliation_institution_type': 'Company'}>]],\n",
       " [[<Node id=5473 labels={'Author'} properties={'name': 'Samira Aouadi', 'affiliation_institution_name': 'Meyer Inc', 'id': ['34845433'], 'affiliation_institution_type': 'Company'}>]],\n",
       " [[<Node id=5476 labels={'Author'} properties={'name': 'Tarek Kilani', 'affiliation_institution_name': 'Hurley, George and Burke', 'id': ['32140824'], 'affiliation_institution_type': 'NGO'}>]],\n",
       " [[<Node id=5477 labels={'Author'} properties={'name': 'Faouzi El Mezni', 'affiliation_institution_name': 'Dennis LLC', 'id': ['3699738'], 'affiliation_institution_type': 'Company'}>]],\n",
       " [[<Node id=5478 labels={'Author'} properties={'name': 'Jochen Könemann', 'affiliation_institution_name': 'Harris, Lowery and Miller', 'id': ['2994475'], 'affiliation_institution_type': 'University'}>]],\n",
       " [[<Node id=5479 labels={'Author'} properties={'name': 'David Pritchard', 'affiliation_institution_name': 'Montgomery Group', 'id': ['1823013'], 'affiliation_institution_type': 'NGO'}>]],\n",
       " [[<Node id=5481 labels={'Author'} properties={'name': 'Kunlun Tan', 'affiliation_institution_name': 'Patterson, Mckay and Strong', 'id': ['3053897'], 'affiliation_institution_type': 'Company'}>]],\n",
       " [[<Node id=5482 labels={'Author'} properties={'name': 'Changqing Zou', 'affiliation_institution_name': 'Mullins Ltd', 'id': ['2876552'], 'affiliation_institution_type': 'NGO'}>]],\n",
       " [[<Node id=5484 labels={'Author'} properties={'name': 'Xiaojiang Peng', 'affiliation_institution_name': 'Kennedy Inc', 'id': ['1766837'], 'affiliation_institution_type': 'University'}>]],\n",
       " [[<Node id=5486 labels={'Author'} properties={'name': 'Hao Lv', 'affiliation_institution_name': 'Garcia-Owen', 'id': ['9101389'], 'affiliation_institution_type': 'Company'}>]],\n",
       " [[<Node id=5488 labels={'Author'} properties={'name': 'Shifeng Chen', 'affiliation_institution_name': 'Cox-Spears', 'id': ['2869725'], 'affiliation_institution_type': 'University'}>]],\n",
       " [[<Node id=5491 labels={'Author'} properties={'name': 'Hongbo Fu', 'affiliation_institution_name': 'Reyes and Sons', 'id': ['3169698'], 'affiliation_institution_type': 'NGO'}>]],\n",
       " [[<Node id=5492 labels={'Author'} properties={'name': 'Jianzhuang Liu', 'affiliation_institution_name': 'Navarro-Hernandez', 'id': ['7137861'], 'affiliation_institution_type': 'Company'}>]],\n",
       " [[<Node id=5493 labels={'Author'} properties={'name': 'Kalyan Veeramachaneni', 'affiliation_institution_name': 'Clements LLC', 'id': ['1803567'], 'affiliation_institution_type': 'NGO'}>]],\n",
       " [[<Node id=5495 labels={'Author'} properties={'name': 'Lisa Ann Osadciw', 'affiliation_institution_name': 'Barajas Inc', 'id': ['2598035'], 'affiliation_institution_type': 'NGO'}>]],\n",
       " [[<Node id=5498 labels={'Author'} properties={'name': 'Pramod K. Varshney', 'affiliation_institution_name': 'Ward-Francis', 'id': ['1925309'], 'affiliation_institution_type': 'Company'}>]],\n",
       " [[<Node id=5499 labels={'Author'} properties={'name': 'Emre Şenol-Durak', 'affiliation_institution_name': 'Haas Ltd', 'id': ['4648790'], 'affiliation_institution_type': 'NGO'}>]],\n",
       " [[<Node id=5500 labels={'Author'} properties={'name': 'Mithat Durak', 'affiliation_institution_name': 'Erickson-Irwin', 'id': ['2278849'], 'affiliation_institution_type': 'University'}>]],\n",
       " [[<Node id=5501 labels={'Author'} properties={'name': 'Tülin Gençöz', 'affiliation_institution_name': 'Taylor, Hammond and Kent', 'id': ['6919306'], 'affiliation_institution_type': 'NGO'}>]],\n",
       " [[<Node id=5504 labels={'Author'} properties={'name': 'Hong He', 'affiliation_institution_name': 'Stephenson LLC', 'id': ['6839478'], 'affiliation_institution_type': 'University'}>]],\n",
       " [[<Node id=5505 labels={'Author'} properties={'name': 'Guanfu Chen', 'affiliation_institution_name': 'Chang, Rodriguez and Lewis', 'id': ['13595642'], 'affiliation_institution_type': 'University'}>]],\n",
       " [[<Node id=5506 labels={'Author'} properties={'name': 'Liang Zhou', 'affiliation_institution_name': 'Rios, Jackson and Cox', 'id': ['1684121'], 'affiliation_institution_type': 'NGO'}>]],\n",
       " [[<Node id=5507 labels={'Author'} properties={'name': 'Yanmin Liu', 'affiliation_institution_name': 'Duncan-Snyder', 'id': ['2005262'], 'affiliation_institution_type': 'University'}>]],\n",
       " [[<Node id=5508 labels={'Author'} properties={'name': 'Martin Kanning', 'affiliation_institution_name': 'Fleming-Berry', 'id': ['9696311'], 'affiliation_institution_type': 'Company'}>]],\n",
       " [[<Node id=5509 labels={'Author'} properties={'name': 'Bastian Siegmann', 'affiliation_institution_name': 'Oliver Inc', 'id': ['2411204'], 'affiliation_institution_type': 'University'}>]],\n",
       " [[<Node id=5514 labels={'Author'} properties={'name': 'Thomas Jarmer', 'affiliation_institution_name': 'Austin-Sexton', 'id': ['2421126'], 'affiliation_institution_type': 'University'}>]],\n",
       " [[<Node id=5515 labels={'Author'} properties={'name': 'MPH Dr.  Michael  Pignone  MD', 'affiliation_institution_name': 'Perez Ltd', 'id': ['21471045'], 'affiliation_institution_type': 'University'}>]],\n",
       " [[<Node id=5516 labels={'Author'} properties={'name': 'MPH Dawn  Bucholtz  MA', 'affiliation_institution_name': 'Martinez PLC', 'id': ['21685210'], 'affiliation_institution_type': 'Company'}>]],\n",
       " [[<Node id=5518 labels={'Author'} properties={'name': 'MPH Russell  Harris  MD', 'affiliation_institution_name': 'Miller-Brooks', 'id': ['21131969'], 'affiliation_institution_type': 'Company'}>]],\n",
       " [[<Node id=5519 labels={'Author'} properties={'name': 'L. J. Vatten', 'affiliation_institution_name': 'Jackson-Webster', 'id': ['6569619'], 'affiliation_institution_type': 'Company'}>]],\n",
       " [[<Node id=5521 labels={'Author'} properties={'name': 'K. Solvoll', 'affiliation_institution_name': 'Ball, Higgins and Jarvis', 'id': ['5194599'], 'affiliation_institution_type': 'NGO'}>]],\n",
       " [[<Node id=5522 labels={'Author'} properties={'name': 'E. B. Løken', 'affiliation_institution_name': 'Schultz, Wise and Higgins', 'id': ['39139612'], 'affiliation_institution_type': 'Company'}>]],\n",
       " [[<Node id=5524 labels={'Author'} properties={'name': 'Matthias W Riepe', 'affiliation_institution_name': 'Holt, Andrews and Garcia', 'id': ['3677516'], 'affiliation_institution_type': 'University'}>]],\n",
       " [[<Node id=5525 labels={'Author'} properties={'name': 'Thomas Mittendorf', 'affiliation_institution_name': 'Ortega, Davis and Wall', 'id': ['5346935'], 'affiliation_institution_type': 'Company'}>]],\n",
       " [[<Node id=5528 labels={'Author'} properties={'name': 'Hans Förstl', 'affiliation_institution_name': 'Schmidt-Bishop', 'id': ['3487329'], 'affiliation_institution_type': 'Company'}>]],\n",
       " [[<Node id=5529 labels={'Author'} properties={'name': 'Lutz Frölich', 'affiliation_institution_name': 'Herrera Inc', 'id': ['4719529'], 'affiliation_institution_type': 'University'}>]],\n",
       " [[<Node id=5530 labels={'Author'} properties={'name': 'Martin Haupt', 'affiliation_institution_name': 'Kelley PLC', 'id': ['40081946'], 'affiliation_institution_type': 'NGO'}>]],\n",
       " [[<Node id=5531 labels={'Author'} properties={'name': 'Reiner Leidl', 'affiliation_institution_name': 'Lee Inc', 'id': ['2778748'], 'affiliation_institution_type': 'Company'}>]],\n",
       " [[<Node id=5532 labels={'Author'} properties={'name': 'Christoph Vauth', 'affiliation_institution_name': 'Lewis-Reynolds', 'id': ['4895596'], 'affiliation_institution_type': 'NGO'}>]],\n",
       " [[<Node id=5533 labels={'Author'} properties={'name': 'Matthias Graf von der Schulenburg', 'affiliation_institution_name': 'Schneider-Horton', 'id': ['34678557'], 'affiliation_institution_type': 'NGO'}>]],\n",
       " [[<Node id=5534 labels={'Author'} properties={'name': 'K. Krakow', 'affiliation_institution_name': 'Keller, May and Humphrey', 'id': ['2654667'], 'affiliation_institution_type': 'NGO'}>]],\n",
       " [[<Node id=5535 labels={'Author'} properties={'name': 'K.-E. Bühler', 'affiliation_institution_name': 'Moran and Sons', 'id': ['31486308'], 'affiliation_institution_type': 'University'}>]],\n",
       " [[<Node id=5536 labels={'Author'} properties={'name': 'H. Haltenhof', 'affiliation_institution_name': 'Taylor Inc', 'id': ['4222575'], 'affiliation_institution_type': 'NGO'}>]],\n",
       " [[<Node id=5538 labels={'Author'} properties={'name': 'P. M. Boland', 'affiliation_institution_name': 'Chavez-Harrell', 'id': ['6036854'], 'affiliation_institution_type': 'NGO'}>]],\n",
       " [[<Node id=5539 labels={'Author'} properties={'name': 'R. S. Dhillon', 'affiliation_institution_name': 'Long, Reese and Moore', 'id': ['9225177'], 'affiliation_institution_type': 'University'}>]],\n",
       " [[<Node id=5540 labels={'Author'} properties={'name': 'S. D. Goldstein', 'affiliation_institution_name': 'Carter Ltd', 'id': ['40397754'], 'affiliation_institution_type': 'NGO'}>]],\n",
       " [[<Node id=5541 labels={'Author'} properties={'name': 'B. J. O’Hara', 'affiliation_institution_name': 'Strickland, Pugh and Weaver', 'id': ['24384949'], 'affiliation_institution_type': 'NGO'}>]],\n",
       " [[<Node id=5542 labels={'Author'} properties={'name': 'D. M. Kastenberg', 'affiliation_institution_name': 'Carr-Ramirez', 'id': ['5042598'], 'affiliation_institution_type': 'University'}>]],\n",
       " [[<Node id=5543 labels={'Author'} properties={'name': 'Quoc Trung Pham', 'affiliation_institution_name': 'Horton-Ramos', 'id': ['3117233'], 'affiliation_institution_type': 'University'}>]],\n",
       " [[<Node id=5545 labels={'Author'} properties={'name': 'Yoshinori Hara', 'affiliation_institution_name': 'Nelson Inc', 'id': ['31893760'], 'affiliation_institution_type': 'Company'}>]],\n",
       " [[<Node id=5547 labels={'Author'} properties={'name': 'André Barreira da Silva Rocha', 'affiliation_institution_name': 'Willis-Contreras', 'id': ['34592689'], 'affiliation_institution_type': 'Company'}>]],\n",
       " [[<Node id=5548 labels={'Author'} properties={'name': 'Annick Laruelle', 'affiliation_institution_name': 'Holt and Sons', 'id': ['1952827'], 'affiliation_institution_type': 'Company'}>]],\n",
       " [[<Node id=5551 labels={'Author'} properties={'name': 'Gowri Allampalli-Nagaraj', 'affiliation_institution_name': 'Thompson-Wright', 'id': ['2628244'], 'affiliation_institution_type': 'NGO'}>]],\n",
       " [[<Node id=5554 labels={'Author'} properties={'name': 'Isabelle Bichindaritz', 'affiliation_institution_name': 'Evans and Sons', 'id': ['3174353'], 'affiliation_institution_type': 'NGO'}>]],\n",
       " [[<Node id=5555 labels={'Author'} properties={'name': 'Q Y Liu', 'affiliation_institution_name': 'Hall-Acosta', 'id': ['31960619'], 'affiliation_institution_type': 'NGO'}>]],\n",
       " [[<Node id=5556 labels={'Author'} properties={'name': 'M Ribecco-Lutkiewicz', 'affiliation_institution_name': 'Sampson LLC', 'id': ['6783687'], 'affiliation_institution_type': 'University'}>]],\n",
       " [[<Node id=5558 labels={'Author'} properties={'name': 'C Carson', 'affiliation_institution_name': 'Molina, Pearson and Munoz', 'id': ['2715245'], 'affiliation_institution_type': 'NGO'}>]],\n",
       " [[<Node id=5559 labels={'Author'} properties={'name': 'L Testolin', 'affiliation_institution_name': 'Weeks-Baker', 'id': ['10099396'], 'affiliation_institution_type': 'Company'}>]],\n",
       " [[<Node id=5560 labels={'Author'} properties={'name': 'D Bergeron', 'affiliation_institution_name': 'Stephens Inc', 'id': ['3706367'], 'affiliation_institution_type': 'University'}>]],\n",
       " [[<Node id=5561 labels={'Author'} properties={'name': 'T Kohwi-Shigematsu', 'affiliation_institution_name': 'Hayes Ltd', 'id': ['3517076'], 'affiliation_institution_type': 'University'}>]],\n",
       " [[<Node id=5562 labels={'Author'} properties={'name': 'P R Walker', 'affiliation_institution_name': 'Reed-Reeves', 'id': ['6324595'], 'affiliation_institution_type': 'University'}>]],\n",
       " [[<Node id=5564 labels={'Author'} properties={'name': 'M Sikorska', 'affiliation_institution_name': 'Patterson and Sons', 'id': ['1885623'], 'affiliation_institution_type': 'Company'}>]],\n",
       " [[<Node id=5565 labels={'Author'} properties={'name': 'Masaharu C. Kato', 'affiliation_institution_name': 'Lee PLC', 'id': ['2656852'], 'affiliation_institution_type': 'Company'}>]],\n",
       " [[<Node id=5567 labels={'Author'} properties={'name': 'Kouki Hikosaka', 'affiliation_institution_name': 'Martinez-Salazar', 'id': ['4205600'], 'affiliation_institution_type': 'Company'}>]],\n",
       " [[<Node id=5568 labels={'Author'} properties={'name': 'Tadaki Hirose', 'affiliation_institution_name': 'Howe Inc', 'id': ['3901550'], 'affiliation_institution_type': 'University'}>]],\n",
       " [[<Node id=5569 labels={'Author'} properties={'name': 'Carla Lavallén', 'affiliation_institution_name': 'Silva-Anderson', 'id': ['10298648'], 'affiliation_institution_type': 'University'}>]],\n",
       " [[<Node id=5571 labels={'Author'} properties={'name': 'Beatriz Brignani', 'affiliation_institution_name': 'Jackson Group', 'id': ['14564412'], 'affiliation_institution_type': 'NGO'}>]],\n",
       " [[<Node id=5572 labels={'Author'} properties={'name': 'Karina Riesgo', 'affiliation_institution_name': 'Spence, Young and Morris', 'id': ['15538280'], 'affiliation_institution_type': 'NGO'}>]],\n",
       " [[<Node id=5580 labels={'Author'} properties={'name': 'Amalia Rojas', 'affiliation_institution_name': 'Anderson-Williams', 'id': ['40650377'], 'affiliation_institution_type': 'Company'}>]],\n",
       " [[<Node id=5582 labels={'Author'} properties={'name': 'Gabriela Colace', 'affiliation_institution_name': 'Wyatt, Hicks and Smith', 'id': ['13298268'], 'affiliation_institution_type': 'University'}>]],\n",
       " [[<Node id=5583 labels={'Author'} properties={'name': 'Martín Biscaychipi', 'affiliation_institution_name': 'Shaw-Smith', 'id': ['16188292'], 'affiliation_institution_type': 'NGO'}>]],\n",
       " [[<Node id=5586 labels={'Author'} properties={'name': 'Estela Chicote', 'affiliation_institution_name': 'Hurst-Jackson', 'id': ['12847667'], 'affiliation_institution_type': 'Company'}>]],\n",
       " [[<Node id=5588 labels={'Author'} properties={'name': 'Cristian Giuntini', 'affiliation_institution_name': 'Wilcox LLC', 'id': ['4351429'], 'affiliation_institution_type': 'Company'}>]],\n",
       " [[<Node id=5589 labels={'Author'} properties={'name': 'Mariela Kifer', 'affiliation_institution_name': 'Smith-Warner', 'id': ['14140739'], 'affiliation_institution_type': 'NGO'}>]],\n",
       " [[<Node id=5590 labels={'Author'} properties={'name': 'María Eugenia del Río', 'affiliation_institution_name': 'Saunders-Gonzalez', 'id': ['34624061'], 'affiliation_institution_type': 'Company'}>]],\n",
       " [[<Node id=5591 labels={'Author'} properties={'name': 'Guillermo Denegri', 'affiliation_institution_name': 'Green-Cunningham', 'id': ['5252678'], 'affiliation_institution_type': 'University'}>]],\n",
       " [[<Node id=5593 labels={'Author'} properties={'name': 'Marcela Dopchiz', 'affiliation_institution_name': 'Blair LLC', 'id': ['9877683'], 'affiliation_institution_type': 'Company'}>]],\n",
       " [[<Node id=5594 labels={'Author'} properties={'name': 'Donald E Fry', 'affiliation_institution_name': 'Anderson, Singleton and Carpenter', 'id': ['34560799'], 'affiliation_institution_type': 'University'}>]],\n",
       " [[<Node id=5596 labels={'Author'} properties={'name': 'Yugesh Madhavan', 'affiliation_institution_name': 'Miller Inc', 'id': ['2638881'], 'affiliation_institution_type': 'University'}>]],\n",
       " [[<Node id=5597 labels={'Author'} properties={'name': 'João W. Cangussu', 'affiliation_institution_name': 'Jackson, Mendoza and Hoffman', 'id': ['2525320'], 'affiliation_institution_type': 'NGO'}>]],\n",
       " [[<Node id=5600 labels={'Author'} properties={'name': 'Ram Dantu', 'affiliation_institution_name': 'Anthony, Monroe and Armstrong', 'id': ['1757168'], 'affiliation_institution_type': 'NGO'}>]],\n",
       " [[<Node id=5605 labels={'Author'} properties={'name': 'Noriyuki Suzuki', 'affiliation_institution_name': 'Clayton, Mccullough and Wright', 'id': ['30440072'], 'affiliation_institution_type': 'NGO'}>]],\n",
       " [[<Node id=5606 labels={'Author'} properties={'name': 'Satoshi Ando', 'affiliation_institution_name': 'Vazquez, Stevenson and King', 'id': ['2022928'], 'affiliation_institution_type': 'Company'}>]],\n",
       " [[<Node id=5608 labels={'Author'} properties={'name': 'Norihisa Yamashita', 'affiliation_institution_name': 'Reynolds Inc', 'id': ['10242182'], 'affiliation_institution_type': 'NGO'}>]],\n",
       " [[<Node id=5609 labels={'Author'} properties={'name': 'Nobuyuki Horie', 'affiliation_institution_name': 'Jackson Inc', 'id': ['33615122'], 'affiliation_institution_type': 'NGO'}>]],\n",
       " [[<Node id=5610 labels={'Author'} properties={'name': 'Koichi Saito', 'affiliation_institution_name': 'Banks LLC', 'id': ['2906071'], 'affiliation_institution_type': 'Company'}>]],\n",
       " [[<Node id=5611 labels={'Author'} properties={'name': 'Brian A Cohen', 'affiliation_institution_name': 'Hall PLC', 'id': ['32381029'], 'affiliation_institution_type': 'NGO'}>]],\n",
       " [[<Node id=5612 labels={'Author'} properties={'name': 'Magnus Bergkvist', 'affiliation_institution_name': 'Rodriguez LLC', 'id': ['1810242'], 'affiliation_institution_type': 'Company'}>]],\n",
       " [[<Node id=5613 labels={'Author'} properties={'name': 'Liang-Hsuan Chen', 'affiliation_institution_name': 'Weaver, Hernandez and James', 'id': ['34637172'], 'affiliation_institution_type': 'Company'}>]],\n",
       " [[<Node id=5614 labels={'Author'} properties={'name': 'Wen-Chang Ko', 'affiliation_institution_name': 'Macdonald-Hart', 'id': ['15577464'], 'affiliation_institution_type': 'University'}>]],\n",
       " [[<Node id=5615 labels={'Author'} properties={'name': 'Rui Ge', 'affiliation_institution_name': 'Underwood-Martin', 'id': ['35928566'], 'affiliation_institution_type': 'University'}>]],\n",
       " [[<Node id=5616 labels={'Author'} properties={'name': 'Min Lin', 'affiliation_institution_name': 'Weaver, Wilson and Howard', 'id': ['2746638'], 'affiliation_institution_type': 'NGO'}>]],\n",
       " [[<Node id=5618 labels={'Author'} properties={'name': 'Xing Li', 'affiliation_institution_name': 'Taylor, Dalton and Butler', 'id': ['40062303'], 'affiliation_institution_type': 'Company'}>]],\n",
       " [[<Node id=5619 labels={'Author'} properties={'name': 'Shuwei Liu', 'affiliation_institution_name': 'Williams-Stuart', 'id': ['34758655'], 'affiliation_institution_type': 'University'}>]],\n",
       " [[<Node id=5621 labels={'Author'} properties={'name': 'Wenjing Wang', 'affiliation_institution_name': 'Higgins-Levy', 'id': ['6763755'], 'affiliation_institution_type': 'University'}>]],\n",
       " [[<Node id=5622 labels={'Author'} properties={'name': 'Shuyao Li', 'affiliation_institution_name': 'Ramirez Inc', 'id': ['3432537'], 'affiliation_institution_type': 'University'}>]],\n",
       " [[<Node id=5623 labels={'Author'} properties={'name': 'Xue Zhang', 'affiliation_institution_name': 'Rodriguez, Riddle and Villanueva', 'id': ['37626554'], 'affiliation_institution_type': 'University'}>]],\n",
       " [[<Node id=5624 labels={'Author'} properties={'name': 'Yi Liu', 'affiliation_institution_name': 'Phillips Ltd', 'id': ['40349218'], 'affiliation_institution_type': 'NGO'}>]],\n",
       " [[<Node id=5626 labels={'Author'} properties={'name': 'Lidi Liu', 'affiliation_institution_name': 'Wright, Martinez and Cooper', 'id': ['3668199'], 'affiliation_institution_type': 'University'}>]],\n",
       " [[<Node id=5627 labels={'Author'} properties={'name': 'Feng Shi', 'affiliation_institution_name': 'Alvarado, Smith and Garcia', 'id': ['38777177'], 'affiliation_institution_type': 'NGO'}>]],\n",
       " [[<Node id=5628 labels={'Author'} properties={'name': 'Hongchen Sun', 'affiliation_institution_name': 'Johnston Group', 'id': ['4278489'], 'affiliation_institution_type': 'Company'}>]],\n",
       " [[<Node id=5629 labels={'Author'} properties={'name': 'Hao Zhang', 'affiliation_institution_name': 'Harris-Wolf', 'id': ['35618998'], 'affiliation_institution_type': 'NGO'}>]],\n",
       " [[<Node id=5630 labels={'Author'} properties={'name': 'Bai Yang', 'affiliation_institution_name': 'Odom, Velazquez and Watts', 'id': ['2228411'], 'affiliation_institution_type': 'University'}>]],\n",
       " [[<Node id=5631 labels={'Author'} properties={'name': 'Takashi Fuse', 'affiliation_institution_name': 'Guerrero-Fuller', 'id': ['1843374'], 'affiliation_institution_type': 'Company'}>]],\n",
       " [[<Node id=5632 labels={'Author'} properties={'name': 'Taka-aki Nakada', 'affiliation_institution_name': 'Collins Ltd', 'id': ['38899699'], 'affiliation_institution_type': 'Company'}>]],\n",
       " [[<Node id=5636 labels={'Author'} properties={'name': 'Masashi Taniguchi', 'affiliation_institution_name': 'White-Carson', 'id': ['5842216'], 'affiliation_institution_type': 'NGO'}>]],\n",
       " [[<Node id=5637 labels={'Author'} properties={'name': 'Yasuaki Mizushima', 'affiliation_institution_name': 'Vaughn, Merritt and Nunez', 'id': ['4312925'], 'affiliation_institution_type': 'Company'}>]],\n",
       " [[<Node id=5639 labels={'Author'} properties={'name': 'Tetsuya Matsuoka', 'affiliation_institution_name': 'Larson, Merritt and Pratt', 'id': ['2968879'], 'affiliation_institution_type': 'NGO'}>]],\n",
       " [[<Node id=5642 labels={'Author'} properties={'name': 'Ken Chih-Chien Cheng', 'affiliation_institution_name': 'Perkins LLC', 'id': ['38222627'], 'affiliation_institution_type': 'Company'}>]],\n",
       " [[<Node id=5643 labels={'Author'} properties={'name': 'Richard Klancer', 'affiliation_institution_name': 'Crawford, Williams and Mercer', 'id': ['4698845'], 'affiliation_institution_type': 'NGO'}>]],\n",
       " [[<Node id=5644 labels={'Author'} properties={'name': 'Andrew Singson', 'affiliation_institution_name': 'Miller-Newman', 'id': ['6591074'], 'affiliation_institution_type': 'University'}>]],\n",
       " [[<Node id=5645 labels={'Author'} properties={'name': 'Geraldine Seydoux', 'affiliation_institution_name': 'Williams, Richardson and Robinson', 'id': ['4858384'], 'affiliation_institution_type': 'NGO'}>]],\n",
       " [[<Node id=5647 labels={'Author'} properties={'name': 'H. A. Alikhani', 'affiliation_institution_name': 'Orr, Hanson and Wilson', 'id': ['5516813'], 'affiliation_institution_type': 'NGO'}>]],\n",
       " [[<Node id=5648 labels={'Author'} properties={'name': 'N. Saleh-Rastin', 'affiliation_institution_name': 'White, Baker and Rosario', 'id': ['21093265'], 'affiliation_institution_type': 'University'}>]],\n",
       " [[<Node id=5649 labels={'Author'} properties={'name': 'H. Antoun', 'affiliation_institution_name': 'Miller, Flores and Rivers', 'id': ['5086387'], 'affiliation_institution_type': 'NGO'}>]],\n",
       " [[<Node id=5651 labels={'Author'} properties={'name': 'Bih-Yu Tsai', 'affiliation_institution_name': 'Brewer, Hamilton and Wright', 'id': ['19391889'], 'affiliation_institution_type': 'NGO'}>]],\n",
       " [[<Node id=5652 labels={'Author'} properties={'name': 'Kuang-Lin Lin', 'affiliation_institution_name': 'Lucero, Banks and Estrada', 'id': ['4704907'], 'affiliation_institution_type': 'Company'}>]],\n",
       " [[<Node id=5656 labels={'Author'} properties={'name': 'Tzou-Yien Lin', 'affiliation_institution_name': 'Brown-Rodriguez', 'id': ['5424051'], 'affiliation_institution_type': 'NGO'}>]],\n",
       " [[<Node id=5657 labels={'Author'} properties={'name': 'Cheng-Hsun Chiu', 'affiliation_institution_name': 'Thomas-Valenzuela', 'id': ['1871731'], 'affiliation_institution_type': 'Company'}>]],\n",
       " [[<Node id=5659 labels={'Author'} properties={'name': 'Wen-Jane Lee', 'affiliation_institution_name': 'Anthony PLC', 'id': ['6195663'], 'affiliation_institution_type': 'University'}>]],\n",
       " [[<Node id=5660 labels={'Author'} properties={'name': 'Shao-Hsuan Hsia', 'affiliation_institution_name': 'Oliver, Morgan and Scott', 'id': ['2073085'], 'affiliation_institution_type': 'Company'}>]],\n",
       " [[<Node id=5662 labels={'Author'} properties={'name': 'Chieh-Tsai Wu', 'affiliation_institution_name': 'Wilson, Hernandez and Mckinney', 'id': ['2835480'], 'affiliation_institution_type': 'Company'}>]],\n",
       " [[<Node id=5663 labels={'Author'} properties={'name': 'Huei-Shyong Wang', 'affiliation_institution_name': 'Carpenter Inc', 'id': ['3631597'], 'affiliation_institution_type': 'University'}>]],\n",
       " [[<Node id=5664 labels={'Author'} properties={'name': 'Naim Ceylan', 'affiliation_institution_name': 'Long LLC', 'id': ['3180885'], 'affiliation_institution_type': 'Company'}>]],\n",
       " [[<Node id=5666 labels={'Author'} properties={'name': 'Sezai Tasbakan', 'affiliation_institution_name': 'Wilson and Sons', 'id': ['7454925'], 'affiliation_institution_type': 'University'}>]],\n",
       " [[<Node id=5667 labels={'Author'} properties={'name': 'Selen Bayraktaroglu', 'affiliation_institution_name': 'Hayes and Sons', 'id': ['6110833'], 'affiliation_institution_type': 'NGO'}>]],\n",
       " [[<Node id=5669 labels={'Author'} properties={'name': 'Gursel Cok', 'affiliation_institution_name': 'Garner, Graves and Knight', 'id': ['10399879'], 'affiliation_institution_type': 'NGO'}>]],\n",
       " [[<Node id=5670 labels={'Author'} properties={'name': 'Tarik Simsek', 'affiliation_institution_name': 'Wilson Inc', 'id': ['32022427'], 'affiliation_institution_type': 'Company'}>]],\n",
       " [[<Node id=5671 labels={'Author'} properties={'name': 'Soner Duman', 'affiliation_institution_name': 'Wright, Martin and Hill', 'id': ['4283880'], 'affiliation_institution_type': 'NGO'}>]],\n",
       " [[<Node id=5672 labels={'Author'} properties={'name': 'Recep Savaş', 'affiliation_institution_name': 'Moore LLC', 'id': ['4871541'], 'affiliation_institution_type': 'University'}>]],\n",
       " [[<Node id=5673 labels={'Author'} properties={'name': 'P. Boquet', 'affiliation_institution_name': 'Gillespie PLC', 'id': ['40635272'], 'affiliation_institution_type': 'NGO'}>]],\n",
       " [[<Node id=5676 labels={'Author'} properties={'name': 'Anna Carolina Borges Pereira Costa', 'affiliation_institution_name': 'Wade Group', 'id': ['32532514'], 'affiliation_institution_type': 'University'}>]],\n",
       " [[<Node id=5679 labels={'Author'} properties={'name': 'Vanessa Maria Campos Rasteiro', 'affiliation_institution_name': 'Martinez-Riley', 'id': ['33307233'], 'affiliation_institution_type': 'NGO'}>]],\n",
       " [[<Node id=5682 labels={'Author'} properties={'name': 'Emily Setsuko Halter da Silva Hashimoto', 'affiliation_institution_name': 'Beck-Trevino', 'id': ['9940333'], 'affiliation_institution_type': 'Company'}>]],\n",
       " [[<Node id=5684 labels={'Author'} properties={'name': 'Cássia Fernandes Araújo', 'affiliation_institution_name': 'Cole Inc', 'id': ['38458159'], 'affiliation_institution_type': 'NGO'}>]],\n",
       " [[<Node id=5688 labels={'Author'} properties={'name': 'Cristiane Aparecida Pereira', 'affiliation_institution_name': 'Allen Group', 'id': ['36677746'], 'affiliation_institution_type': 'NGO'}>]],\n",
       " [[<Node id=5689 labels={'Author'} properties={'name': 'Juliana Campos Junqueira', 'affiliation_institution_name': 'Williams, May and Lewis', 'id': ['5294751'], 'affiliation_institution_type': 'NGO'}>]],\n",
       " [[<Node id=5690 labels={'Author'} properties={'name': 'Antonio Olavo Cardoso Jorge', 'affiliation_institution_name': 'Reeves-Ferguson', 'id': ['3023842'], 'affiliation_institution_type': 'University'}>]],\n",
       " [[<Node id=5691 labels={'Author'} properties={'name': 'Quang Hieu Dang', 'affiliation_institution_name': 'Johnson-Cowan', 'id': ['1681558'], 'affiliation_institution_type': 'University'}>]],\n",
       " [[<Node id=5692 labels={'Author'} properties={'name': 'Alle-Jan van der Veen', 'affiliation_institution_name': 'Williams-Williams', 'id': ['2740843'], 'affiliation_institution_type': 'Company'}>]],\n",
       " [[<Node id=5694 labels={'Author'} properties={'name': 'Angel Gomez-Sacristan', 'affiliation_institution_name': 'Johnson, Smith and Willis', 'id': ['3436461'], 'affiliation_institution_type': 'University'}>]],\n",
       " [[<Node id=5695 labels={'Author'} properties={'name': 'Víctor-M. Sempere-Payá', 'affiliation_institution_name': 'Weaver-Morrison', 'id': ['1791534'], 'affiliation_institution_type': 'NGO'}>]],\n",
       " [[<Node id=5697 labels={'Author'} properties={'name': 'Miguel A. Rodriguez-Hernandez', 'affiliation_institution_name': 'Lopez, Mata and Jacobson', 'id': ['2003058'], 'affiliation_institution_type': 'NGO'}>]],\n",
       " [[<Node id=5701 labels={'Author'} properties={'name': 'Klaus Kuhnen', 'affiliation_institution_name': 'Ruiz Ltd', 'id': ['2855753'], 'affiliation_institution_type': 'University'}>]],\n",
       " [[<Node id=5702 labels={'Author'} properties={'name': 'Supriya Srivastav', 'affiliation_institution_name': 'Lloyd and Sons', 'id': ['39331152'], 'affiliation_institution_type': 'NGO'}>]],\n",
       " [[<Node id=5703 labels={'Author'} properties={'name': 'Susanta Kar', 'affiliation_institution_name': 'Huff, Young and Williams', 'id': ['2415609'], 'affiliation_institution_type': 'Company'}>]],\n",
       " [[<Node id=5704 labels={'Author'} properties={'name': 'Ajit G Chande', 'affiliation_institution_name': 'Rogers-Cardenas', 'id': ['4156585'], 'affiliation_institution_type': 'Company'}>]],\n",
       " [[<Node id=5706 labels={'Author'} properties={'name': 'Robin Mukhopadhyaya', 'affiliation_institution_name': 'Rios-Jordan', 'id': ['37402584'], 'affiliation_institution_type': 'University'}>]],\n",
       " [[<Node id=5707 labels={'Author'} properties={'name': 'Pijush K Das', 'affiliation_institution_name': 'Wilson LLC', 'id': ['22616261'], 'affiliation_institution_type': 'University'}>]],\n",
       " [[<Node id=5709 labels={'Author'} properties={'name': 'Jianlong Qiu', 'affiliation_institution_name': 'Johnston LLC', 'id': ['40348959'], 'affiliation_institution_type': 'Company'}>]],\n",
       " [[<Node id=5711 labels={'Author'} properties={'name': 'Bertil Tungodden', 'affiliation_institution_name': 'Garcia-Ballard', 'id': ['2505047'], 'affiliation_institution_type': 'Company'}>]],\n",
       " [[<Node id=5716 labels={'Author'} properties={'name': 'Heinz Künzle', 'affiliation_institution_name': 'Jacobs, Gallegos and Johnson', 'id': ['5005852'], 'affiliation_institution_type': 'University'}>]],\n",
       " [[<Node id=5717 labels={'Author'} properties={'name': 'Delphine M. Béziau', 'affiliation_institution_name': 'Lewis-Porter', 'id': ['4170869'], 'affiliation_institution_type': 'University'}>]],\n",
       " [[<Node id=5718 labels={'Author'} properties={'name': 'Julien Barc', 'affiliation_institution_name': 'Gomez-Howard', 'id': ['6930641'], 'affiliation_institution_type': 'University'}>]],\n",
       " [[<Node id=5721 labels={'Author'} properties={'name': 'Thomas O’Hara', 'affiliation_institution_name': 'Wheeler-Miller', 'id': ['9762769'], 'affiliation_institution_type': 'NGO'}>]],\n",
       " [[<Node id=5722 labels={'Author'} properties={'name': 'Laurianne Le Gloan', 'affiliation_institution_name': 'Kirby-Hamilton', 'id': ['21451803'], 'affiliation_institution_type': 'University'}>]],\n",
       " [[<Node id=5724 labels={'Author'} properties={'name': 'Mohamed Yassine Amarouch', 'affiliation_institution_name': 'Cook, Wilkerson and Oconnell', 'id': ['6648367'], 'affiliation_institution_type': 'University'}>]],\n",
       " [[<Node id=5725 labels={'Author'} properties={'name': 'Aude Solnon', 'affiliation_institution_name': 'Ford Group', 'id': ['11538308'], 'affiliation_institution_type': 'NGO'}>]],\n",
       " [[<Node id=5731 labels={'Author'} properties={'name': 'Dominique Pavin', 'affiliation_institution_name': 'Mack, Jenkins and Kelley', 'id': ['2819959'], 'affiliation_institution_type': 'Company'}>]],\n",
       " [[<Node id=5734 labels={'Author'} properties={'name': 'Simon Lecointe', 'affiliation_institution_name': 'Smith, Burton and Salinas', 'id': ['13881185'], 'affiliation_institution_type': 'University'}>]],\n",
       " [[<Node id=5735 labels={'Author'} properties={'name': 'Patricia Bouillet', 'affiliation_institution_name': 'Marks, Holder and Bush', 'id': ['32644226'], 'affiliation_institution_type': 'NGO'}>]],\n",
       " [[<Node id=5737 labels={'Author'} properties={'name': 'Jean-Baptiste Gourraud', 'affiliation_institution_name': 'Thompson, Miller and Marshall', 'id': ['5178221'], 'affiliation_institution_type': 'University'}>]],\n",
       " [[<Node id=5738 labels={'Author'} properties={'name': 'Pascale Guicheney', 'affiliation_institution_name': 'Robinson-Henry', 'id': ['5914780'], 'affiliation_institution_type': 'University'}>]],\n",
       " [[<Node id=5739 labels={'Author'} properties={'name': 'Isabelle Denjoy', 'affiliation_institution_name': 'Martinez, Rodgers and Anderson', 'id': ['3859955'], 'affiliation_institution_type': 'NGO'}>]],\n",
       " [[<Node id=5740 labels={'Author'} properties={'name': 'Richard Redon', 'affiliation_institution_name': 'Thompson, Rogers and Schmidt', 'id': ['2601202'], 'affiliation_institution_type': 'Company'}>]],\n",
       " [[<Node id=5741 labels={'Author'} properties={'name': 'Philippe Mabo', 'affiliation_institution_name': 'Lucas PLC', 'id': ['3070200'], 'affiliation_institution_type': 'NGO'}>]],\n",
       " [[<Node id=5742 labels={'Author'} properties={'name': 'Hervé le Marec', 'affiliation_institution_name': 'Wilson-Rojas', 'id': ['4678800'], 'affiliation_institution_type': 'University'}>]],\n",
       " [[<Node id=5743 labels={'Author'} properties={'name': 'Gildas Loussouarn', 'affiliation_institution_name': 'Garcia-Cox', 'id': ['4709501'], 'affiliation_institution_type': 'Company'}>]],\n",
       " [[<Node id=5744 labels={'Author'} properties={'name': 'Florence Kyndt', 'affiliation_institution_name': 'Johnson Ltd', 'id': ['3942231'], 'affiliation_institution_type': 'NGO'}>]],\n",
       " [[<Node id=5745 labels={'Author'} properties={'name': 'Jean-Jacques Schott', 'affiliation_institution_name': 'Collins, Baker and Mcdonald', 'id': ['2428174'], 'affiliation_institution_type': 'NGO'}>]],\n",
       " [[<Node id=5750 labels={'Author'} properties={'name': 'Vincent Probst', 'affiliation_institution_name': 'Hogan, Smith and King', 'id': ['5960699'], 'affiliation_institution_type': 'Company'}>]],\n",
       " [[<Node id=5754 labels={'Author'} properties={'name': 'Isabelle Baró', 'affiliation_institution_name': 'Taylor-Irwin', 'id': ['2898449'], 'affiliation_institution_type': 'University'}>]],\n",
       " [[<Node id=5755 labels={'Author'} properties={'name': 'P. Baskaran', 'affiliation_institution_name': 'Keith-Stewart', 'id': ['1958436'], 'affiliation_institution_type': 'NGO'}>]],\n",
       " [[<Node id=5756 labels={'Author'} properties={'name': 'N. Jayabalan', 'affiliation_institution_name': 'Morgan and Sons', 'id': ['4594070'], 'affiliation_institution_type': 'NGO'}>]],\n",
       " [[<Node id=5757 labels={'Author'} properties={'name': 'Arcangelo Castiglione', 'affiliation_institution_name': 'Turner-Rollins', 'id': ['2888412'], 'affiliation_institution_type': 'NGO'}>]],\n",
       " [[<Node id=5759 labels={'Author'} properties={'name': 'Alfredo De Santis', 'affiliation_institution_name': 'Good-Gomez', 'id': ['1722848'], 'affiliation_institution_type': 'University'}>]],\n",
       " [[<Node id=5761 labels={'Author'} properties={'name': 'Barbara Masucci', 'affiliation_institution_name': 'Brown-Berry', 'id': ['1774105'], 'affiliation_institution_type': 'NGO'}>]],\n",
       " [[<Node id=5762 labels={'Author'} properties={'name': 'Francesco Palmieri', 'affiliation_institution_name': 'Smith, Kirk and Downs', 'id': ['39229524'], 'affiliation_institution_type': 'Company'}>]],\n",
       " [[<Node id=5764 labels={'Author'} properties={'name': 'Aniello Castiglione', 'affiliation_institution_name': 'Baker-Schwartz', 'id': ['1785725'], 'affiliation_institution_type': 'Company'}>]],\n",
       " [[<Node id=5765 labels={'Author'} properties={'name': 'Jin Li', 'affiliation_institution_name': 'Smith-Torres', 'id': ['40448872'], 'affiliation_institution_type': 'NGO'}>]],\n",
       " [[<Node id=5767 labels={'Author'} properties={'name': 'Xinyi Huang', 'affiliation_institution_name': 'Collins-Duncan', 'id': ['1708332'], 'affiliation_institution_type': 'NGO'}>]],\n",
       " [[<Node id=5769 labels={'Author'} properties={'name': 'Hae Ji Kang', 'affiliation_institution_name': 'Paul LLC', 'id': ['4546064'], 'affiliation_institution_type': 'Company'}>]],\n",
       " [[<Node id=5770 labels={'Author'} properties={'name': 'Shannon N Bennett', 'affiliation_institution_name': 'Fisher, Sanchez and Berger', 'id': ['35762071'], 'affiliation_institution_type': 'Company'}>]],\n",
       " [[<Node id=5771 labels={'Author'} properties={'name': 'Andrew G Hope', 'affiliation_institution_name': 'Velasquez-Tapia', 'id': ['3315634'], 'affiliation_institution_type': 'NGO'}>]],\n",
       " [[<Node id=5774 labels={'Author'} properties={'name': 'Joseph A Cook', 'affiliation_institution_name': 'Bauer, Cherry and Leon', 'id': ['35445888'], 'affiliation_institution_type': 'Company'}>]],\n",
       " [[<Node id=5775 labels={'Author'} properties={'name': 'Richard Yanagihara', 'affiliation_institution_name': 'Ellis, Powell and Paul', 'id': ['5280440'], 'affiliation_institution_type': 'University'}>]],\n",
       " [[<Node id=5776 labels={'Author'} properties={'name': 'M K O Gomes', 'affiliation_institution_name': 'Miles-Bradford', 'id': ['40551518'], 'affiliation_institution_type': 'University'}>]],\n",
       " [[<Node id=5777 labels={'Author'} properties={'name': 'J C Rosa-e-Silva', 'affiliation_institution_name': 'White-Coffey', 'id': ['4347049'], 'affiliation_institution_type': 'University'}>]],\n",
       " [[<Node id=5779 labels={'Author'} properties={'name': 'S B Garcia', 'affiliation_institution_name': 'Monroe PLC', 'id': ['1801999'], 'affiliation_institution_type': 'University'}>]],\n",
       " [[<Node id=5780 labels={'Author'} properties={'name': 'A C Japur de Sá Rosa-e-Silva', 'affiliation_institution_name': 'Wheeler-Smith', 'id': ['13552955'], 'affiliation_institution_type': 'Company'}>]],\n",
       " [[<Node id=5781 labels={'Author'} properties={'name': 'A Turatti', 'affiliation_institution_name': 'Reed, Grant and Garcia', 'id': ['4155622'], 'affiliation_institution_type': 'University'}>]],\n",
       " [[<Node id=5782 labels={'Author'} properties={'name': 'C S Vieira', 'affiliation_institution_name': 'Wood Inc', 'id': ['3239623'], 'affiliation_institution_type': 'NGO'}>]],\n",
       " [[<Node id=5785 labels={'Author'} properties={'name': 'R A Ferriani', 'affiliation_institution_name': 'Pierce-Graham', 'id': ['33434006'], 'affiliation_institution_type': 'NGO'}>]],\n",
       " [[<Node id=5786 labels={'Author'} properties={'name': 'Philip J Cooper', 'affiliation_institution_name': 'Lowe Group', 'id': ['35065288'], 'affiliation_institution_type': 'University'}>]],\n",
       " [[<Node id=5788 labels={'Author'} properties={'name': 'Martha E Chico', 'affiliation_institution_name': 'Williams, Garcia and Taylor', 'id': ['4524360'], 'affiliation_institution_type': 'NGO'}>]],\n",
       " [[<Node id=5789 labels={'Author'} properties={'name': 'Maritza G Vaca', 'affiliation_institution_name': 'Wilson PLC', 'id': ['4757342'], 'affiliation_institution_type': 'University'}>]],\n",
       " [[<Node id=5790 labels={'Author'} properties={'name': 'Carlos A Sandoval', 'affiliation_institution_name': 'Clark-Velez', 'id': ['38052938'], 'affiliation_institution_type': 'University'}>]],\n",
       " [[<Node id=5795 labels={'Author'} properties={'name': 'Sofia Loor', 'affiliation_institution_name': 'Howard-Mckee', 'id': ['26381187'], 'affiliation_institution_type': 'University'}>]],\n",
       " [[<Node id=5796 labels={'Author'} properties={'name': 'Leila D Amorim', 'affiliation_institution_name': 'Murray Group', 'id': ['3180629'], 'affiliation_institution_type': 'NGO'}>]],\n",
       " [[<Node id=5799 labels={'Author'} properties={'name': 'Laura C Rodrigues', 'affiliation_institution_name': 'Villarreal-Cooper', 'id': ['39984705'], 'affiliation_institution_type': 'NGO'}>]],\n",
       " [[<Node id=5802 labels={'Author'} properties={'name': 'Mauricio L Barreto', 'affiliation_institution_name': 'Massey-Harris', 'id': ['2370481'], 'affiliation_institution_type': 'University'}>]],\n",
       " [[<Node id=5803 labels={'Author'} properties={'name': 'David P Strachan', 'affiliation_institution_name': 'Hamilton, Lee and Rios', 'id': ['3158734'], 'affiliation_institution_type': 'University'}>]],\n",
       " [[<Node id=5805 labels={'Author'} properties={'name': 'Prof. K. A. P. Edman', 'affiliation_institution_name': 'Taylor LLC', 'id': ['32647125'], 'affiliation_institution_type': 'University'}>]],\n",
       " [[<Node id=5809 labels={'Author'} properties={'name': 'Jun-Yang Wang', 'affiliation_institution_name': 'Smith, Powers and Huerta', 'id': ['33358433'], 'affiliation_institution_type': 'University'}>]],\n",
       " [[<Node id=5810 labels={'Author'} properties={'name': 'Mei Zhao', 'affiliation_institution_name': 'Anderson, Harris and Hampton', 'id': ['2225611'], 'affiliation_institution_type': 'Company'}>]],\n",
       " [[<Node id=5812 labels={'Author'} properties={'name': 'Fen-Sheng Huang', 'affiliation_institution_name': 'Burton Inc', 'id': ['8766528'], 'affiliation_institution_type': 'University'}>]],\n",
       " [[<Node id=5813 labels={'Author'} properties={'name': 'Jing-Shi Tang', 'affiliation_institution_name': 'Atkins PLC', 'id': ['6689220'], 'affiliation_institution_type': 'NGO'}>]],\n",
       " [[<Node id=5814 labels={'Author'} properties={'name': 'Yu-Kang Yuan', 'affiliation_institution_name': 'Greer Ltd', 'id': ['7809890'], 'affiliation_institution_type': 'University'}>]],\n",
       " [[<Node id=5815 labels={'Author'} properties={'name': 'Jinsong Zhou', 'affiliation_institution_name': 'Navarro-Smith', 'id': ['9162492'], 'affiliation_institution_type': 'Company'}>]],\n",
       " [[<Node id=5817 labels={'Author'} properties={'name': 'Qing Chen', 'affiliation_institution_name': 'Stephens-Wise', 'id': ['1774752'], 'affiliation_institution_type': 'NGO'}>]],\n",
       " [[<Node id=5819 labels={'Author'} properties={'name': 'Hui Zhao', 'affiliation_institution_name': 'Watson, Hall and Wolf', 'id': ['33966231'], 'affiliation_institution_type': 'Company'}>]],\n",
       " [[<Node id=5821 labels={'Author'} properties={'name': 'Xiaowei Cao', 'affiliation_institution_name': 'Phillips-Hunter', 'id': ['3013956'], 'affiliation_institution_type': 'University'}>]],\n",
       " [[<Node id=5823 labels={'Author'} properties={'name': 'Qinfeng Mei', 'affiliation_institution_name': 'Perry Ltd', 'id': ['32653312'], 'affiliation_institution_type': 'NGO'}>]],\n",
       " [[<Node id=5824 labels={'Author'} properties={'name': 'Zhongyang Luo', 'affiliation_institution_name': 'Peters, Murray and Lee', 'id': ['1999901'], 'affiliation_institution_type': 'University'}>]],\n",
       " [[<Node id=5827 labels={'Author'} properties={'name': 'Kefa Cen', 'affiliation_institution_name': 'Hicks Group', 'id': ['2185297'], 'affiliation_institution_type': 'NGO'}>]],\n",
       " [[<Node id=5829 labels={'Author'} properties={'name': 'Loïc Prylli', 'affiliation_institution_name': 'Young, Gray and Hart', 'id': ['1678508'], 'affiliation_institution_type': 'NGO'}>]],\n",
       " [[<Node id=5830 labels={'Author'} properties={'name': 'Bernard Tourancheau', 'affiliation_institution_name': 'Hernandez PLC', 'id': ['1685288'], 'affiliation_institution_type': 'NGO'}>]],\n",
       " [[<Node id=5833 labels={'Author'} properties={'name': 'Flávia Lopes Roveri', 'affiliation_institution_name': 'Perry, Cox and Meyer', 'id': ['7206656'], 'affiliation_institution_type': 'Company'}>]],\n",
       " [[<Node id=5834 labels={'Author'} properties={'name': 'Beatriz Aparecida Passos Bismara Paranhos', 'affiliation_institution_name': 'Gray, Lee and Carr', 'id': ['15004605'], 'affiliation_institution_type': 'University'}>]],\n",
       " [[<Node id=5835 labels={'Author'} properties={'name': 'Mauricio Yonamine', 'affiliation_institution_name': 'Clark, Anderson and Davis', 'id': ['4812715'], 'affiliation_institution_type': 'Company'}>]],\n",
       " [[<Node id=5836 labels={'Author'} properties={'name': 'Wen-Liang Hsue', 'affiliation_institution_name': 'Arnold, Harrington and Williams', 'id': ['1832564'], 'affiliation_institution_type': 'Company'}>]],\n",
       " [[<Node id=5837 labels={'Author'} properties={'name': 'Soo-Chang Pei', 'affiliation_institution_name': 'Hunt Ltd', 'id': ['4965513'], 'affiliation_institution_type': 'University'}>]],\n",
       " [[<Node id=5838 labels={'Author'} properties={'name': 'Yu Xie', 'affiliation_institution_name': 'Haynes Ltd', 'id': ['1707459'], 'affiliation_institution_type': 'University'}>]],\n",
       " [[<Node id=5840 labels={'Author'} properties={'name': 'M. W. Roberts', 'affiliation_institution_name': 'Rogers, Baker and Burnett', 'id': ['1989675'], 'affiliation_institution_type': 'University'}>]],\n",
       " [[<Node id=5841 labels={'Author'} properties={'name': 'K. A. Mathiesen', 'affiliation_institution_name': 'Hurst, Gould and Molina', 'id': ['35621297'], 'affiliation_institution_type': 'NGO'}>]],\n",
       " [[<Node id=5844 labels={'Author'} properties={'name': 'H. S. Ho', 'affiliation_institution_name': 'Garcia Group', 'id': ['1856128'], 'affiliation_institution_type': 'Company'}>]],\n",
       " [[<Node id=5845 labels={'Author'} properties={'name': 'B. M. Wolfe', 'affiliation_institution_name': 'Schwartz, Roberts and Bond', 'id': ['4404407'], 'affiliation_institution_type': 'Company'}>]],\n",
       " [[<Node id=5847 labels={'Author'} properties={'name': 'E. Togan', 'affiliation_institution_name': 'Andrews Inc', 'id': ['6958083'], 'affiliation_institution_type': 'Company'}>]],\n",
       " [[<Node id=5849 labels={'Author'} properties={'name': 'Y. Chu', 'affiliation_institution_name': 'Adams, Terry and Peterson', 'id': ['40697971'], 'affiliation_institution_type': 'Company'}>]],\n",
       " [[<Node id=5850 labels={'Author'} properties={'name': 'A. S. Trifonov', 'affiliation_institution_name': 'Wells-Kim', 'id': ['34718967'], 'affiliation_institution_type': 'Company'}>]],\n",
       " [[<Node id=5851 labels={'Author'} properties={'name': 'L. Jiang', 'affiliation_institution_name': 'Perkins-Dawson', 'id': ['40805640'], 'affiliation_institution_type': 'NGO'}>]],\n",
       " [[<Node id=5853 labels={'Author'} properties={'name': 'J. Maze', 'affiliation_institution_name': 'Harris LLC', 'id': ['31918230'], 'affiliation_institution_type': 'University'}>]],\n",
       " [[<Node id=5854 labels={'Author'} properties={'name': 'L. Childress', 'affiliation_institution_name': 'Washington PLC', 'id': ['40800298'], 'affiliation_institution_type': 'NGO'}>]],\n",
       " [[<Node id=5858 labels={'Author'} properties={'name': 'M. V. G. Dutt', 'affiliation_institution_name': 'Torres LLC', 'id': ['32599733'], 'affiliation_institution_type': 'NGO'}>]],\n",
       " [[<Node id=5859 labels={'Author'} properties={'name': 'A. S. Sørensen', 'affiliation_institution_name': 'Holt, Martinez and Petty', 'id': ['2323620'], 'affiliation_institution_type': 'NGO'}>]],\n",
       " [[<Node id=5860 labels={'Author'} properties={'name': 'P. R. Hemmer', 'affiliation_institution_name': 'James-Petty', 'id': ['30681995'], 'affiliation_institution_type': 'University'}>]],\n",
       " [[<Node id=5861 labels={'Author'} properties={'name': 'A. S. Zibrov', 'affiliation_institution_name': 'Griffith, Thompson and Vang', 'id': ['5407261'], 'affiliation_institution_type': 'University'}>]],\n",
       " [[<Node id=5865 labels={'Author'} properties={'name': 'M. D. Lukin', 'affiliation_institution_name': 'Anderson and Sons', 'id': ['2961408'], 'affiliation_institution_type': 'Company'}>]],\n",
       " [[<Node id=5866 labels={'Author'} properties={'name': 'Volker Hoffmann', 'affiliation_institution_name': 'Hall Ltd', 'id': ['34631921'], 'affiliation_institution_type': 'NGO'}>]],\n",
       " [[<Node id=5868 labels={'Author'} properties={'name': 'Thomas Roeren', 'affiliation_institution_name': 'Esparza and Sons', 'id': ['12438908'], 'affiliation_institution_type': 'Company'}>]],\n",
       " [[<Node id=5869 labels={'Author'} properties={'name': 'Peter Möller', 'affiliation_institution_name': 'Bates, Lee and Lloyd', 'id': ['2211617'], 'affiliation_institution_type': 'University'}>]],\n",
       " [[<Node id=5871 labels={'Author'} properties={'name': 'Gundi Heuschen', 'affiliation_institution_name': 'Kelly, Miller and Greene', 'id': ['11535984'], 'affiliation_institution_type': 'University'}>]],\n",
       " [[<Node id=5873 labels={'Author'} properties={'name': 'C Matthys', 'affiliation_institution_name': 'Sims-Moore', 'id': ['3975040'], 'affiliation_institution_type': 'University'}>]],\n",
       " [[<Node id=5874 labels={'Author'} properties={'name': 'I Pynaert', 'affiliation_institution_name': 'Jones Inc', 'id': ['7242079'], 'affiliation_institution_type': 'University'}>]],\n",
       " [[<Node id=5875 labels={'Author'} properties={'name': 'M Roe', 'affiliation_institution_name': 'Martin, Walton and Smith', 'id': ['39035846'], 'affiliation_institution_type': 'NGO'}>]],\n",
       " [[<Node id=5876 labels={'Author'} properties={'name': 'S J Fairweather-Tait', 'affiliation_institution_name': 'Gilbert, Maldonado and Lewis', 'id': ['3656567'], 'affiliation_institution_type': 'Company'}>]],\n",
       " [[<Node id=5877 labels={'Author'} properties={'name': 'A-LM Heath', 'affiliation_institution_name': 'Cain LLC', 'id': ['37902202'], 'affiliation_institution_type': 'University'}>]],\n",
       " [[<Node id=5878 labels={'Author'} properties={'name': 'S De Henauw', 'affiliation_institution_name': 'Williams Ltd', 'id': ['7361671'], 'affiliation_institution_type': 'Company'}>]],\n",
       " [[<Node id=5880 labels={'Author'} properties={'name': 'Laura P Shone', 'affiliation_institution_name': 'Wilson, Mejia and Jimenez', 'id': ['3363868'], 'affiliation_institution_type': 'University'}>]],\n",
       " [[<Node id=5881 labels={'Author'} properties={'name': 'Jennifer P King', 'affiliation_institution_name': 'Steele, Duarte and Jones', 'id': ['35101601'], 'affiliation_institution_type': 'Company'}>]],\n",
       " [[<Node id=5882 labels={'Author'} properties={'name': 'Cindy Doane', 'affiliation_institution_name': 'Salazar Inc', 'id': ['38512231'], 'affiliation_institution_type': 'Company'}>]],\n",
       " [[<Node id=5883 labels={'Author'} properties={'name': 'Karen M Wilson', 'affiliation_institution_name': 'Miranda, Long and Williams', 'id': ['31633920'], 'affiliation_institution_type': 'University'}>]],\n",
       " [[<Node id=5884 labels={'Author'} properties={'name': 'Michael S Wolf', 'affiliation_institution_name': 'Wong Inc', 'id': ['35577452'], 'affiliation_institution_type': 'University'}>]],\n",
       " [[<Node id=5888 labels={'Author'} properties={'name': 'Joachim Wegener', 'affiliation_institution_name': 'Clayton-Roach', 'id': ['35036006'], 'affiliation_institution_type': 'Company'}>]],\n",
       " [[<Node id=5889 labels={'Author'} properties={'name': 'Marcelo Coelho Goiato', 'affiliation_institution_name': 'Morales-Reed', 'id': ['9845956'], 'affiliation_institution_type': 'NGO'}>]],\n",
       " [[<Node id=5890 labels={'Author'} properties={'name': 'Daniela Micheline dos Santos', 'affiliation_institution_name': 'Kelley Group', 'id': ['4844159'], 'affiliation_institution_type': 'University'}>]],\n",
       " [[<Node id=5891 labels={'Author'} properties={'name': 'Humberto Gennari-Filho', 'affiliation_institution_name': 'Jennings and Sons', 'id': ['3674673'], 'affiliation_institution_type': 'University'}>]],\n",
       " [[<Node id=5892 labels={'Author'} properties={'name': 'Adriana Cristina Zavanelli', 'affiliation_institution_name': 'Mccarthy-Moreno', 'id': ['4464685'], 'affiliation_institution_type': 'NGO'}>]],\n",
       " [[<Node id=5893 labels={'Author'} properties={'name': 'Stefan Fiuza de Carvalho Dekon', 'affiliation_institution_name': 'Bullock, Rojas and Smith', 'id': ['14739851'], 'affiliation_institution_type': 'NGO'}>]],\n",
       " [[<Node id=5899 labels={'Author'} properties={'name': 'Daniela Nardi Mancuso', 'affiliation_institution_name': 'Lewis-Parker', 'id': ['3858324'], 'affiliation_institution_type': 'University'}>]],\n",
       " [[<Node id=5900 labels={'Author'} properties={'name': 'Sanjay Kulkarni', 'affiliation_institution_name': 'Stephens-Mcfarland', 'id': ['1981132'], 'affiliation_institution_type': 'University'}>]],\n",
       " [[<Node id=5901 labels={'Author'} properties={'name': 'Massimo Malagò', 'affiliation_institution_name': 'Osborn-George', 'id': ['4392481'], 'affiliation_institution_type': 'University'}>]],\n",
       " [[<Node id=5902 labels={'Author'} properties={'name': 'David C Cronin', 'affiliation_institution_name': 'Graham, Ford and Bauer', 'id': ['1711908'], 'affiliation_institution_type': 'University'}>]],\n",
       " [[<Node id=5903 labels={'Author'} properties={'name': 'James Robinson', 'affiliation_institution_name': 'Lewis LLC', 'id': ['2631082'], 'affiliation_institution_type': 'Company'}>]],\n",
       " [[<Node id=5905 labels={'Author'} properties={'name': 'Fatima Cody Stanford', 'affiliation_institution_name': 'Martin-Knight', 'id': ['4238000'], 'affiliation_institution_type': 'Company'}>]],\n",
       " [[<Node id=5906 labels={'Author'} properties={'name': 'Daniel Kendoff', 'affiliation_institution_name': 'Young Inc', 'id': ['4440904'], 'affiliation_institution_type': 'Company'}>]],\n",
       " [[<Node id=5907 labels={'Author'} properties={'name': 'Volker Stüber', 'affiliation_institution_name': 'Wise, Peterson and Young', 'id': ['6593226'], 'affiliation_institution_type': 'University'}>]],\n",
       " [[<Node id=5908 labels={'Author'} properties={'name': 'Andrew D Pearle', 'affiliation_institution_name': 'Perkins-Becker', 'id': ['5532733'], 'affiliation_institution_type': 'Company'}>]],\n",
       " [[<Node id=5911 labels={'Author'} properties={'name': 'F W M G Muniz', 'affiliation_institution_name': 'Jones, Jones and Johnson', 'id': ['36546305'], 'affiliation_institution_type': 'University'}>]],\n",
       " [[<Node id=5912 labels={'Author'} properties={'name': 'K S Sena', 'affiliation_institution_name': 'Shelton-Owens', 'id': ['35116338'], 'affiliation_institution_type': 'University'}>]],\n",
       " [[<Node id=5914 labels={'Author'} properties={'name': 'C C de Oliveira', 'affiliation_institution_name': 'Martinez, Moore and Martin', 'id': ['4031078'], 'affiliation_institution_type': 'Company'}>]],\n",
       " [[<Node id=5916 labels={'Author'} properties={'name': 'D M Veríssimo', 'affiliation_institution_name': 'Adams-Nelson', 'id': ['33989461'], 'affiliation_institution_type': 'University'}>]],\n",
       " [[<Node id=5917 labels={'Author'} properties={'name': 'R S Carvalho', 'affiliation_institution_name': 'Roberts-Gibson', 'id': ['2685922'], 'affiliation_institution_type': 'Company'}>]],\n",
       " [[<Node id=5919 labels={'Author'} properties={'name': 'R S Martins', 'affiliation_institution_name': 'Hogan, Herrera and Fox', 'id': ['1872924'], 'affiliation_institution_type': 'Company'}>]],\n",
       " [[<Node id=5920 labels={'Author'} properties={'name': 'Yanlin Lv', 'affiliation_institution_name': 'Foster, Harvey and Wiggins', 'id': ['10733849'], 'affiliation_institution_type': 'Company'}>]],\n",
       " [[<Node id=5921 labels={'Author'} properties={'name': 'Peng Liu', 'affiliation_institution_name': 'Arellano Inc', 'id': ['39228231'], 'affiliation_institution_type': 'Company'}>]],\n",
       " [[<Node id=5922 labels={'Author'} properties={'name': 'Hui Ding', 'affiliation_institution_name': 'Wilson LLC', 'id': ['40238981'], 'affiliation_institution_type': 'Company'}>]],\n",
       " [[<Node id=5923 labels={'Author'} properties={'name': 'Yishi Wu', 'affiliation_institution_name': 'Paul Inc', 'id': ['2716362'], 'affiliation_institution_type': 'NGO'}>]],\n",
       " [[<Node id=5925 labels={'Author'} properties={'name': 'Yongli Yan', 'affiliation_institution_name': 'Robbins LLC', 'id': ['34040965'], 'affiliation_institution_type': 'NGO'}>]],\n",
       " [[<Node id=5926 labels={'Author'} properties={'name': 'Heng Liu', 'affiliation_institution_name': 'Mccormick Inc', 'id': ['1780798'], 'affiliation_institution_type': 'NGO'}>]],\n",
       " [[<Node id=5927 labels={'Author'} properties={'name': 'Xuefei Wang', 'affiliation_institution_name': 'Nichols LLC', 'id': ['40617976'], 'affiliation_institution_type': 'NGO'}>]],\n",
       " [[<Node id=5928 labels={'Author'} properties={'name': 'Fei Huang', 'affiliation_institution_name': 'Alvarado, Wilson and Miranda', 'id': ['38763315'], 'affiliation_institution_type': 'NGO'}>]],\n",
       " [[<Node id=5930 labels={'Author'} properties={'name': 'Yongsheng Zhao', 'affiliation_institution_name': 'Burke and Sons', 'id': ['2960476'], 'affiliation_institution_type': 'Company'}>]],\n",
       " [[<Node id=5931 labels={'Author'} properties={'name': 'Zhiyuan Tian', 'affiliation_institution_name': 'Bradshaw-Walsh', 'id': ['2612852'], 'affiliation_institution_type': 'University'}>]],\n",
       " [[<Node id=5932 labels={'Author'} properties={'name': 'Xiaoming Zhao', 'affiliation_institution_name': 'Rogers Group', 'id': ['1730594'], 'affiliation_institution_type': 'University'}>]],\n",
       " [[<Node id=5933 labels={'Author'} properties={'name': 'Ming Liu', 'affiliation_institution_name': 'Clark and Sons', 'id': ['1686211'], 'affiliation_institution_type': 'Company'}>]],\n",
       " [[<Node id=5935 labels={'Author'} properties={'name': 'Daotang Li', 'affiliation_institution_name': 'Holloway, Bauer and Alexander', 'id': ['5271346'], 'affiliation_institution_type': 'University'}>]],\n",
       " [[<Node id=5936 labels={'Author'} properties={'name': 'Somsak Sukittanon', 'affiliation_institution_name': 'Robinson, Acevedo and Estes', 'id': ['2617088'], 'affiliation_institution_type': 'University'}>]],\n",
       " [[<Node id=5939 labels={'Author'} properties={'name': 'Les E. Atlas', 'affiliation_institution_name': 'Johnson-Farrell', 'id': ['1705299'], 'affiliation_institution_type': 'NGO'}>]],\n",
       " [[<Node id=5940 labels={'Author'} properties={'name': 'James W. Pitton', 'affiliation_institution_name': 'Lewis-Ross', 'id': ['3245302'], 'affiliation_institution_type': 'NGO'}>]],\n",
       " [[<Node id=5941 labels={'Author'} properties={'name': 'Karim Filali', 'affiliation_institution_name': 'Williams-Mendoza', 'id': ['1914512'], 'affiliation_institution_type': 'NGO'}>]],\n",
       " [[<Node id=5942 labels={'Author'} properties={'name': 'Arup K Mukherjee', 'affiliation_institution_name': 'Gould, Hart and Montoya', 'id': ['35856687'], 'affiliation_institution_type': 'University'}>]],\n",
       " [[<Node id=5943 labels={'Author'} properties={'name': 'Marie-Jeanne Carp', 'affiliation_institution_name': 'Hopkins Group', 'id': ['1961496'], 'affiliation_institution_type': 'NGO'}>]],\n",
       " [[<Node id=5945 labels={'Author'} properties={'name': 'Rina Zuchman', 'affiliation_institution_name': 'Dunn, Moore and Donovan', 'id': ['4246002'], 'affiliation_institution_type': 'Company'}>]],\n",
       " [[<Node id=5946 labels={'Author'} properties={'name': 'Tamar Ziv', 'affiliation_institution_name': 'Miller-Pittman', 'id': ['4741960'], 'affiliation_institution_type': 'University'}>]],\n",
       " [[<Node id=5947 labels={'Author'} properties={'name': 'Benjamin A Horwitz', 'affiliation_institution_name': 'Hull and Sons', 'id': ['35444495'], 'affiliation_institution_type': 'University'}>]],\n",
       " [[<Node id=5948 labels={'Author'} properties={'name': 'Shimon Gepstein', 'affiliation_institution_name': 'Dean-Turner', 'id': ['5884633'], 'affiliation_institution_type': 'NGO'}>]],\n",
       " [[<Node id=5950 labels={'Author'} properties={'name': 'Jonathan Haas', 'affiliation_institution_name': 'Morris-Smith', 'id': ['35118455'], 'affiliation_institution_type': 'Company'}>]],\n",
       " [[<Node id=5952 labels={'Author'} properties={'name': 'Winifred Creamer', 'affiliation_institution_name': 'Hicks LLC', 'id': ['31881117'], 'affiliation_institution_type': 'NGO'}>]],\n",
       " [[<Node id=5957 labels={'Author'} properties={'name': 'Luis Huamán Mesía', 'affiliation_institution_name': 'Baker, Anderson and Costa', 'id': ['7597965'], 'affiliation_institution_type': 'NGO'}>]],\n",
       " [[<Node id=5961 labels={'Author'} properties={'name': 'David Goldstein', 'affiliation_institution_name': 'Hammond-Walters', 'id': ['2089157'], 'affiliation_institution_type': 'University'}>]],\n",
       " [[<Node id=5962 labels={'Author'} properties={'name': 'Karl Reinhard', 'affiliation_institution_name': 'Harrison Ltd', 'id': ['3914329'], 'affiliation_institution_type': 'University'}>]],\n",
       " [[<Node id=5963 labels={'Author'} properties={'name': 'Cindy Vergel Rodríguez', 'affiliation_institution_name': 'Howe, Leonard and Hutchinson', 'id': ['32157818'], 'affiliation_institution_type': 'NGO'}>]],\n",
       " [[<Node id=5964 labels={'Author'} properties={'name': 'Kristi Oeding', 'affiliation_institution_name': 'Hall Group', 'id': ['6257196'], 'affiliation_institution_type': 'University'}>]],\n",
       " [[<Node id=5965 labels={'Author'} properties={'name': 'Michael Valente', 'affiliation_institution_name': 'Lester and Sons', 'id': ['34428000'], 'affiliation_institution_type': 'University'}>]],\n",
       " [[<Node id=5966 labels={'Author'} properties={'name': 'Jessica Kerckhoff', 'affiliation_institution_name': 'Oneill-Downs', 'id': ['39865682'], 'affiliation_institution_type': 'University'}>]],\n",
       " [[<Node id=5967 labels={'Author'} properties={'name': 'Younghee Kim', 'affiliation_institution_name': 'Singleton and Sons', 'id': ['1699870'], 'affiliation_institution_type': 'NGO'}>]],\n",
       " [[<Node id=5968 labels={'Author'} properties={'name': 'Valeria Tarallo', 'affiliation_institution_name': 'Cooper-Santos', 'id': ['4871042'], 'affiliation_institution_type': 'University'}>]],\n",
       " [[<Node id=5969 labels={'Author'} properties={'name': 'Nagaraj Kerur', 'affiliation_institution_name': 'Green PLC', 'id': ['3771575'], 'affiliation_institution_type': 'NGO'}>]],\n",
       " [[<Node id=5970 labels={'Author'} properties={'name': 'Tetsuhiro Yasuma', 'affiliation_institution_name': 'Green and Sons', 'id': ['4909463'], 'affiliation_institution_type': 'University'}>]],\n",
       " [[<Node id=5971 labels={'Author'} properties={'name': 'Bradley D Gelfand', 'affiliation_institution_name': 'Smith-Martinez', 'id': ['5722545'], 'affiliation_institution_type': 'Company'}>]],\n",
       " [[<Node id=5972 labels={'Author'} properties={'name': 'Ana Bastos-Carvalho', 'affiliation_institution_name': 'Jones Group', 'id': ['3959018'], 'affiliation_institution_type': 'University'}>]],\n",
       " [[<Node id=5973 labels={'Author'} properties={'name': 'Yoshio Hirano', 'affiliation_institution_name': 'Boyd, Choi and Phillips', 'id': ['5209726'], 'affiliation_institution_type': 'NGO'}>]],\n",
       " [[<Node id=5975 labels={'Author'} properties={'name': 'Reo Yasuma', 'affiliation_institution_name': 'Miller Ltd', 'id': ['3832614'], 'affiliation_institution_type': 'University'}>]],\n",
       " [[<Node id=5977 labels={'Author'} properties={'name': 'Takeshi Mizutani', 'affiliation_institution_name': 'Liu, Sanchez and Spencer', 'id': ['4971663'], 'affiliation_institution_type': 'NGO'}>]],\n",
       " [[<Node id=5978 labels={'Author'} properties={'name': 'Benjamin J Fowler', 'affiliation_institution_name': 'Marquez-Johnson', 'id': ['2607288'], 'affiliation_institution_type': 'NGO'}>]],\n",
       " [[<Node id=5981 labels={'Author'} properties={'name': 'Shengjian Li', 'affiliation_institution_name': 'Hernandez-Nielsen', 'id': ['8087061'], 'affiliation_institution_type': 'University'}>]],\n",
       " [[<Node id=5983 labels={'Author'} properties={'name': 'Hiroki Kaneko', 'affiliation_institution_name': 'Williams PLC', 'id': ['39214014'], 'affiliation_institution_type': 'NGO'}>]],\n",
       " [[<Node id=5984 labels={'Author'} properties={'name': 'Sasha Bogdanovich', 'affiliation_institution_name': 'Wiley, Pacheco and Simmons', 'id': ['3676685'], 'affiliation_institution_type': 'University'}>]],\n",
       " [[<Node id=5985 labels={'Author'} properties={'name': 'Balamurali K Ambati', 'affiliation_institution_name': 'Vargas, Williams and Lindsey', 'id': ['2892520'], 'affiliation_institution_type': 'Company'}>]],\n",
       " [[<Node id=5987 labels={'Author'} properties={'name': 'David R Hinton', 'affiliation_institution_name': 'Powell, Moreno and Horton', 'id': ['2219018'], 'affiliation_institution_type': 'NGO'}>]],\n",
       " [[<Node id=5989 labels={'Author'} properties={'name': 'William W Hauswirth', 'affiliation_institution_name': 'Martin PLC', 'id': ['4212153'], 'affiliation_institution_type': 'NGO'}>]],\n",
       " [[<Node id=5990 labels={'Author'} properties={'name': 'Razqallah Hakem', 'affiliation_institution_name': 'Brown-Conrad', 'id': ['4105834'], 'affiliation_institution_type': 'NGO'}>]],\n",
       " [[<Node id=5991 labels={'Author'} properties={'name': 'Charles Wright', 'affiliation_institution_name': 'George-Hinton', 'id': ['31593928'], 'affiliation_institution_type': 'NGO'}>]],\n",
       " [[<Node id=5992 labels={'Author'} properties={'name': 'Jayakrishna Ambati', 'affiliation_institution_name': 'Walker-Vazquez', 'id': ['2409697'], 'affiliation_institution_type': 'Company'}>]],\n",
       " [[<Node id=5993 labels={'Author'} properties={'name': 'Qing He', 'affiliation_institution_name': 'Hopkins and Sons', 'id': ['40420122'], 'affiliation_institution_type': 'Company'}>]],\n",
       " [[<Node id=5994 labels={'Author'} properties={'name': 'Suprem R Das', 'affiliation_institution_name': 'Harper-Garza', 'id': ['4124518'], 'affiliation_institution_type': 'University'}>]],\n",
       " [[<Node id=5995 labels={'Author'} properties={'name': 'Nathaniel T Garland', 'affiliation_institution_name': 'Thomas, Robinson and Cook', 'id': ['11282968'], 'affiliation_institution_type': 'NGO'}>]],\n",
       " [[<Node id=5997 labels={'Author'} properties={'name': 'Dapeng Jing', 'affiliation_institution_name': 'Wilson LLC', 'id': ['10392010'], 'affiliation_institution_type': 'NGO'}>]],\n",
       " [[<Node id=5998 labels={'Author'} properties={'name': 'John A Hondred', 'affiliation_institution_name': 'Forbes LLC', 'id': ['12635280'], 'affiliation_institution_type': 'Company'}>]],\n",
       " [[<Node id=5999 labels={'Author'} properties={'name': 'Allison A Cargill', 'affiliation_institution_name': 'Jordan and Sons', 'id': ['8626309'], 'affiliation_institution_type': 'University'}>]],\n",
       " [[<Node id=6002 labels={'Author'} properties={'name': 'Shaowei Ding', 'affiliation_institution_name': 'Alvarez and Sons', 'id': ['2690117'], 'affiliation_institution_type': 'Company'}>]],\n",
       " [[<Node id=6003 labels={'Author'} properties={'name': 'Chandran Karunakaran', 'affiliation_institution_name': 'Roberts-Clark', 'id': ['4827709'], 'affiliation_institution_type': 'Company'}>]],\n",
       " [[<Node id=6007 labels={'Author'} properties={'name': 'Jonathan C Claussen', 'affiliation_institution_name': 'Robertson and Sons', 'id': ['16165567'], 'affiliation_institution_type': 'University'}>]],\n",
       " [[<Node id=6008 labels={'Author'} properties={'name': 'Kanjun Chen', 'affiliation_institution_name': 'Acosta Ltd', 'id': ['12045705'], 'affiliation_institution_type': 'NGO'}>]],\n",
       " [[<Node id=6009 labels={'Author'} properties={'name': 'Biao Yan', 'affiliation_institution_name': 'Moses PLC', 'id': ['4453498'], 'affiliation_institution_type': 'NGO'}>]],\n",
       " [[<Node id=6011 labels={'Author'} properties={'name': 'Fei Wang', 'affiliation_institution_name': 'Preston LLC', 'id': ['1682816'], 'affiliation_institution_type': 'Company'}>]],\n",
       " [[<Node id=6013 labels={'Author'} properties={'name': 'Feiting Wen', 'affiliation_institution_name': 'Perez Inc', 'id': ['21774300'], 'affiliation_institution_type': 'Company'}>]],\n",
       " [[<Node id=6014 labels={'Author'} properties={'name': 'Xingan Xing', 'affiliation_institution_name': 'Giles, Mclaughlin and Escobar', 'id': ['12562490'], 'affiliation_institution_type': 'Company'}>]],\n",
       " [[<Node id=6015 labels={'Author'} properties={'name': 'Xue Tang', 'affiliation_institution_name': 'Arnold, Nguyen and Mckenzie', 'id': ['1982277'], 'affiliation_institution_type': 'University'}>]],\n",
       " [[<Node id=6017 labels={'Author'} properties={'name': 'Yonghui Shi', 'affiliation_institution_name': 'Moore PLC', 'id': ['4982768'], 'affiliation_institution_type': 'University'}>]],\n",
       " [[<Node id=6018 labels={'Author'} properties={'name': 'Guowei Le', 'affiliation_institution_name': 'Lindsey-Smith', 'id': ['3230938'], 'affiliation_institution_type': 'Company'}>]],\n",
       " [[<Node id=6023 labels={'Author'} properties={'name': 'Anna M Beiler', 'affiliation_institution_name': 'Velasquez, Acosta and Brown', 'id': ['1923676'], 'affiliation_institution_type': 'NGO'}>]],\n",
       " [[<Node id=6024 labels={'Author'} properties={'name': 'Diana Khusnutdinova', 'affiliation_institution_name': 'Galloway Group', 'id': ['35181559'], 'affiliation_institution_type': 'NGO'}>]],\n",
       " [[<Node id=6027 labels={'Author'} properties={'name': 'Samuel I Jacob', 'affiliation_institution_name': 'Ray, Yu and Carpenter', 'id': ['2818846'], 'affiliation_institution_type': 'University'}>]],\n",
       " [[<Node id=6028 labels={'Author'} properties={'name': 'Gary F Moore', 'affiliation_institution_name': 'Mckenzie, Walters and Hansen', 'id': ['30543489'], 'affiliation_institution_type': 'University'}>]],\n",
       " [[<Node id=6029 labels={'Author'} properties={'name': 'Mojca Zupanc', 'affiliation_institution_name': 'Russell, Price and Lane', 'id': ['39728832'], 'affiliation_institution_type': 'NGO'}>]],\n",
       " [[<Node id=6030 labels={'Author'} properties={'name': 'Tina Kosjek', 'affiliation_institution_name': 'Johnson Group', 'id': ['6722362'], 'affiliation_institution_type': 'University'}>]],\n",
       " [[<Node id=6031 labels={'Author'} properties={'name': 'Martin Petkovšek', 'affiliation_institution_name': 'Mack-Clay', 'id': ['9787441'], 'affiliation_institution_type': 'NGO'}>]],\n",
       " [[<Node id=6033 labels={'Author'} properties={'name': 'Matevž Dular', 'affiliation_institution_name': 'Cooper Ltd', 'id': ['2395084'], 'affiliation_institution_type': 'Company'}>]],\n",
       " [[<Node id=6034 labels={'Author'} properties={'name': 'Boris Kompare', 'affiliation_institution_name': 'Johnson, Thompson and Lewis', 'id': ['2485233'], 'affiliation_institution_type': 'University'}>]],\n",
       " [[<Node id=6035 labels={'Author'} properties={'name': 'Brane Širok', 'affiliation_institution_name': 'Garcia, Scott and Potts', 'id': ['2306781'], 'affiliation_institution_type': 'Company'}>]],\n",
       " [[<Node id=6038 labels={'Author'} properties={'name': 'Željko Blažeka', 'affiliation_institution_name': 'Calderon Ltd', 'id': ['11701328'], 'affiliation_institution_type': 'University'}>]],\n",
       " [[<Node id=6039 labels={'Author'} properties={'name': 'Ester Heath', 'affiliation_institution_name': 'Wallace LLC', 'id': ['29928542'], 'affiliation_institution_type': 'University'}>]],\n",
       " [[<Node id=6040 labels={'Author'} properties={'name': 'V. Nanda', 'affiliation_institution_name': 'Barr PLC', 'id': ['4545041'], 'affiliation_institution_type': 'Company'}>]],\n",
       " [[<Node id=6041 labels={'Author'} properties={'name': 'M. Alam Parwaz', 'affiliation_institution_name': 'Williams, Werner and Tanner', 'id': ['5337097'], 'affiliation_institution_type': 'Company'}>]],\n",
       " [[<Node id=6043 labels={'Author'} properties={'name': 'S. Handa', 'affiliation_institution_name': 'Bailey-White', 'id': ['2475865'], 'affiliation_institution_type': 'University'}>]],\n",
       " [[<Node id=6044 labels={'Author'} properties={'name': 'Emna Kolsi Gdoura', 'affiliation_institution_name': 'Lara-Smith', 'id': ['3037308'], 'affiliation_institution_type': 'Company'}>]],\n",
       " [[<Node id=6046 labels={'Author'} properties={'name': 'Moez Feki', 'affiliation_institution_name': 'Hudson, Forbes and Guzman', 'id': ['2196308'], 'affiliation_institution_type': 'NGO'}>]],\n",
       " [[<Node id=6057 labels={'Author'} properties={'name': 'Nabil Derbel', 'affiliation_institution_name': 'Gross-Hunt', 'id': ['1770657'], 'affiliation_institution_type': 'NGO'}>]],\n",
       " [[<Node id=6058 labels={'Author'} properties={'name': 'Tae-Seok Seo', 'affiliation_institution_name': 'Galvan Group', 'id': ['12185478'], 'affiliation_institution_type': 'Company'}>]],\n",
       " [[<Node id=6059 labels={'Author'} properties={'name': 'Joo Hyeong Oh', 'affiliation_institution_name': 'Mays-Barton', 'id': ['4439011'], 'affiliation_institution_type': 'NGO'}>]],\n",
       " [[<Node id=6063 labels={'Author'} properties={'name': 'Yup Yoon', 'affiliation_institution_name': 'Howard and Sons', 'id': ['2246639'], 'affiliation_institution_type': 'NGO'}>]],\n",
       " [[<Node id=6064 labels={'Author'} properties={'name': 'Joo Won Lim', 'affiliation_institution_name': 'Phillips, Sherman and Mills', 'id': ['5488402'], 'affiliation_institution_type': 'NGO'}>]],\n",
       " [[<Node id=6067 labels={'Author'} properties={'name': 'Seong Jin Park', 'affiliation_institution_name': 'Parker-Saunders', 'id': ['1998220'], 'affiliation_institution_type': 'University'}>]],\n",
       " [[<Node id=6071 labels={'Author'} properties={'name': 'Sung-Goo Chang', 'affiliation_institution_name': 'Garcia-Smith', 'id': ['2495132'], 'affiliation_institution_type': 'NGO'}>]],\n",
       " [[<Node id=6073 labels={'Author'} properties={'name': 'Yang Hyeon Jeon', 'affiliation_institution_name': 'Todd-Bowers', 'id': ['21610106'], 'affiliation_institution_type': 'NGO'}>]],\n",
       " [[<Node id=6076 labels={'Author'} properties={'name': 'Shoshana Dayanim', 'affiliation_institution_name': 'Briggs-Malone', 'id': ['6231022'], 'affiliation_institution_type': 'Company'}>]],\n",
       " [[<Node id=6077 labels={'Author'} properties={'name': 'Laura L Namy', 'affiliation_institution_name': 'Jones, Wolfe and Morales', 'id': ['2516786'], 'affiliation_institution_type': 'NGO'}>]],\n",
       " [[<Node id=6078 labels={'Author'} properties={'name': 'Samih H Nasr', 'affiliation_institution_name': 'Martin-Vargas', 'id': ['4758441'], 'affiliation_institution_type': 'University'}>]],\n",
       " [[<Node id=6079 labels={'Author'} properties={'name': 'Anthony M Valeri', 'affiliation_institution_name': 'Gonzalez, Welch and Aguilar', 'id': ['40608751'], 'affiliation_institution_type': 'University'}>]],\n",
       " [[<Node id=6081 labels={'Author'} properties={'name': 'Lynn D Cornell', 'affiliation_institution_name': 'Sanders-Mills', 'id': ['4283278'], 'affiliation_institution_type': 'Company'}>]],\n",
       " [[<Node id=6083 labels={'Author'} properties={'name': 'Mary E Fidler', 'affiliation_institution_name': 'Parker, Woods and Powell', 'id': ['4070427'], 'affiliation_institution_type': 'University'}>]],\n",
       " [[<Node id=6086 labels={'Author'} properties={'name': 'Sanjeev Sethi', 'affiliation_institution_name': 'Smith Group', 'id': ['2782891'], 'affiliation_institution_type': 'University'}>]],\n",
       " [[<Node id=6087 labels={'Author'} properties={'name': \"Vivette D D'Agati\", 'affiliation_institution_name': 'Perkins, Ruiz and Davidson', 'id': ['6308472'], 'affiliation_institution_type': 'NGO'}>]],\n",
       " [[<Node id=6089 labels={'Author'} properties={'name': 'Nelson Leung', 'affiliation_institution_name': 'Garcia and Sons', 'id': ['2590085'], 'affiliation_institution_type': 'NGO'}>]],\n",
       " [[<Node id=6090 labels={'Author'} properties={'name': 'Yingjie Liu', 'affiliation_institution_name': 'Ray, Wang and Wu', 'id': ['39584099'], 'affiliation_institution_type': 'University'}>]],\n",
       " [[<Node id=6092 labels={'Author'} properties={'name': 'Lulu Huang', 'affiliation_institution_name': 'Mcdonald Ltd', 'id': ['2182483'], 'affiliation_institution_type': 'Company'}>]],\n",
       " [[<Node id=6093 labels={'Author'} properties={'name': 'Baohui Hao', 'affiliation_institution_name': 'Underwood-Bryant', 'id': ['15035810'], 'affiliation_institution_type': 'Company'}>]],\n",
       " [[<Node id=6094 labels={'Author'} properties={'name': 'Hao Li', 'affiliation_institution_name': 'Rogers PLC', 'id': ['38383941'], 'affiliation_institution_type': 'NGO'}>]],\n",
       " [[<Node id=6095 labels={'Author'} properties={'name': 'Shuanglong Zhu', 'affiliation_institution_name': 'Russell LLC', 'id': ['14278929'], 'affiliation_institution_type': 'University'}>]],\n",
       " [[<Node id=6096 labels={'Author'} properties={'name': 'Qiangsong Wang', 'affiliation_institution_name': 'Peters, Wilcox and Harris', 'id': ['10802901'], 'affiliation_institution_type': 'NGO'}>]],\n",
       " [[<Node id=6097 labels={'Author'} properties={'name': 'Ruixin Li', 'affiliation_institution_name': 'Gray-Young', 'id': ['2628338'], 'affiliation_institution_type': 'Company'}>]],\n",
       " [[<Node id=6101 labels={'Author'} properties={'name': 'Yunqiang Xu', 'affiliation_institution_name': 'Lucero Inc', 'id': ['5393743'], 'affiliation_institution_type': 'University'}>]],\n",
       " [[<Node id=6102 labels={'Author'} properties={'name': 'Xizheng Zhang', 'affiliation_institution_name': 'Trujillo, Wood and Cochran', 'id': ['39694885'], 'affiliation_institution_type': 'NGO'}>]],\n",
       " [[<Node id=6105 labels={'Author'} properties={'name': 'Thomas R. Halford', 'affiliation_institution_name': 'Taylor, Jones and Snyder', 'id': ['2380839'], 'affiliation_institution_type': 'NGO'}>]],\n",
       " [[<Node id=6108 labels={'Author'} properties={'name': 'Keith M. Chugg', 'affiliation_institution_name': 'Snyder-Henry', 'id': ['1768907'], 'affiliation_institution_type': 'Company'}>]],\n",
       " [[<Node id=6110 labels={'Author'} properties={'name': 'Chen Shi', 'affiliation_institution_name': 'Russell and Sons', 'id': ['34622662'], 'affiliation_institution_type': 'NGO'}>]],\n",
       " [[<Node id=6111 labels={'Author'} properties={'name': 'Chen Wei', 'affiliation_institution_name': 'Harris, Nguyen and Smith', 'id': ['3757876'], 'affiliation_institution_type': 'Company'}>]],\n",
       " [[<Node id=6112 labels={'Author'} properties={'name': 'Huang Han', 'affiliation_institution_name': 'Johnson, Barrett and Lara', 'id': ['15931290'], 'affiliation_institution_type': 'Company'}>]],\n",
       " [[<Node id=6114 labels={'Author'} properties={'name': 'Gao Xingyu', 'affiliation_institution_name': 'Harris-Wilson', 'id': ['15909038'], 'affiliation_institution_type': 'University'}>]],\n",
       " [[<Node id=6115 labels={'Author'} properties={'name': 'Qi Dongchen', 'affiliation_institution_name': 'Estrada Inc', 'id': ['13290501'], 'affiliation_institution_type': 'University'}>]],\n",
       " [[<Node id=6116 labels={'Author'} properties={'name': 'Wang Yuzhan', 'affiliation_institution_name': 'Miller PLC', 'id': ['14583653'], 'affiliation_institution_type': 'NGO'}>]],\n",
       " [[<Node id=6117 labels={'Author'} properties={'name': 'Andrew T S Wee', 'affiliation_institution_name': 'Miller LLC', 'id': ['32554754'], 'affiliation_institution_type': 'Company'}>]],\n",
       " [[<Node id=6118 labels={'Author'} properties={'name': 'Lucia Maddalena', 'affiliation_institution_name': 'Scott Group', 'id': ['1761425'], 'affiliation_institution_type': 'Company'}>]],\n",
       " [[<Node id=6120 labels={'Author'} properties={'name': 'Alfredo Petrosino', 'affiliation_institution_name': 'Parks, Carroll and Davis', 'id': ['1686028'], 'affiliation_institution_type': 'University'}>]],\n",
       " [[<Node id=6122 labels={'Author'} properties={'name': 'Ephraim A Ansa-Addo', 'affiliation_institution_name': 'Shepherd-Mercado', 'id': ['3832749'], 'affiliation_institution_type': 'University'}>]],\n",
       " [[<Node id=6124 labels={'Author'} properties={'name': 'Yongliang Zhang', 'affiliation_institution_name': 'Mason and Sons', 'id': ['1833442'], 'affiliation_institution_type': 'Company'}>]],\n",
       " [[<Node id=6125 labels={'Author'} properties={'name': 'Yi Yang', 'affiliation_institution_name': 'Scott PLC', 'id': ['40005438'], 'affiliation_institution_type': 'University'}>]],\n",
       " [[<Node id=6126 labels={'Author'} properties={'name': 'George S Hussey', 'affiliation_institution_name': 'Baker-Chan', 'id': ['7494942'], 'affiliation_institution_type': 'NGO'}>]],\n",
       " [[<Node id=6129 labels={'Author'} properties={'name': 'Breege V Howley', 'affiliation_institution_name': 'Hicks, Johnson and Jimenez', 'id': ['38704467'], 'affiliation_institution_type': 'Company'}>]],\n",
       " [[<Node id=6131 labels={'Author'} properties={'name': 'Mohammad Salem', 'affiliation_institution_name': 'Murray-Schneider', 'id': ['15177994'], 'affiliation_institution_type': 'University'}>]],\n",
       " [[<Node id=6132 labels={'Author'} properties={'name': 'Brian Riesenberg', 'affiliation_institution_name': 'Adams-Lee', 'id': ['4812604'], 'affiliation_institution_type': 'NGO'}>]],\n",
       " [[<Node id=6133 labels={'Author'} properties={'name': 'Shaoli Sun', 'affiliation_institution_name': 'Martin, Hill and Rhodes', 'id': ['5546026'], 'affiliation_institution_type': 'Company'}>]],\n",
       " [[<Node id=6134 labels={'Author'} properties={'name': 'Don C Rockey', 'affiliation_institution_name': 'Brown, Jackson and Weber', 'id': ['2897255'], 'affiliation_institution_type': 'NGO'}>]],\n",
       " [[<Node id=6137 labels={'Author'} properties={'name': 'Serhan Karvar', 'affiliation_institution_name': 'Flores PLC', 'id': ['4563977'], 'affiliation_institution_type': 'NGO'}>]],\n",
       " [[<Node id=6139 labels={'Author'} properties={'name': 'Philip H Howe', 'affiliation_institution_name': 'Sullivan Group', 'id': ['4246206'], 'affiliation_institution_type': 'Company'}>]],\n",
       " [[<Node id=6140 labels={'Author'} properties={'name': 'Bei Liu', 'affiliation_institution_name': 'Atkins LLC', 'id': ['40439389'], 'affiliation_institution_type': 'NGO'}>]],\n",
       " [[<Node id=6142 labels={'Author'} properties={'name': 'Zihai Li', 'affiliation_institution_name': 'Armstrong, Hernandez and Bowers', 'id': ['34538486'], 'affiliation_institution_type': 'University'}>]],\n",
       " [[<Node id=6143 labels={'Author'} properties={'name': 'Atul Bhatia', 'affiliation_institution_name': 'Haynes, Cortez and Mills', 'id': ['10261593'], 'affiliation_institution_type': 'University'}>]],\n",
       " [[<Node id=6144 labels={'Author'} properties={'name': 'Jasbir Sra', 'affiliation_institution_name': 'Johnson-Suarez', 'id': ['2835372'], 'affiliation_institution_type': 'University'}>]],\n",
       " [[<Node id=6145 labels={'Author'} properties={'name': 'Masood Akhtar', 'affiliation_institution_name': 'Allen, Carey and Turner', 'id': ['2332225'], 'affiliation_institution_type': 'NGO'}>]],\n",
       " [[<Node id=6146 labels={'Author'} properties={'name': 'Decebal Gabriel Latcu', 'affiliation_institution_name': 'Bell, Perkins and Bautista', 'id': ['22664225'], 'affiliation_institution_type': 'University'}>]],\n",
       " [[<Node id=6148 labels={'Author'} properties={'name': 'Soizic Paranon', 'affiliation_institution_name': 'Williams, Jackson and English', 'id': ['16153968'], 'affiliation_institution_type': 'NGO'}>]],\n",
       " [[<Node id=6150 labels={'Author'} properties={'name': 'Vanina Bongard', 'affiliation_institution_name': 'Harris Group', 'id': ['6285197'], 'affiliation_institution_type': 'University'}>]],\n",
       " [[<Node id=6151 labels={'Author'} properties={'name': 'Rania Bassil-Eter', 'affiliation_institution_name': 'Price, Vincent and Mason', 'id': ['13090567'], 'affiliation_institution_type': 'Company'}>]],\n",
       " [[<Node id=6153 labels={'Author'} properties={'name': 'Juliette Grosjean-Guitton', 'affiliation_institution_name': 'Hawkins, Ramirez and Mahoney', 'id': ['12032973'], 'affiliation_institution_type': 'NGO'}>]],\n",
       " [[<Node id=6155 labels={'Author'} properties={'name': 'Yves Dulac', 'affiliation_institution_name': 'Holmes LLC', 'id': ['4659079'], 'affiliation_institution_type': 'NGO'}>]],\n",
       " [[<Node id=6156 labels={'Author'} properties={'name': 'Philippe Acar', 'affiliation_institution_name': 'Gray Ltd', 'id': ['4264867'], 'affiliation_institution_type': 'University'}>]],\n",
       " [[<Node id=6157 labels={'Author'} properties={'name': 'Odo Diekmann', 'affiliation_institution_name': 'Hill, Prince and Rodriguez', 'id': ['1885036'], 'affiliation_institution_type': 'Company'}>]],\n",
       " [[<Node id=6158 labels={'Author'} properties={'name': 'Philipp Getto', 'affiliation_institution_name': 'Keith, Aguirre and Ellis', 'id': ['2676333'], 'affiliation_institution_type': 'University'}>]],\n",
       " [[<Node id=6159 labels={'Author'} properties={'name': 'Mats Gyllenberg', 'affiliation_institution_name': 'Mitchell and Sons', 'id': ['2430967'], 'affiliation_institution_type': 'University'}>]],\n",
       " [[<Node id=6160 labels={'Author'} properties={'name': 'Joshua Zhexue Huang', 'affiliation_institution_name': 'Huang-Schultz', 'id': ['8192216'], 'affiliation_institution_type': 'Company'}>]],\n",
       " [[<Node id=6161 labels={'Author'} properties={'name': 'Michael K. Ng', 'affiliation_institution_name': 'Shannon Inc', 'id': ['1678715'], 'affiliation_institution_type': 'Company'}>]],\n",
       " [[<Node id=6162 labels={'Author'} properties={'name': 'Christina L Papke', 'affiliation_institution_name': 'Smith, Fernandez and Lloyd', 'id': ['9949100'], 'affiliation_institution_type': 'University'}>]],\n",
       " [[<Node id=6163 labels={'Author'} properties={'name': 'Jun Tsunezumi', 'affiliation_institution_name': 'Vega Inc', 'id': ['10724111'], 'affiliation_institution_type': 'Company'}>]],\n",
       " [[<Node id=6164 labels={'Author'} properties={'name': 'Léa-Jeanne Ringuette', 'affiliation_institution_name': 'Smith, Fleming and Jackson', 'id': ['38968145'], 'affiliation_institution_type': 'University'}>]],\n",
       " [[<Node id=6168 labels={'Author'} properties={'name': 'Hideaki Nagaoka', 'affiliation_institution_name': 'Smith-Little', 'id': ['6763967'], 'affiliation_institution_type': 'NGO'}>]],\n",
       " [[<Node id=6169 labels={'Author'} properties={'name': 'Masahiko Terajima', 'affiliation_institution_name': 'Tran, Garrett and Henderson', 'id': ['40301965'], 'affiliation_institution_type': 'University'}>]],\n",
       " [[<Node id=6170 labels={'Author'} properties={'name': 'Yoshito Yamashiro', 'affiliation_institution_name': 'Harris-Lynch', 'id': ['3276512'], 'affiliation_institution_type': 'NGO'}>]],\n",
       " [[<Node id=6171 labels={'Author'} properties={'name': 'Greg Urquhart', 'affiliation_institution_name': 'Cisneros Inc', 'id': ['32934133'], 'affiliation_institution_type': 'University'}>]],\n",
       " [[<Node id=6172 labels={'Author'} properties={'name': 'Mitsuo Yamauchi', 'affiliation_institution_name': 'Garcia-Hanson', 'id': ['6851938'], 'affiliation_institution_type': 'Company'}>]],\n",
       " [[<Node id=6173 labels={'Author'} properties={'name': 'Elaine C Davis', 'affiliation_institution_name': 'Bean PLC', 'id': ['3150425'], 'affiliation_institution_type': 'NGO'}>]],\n",
       " [[<Node id=6175 labels={'Author'} properties={'name': 'Hiromi Yanagisawa', 'affiliation_institution_name': 'Ayala, Stein and Love', 'id': ['2841920'], 'affiliation_institution_type': 'Company'}>]],\n",
       " [[<Node id=6176 labels={'Author'} properties={'name': 'Ilker Iskender', 'affiliation_institution_name': 'Jackson Inc', 'id': ['9724257'], 'affiliation_institution_type': 'NGO'}>]],\n",
       " [[<Node id=6177 labels={'Author'} properties={'name': 'Salih Zeki Kadioglu', 'affiliation_institution_name': 'Taylor Inc', 'id': ['31853585'], 'affiliation_institution_type': 'NGO'}>]],\n",
       " [[<Node id=6181 labels={'Author'} properties={'name': 'Tugba Cosgun', 'affiliation_institution_name': 'Myers, Brown and Lewis', 'id': ['9889260'], 'affiliation_institution_type': 'University'}>]],\n",
       " [[<Node id=6182 labels={'Author'} properties={'name': 'Hasan Oguz Kapicibasi', 'affiliation_institution_name': 'Newman-Miller', 'id': ['9855285'], 'affiliation_institution_type': 'University'}>]],\n",
       " [[<Node id=6183 labels={'Author'} properties={'name': 'Gonul Sagiroglu', 'affiliation_institution_name': 'Silva, Larson and Weaver', 'id': ['6680812'], 'affiliation_institution_type': 'University'}>]],\n",
       " [[<Node id=6184 labels={'Author'} properties={'name': 'Altug Kosar', 'affiliation_institution_name': 'Ewing, Martin and Jennings', 'id': ['21847378'], 'affiliation_institution_type': 'University'}>]],\n",
       " [[<Node id=6186 labels={'Author'} properties={'name': 'Altan Kir', 'affiliation_institution_name': 'Thompson Ltd', 'id': ['40097942'], 'affiliation_institution_type': 'Company'}>]],\n",
       " [[<Node id=6189 labels={'Author'} properties={'name': 'Volker Fensterl', 'affiliation_institution_name': 'Webster Ltd', 'id': ['3692001'], 'affiliation_institution_type': 'University'}>]],\n",
       " [[<Node id=6190 labels={'Author'} properties={'name': 'Ganes C Sen', 'affiliation_institution_name': 'Silva LLC', 'id': ['32174484'], 'affiliation_institution_type': 'University'}>]]]"
      ]
     },
     "execution_count": 48,
     "metadata": {},
     "output_type": "execute_result"
    }
   ],
   "source": [
    "created_affiliations"
   ]
  }
 ],
 "metadata": {
  "kernelspec": {
   "display_name": "Python 3.7.4 64-bit ('od': venv)",
   "language": "python",
   "name": "python37464bitodvenv509b99c2ab9d45c0933875aa4d9677e6"
  },
  "language_info": {
   "codemirror_mode": {
    "name": "ipython",
    "version": 3
   },
   "file_extension": ".py",
   "mimetype": "text/x-python",
   "name": "python",
   "nbconvert_exporter": "python",
   "pygments_lexer": "ipython3",
   "version": "3.7.4"
  }
 },
 "nbformat": 4,
 "nbformat_minor": 4
}
