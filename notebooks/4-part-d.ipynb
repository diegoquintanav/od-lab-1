{
 "cells": [
  {
   "cell_type": "markdown",
   "metadata": {},
   "source": [
    "# Part D"
   ]
  },
  {
   "cell_type": "code",
   "execution_count": 130,
   "metadata": {},
   "outputs": [
    {
     "data": {
      "text/plain": [
       "'3.7.4 (default, Oct 15 2019, 22:29:14) \\n[GCC 7.4.0]'"
      ]
     },
     "execution_count": 130,
     "metadata": {},
     "output_type": "execute_result"
    }
   ],
   "source": [
    "import sys\n",
    "import random\n",
    "from pprint import pprint as pp\n",
    "random.seed(42)\n",
    "sys.version"
   ]
  },
  {
   "cell_type": "code",
   "execution_count": 131,
   "metadata": {},
   "outputs": [
    {
     "name": "stdout",
     "output_type": "stream",
     "text": [
      "1.7.6\n",
      "4.3.0\n"
     ]
    }
   ],
   "source": [
    "import neo4j\n",
    "import py2neo\n",
    "print(neo4j.__version__)\n",
    "print(py2neo.__version__)"
   ]
  },
  {
   "cell_type": "code",
   "execution_count": 111,
   "metadata": {},
   "outputs": [
    {
     "name": "stdout",
     "output_type": "stream",
     "text": [
      "The cypher extension is already loaded. To reload it, use:\n",
      "  %reload_ext cypher\n"
     ]
    }
   ],
   "source": [
    "%load_ext cypher\n",
    "# https://ipython-cypher.readthedocs.io/en/latest/"
   ]
  },
  {
   "cell_type": "code",
   "execution_count": 132,
   "metadata": {},
   "outputs": [],
   "source": [
    "from neo4j import GraphDatabase\n",
    "from py2neo import Graph\n",
    "\n",
    "# instantiate drivers\n",
    "NEO4J_URI=\"bolt://localhost:7687\"\n",
    "gdb = GraphDatabase.driver(uri=NEO4J_URI, auth=None)\n",
    "graph = Graph(NEO4J_URI)"
   ]
  },
  {
   "cell_type": "markdown",
   "metadata": {},
   "source": [
    "The graph has the following structure"
   ]
  },
  {
   "cell_type": "markdown",
   "metadata": {},
   "source": [
    "![graph](./schemas/dblp_slim_after/graph.png)"
   ]
  },
  {
   "cell_type": "code",
   "execution_count": 133,
   "metadata": {},
   "outputs": [
    {
     "data": {
      "text/plain": [
       "{'name': 'algo.allShortestPaths.stream',\n",
       " 'description': \"CALL algo.allShortestPaths.stream(weightProperty:String{nodeQuery:'labelName', relationshipQuery:'relationshipName', defaultValue:1.0, concurrency:4}) YIELD sourceNodeId, targetNodeId, distance - yields a stream of {sourceNodeId, targetNodeId, distance}\",\n",
       " 'signature': 'algo.allShortestPaths.stream(propertyName :: STRING?, config = {} :: MAP?) :: (sourceNodeId :: INTEGER?, targetNodeId :: INTEGER?, distance :: FLOAT?)',\n",
       " 'type': 'procedure'}"
      ]
     },
     "execution_count": 133,
     "metadata": {},
     "output_type": "execute_result"
    }
   ],
   "source": [
    "graph.run(\"CALL algo.list();\").data()[0]"
   ]
  },
  {
   "cell_type": "markdown",
   "metadata": {},
   "source": [
    "### Define research communities"
   ]
  },
  {
   "cell_type": "markdown",
   "metadata": {},
   "source": [
    "The first thing to do is to find/define the research communities. A community is\n",
    "defined by a set of keywords. Assume that the database community is defined through\n",
    "the following keywords: \n",
    "\n",
    "> data management, indexing, data modeling, big data, data\n",
    "processing, data storage and data querying."
   ]
  },
  {
   "cell_type": "markdown",
   "metadata": {},
   "source": [
    "Since we don't have these keywords in the database, we will have to create them"
   ]
  },
  {
   "cell_type": "code",
   "execution_count": 135,
   "metadata": {},
   "outputs": [],
   "source": [
    "dbms_kw = [kw.strip() for kw in 'data management, indexing, data modeling, big data, data processing, data storage and data querying'.split(',')]"
   ]
  },
  {
   "cell_type": "code",
   "execution_count": 136,
   "metadata": {},
   "outputs": [
    {
     "data": {
      "text/plain": [
       "['data management',\n",
       " 'indexing',\n",
       " 'data modeling',\n",
       " 'big data',\n",
       " 'data processing',\n",
       " 'data storage and data querying']"
      ]
     },
     "execution_count": 136,
     "metadata": {},
     "output_type": "execute_result"
    }
   ],
   "source": [
    "dbms_kw"
   ]
  },
  {
   "cell_type": "code",
   "execution_count": 137,
   "metadata": {},
   "outputs": [
    {
     "name": "stdout",
     "output_type": "stream",
     "text": [
      "[{'kw': (_32301:Keyword {name: 'data management'})}]\n",
      "[{'kw': (_32328:Keyword {name: 'indexing'})}]\n",
      "[{'kw': (_32366:Keyword {name: 'data modeling'})}]\n",
      "[{'kw': (_32367:Keyword {name: 'big data'})}]\n",
      "[{'kw': (_32372:Keyword {name: 'data processing'})}]\n",
      "[{'kw': (_32425:Keyword {name: 'data storage and data querying'})}]\n"
     ]
    }
   ],
   "source": [
    "for kw in dbms_kw:\n",
    "    print(graph.run(\"CREATE (kw:Keyword {name: $kw}) RETURN kw\", kw=kw).data())"
   ]
  },
  {
   "cell_type": "markdown",
   "metadata": {},
   "source": [
    "#### Assign papers to these keywords randomly"
   ]
  },
  {
   "cell_type": "code",
   "execution_count": 138,
   "metadata": {},
   "outputs": [
    {
     "data": {
      "text/plain": [
       "[{'a.id': '8fb9c95bf34a0f28dc05819cb4aada0cb94fe555'},\n",
       " {'a.id': '5cfdb256b6ae968374469bd36702ed341cfe9485'},\n",
       " {'a.id': '0fbe46932967ec0db80b18e70fa199fb652313ea'},\n",
       " {'a.id': 'c4062742b4e0d13cfa0e992fdf2cebf2eb71c415'},\n",
       " {'a.id': 'f218ce53248d756db61726985f73e6e8c109b3e2'}]"
      ]
     },
     "execution_count": 138,
     "metadata": {},
     "output_type": "execute_result"
    }
   ],
   "source": [
    "article_ids = graph.run(\"MATCH (a:Article) RETURN a.id\").data()\n",
    "article_ids[:5]"
   ]
  },
  {
   "cell_type": "code",
   "execution_count": 139,
   "metadata": {},
   "outputs": [],
   "source": [
    "for aid in article_ids:\n",
    "    for kw in random.sample(dbms_kw, random.randint(0, len(dbms_kw))):\n",
    "        graph.run(\n",
    "            \"\"\"MATCH (a:Article), (kw:Keyword)\n",
    "            WHERE a.id = $aid AND kw.name = $kwname\n",
    "            MERGE (a)-[:CONTAINS]->(kw)\n",
    "            ON CREATE SET kw.name = $kwname, kw.fake = true\n",
    "            ON MATCH SET kw.name = $kwname, kw.fake = true\"\"\",\n",
    "            aid = aid[\"a.id\"],\n",
    "            kwname = kw\n",
    "        )"
   ]
  },
  {
   "cell_type": "markdown",
   "metadata": {},
   "source": [
    "Next, we need to find the conferences and journals related to the database community\n",
    "(i.e., are specific to the field of databases). Assume that if 90% of the papers published\n",
    "in a conference/journal contain one of the keywords of the database community we\n",
    "consider that conference/journal as related to that community."
   ]
  },
  {
   "cell_type": "markdown",
   "metadata": {},
   "source": [
    "#### Create a research community"
   ]
  },
  {
   "cell_type": "code",
   "execution_count": 140,
   "metadata": {},
   "outputs": [
    {
     "data": {
      "text/plain": [
       "constraints_added: 0\n",
       "constraints_removed: 0\n",
       "contained_updates: False\n",
       "indexes_added: 0\n",
       "indexes_removed: 0\n",
       "labels_added: 0\n",
       "labels_removed: 0\n",
       "nodes_created: 0\n",
       "nodes_deleted: 0\n",
       "properties_set: 0\n",
       "relationships_created: 0\n",
       "relationships_deleted: 0"
      ]
     },
     "execution_count": 140,
     "metadata": {},
     "output_type": "execute_result"
    }
   ],
   "source": [
    "graph.run(\"MATCH (rc:ResearchCommunity) DETACH DELETE rc\").stats()"
   ]
  },
  {
   "cell_type": "code",
   "execution_count": 141,
   "metadata": {},
   "outputs": [
    {
     "data": {
      "text/plain": [
       "constraints_added: 0\n",
       "constraints_removed: 0\n",
       "contained_updates: True\n",
       "indexes_added: 0\n",
       "indexes_removed: 0\n",
       "labels_added: 1\n",
       "labels_removed: 0\n",
       "nodes_created: 1\n",
       "nodes_deleted: 0\n",
       "properties_set: 2\n",
       "relationships_created: 0\n",
       "relationships_deleted: 0"
      ]
     },
     "execution_count": 141,
     "metadata": {},
     "output_type": "execute_result"
    }
   ],
   "source": [
    "graph.run(\"MERGE (rc:ResearchCommunity {name: 'databases', fake: true}) RETURN rc\").stats()"
   ]
  },
  {
   "cell_type": "code",
   "execution_count": null,
   "metadata": {},
   "outputs": [],
   "source": []
  },
  {
   "cell_type": "code",
   "execution_count": 129,
   "metadata": {},
   "outputs": [],
   "source": [
    "%%cypher\n",
    "MATCH (kw:Keyword)\n",
    "WHERE kw.name IN ['data management', 'indexing', 'data modeling', 'big data', 'data processing', 'data storage', 'data querying']\n",
    "WITH kw\n",
    "MATCH (rc:ResearchCommunity)\n",
    "WHERE rc.name = \"databases\"\n",
    "MERGE p=(kw)-[r:RELATED_TO]-(rc)\n",
    "RETURN p\"\"\""
   ]
  },
  {
   "cell_type": "markdown",
   "metadata": {},
   "source": [
    "get the count of all the articles published in a journal"
   ]
  },
  {
   "cell_type": "code",
   "execution_count": 115,
   "metadata": {},
   "outputs": [
    {
     "name": "stdout",
     "output_type": "stream",
     "text": [
      "5 rows affected.\n"
     ]
    },
    {
     "data": {
      "text/html": [
       "<table>\n",
       "    <tr>\n",
       "        <th>JOURNAL</th>\n",
       "        <th>njc</th>\n",
       "    </tr>\n",
       "    <tr>\n",
       "        <td>ACS applied materials &amp; interfaces</td>\n",
       "        <td>4</td>\n",
       "    </tr>\n",
       "    <tr>\n",
       "        <td>Journal of virology</td>\n",
       "        <td>2</td>\n",
       "    </tr>\n",
       "    <tr>\n",
       "        <td>Basic Research in Cardiology</td>\n",
       "        <td>2</td>\n",
       "    </tr>\n",
       "    <tr>\n",
       "        <td>Proceedings of the National Academy of Sciences of the United States of America</td>\n",
       "        <td>2</td>\n",
       "    </tr>\n",
       "    <tr>\n",
       "        <td>The American journal of surgical pathology</td>\n",
       "        <td>1</td>\n",
       "    </tr>\n",
       "</table>"
      ],
      "text/plain": [
       "[['ACS applied materials & interfaces', 4],\n",
       " ['Journal of virology', 2],\n",
       " ['Basic Research in Cardiology', 2],\n",
       " ['Proceedings of the National Academy of Sciences of the United States of America',\n",
       "  2],\n",
       " ['The American journal of surgical pathology', 1]]"
      ]
     },
     "execution_count": 115,
     "metadata": {},
     "output_type": "execute_result"
    }
   ],
   "source": [
    "%%cypher\n",
    "MATCH (jour:Journal)<-[jc:OF]-(vol:Volume)<-[:PUBLISHED_IN]-(a:Article)\n",
    "RETURN jour.name AS JOURNAL, COUNT(jc) AS njc\n",
    "ORDER BY njc DESC\n",
    "LIMIT 5"
   ]
  },
  {
   "cell_type": "code",
   "execution_count": null,
   "metadata": {},
   "outputs": [],
   "source": [
    "MATCH (article:Article)-[:PUBLISHED_IN]->(instance)-[r:OF]->(publication)\n",
    "WHERE (publication:Journal or publication:Conference) AND (instance:Volume or instance:Edition)\n",
    "WITH instance, count(article) as total_articles\n",
    "MATCH (:ResearchCommunity {name: 'database'}) <-[:]- (:keyword) <-[:related_to]- (p:paper) -[:published_in]-> (v) -[:of]-> (j)\n",
    "WHERE (v:volume or v:edition) and (j:journal or j:conference)\n",
    "WITH j, total_papers, count(distinct p) as related_papers\n",
    "WHERE toFloat(related_papers) / toFloat(total_papers) >= 0.9\n",
    "MATCH (c:community {name:'database'})\n",
    "CREATE (j) -[:related_to]-> (c)\n",
    "RETURN j;\n"
   ]
  },
  {
   "cell_type": "code",
   "execution_count": 128,
   "metadata": {},
   "outputs": [
    {
     "name": "stdout",
     "output_type": "stream",
     "text": [
      "5 rows affected.\n"
     ]
    },
    {
     "data": {
      "text/html": [
       "<table>\n",
       "    <tr>\n",
       "        <th>a</th>\n",
       "        <th>total_publications</th>\n",
       "        <th>njc2</th>\n",
       "    </tr>\n",
       "    <tr>\n",
       "        <td>{&#x27;doi_url&#x27;: &#x27;https://doi.org/10.1097/SIH.0b013e31825e8bcf&#x27;, &#x27;year&#x27;: 2012, &#x27;id&#x27;: &#x27;c104539460e4e4eac8b630ac81ef04d45a683286&#x27;, &#x27;title&#x27;: &#x27;&quot;Bump&quot;:  using a mobile app to enhance learning in simulation scenarios.&#x27;, &#x27;doi&#x27;: &#x27;10.1097/SIH.0b013e31825e8bcf&#x27;}</td>\n",
       "        <td>1</td>\n",
       "        <td>5</td>\n",
       "    </tr>\n",
       "    <tr>\n",
       "        <td>{&#x27;doi_url&#x27;: &#x27;https://doi.org/10.1016/j.ijcard.2009.06.058&#x27;, &#x27;year&#x27;: 2010, &#x27;id&#x27;: &#x27;864ca4044d2ebf88ae4bf45df730f571039488b3&#x27;, &#x27;title&#x27;: &#x27;Heart rate dynamics in different levels of Zen meditation.&#x27;, &#x27;doi&#x27;: &#x27;10.1016/j.ijcard.2009.06.058&#x27;}</td>\n",
       "        <td>1</td>\n",
       "        <td>5</td>\n",
       "    </tr>\n",
       "    <tr>\n",
       "        <td>{&#x27;doi_url&#x27;: &#x27;https://doi.org/10.1007/BF02270828&#x27;, &#x27;year&#x27;: 2005, &#x27;id&#x27;: &#x27;ed6f7f0d65f4c8bde43f13667c406ff3403f9814&#x27;, &#x27;title&#x27;: &#x27;Predation, seed size partitioning and the evolution of body size in seed-eating finches&#x27;, &#x27;doi&#x27;: &#x27;10.1007/BF02270828&#x27;}</td>\n",
       "        <td>1</td>\n",
       "        <td>5</td>\n",
       "    </tr>\n",
       "    <tr>\n",
       "        <td>{&#x27;doi_url&#x27;: &#x27;https://doi.org/10.1177/0306624X08323158&#x27;, &#x27;year&#x27;: 2009, &#x27;id&#x27;: &#x27;193ae042e6c11bd5f19b3f24c99cfda1e7fd658b&#x27;, &#x27;title&#x27;: &#x27;The role of violence in street crime: a qualitative study of violent offenders.&#x27;, &#x27;doi&#x27;: &#x27;10.1177/0306624X08323158&#x27;}</td>\n",
       "        <td>1</td>\n",
       "        <td>5</td>\n",
       "    </tr>\n",
       "    <tr>\n",
       "        <td>{&#x27;doi_url&#x27;: &#x27;https://doi.org/10.1177/1591019915623558&#x27;, &#x27;year&#x27;: 2016, &#x27;id&#x27;: &#x27;ed26a77ce2ffaa0ea2edd17afdd52f5642574b6f&#x27;, &#x27;title&#x27;: &#x27;Pipeline embolization device deployment via an envoy distal access XB guiding catheter-biaxial platform: A technical note.&#x27;, &#x27;doi&#x27;: &#x27;10.1177/1591019915623558&#x27;}</td>\n",
       "        <td>1</td>\n",
       "        <td>5</td>\n",
       "    </tr>\n",
       "</table>"
      ],
      "text/plain": [
       "[[{'doi_url': 'https://doi.org/10.1097/SIH.0b013e31825e8bcf',\n",
       "   'year': 2012,\n",
       "   'id': 'c104539460e4e4eac8b630ac81ef04d45a683286',\n",
       "   'title': '\"Bump\":  using a mobile app to enhance learning in simulation scenarios.',\n",
       "   'doi': '10.1097/SIH.0b013e31825e8bcf'},\n",
       "  1,\n",
       "  5],\n",
       " [{'doi_url': 'https://doi.org/10.1016/j.ijcard.2009.06.058',\n",
       "   'year': 2010,\n",
       "   'id': '864ca4044d2ebf88ae4bf45df730f571039488b3',\n",
       "   'title': 'Heart rate dynamics in different levels of Zen meditation.',\n",
       "   'doi': '10.1016/j.ijcard.2009.06.058'},\n",
       "  1,\n",
       "  5],\n",
       " [{'doi_url': 'https://doi.org/10.1007/BF02270828',\n",
       "   'year': 2005,\n",
       "   'id': 'ed6f7f0d65f4c8bde43f13667c406ff3403f9814',\n",
       "   'title': 'Predation, seed size partitioning and the evolution of body size in seed-eating finches',\n",
       "   'doi': '10.1007/BF02270828'},\n",
       "  1,\n",
       "  5],\n",
       " [{'doi_url': 'https://doi.org/10.1177/0306624X08323158',\n",
       "   'year': 2009,\n",
       "   'id': '193ae042e6c11bd5f19b3f24c99cfda1e7fd658b',\n",
       "   'title': 'The role of violence in street crime: a qualitative study of violent offenders.',\n",
       "   'doi': '10.1177/0306624X08323158'},\n",
       "  1,\n",
       "  5],\n",
       " [{'doi_url': 'https://doi.org/10.1177/1591019915623558',\n",
       "   'year': 2016,\n",
       "   'id': 'ed26a77ce2ffaa0ea2edd17afdd52f5642574b6f',\n",
       "   'title': 'Pipeline embolization device deployment via an envoy distal access XB guiding catheter-biaxial platform: A technical note.',\n",
       "   'doi': '10.1177/1591019915623558'},\n",
       "  1,\n",
       "  5]]"
      ]
     },
     "execution_count": 128,
     "metadata": {},
     "output_type": "execute_result"
    }
   ],
   "source": [
    "%%cypher\n",
    "MATCH (jour:Journal)<-[jc:OF]-(:Volume)<-[:PUBLISHED_IN]-(a:Article)\n",
    "WITH jour, COUNT(a) AS total_publications\n",
    "MATCH (jour)<-[jc2:OF]-(:Volume)<-[:PUBLISHED_IN]-(a)-[:CONTAINS]->(kw: Keyword)\n",
    "WHERE kw.name IN ['data management', 'indexing', 'data modeling', 'big data', 'data processing', 'data storage', 'data querying']\n",
    "RETURN a, total_publications, COUNT(jc2) as njc2\n",
    "ORDER BY njc2 DESC\n",
    "LIMIT 5"
   ]
  },
  {
   "cell_type": "code",
   "execution_count": 126,
   "metadata": {},
   "outputs": [
    {
     "name": "stdout",
     "output_type": "stream",
     "text": [
      "5 rows affected.\n"
     ]
    },
    {
     "data": {
      "text/html": [
       "<table>\n",
       "    <tr>\n",
       "        <th>title</th>\n",
       "        <th>kw</th>\n",
       "        <th>count</th>\n",
       "    </tr>\n",
       "    <tr>\n",
       "        <td>False-positivity of mediastinal lymph nodes has negative effect on survival in potentially resectable non-small cell lung cancer.</td>\n",
       "        <td>data management</td>\n",
       "        <td>1</td>\n",
       "    </tr>\n",
       "    <tr>\n",
       "        <td>Membrane-organizing protein moesin controls Treg differentiation and antitumor immunity via TGF-β signaling.</td>\n",
       "        <td>data management</td>\n",
       "        <td>1</td>\n",
       "    </tr>\n",
       "    <tr>\n",
       "        <td>Acetic acid as a sclerosing agent for renal cysts: Comparison with ethanol in follow-up results</td>\n",
       "        <td>data management</td>\n",
       "        <td>1</td>\n",
       "    </tr>\n",
       "    <tr>\n",
       "        <td>Sliding mode control of a hydraulic servo system position using adaptive sliding surface and adaptive gain</td>\n",
       "        <td>data management</td>\n",
       "        <td>1</td>\n",
       "    </tr>\n",
       "    <tr>\n",
       "        <td>Evidence for maize (Zea mays) in the Late Archaic (3000-1800 B.C.) in the Norte Chico region of Peru.</td>\n",
       "        <td>data management</td>\n",
       "        <td>1</td>\n",
       "    </tr>\n",
       "</table>"
      ],
      "text/plain": [
       "[['False-positivity of mediastinal lymph nodes has negative effect on survival in potentially resectable non-small cell lung cancer.',\n",
       "  'data management',\n",
       "  1],\n",
       " ['Membrane-organizing protein moesin controls Treg differentiation and antitumor immunity via TGF-β signaling.',\n",
       "  'data management',\n",
       "  1],\n",
       " ['Acetic acid as a sclerosing agent for renal cysts: Comparison with ethanol in follow-up results',\n",
       "  'data management',\n",
       "  1],\n",
       " ['Sliding mode control of a hydraulic servo system position using adaptive sliding surface and adaptive gain',\n",
       "  'data management',\n",
       "  1],\n",
       " ['Evidence for maize (Zea mays) in the Late Archaic (3000-1800 B.C.) in the Norte Chico region of Peru.',\n",
       "  'data management',\n",
       "  1]]"
      ]
     },
     "execution_count": 126,
     "metadata": {},
     "output_type": "execute_result"
    }
   ],
   "source": [
    "%%cypher\n",
    "MATCH (a)-[r:CONTAINS]->(kw:Keyword)\n",
    "WHERE kw.name IN ['data management', 'indexing', 'data modeling', 'big data', 'data processing', 'data storage', 'data querying']\n",
    "return a.title AS title, kw.name as kw, COUNT(r) as count\n",
    "limit 5"
   ]
  },
  {
   "cell_type": "code",
   "execution_count": 122,
   "metadata": {},
   "outputs": [
    {
     "name": "stdout",
     "output_type": "stream",
     "text": [
      "5 rows affected.\n"
     ]
    },
    {
     "data": {
      "text/html": [
       "<table>\n",
       "    <tr>\n",
       "        <th>title</th>\n",
       "        <th>count</th>\n",
       "    </tr>\n",
       "    <tr>\n",
       "        <td>&quot;Bump&quot;:  using a mobile app to enhance learning in simulation scenarios.</td>\n",
       "        <td>5</td>\n",
       "    </tr>\n",
       "    <tr>\n",
       "        <td>Heart rate dynamics in different levels of Zen meditation.</td>\n",
       "        <td>5</td>\n",
       "    </tr>\n",
       "    <tr>\n",
       "        <td>Predation, seed size partitioning and the evolution of body size in seed-eating finches</td>\n",
       "        <td>5</td>\n",
       "    </tr>\n",
       "    <tr>\n",
       "        <td>The role of violence in street crime: a qualitative study of violent offenders.</td>\n",
       "        <td>5</td>\n",
       "    </tr>\n",
       "    <tr>\n",
       "        <td>Pipeline embolization device deployment via an envoy distal access XB guiding catheter-biaxial platform: A technical note.</td>\n",
       "        <td>5</td>\n",
       "    </tr>\n",
       "</table>"
      ],
      "text/plain": [
       "[['\"Bump\":  using a mobile app to enhance learning in simulation scenarios.',\n",
       "  5],\n",
       " ['Heart rate dynamics in different levels of Zen meditation.', 5],\n",
       " ['Predation, seed size partitioning and the evolution of body size in seed-eating finches',\n",
       "  5],\n",
       " ['The role of violence in street crime: a qualitative study of violent offenders.',\n",
       "  5],\n",
       " ['Pipeline embolization device deployment via an envoy distal access XB guiding catheter-biaxial platform: A technical note.',\n",
       "  5]]"
      ]
     },
     "execution_count": 122,
     "metadata": {},
     "output_type": "execute_result"
    }
   ],
   "source": [
    "%%cypher\n",
    "MATCH (a:Article)-[r:CONTAINS]->(kw:Keyword)\n",
    "WHERE kw.name IN ['data management', 'indexing', 'data modeling', 'big data', 'data processing', 'data storage', 'data querying']\n",
    "RETURN a.title AS title, COUNT(r) as count\n",
    "ORDER BY count DESC\n",
    "limit 5"
   ]
  },
  {
   "cell_type": "code",
   "execution_count": null,
   "metadata": {},
   "outputs": [],
   "source": []
  }
 ],
 "metadata": {
  "kernelspec": {
   "display_name": "Python 3.7.4 64-bit ('od': venv)",
   "language": "python",
   "name": "python37464bitodvenv509b99c2ab9d45c0933875aa4d9677e6"
  },
  "language_info": {
   "codemirror_mode": {
    "name": "ipython",
    "version": 3
   },
   "file_extension": ".py",
   "mimetype": "text/x-python",
   "name": "python",
   "nbconvert_exporter": "python",
   "pygments_lexer": "ipython3",
   "version": "3.7.4"
  }
 },
 "nbformat": 4,
 "nbformat_minor": 4
}
