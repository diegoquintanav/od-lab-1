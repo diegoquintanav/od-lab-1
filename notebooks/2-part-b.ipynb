{
 "cells": [
  {
   "cell_type": "markdown",
   "metadata": {},
   "source": [
    "# Part B "
   ]
  },
  {
   "cell_type": "code",
   "execution_count": 1,
   "metadata": {},
   "outputs": [
    {
     "data": {
      "text/plain": [
       "'3.7.4 (default, Oct 15 2019, 22:29:14) \\n[GCC 7.4.0]'"
      ]
     },
     "execution_count": 1,
     "metadata": {},
     "output_type": "execute_result"
    }
   ],
   "source": [
    "import sys\n",
    "import random\n",
    "from pprint import pprint as pp\n",
    "random.seed(42)\n",
    "sys.version"
   ]
  },
  {
   "cell_type": "code",
   "execution_count": 8,
   "metadata": {},
   "outputs": [
    {
     "name": "stdout",
     "output_type": "stream",
     "text": [
      "1.7.6\n",
      "4.3.0\n"
     ]
    }
   ],
   "source": [
    "import neo4j\n",
    "import py2neo\n",
    "print(neo4j.__version__)\n",
    "print(py2neo.__version__)"
   ]
  },
  {
   "cell_type": "code",
   "execution_count": 12,
   "metadata": {},
   "outputs": [
    {
     "name": "stdout",
     "output_type": "stream",
     "text": [
      "The cypher extension is already loaded. To reload it, use:\n",
      "  %reload_ext cypher\n"
     ]
    }
   ],
   "source": [
    "%load_ext cypher\n",
    "# from https://ipython-cypher.readthedocs.io/en/latest/\n",
    "# pip install ipython-cypher"
   ]
  },
  {
   "cell_type": "code",
   "execution_count": 3,
   "metadata": {},
   "outputs": [],
   "source": [
    "from neo4j import GraphDatabase\n",
    "from py2neo import Graph\n",
    "\n",
    "# instantiate drivers\n",
    "NEO4J_URI=\"bolt://localhost:7687\"\n",
    "gdb = GraphDatabase.driver(uri=NEO4J_URI, auth=None)\n",
    "graph = Graph(NEO4J_URI)"
   ]
  },
  {
   "cell_type": "markdown",
   "metadata": {},
   "source": [
    "The graph has the following structure"
   ]
  },
  {
   "cell_type": "markdown",
   "metadata": {},
   "source": [
    "### Query 1\n",
    "H-index, From wikipedia\n",
    "\n",
    "> The h-index is defined as the maximum value of h such that the given author/journal has published h papers that have each been cited at least h times.[6] The index is designed to improve upon simpler measures such as the total number of citations or publications.[citation needed] The index works properly only for comparing scientists working in the same field; citation conventions differ widely among different fields.[citation needed]\n",
    ">\n",
    "> Formally, if f is the function that corresponds to the number of citations for each publication, we compute the h-index as follows. First we order the values of f from the largest to the lowest value. Then, we look for the last position in which f is greater than or equal to the position (we call h this position). For example, if we have a researcher with 5 publications A, B, C, D, and E with 10, 8, 5, 4, and 3 citations, respectively, the h-index is equal to 4 because the 4th publication has 4 citations and the 5th has only 3. In contrast, if the same publications have 25, 8, 5, 3, and 3 citations, then the index is 3 because the fourth paper has only 3 citations.\n",
    ">\n",
    ">        f(A)=10, f(B)=8, f(C)=5, f(D)=4, f(E)=3　→ h-index=4\n",
    ">        f(A)=25, f(B)=8, f(C)=5, f(D)=3, f(E)=3　→ h-index=3\n",
    ">\n",
    "> If we have the function f ordered in decreasing order from the largest value to the lowest one, we can compute the h-index as follows:\n",
    ">\n",
    ">    $$\\text{h-index} (f) = {\\displaystyle \\max _{i}\\min(f(i),i)}$$\n",
    "\n",
    "- obtain $f$, the number of citations of each article\n",
    "- order $f$ from largest to lowest\n",
    "- from the last element in f"
   ]
  },
  {
   "cell_type": "markdown",
   "metadata": {},
   "source": [
    "The citation count can be obtained by matching a pattern\n",
    "\n",
    "```cypher\n",
    "(author:Author)-[:AUTHORS]->(article:Article)-[:CITED_BY]->(article2:Article)\n",
    "```\n",
    "\n",
    "and counting the number of articles with alias `article2`."
   ]
  },
  {
   "cell_type": "code",
   "execution_count": 11,
   "metadata": {},
   "outputs": [
    {
     "name": "stdout",
     "output_type": "stream",
     "text": [
      "10 rows affected.\n"
     ]
    },
    {
     "data": {
      "text/html": [
       "<table>\n",
       "    <tr>\n",
       "        <th>author</th>\n",
       "        <th>h_index</th>\n",
       "    </tr>\n",
       "    <tr>\n",
       "        <td>Salih Zeki Kadioglu</td>\n",
       "        <td>1</td>\n",
       "    </tr>\n",
       "    <tr>\n",
       "        <td>Ilker Iskender</td>\n",
       "        <td>1</td>\n",
       "    </tr>\n",
       "    <tr>\n",
       "        <td>Gonul Sagiroglu</td>\n",
       "        <td>1</td>\n",
       "    </tr>\n",
       "    <tr>\n",
       "        <td>Tugba Cosgun</td>\n",
       "        <td>1</td>\n",
       "    </tr>\n",
       "    <tr>\n",
       "        <td>Altug Kosar</td>\n",
       "        <td>1</td>\n",
       "    </tr>\n",
       "    <tr>\n",
       "        <td>Altan Kir</td>\n",
       "        <td>1</td>\n",
       "    </tr>\n",
       "    <tr>\n",
       "        <td>Taka-aki Nakada</td>\n",
       "        <td>1</td>\n",
       "    </tr>\n",
       "    <tr>\n",
       "        <td>Masashi Taniguchi</td>\n",
       "        <td>1</td>\n",
       "    </tr>\n",
       "    <tr>\n",
       "        <td>Tetsuya Matsuoka</td>\n",
       "        <td>1</td>\n",
       "    </tr>\n",
       "    <tr>\n",
       "        <td>Hasan Oguz Kapicibasi</td>\n",
       "        <td>1</td>\n",
       "    </tr>\n",
       "</table>"
      ],
      "text/plain": [
       "[['Salih Zeki Kadioglu', 1],\n",
       " ['Ilker Iskender', 1],\n",
       " ['Gonul Sagiroglu', 1],\n",
       " ['Tugba Cosgun', 1],\n",
       " ['Altug Kosar', 1],\n",
       " ['Altan Kir', 1],\n",
       " ['Taka-aki Nakada', 1],\n",
       " ['Masashi Taniguchi', 1],\n",
       " ['Tetsuya Matsuoka', 1],\n",
       " ['Hasan Oguz Kapicibasi', 1]]"
      ]
     },
     "execution_count": 11,
     "metadata": {},
     "output_type": "execute_result"
    }
   ],
   "source": [
    "%%cypher\n",
    "MATCH (author:Author)-[:AUTHORS]->(article:Article)-[:CITED_BY]->(article2:Article)\n",
    "WHERE article <> article2\n",
    "WITH author, count(article) as citations\n",
    "ORDER BY citations DESC\n",
    "WITH author, collect(citations) as c_citations\n",
    "WITH author, [i in range(0,size(c_citations)-1) \n",
    "    WHERE i <= c_citations[i] | i][-1] + 1 as h_index\n",
    "RETURN author.name as author, h_index\n",
    "ORDER BY h_index DESC\n",
    "LIMIT 10"
   ]
  },
  {
   "cell_type": "markdown",
   "metadata": {},
   "source": [
    "### Query 2"
   ]
  },
  {
   "cell_type": "code",
   "execution_count": 14,
   "metadata": {},
   "outputs": [
    {
     "name": "stdout",
     "output_type": "stream",
     "text": [
      "5 rows affected.\n"
     ]
    },
    {
     "data": {
      "text/html": [
       "<table>\n",
       "    <tr>\n",
       "        <th>conference_name</th>\n",
       "        <th>three_most_cited</th>\n",
       "    </tr>\n",
       "    <tr>\n",
       "        <td>Lance Rose</td>\n",
       "        <td>[{&#x27;citations&#x27;: 66, &#x27;title&#x27;: &#x27;Pulmonary carcinosarcoma with heterologous component: report of two cases with literature review.&#x27;}, {&#x27;citations&#x27;: 63, &#x27;title&#x27;: &#x27;A Partition-Based Relaxation For Steiner Trees&#x27;}, {&#x27;citations&#x27;: 61, &#x27;title&#x27;: &#x27;Preexcitation Syndromes.&#x27;}]</td>\n",
       "    </tr>\n",
       "    <tr>\n",
       "        <td>Rebecca Lane</td>\n",
       "        <td>[{&#x27;citations&#x27;: 60, &#x27;title&#x27;: &#x27;Predation, seed size partitioning and the evolution of body size in seed-eating finches&#x27;}, {&#x27;citations&#x27;: 54, &#x27;title&#x27;: &#x27;Adenocarcinoma of the Prostate Presenting as an Obstructing Rectal Mass&#x27;}, {&#x27;citations&#x27;: 50, &#x27;title&#x27;: &#x27;Misunderstanding and potential unintended misuse of acetaminophen among adolescents and young adults.&#x27;}]</td>\n",
       "    </tr>\n",
       "    <tr>\n",
       "        <td>Dr. Gregory Arnold</td>\n",
       "        <td>[{&#x27;citations&#x27;: 58, &#x27;title&#x27;: &#x27;Interferon-induced Ifit proteins: their role in viral pathogenesis.&#x27;}, {&#x27;citations&#x27;: 55, &#x27;title&#x27;: &#x27;Cardiac arrest due to airway obstruction in hereditary angioedema.&#x27;}, {&#x27;citations&#x27;: 55, &#x27;title&#x27;: &quot;Type 1 5&#x27;-deiodinase activity is inhibited by oxidative stress and restored by alpha-lipoic acid in HepG2 cells.&quot;}]</td>\n",
       "    </tr>\n",
       "    <tr>\n",
       "        <td>Jennifer Smith</td>\n",
       "        <td>[{&#x27;citations&#x27;: 56, &#x27;title&#x27;: &#x27;Development of Work Stress Scale for Correctional Officers&#x27;}, {&#x27;citations&#x27;: 44, &#x27;title&#x27;: &#x27;Topical Antimicrobials and the Open Surgical Wound.&#x27;}, {&#x27;citations&#x27;: 42, &#x27;title&#x27;: &#x27;Determination of phenobarbital in hair matrix by liquid phase microextraction (LPME) and gas chromatography-mass spectrometry (GC-MS).&#x27;}]</td>\n",
       "    </tr>\n",
       "    <tr>\n",
       "        <td>Stephanie Hoffman</td>\n",
       "        <td>[{&#x27;citations&#x27;: 55, &#x27;title&#x27;: &#x27;Effect of erythrosine- and LED-mediated photodynamic therapy on buccal candidiasis infection of immunosuppressed mice and Candida albicans adherence to buccal epithelial cells.&#x27;}, {&#x27;citations&#x27;: 53, &#x27;title&#x27;: &#x27;Predation, seed size partitioning and the evolution of body size in seed-eating finches&#x27;}, {&#x27;citations&#x27;: 53, &#x27;title&#x27;: &#x27;Determination of phenobarbital in hair matrix by liquid phase microextraction (LPME) and gas chromatography-mass spectrometry (GC-MS).&#x27;}]</td>\n",
       "    </tr>\n",
       "</table>"
      ],
      "text/plain": [
       "[['Lance Rose',\n",
       "  [{'citations': 66,\n",
       "    'title': 'Pulmonary carcinosarcoma with heterologous component: report of two cases with literature review.'},\n",
       "   {'citations': 63,\n",
       "    'title': 'A Partition-Based Relaxation For Steiner Trees'},\n",
       "   {'citations': 61, 'title': 'Preexcitation Syndromes.'}]],\n",
       " ['Rebecca Lane',\n",
       "  [{'citations': 60,\n",
       "    'title': 'Predation, seed size partitioning and the evolution of body size in seed-eating finches'},\n",
       "   {'citations': 54,\n",
       "    'title': 'Adenocarcinoma of the Prostate Presenting as an Obstructing Rectal Mass'},\n",
       "   {'citations': 50,\n",
       "    'title': 'Misunderstanding and potential unintended misuse of acetaminophen among adolescents and young adults.'}]],\n",
       " ['Dr. Gregory Arnold',\n",
       "  [{'citations': 58,\n",
       "    'title': 'Interferon-induced Ifit proteins: their role in viral pathogenesis.'},\n",
       "   {'citations': 55,\n",
       "    'title': 'Cardiac arrest due to airway obstruction in hereditary angioedema.'},\n",
       "   {'citations': 55,\n",
       "    'title': \"Type 1 5'-deiodinase activity is inhibited by oxidative stress and restored by alpha-lipoic acid in HepG2 cells.\"}]],\n",
       " ['Jennifer Smith',\n",
       "  [{'citations': 56,\n",
       "    'title': 'Development of Work Stress Scale for Correctional Officers'},\n",
       "   {'citations': 44,\n",
       "    'title': 'Topical Antimicrobials and the Open Surgical Wound.'},\n",
       "   {'citations': 42,\n",
       "    'title': 'Determination of phenobarbital in hair matrix by liquid phase microextraction (LPME) and gas chromatography-mass spectrometry (GC-MS).'}]],\n",
       " ['Stephanie Hoffman',\n",
       "  [{'citations': 55,\n",
       "    'title': 'Effect of erythrosine- and LED-mediated photodynamic therapy on buccal candidiasis infection of immunosuppressed mice and Candida albicans adherence to buccal epithelial cells.'},\n",
       "   {'citations': 53,\n",
       "    'title': 'Predation, seed size partitioning and the evolution of body size in seed-eating finches'},\n",
       "   {'citations': 53,\n",
       "    'title': 'Determination of phenobarbital in hair matrix by liquid phase microextraction (LPME) and gas chromatography-mass spectrometry (GC-MS).'}]]]"
      ]
     },
     "execution_count": 14,
     "metadata": {},
     "output_type": "execute_result"
    }
   ],
   "source": [
    "%%cypher\n",
    "MATCH(a1:Article)-[:CITED_BY]->(a2:Article)-[:PUBLISHED_IN]->(ed:Edition)-[:OF]->(cf:Conference)\n",
    "WHERE a1 <> a2\n",
    "WITH a1, cf, count(a1) as citations\n",
    "ORDER BY citations DESC\n",
    "WITH cf, collect(a1 {.title, citations}) as c_citations\n",
    "RETURN cf.name AS conference_name, c_citations[..3] as three_most_cited\n",
    "LIMIT 5"
   ]
  },
  {
   "cell_type": "markdown",
   "metadata": {},
   "source": [
    "### Query 3"
   ]
  },
  {
   "cell_type": "code",
   "execution_count": 18,
   "metadata": {},
   "outputs": [
    {
     "name": "stdout",
     "output_type": "stream",
     "text": [
      "5 rows affected.\n"
     ]
    },
    {
     "data": {
      "text/html": [
       "<table>\n",
       "    <tr>\n",
       "        <th>author</th>\n",
       "        <th>conference</th>\n",
       "        <th>n_publications</th>\n",
       "    </tr>\n",
       "    <tr>\n",
       "        <td>Kalyan Veeramachaneni</td>\n",
       "        <td>Alyssa Zimmerman</td>\n",
       "        <td>20</td>\n",
       "    </tr>\n",
       "    <tr>\n",
       "        <td>Pramod K. Varshney</td>\n",
       "        <td>Alyssa Zimmerman</td>\n",
       "        <td>20</td>\n",
       "    </tr>\n",
       "    <tr>\n",
       "        <td>Lisa Ann Osadciw</td>\n",
       "        <td>Alyssa Zimmerman</td>\n",
       "        <td>20</td>\n",
       "    </tr>\n",
       "    <tr>\n",
       "        <td>Ilker Iskender</td>\n",
       "        <td>Rebecca Lane</td>\n",
       "        <td>18</td>\n",
       "    </tr>\n",
       "    <tr>\n",
       "        <td>Hasan Oguz Kapicibasi</td>\n",
       "        <td>Rebecca Lane</td>\n",
       "        <td>18</td>\n",
       "    </tr>\n",
       "</table>"
      ],
      "text/plain": [
       "[['Kalyan Veeramachaneni', 'Alyssa Zimmerman', 20],\n",
       " ['Pramod K. Varshney', 'Alyssa Zimmerman', 20],\n",
       " ['Lisa Ann Osadciw', 'Alyssa Zimmerman', 20],\n",
       " ['Ilker Iskender', 'Rebecca Lane', 18],\n",
       " ['Hasan Oguz Kapicibasi', 'Rebecca Lane', 18]]"
      ]
     },
     "execution_count": 18,
     "metadata": {},
     "output_type": "execute_result"
    }
   ],
   "source": [
    "%%cypher\n",
    "MATCH (au:Author)-[:AUTHORS]->(ar:Article)-[e1:PUBLISHED_IN]->\n",
    "(ed:Edition)-[:OF]->(co:Conference)\n",
    "WITH au, collect(ed) as editions, co\n",
    "WHERE size(editions) >= 4\n",
    "RETURN au.name AS author, co.name AS conference, size(editions) AS n_publications\n",
    "ORDER BY n_publications DESC\n",
    "LIMIT 5"
   ]
  },
  {
   "cell_type": "markdown",
   "metadata": {},
   "source": [
    "### Query 4"
   ]
  },
  {
   "cell_type": "markdown",
   "metadata": {},
   "source": [
    "This one needs an argument, the year, and I can't pass arguments to the cypher extension."
   ]
  },
  {
   "cell_type": "code",
   "execution_count": 25,
   "metadata": {},
   "outputs": [
    {
     "data": {
      "text/html": [
       "<div>\n",
       "<style scoped>\n",
       "    .dataframe tbody tr th:only-of-type {\n",
       "        vertical-align: middle;\n",
       "    }\n",
       "\n",
       "    .dataframe tbody tr th {\n",
       "        vertical-align: top;\n",
       "    }\n",
       "\n",
       "    .dataframe thead th {\n",
       "        text-align: right;\n",
       "    }\n",
       "</style>\n",
       "<table border=\"1\" class=\"dataframe\">\n",
       "  <thead>\n",
       "    <tr style=\"text-align: right;\">\n",
       "      <th></th>\n",
       "      <th>journal</th>\n",
       "      <th>impact_factor</th>\n",
       "    </tr>\n",
       "  </thead>\n",
       "  <tbody>\n",
       "    <tr>\n",
       "      <th>0</th>\n",
       "      <td>International journal of cardiology</td>\n",
       "      <td>1.0</td>\n",
       "    </tr>\n",
       "    <tr>\n",
       "      <th>1</th>\n",
       "      <td>International journal of offender therapy and ...</td>\n",
       "      <td>1.0</td>\n",
       "    </tr>\n",
       "    <tr>\n",
       "      <th>2</th>\n",
       "      <td>BMC Neurology</td>\n",
       "      <td>5.0</td>\n",
       "    </tr>\n",
       "    <tr>\n",
       "      <th>3</th>\n",
       "      <td>Eng. Appl. of AI</td>\n",
       "      <td>2.0</td>\n",
       "    </tr>\n",
       "    <tr>\n",
       "      <th>4</th>\n",
       "      <td>2009 33rd Annual IEEE International Computer S...</td>\n",
       "      <td>1.0</td>\n",
       "    </tr>\n",
       "    <tr>\n",
       "      <th>5</th>\n",
       "      <td>Cell</td>\n",
       "      <td>1.0</td>\n",
       "    </tr>\n",
       "    <tr>\n",
       "      <th>6</th>\n",
       "      <td>Child's Nervous System</td>\n",
       "      <td>3.0</td>\n",
       "    </tr>\n",
       "    <tr>\n",
       "      <th>7</th>\n",
       "      <td>Human reproduction</td>\n",
       "      <td>1.0</td>\n",
       "    </tr>\n",
       "    <tr>\n",
       "      <th>8</th>\n",
       "      <td>Biotechnology advances</td>\n",
       "      <td>3.0</td>\n",
       "    </tr>\n",
       "    <tr>\n",
       "      <th>9</th>\n",
       "      <td>Nature</td>\n",
       "      <td>3.0</td>\n",
       "    </tr>\n",
       "    <tr>\n",
       "      <th>10</th>\n",
       "      <td>Journal of prosthodontics : official journal o...</td>\n",
       "      <td>4.0</td>\n",
       "    </tr>\n",
       "    <tr>\n",
       "      <th>11</th>\n",
       "      <td>The American journal of sports medicine</td>\n",
       "      <td>1.0</td>\n",
       "    </tr>\n",
       "    <tr>\n",
       "      <th>12</th>\n",
       "      <td>Journal of proteomics</td>\n",
       "      <td>3.0</td>\n",
       "    </tr>\n",
       "    <tr>\n",
       "      <th>13</th>\n",
       "      <td>ACS nano</td>\n",
       "      <td>4.0</td>\n",
       "    </tr>\n",
       "  </tbody>\n",
       "</table>\n",
       "</div>"
      ],
      "text/plain": [
       "                                              journal  impact_factor\n",
       "0                 International journal of cardiology            1.0\n",
       "1   International journal of offender therapy and ...            1.0\n",
       "2                                       BMC Neurology            5.0\n",
       "3                                    Eng. Appl. of AI            2.0\n",
       "4   2009 33rd Annual IEEE International Computer S...            1.0\n",
       "5                                                Cell            1.0\n",
       "6                              Child's Nervous System            3.0\n",
       "7                                  Human reproduction            1.0\n",
       "8                              Biotechnology advances            3.0\n",
       "9                                              Nature            3.0\n",
       "10  Journal of prosthodontics : official journal o...            4.0\n",
       "11            The American journal of sports medicine            1.0\n",
       "12                              Journal of proteomics            3.0\n",
       "13                                           ACS nano            4.0"
      ]
     },
     "execution_count": 25,
     "metadata": {},
     "output_type": "execute_result"
    }
   ],
   "source": [
    "from pandas import DataFrame\n",
    "\n",
    "q4 = \"\"\"MATCH (article:Article {year: $year})\n",
    "WITH collect(article) AS current_papers\n",
    "MATCH (article:Article)-[:PUBLISHED_IN]->(:Volume)-[:OF]->(journal:Journal)\n",
    "WHERE article.year = ($year - 1) OR article.year = ($year - 2)\n",
    "MATCH (article)-[:CITED_BY]->(citer:Article)\n",
    "WHERE citer IN current_papers\n",
    "WITH count(citer) AS n_cites, article, journal\n",
    "RETURN journal.name as journal, toFloat(SUM(n_cites)/COUNT(article)) AS impact_factor;\n",
    "\"\"\"\n",
    "\n",
    "q4_out = graph.run(q4, year=2011).data()\n",
    "DataFrame(q4_out)"
   ]
  },
  {
   "cell_type": "code",
   "execution_count": null,
   "metadata": {},
   "outputs": [],
   "source": []
  }
 ],
 "metadata": {
  "kernelspec": {
   "display_name": "Python 3.7.4 64-bit ('od': venv)",
   "language": "python",
   "name": "python37464bitodvenv509b99c2ab9d45c0933875aa4d9677e6"
  },
  "language_info": {
   "codemirror_mode": {
    "name": "ipython",
    "version": 3
   },
   "file_extension": ".py",
   "mimetype": "text/x-python",
   "name": "python",
   "nbconvert_exporter": "python",
   "pygments_lexer": "ipython3",
   "version": "3.7.4"
  }
 },
 "nbformat": 4,
 "nbformat_minor": 4
}
