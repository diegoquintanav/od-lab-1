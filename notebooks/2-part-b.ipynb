{
 "cells": [
  {
   "cell_type": "markdown",
   "metadata": {},
   "source": [
    "# Part B "
   ]
  },
  {
   "cell_type": "code",
   "execution_count": 1,
   "metadata": {},
   "outputs": [
    {
     "data": {
      "text/plain": [
       "'3.7.4 (default, Oct 15 2019, 22:29:14) \\n[GCC 7.4.0]'"
      ]
     },
     "execution_count": 1,
     "metadata": {},
     "output_type": "execute_result"
    }
   ],
   "source": [
    "import sys\n",
    "import random\n",
    "from pprint import pprint as pp\n",
    "random.seed(42)\n",
    "sys.version"
   ]
  },
  {
   "cell_type": "code",
   "execution_count": 2,
   "metadata": {},
   "outputs": [
    {
     "name": "stdout",
     "output_type": "stream",
     "text": [
      "1.7.6\n",
      "4.3.0\n"
     ]
    }
   ],
   "source": [
    "import neo4j\n",
    "import py2neo\n",
    "print(neo4j.__version__)\n",
    "print(py2neo.__version__)"
   ]
  },
  {
   "cell_type": "code",
   "execution_count": 4,
   "metadata": {},
   "outputs": [],
   "source": [
    "from neo4j import GraphDatabase\n",
    "from py2neo import Graph\n",
    "\n",
    "# instantiate drivers\n",
    "NEO4J_URI=\"bolt://localhost:7687\"\n",
    "gdb = GraphDatabase.driver(uri=NEO4J_URI, auth=None)\n",
    "graph = Graph(NEO4J_URI)"
   ]
  },
  {
   "cell_type": "markdown",
   "metadata": {},
   "source": [
    "The graph has the following structure"
   ]
  },
  {
   "cell_type": "markdown",
   "metadata": {},
   "source": [
    "![graph](./schemas/dblp_slim_after/graph.png)"
   ]
  },
  {
   "cell_type": "markdown",
   "metadata": {},
   "source": [
    "## H-index\n",
    "\n",
    "From wikipedia\n",
    "\n",
    "> The h-index is defined as the maximum value of h such that the given author/journal has published h papers that have each been cited at least h times.[6] The index is designed to improve upon simpler measures such as the total number of citations or publications.[citation needed] The index works properly only for comparing scientists working in the same field; citation conventions differ widely among different fields.[citation needed]\n",
    ">\n",
    "> Formally, if f is the function that corresponds to the number of citations for each publication, we compute the h-index as follows. First we order the values of f from the largest to the lowest value. Then, we look for the last position in which f is greater than or equal to the position (we call h this position). For example, if we have a researcher with 5 publications A, B, C, D, and E with 10, 8, 5, 4, and 3 citations, respectively, the h-index is equal to 4 because the 4th publication has 4 citations and the 5th has only 3. In contrast, if the same publications have 25, 8, 5, 3, and 3 citations, then the index is 3 because the fourth paper has only 3 citations.\n",
    ">\n",
    ">        f(A)=10, f(B)=8, f(C)=5, f(D)=4, f(E)=3　→ h-index=4\n",
    ">        f(A)=25, f(B)=8, f(C)=5, f(D)=3, f(E)=3　→ h-index=3\n",
    ">\n",
    "> If we have the function f ordered in decreasing order from the largest value to the lowest one, we can compute the h-index as follows:\n",
    ">\n",
    ">    $$\\text{h-index} (f) = {\\displaystyle \\max _{i}\\min(f(i),i)}$$\n",
    "\n",
    "- obtain $f$, the number of citations of each article\n",
    "- order $f$ from largest to lowest\n",
    "- from the last element in f"
   ]
  },
  {
   "cell_type": "markdown",
   "metadata": {},
   "source": [
    "The citation count can be obtained by matching a pattern\n",
    "\n",
    "```cypher\n",
    "(a2:Article)<-[:CITED_BY]-(a1:Article)-[:AUTHORED_BY]->(p:Author)\n",
    "```\n",
    "\n",
    "and counting the number of articles with alias `a2`."
   ]
  },
  {
   "cell_type": "markdown",
   "metadata": {},
   "source": [
    "```\n",
    "Primera query:\n",
    "MATCH (a:article)-[hs:has_citation]->(c:cite),\n",
    "(a)-[:authored_by]->(auth:author)\n",
    "WITH a,auth, count(a) as citations\n",
    "ORDER BY citations DESC\n",
    "WITH auth,collect(citations) as c_citations\n",
    "WITH auth,[i in range(0,size(c_citations)-1) WHERE i <= c_citations[i] | i][-1]+1 as h_index\n",
    "RETURN auth.author,h_index\n",
    "```\n",
    "```\n",
    "Segunda query:\n",
    "MATCH(a:article)-[:published_in]->(j:journal)\n",
    "WITH a,j,size(()<-[:has_citation]-(a)) as citations\n",
    "ORDER BY citations DESC\n",
    "WITH j,collect(a{.title,.author,citations}) as c_citations\n",
    "RETURN j.journal,c_citations[..3]\n",
    "```"
   ]
  },
  {
   "cell_type": "markdown",
   "metadata": {},
   "source": [
    "```cypher\n",
    "MATCH (a:Article)-[:CITED_BY]->(:Article),\n",
    "(a)-[:AUTHORED_BY]->(auth:Author)\n",
    "WITH auth,count(a) as citations\n",
    "ORDER BY citations DESC\n",
    "WITH auth, collect(citations) as c_citations\n",
    "WITH auth, [i in range(0,size(c_citations)-1) WHERE i <= c_citations[i] | i][-1]+1 as h_index\n",
    "RETURN auth.affiliation_institution_name,h_index\n",
    "```"
   ]
  },
  {
   "cell_type": "code",
   "execution_count": 9,
   "metadata": {},
   "outputs": [
    {
     "data": {
      "text/plain": [
       "[{'author_name': 'Reiner Leidl', 'h_index': 1},\n",
       " {'author_name': 'Martin Haupt', 'h_index': 1},\n",
       " {'author_name': 'Lutz Frölich', 'h_index': 1},\n",
       " {'author_name': 'Hans Förstl', 'h_index': 1},\n",
       " {'author_name': 'Thomas Mittendorf', 'h_index': 1}]"
      ]
     },
     "execution_count": 9,
     "metadata": {},
     "output_type": "execute_result"
    }
   ],
   "source": [
    "q1 = \"\"\"MATCH (a:Article)-[:CITED_BY]->(:Article),\n",
    "(auth:Author)-[:AUTHORS]->(a)\n",
    "WITH auth,count(a) as citations\n",
    "ORDER BY citations DESC\n",
    "WITH auth, collect(citations) as c_citations\n",
    "WITH auth, [i in range(0,size(c_citations)-1) WHERE i <= c_citations[i] | i][-1]+1 as h_index\n",
    "RETURN auth.name as author_name, h_index\"\"\"\n",
    "\n",
    "graph.run(q1).data()[:5]"
   ]
  },
  {
   "cell_type": "markdown",
   "metadata": {},
   "source": [
    "### Query 2"
   ]
  },
  {
   "cell_type": "code",
   "execution_count": 11,
   "metadata": {},
   "outputs": [
    {
     "data": {
      "text/plain": [
       "[{'conference_name': 'Christopher Smith',\n",
       "  'three_most_cited': [{'title': 'Linear Hypopigmentation After Triamcinolone Injection: A Rare Complication of a Common Procedure',\n",
       "    'citations': 4464},\n",
       "   {'title': \"Quality of Life as an outcome in Alzheimer's disease and other dementias- obstacles and goals\",\n",
       "    'citations': 4464},\n",
       "   {'title': 'Acetic acid as a sclerosing agent for renal cysts: Comparison with ethanol in follow-up results',\n",
       "    'citations': 4371}]},\n",
       " {'conference_name': 'Patrick Green',\n",
       "  'three_most_cited': [{'title': 'Linear Hypopigmentation After Triamcinolone Injection: A Rare Complication of a Common Procedure',\n",
       "    'citations': 4320},\n",
       "   {'title': \"Quality of Life as an outcome in Alzheimer's disease and other dementias- obstacles and goals\",\n",
       "    'citations': 4320},\n",
       "   {'title': 'Acetic acid as a sclerosing agent for renal cysts: Comparison with ethanol in follow-up results',\n",
       "    'citations': 4230}]},\n",
       " {'conference_name': 'Betty Jones',\n",
       "  'three_most_cited': [{'title': 'Linear Hypopigmentation After Triamcinolone Injection: A Rare Complication of a Common Procedure',\n",
       "    'citations': 4080},\n",
       "   {'title': \"Quality of Life as an outcome in Alzheimer's disease and other dementias- obstacles and goals\",\n",
       "    'citations': 4080},\n",
       "   {'title': 'Acetic acid as a sclerosing agent for renal cysts: Comparison with ethanol in follow-up results',\n",
       "    'citations': 3995}]},\n",
       " {'conference_name': 'Jennifer Williams',\n",
       "  'three_most_cited': [{'title': 'Linear Hypopigmentation After Triamcinolone Injection: A Rare Complication of a Common Procedure',\n",
       "    'citations': 3840},\n",
       "   {'title': \"Quality of Life as an outcome in Alzheimer's disease and other dementias- obstacles and goals\",\n",
       "    'citations': 3840},\n",
       "   {'title': 'Acetic acid as a sclerosing agent for renal cysts: Comparison with ethanol in follow-up results',\n",
       "    'citations': 3760}]}]"
      ]
     },
     "execution_count": 11,
     "metadata": {},
     "output_type": "execute_result"
    }
   ],
   "source": [
    "q2 = \"\"\"MATCH(a1:Article)-[:CITED_BY]->(a2:Article),\n",
    "(a)-[:PUBLISHED_IN]->(ed:Edition)<-[:IN]-(cf:Conference)\n",
    "WHERE a1<>a2\n",
    "WITH a1, cf, count(a1) as citations\n",
    "ORDER BY citations DESC\n",
    "WITH cf, collect(a1 {.title,citations}) as c_citations\n",
    "RETURN cf.name AS conference_name, c_citations[..3] as three_most_cited\"\"\"\n",
    "\n",
    "_out_q2 = graph.run(q2).data()\n",
    "_out_q2[:4]"
   ]
  },
  {
   "cell_type": "markdown",
   "metadata": {},
   "source": [
    "### Query 3"
   ]
  },
  {
   "cell_type": "code",
   "execution_count": null,
   "metadata": {},
   "outputs": [],
   "source": []
  }
 ],
 "metadata": {
  "kernelspec": {
   "display_name": "Python 3.7.4 64-bit ('od': venv)",
   "language": "python",
   "name": "python37464bitodvenv509b99c2ab9d45c0933875aa4d9677e6"
  },
  "language_info": {
   "codemirror_mode": {
    "name": "ipython",
    "version": 3
   },
   "file_extension": ".py",
   "mimetype": "text/x-python",
   "name": "python",
   "nbconvert_exporter": "python",
   "pygments_lexer": "ipython3",
   "version": "3.7.4"
  }
 },
 "nbformat": 4,
 "nbformat_minor": 4
}
