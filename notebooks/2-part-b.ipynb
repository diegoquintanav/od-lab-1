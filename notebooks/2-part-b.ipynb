{
 "cells": [
  {
   "cell_type": "markdown",
   "metadata": {},
   "source": [
    "# Part B "
   ]
  },
  {
   "cell_type": "code",
   "execution_count": 1,
   "metadata": {},
   "outputs": [
    {
     "data": {
      "text/plain": [
       "'3.7.4 (default, Oct 15 2019, 22:29:14) \\n[GCC 7.4.0]'"
      ]
     },
     "execution_count": 1,
     "metadata": {},
     "output_type": "execute_result"
    }
   ],
   "source": [
    "import sys\n",
    "import random\n",
    "from pprint import pprint as pp\n",
    "random.seed(42)\n",
    "sys.version"
   ]
  },
  {
   "cell_type": "code",
   "execution_count": 2,
   "metadata": {},
   "outputs": [
    {
     "name": "stdout",
     "output_type": "stream",
     "text": [
      "1.7.6\n",
      "4.3.0\n"
     ]
    }
   ],
   "source": [
    "import neo4j\n",
    "import py2neo\n",
    "print(neo4j.__version__)\n",
    "print(py2neo.__version__)"
   ]
  },
  {
   "cell_type": "code",
   "execution_count": 3,
   "metadata": {},
   "outputs": [],
   "source": [
    "from neo4j import GraphDatabase\n",
    "\n",
    "# instantiate driver\n",
    "NEO4J_URI=\"bolt://localhost:7687\"\n",
    "gdb = GraphDatabase.driver(uri=NEO4J_URI, auth=None)"
   ]
  },
  {
   "cell_type": "markdown",
   "metadata": {},
   "source": [
    "## H-index\n",
    "\n",
    "From wikipedia\n",
    "\n",
    "> The h-index is defined as the maximum value of h such that the given author/journal has published h papers that have each been cited at least h times.[6] The index is designed to improve upon simpler measures such as the total number of citations or publications.[citation needed] The index works properly only for comparing scientists working in the same field; citation conventions differ widely among different fields.[citation needed]\n",
    ">\n",
    "> Formally, if f is the function that corresponds to the number of citations for each publication, we compute the h-index as follows. First we order the values of f from the largest to the lowest value. Then, we look for the last position in which f is greater than or equal to the position (we call h this position). For example, if we have a researcher with 5 publications A, B, C, D, and E with 10, 8, 5, 4, and 3 citations, respectively, the h-index is equal to 4 because the 4th publication has 4 citations and the 5th has only 3. In contrast, if the same publications have 25, 8, 5, 3, and 3 citations, then the index is 3 because the fourth paper has only 3 citations.\n",
    ">\n",
    ">        f(A)=10, f(B)=8, f(C)=5, f(D)=4, f(E)=3　→ h-index=4\n",
    ">        f(A)=25, f(B)=8, f(C)=5, f(D)=3, f(E)=3　→ h-index=3\n",
    ">\n",
    "> If we have the function f ordered in decreasing order from the largest value to the lowest one, we can compute the h-index as follows:\n",
    ">\n",
    ">    $$\\text{h-index} (f) = {\\displaystyle \\max _{i}\\min(f(i),i)}$$\n",
    "\n",
    "- obtain $f$, the number of citations of each article\n",
    "- order $f$ from largest to lowest\n",
    "- from the last element in f"
   ]
  },
  {
   "cell_type": "markdown",
   "metadata": {},
   "source": [
    "The citation count can be obtained by matching a pattern\n",
    "\n",
    "```cypher\n",
    "(a2:article)<-[:cited_by]-(a1:article)-[:authored_by]->(p:author)\n",
    "```\n",
    "\n",
    "and counting the number of articles with alias `a2`."
   ]
  },
  {
   "cell_type": "code",
   "execution_count": 5,
   "metadata": {},
   "outputs": [
    {
     "name": "stdout",
     "output_type": "stream",
     "text": [
      "[[<Node id=2470781 labels={'article'} properties={'ee': ['https://doi.org/10.1002/asi.20428'], 'volume': '57', 'number': '11', 'journal': 'JASIST', 'pages': '1519-1525', 'mdate': neotime.Date(2017, 5, 28), 'year': 2006, 'author': ['Ido Dagan', 'Moshe Koppel', 'Navot Akiva'], 'title': 'Feature instability as a criterion for selecting potential style markers.', 'article': 37408, 'key': 'journals/jasis/KoppelAD06', 'url': 'db/journals/jasis/jasis57.html#KoppelAD06'}>, <Node id=4787441 labels={'author'} properties={'affiliation_institution_name': 'Merritt, Rivas and Harrison', 'affiliation_institution_type': 'NGO'}>, 3], [<Node id=2470781 labels={'article'} properties={'ee': ['https://doi.org/10.1002/asi.20428'], 'volume': '57', 'number': '11', 'journal': 'JASIST', 'pages': '1519-1525', 'mdate': neotime.Date(2017, 5, 28), 'year': 2006, 'author': ['Ido Dagan', 'Moshe Koppel', 'Navot Akiva'], 'title': 'Feature instability as a criterion for selecting potential style markers.', 'article': 37408, 'key': 'journals/jasis/KoppelAD06', 'url': 'db/journals/jasis/jasis57.html#KoppelAD06'}>, <Node id=4941435 labels={'author'} properties={'author': 'Moshe Koppel'}>, 3], [<Node id=2470781 labels={'article'} properties={'ee': ['https://doi.org/10.1002/asi.20428'], 'volume': '57', 'number': '11', 'journal': 'JASIST', 'pages': '1519-1525', 'mdate': neotime.Date(2017, 5, 28), 'year': 2006, 'author': ['Ido Dagan', 'Moshe Koppel', 'Navot Akiva'], 'title': 'Feature instability as a criterion for selecting potential style markers.', 'article': 37408, 'key': 'journals/jasis/KoppelAD06', 'url': 'db/journals/jasis/jasis57.html#KoppelAD06'}>, <Node id=4941436 labels={'author'} properties={'author': 'Navot Akiva'}>, 3], [<Node id=2470784 labels={'article'} properties={'ee': ['https://doi.org/10.1002/(SICI)1097-4571(199802)49:2<184::AID-ASI9>3.0.CO;2-7'], 'volume': '49', 'number': '2', 'journal': 'JASIS', 'pages': '184', 'mdate': neotime.Date(2017, 5, 28), 'year': 1998, 'author': ['Sue Myburgh'], 'title': \"Entertainment Technology and Tomorrow's Information Services, by Tom Kinney.\", 'article': 37411, 'key': 'journals/jasis/Myburgh98', 'url': 'db/journals/jasis/jasis49.html#Myburgh98'}>, <Node id=4941439 labels={'author'} properties={'author': 'Sue Myburgh'}>, 3], [<Node id=2470802 labels={'article'} properties={'ee': ['https://doi.org/10.1002/asi.23064', 'https://www.wikidata.org/entity/Q63649621'], 'year': 2014, 'author': ['Gary Burnett', 'Jeana Frost', 'Ji-Hyun Kim', 'Jinxuan Ma', 'Juliann Cortese', 'Mia Liza A. Lustria', 'Michelle M. Kazmer'], 'title': 'Distributed knowledge in an online patient support community: Authority and discovery.', 'article': 37429, 'url': 'db/journals/jasis/jasis65.html#KazmerLCBKMF14', 'volume': '65', 'number': '7', 'journal': 'JASIST', 'pages': '1319-1334', 'mdate': neotime.Date(2019, 10, 19), 'author-orcid': ['0000-0001-7121-4784', '0000-0002-9719-2939'], 'key': 'journals/jasis/KazmerLCBKMF14'}>, <Node id=4941468 labels={'author'} properties={'author': 'Michelle M. Kazmer'}>, 3]]\n"
     ]
    }
   ],
   "source": [
    "q1 = \"\"\"MATCH p=(a2:article)<-[:cited_by]-(a1:article)-[:authored_by]->(author:author)\n",
    "WITH a1, author, COUNT(a2) as citation_count\n",
    "ORDER BY a1, author, citation_count\n",
    "RETURN a1, author, citation_count\n",
    "LIMIT 5\"\"\"\n",
    "\n",
    "with gdb.session() as session:\n",
    "    _out = session.run(q1).values()\n",
    "    \n",
    "print(_out)"
   ]
  },
  {
   "cell_type": "code",
   "execution_count": 6,
   "metadata": {},
   "outputs": [
    {
     "ename": "SyntaxError",
     "evalue": "invalid syntax (<ipython-input-6-31757566f314>, line 1)",
     "output_type": "error",
     "traceback": [
      "\u001b[0;36m  File \u001b[0;32m\"<ipython-input-6-31757566f314>\"\u001b[0;36m, line \u001b[0;32m1\u001b[0m\n\u001b[0;31m    WITH a, collect(number_of_cites) as list_of_cites\u001b[0m\n\u001b[0m         ^\u001b[0m\n\u001b[0;31mSyntaxError\u001b[0m\u001b[0;31m:\u001b[0m invalid syntax\n"
     ]
    }
   ],
   "source": [
    "WITH a, collect(number_of_cites) as list_of_cites\n",
    "WITH a, [i in range(0, size(list_of_cites) - 1) |\n",
    "i + 1 <= list_of_cites[i]] as cites_boolean\n",
    "RETURN a, size(filter(b in cites_boolean WHERE b));"
   ]
  },
  {
   "cell_type": "code",
   "execution_count": null,
   "metadata": {},
   "outputs": [],
   "source": []
  }
 ],
 "metadata": {
  "kernelspec": {
   "display_name": "Python 3.7.4 64-bit ('od': venv)",
   "language": "python",
   "name": "python37464bitodvenv509b99c2ab9d45c0933875aa4d9677e6"
  },
  "language_info": {
   "codemirror_mode": {
    "name": "ipython",
    "version": 3
   },
   "file_extension": ".py",
   "mimetype": "text/x-python",
   "name": "python",
   "nbconvert_exporter": "python",
   "pygments_lexer": "ipython3",
   "version": "3.7.4"
  }
 },
 "nbformat": 4,
 "nbformat_minor": 4
}
